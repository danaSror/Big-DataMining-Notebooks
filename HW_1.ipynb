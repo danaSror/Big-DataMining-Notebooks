{
  "nbformat": 4,
  "nbformat_minor": 0,
  "metadata": {
    "kernelspec": {
      "display_name": "Python 3",
      "language": "python",
      "name": "python3"
    },
    "language_info": {
      "codemirror_mode": {
        "name": "ipython",
        "version": 3
      },
      "file_extension": ".py",
      "mimetype": "text/x-python",
      "name": "python",
      "nbconvert_exporter": "python",
      "pygments_lexer": "ipython3",
      "version": "3.6.9"
    },
    "colab": {
      "name": "204591424 HW 1.ipynb",
      "provenance": [],
      "collapsed_sections": [
        "6dClZxXjYCyU",
        "gmdQrLL9YCyp",
        "ResaA3kxYCy_"
      ]
    }
  },
  "cells": [
    {
      "cell_type": "markdown",
      "metadata": {
        "id": "_fq8BHLiYCyE"
      },
      "source": [
        "# Homework Assignment 1\n",
        "### [The Art of Analyzing Big Data - The Data Scientist’s Toolbox](https://www.ise.bgu.ac.il/labs/fire/lectures.html)\n",
        "#### By Dr. Michael Fire "
      ]
    },
    {
      "cell_type": "markdown",
      "metadata": {
        "id": "jYvqtKSOYCyG"
      },
      "source": [
        "For this homework you will need to write code that analyzes real-world datasets. The code needs to be written in Python using the [sqlite3](https://docs.python.org/2/library/sqlite3.html) package. \n",
        "\n",
        "**Please note:** You need to answer only the questions that match your ID first digit."
      ]
    },
    {
      "cell_type": "markdown",
      "metadata": {
        "id": "AML-gkV-YCyI"
      },
      "source": [
        "# 1. Babies Names Dataset (35pt)"
      ]
    },
    {
      "cell_type": "markdown",
      "metadata": {
        "id": "jvkBrt7SYCyK"
      },
      "source": [
        "**Task 1 (for everyone):** Write a code that uses the  [**babies names dataset** ](https://www.kaggle.com/kaggle/us-baby-names?select=NationalNames.csv) (use NationalNames.csv) and creates a table named (Names) with the dataset data and the following columns: 'State', 'Gender', 'Name', 'Count' , and 'Year' (5pt)\n",
        "**Bonus:** Load the data using a Batch INSERT SQL Query (2pt)"
      ]
    },
    {
      "cell_type": "code",
      "metadata": {
        "id": "-vrdQhaLYCyL",
        "outputId": "7b9e3d76-9ca2-41e4-d228-f64c68db1bd3",
        "colab": {
          "base_uri": "https://localhost:8080/"
        }
      },
      "source": [
        "!pip install kaggle\n",
        "!mkdir /root/.kaggle/\n",
        "\n",
        "import json\n",
        "import os\n",
        "\n",
        "#Important Note: complete this with your own key - after running this for the first time remmember to **remove** your API_KEY\n",
        "api_token = {\"username\":\"danasror\",\"key\":\"bacf4386b2ae522ce21a4595b76005d6\"}\n",
        "with open('/root/.kaggle/kaggle.json', 'w') as file:\n",
        "  json.dump(api_token, file)\n",
        "!chmod 600 /root/.kaggle/kaggle.json\n",
        "\n",
        "# searching for the dataset\n",
        "!kaggle datasets list -s baby\n",
        "\n",
        "# Creating a dataset directory\n",
        "!mkdir ./datasets\n",
        "!mkdir ./datasets/us-baby-name\n",
        "\n",
        "# download the dataset from Kaggle and unzip it\n",
        "!kaggle datasets download kaggle/us-baby-names -f database.sqlite -p ./datasets/us-baby-name/database.sqlite\n",
        "!chdir ./datasets/us-baby-name/database.sqlite/\n",
        "!unzip ./datasets/us-baby-name/database.sqlite/*.zip  -d ./datasets/us-baby-name/database.sqlite\n",
        "\n",
        "# download the NationalNames.csv file \n",
        "!kaggle datasets download kaggle/us-baby-names -f NationalNames.csv -p ./datasets/us-baby-name/NationalNames\n",
        "!chdir ./datasets/us-baby-name/NationalNames/\n",
        "!unzip ./datasets/us-baby-name/NationalNames/*.zip  -d ./datasets/us-baby-name/NationalNames\n",
        "\n",
        "# download the StateNames.csv file \n",
        "!kaggle datasets download kaggle/us-baby-names -f StateNames.csv -p ./datasets/us-baby-name/StateNames\n",
        "!chdir ./datasets/us-baby-name/StateNames/\n",
        "!unzip ./datasets/us-baby-name/StateNames/*.zip  -d ./datasets/us-baby-name/StateNames\n",
        "\n"
      ],
      "execution_count": null,
      "outputs": [
        {
          "output_type": "stream",
          "name": "stdout",
          "text": [
            "Requirement already satisfied: kaggle in /usr/local/lib/python3.7/dist-packages (1.5.12)\n",
            "Requirement already satisfied: certifi in /usr/local/lib/python3.7/dist-packages (from kaggle) (2021.10.8)\n",
            "Requirement already satisfied: tqdm in /usr/local/lib/python3.7/dist-packages (from kaggle) (4.63.0)\n",
            "Requirement already satisfied: six>=1.10 in /usr/local/lib/python3.7/dist-packages (from kaggle) (1.15.0)\n",
            "Requirement already satisfied: python-dateutil in /usr/local/lib/python3.7/dist-packages (from kaggle) (2.8.2)\n",
            "Requirement already satisfied: python-slugify in /usr/local/lib/python3.7/dist-packages (from kaggle) (6.1.1)\n",
            "Requirement already satisfied: requests in /usr/local/lib/python3.7/dist-packages (from kaggle) (2.23.0)\n",
            "Requirement already satisfied: urllib3 in /usr/local/lib/python3.7/dist-packages (from kaggle) (1.24.3)\n",
            "Requirement already satisfied: text-unidecode>=1.3 in /usr/local/lib/python3.7/dist-packages (from python-slugify->kaggle) (1.3)\n",
            "Requirement already satisfied: chardet<4,>=3.0.2 in /usr/local/lib/python3.7/dist-packages (from requests->kaggle) (3.0.4)\n",
            "Requirement already satisfied: idna<3,>=2.5 in /usr/local/lib/python3.7/dist-packages (from requests->kaggle) (2.10)\n",
            "ref                                                      title                                size  lastUpdated          downloadCount  voteCount  usabilityRating  \n",
            "-------------------------------------------------------  ----------------------------------  -----  -------------------  -------------  ---------  ---------------  \n",
            "datasets/kaggle/us-baby-names                            US Baby Names                       173MB  2017-11-21 22:18:15          27935        312  0.5882353        \n",
            "datasets/ironicninja/baby-names                          Baby Names                            5MB  2021-02-09 16:21:40            292          9  0.88235295       \n",
            "datasets/haezer/french-baby-names                        French Baby Names                    18MB  2020-04-07 16:32:38            335         13  0.88235295       \n",
            "datasets/new-york-city/nyc-baby-names                    NYC Baby Names                      136KB  2017-09-08 20:04:20            694         10  0.7058824        \n",
            "datasets/roopalik/amazon-baby-dataset                    Amazon baby dataset                  18MB  2017-02-01 21:01:16            834         15  0.5              \n",
            "datasets/prokaggler/baby-products-images                 baby products images                114MB  2020-10-24 10:09:45             84          8  0.7058824        \n",
            "datasets/samrat77/baby-names-dataset                     Baby Names DataSet                   85KB  2019-03-21 06:21:34            538         10  0.5882353        \n",
            "datasets/fanbyprinciple/indian-male-baby-names           Indian Male baby names               69KB  2021-06-19 04:45:32             58          7  0.9411765        \n",
            "datasets/darinhawley/us-top-1000-baby-names-18802020     US Top 1000 Baby Names 1880-2020      2MB  2021-10-27 19:10:27            243         16  0.88235295       \n",
            "datasets/ytmytm/babyfeeds                                Baby girl breast feeds               41KB  2019-07-14 18:31:46            122          5  0.9411765        \n",
            "datasets/zerryberry/us-baby-names                        US baby names                         7MB  2020-09-22 00:48:56             58          3  0.875            \n",
            "datasets/new-york-city/nyc-most-popular-baby-names       NYC Most Popular Baby Names         176KB  2021-01-01 19:58:02            598         13  0.7941176        \n",
            "datasets/prashant111/most-popular-baby-names-in-nyc      Most Popular Baby Names in NYC       86KB  2020-03-15 07:26:17             96         11  0.5294118        \n",
            "datasets/sameersmahajan/reviews-of-amazon-baby-products  Reviews of Amazon Baby Products      29MB  2019-02-13 10:55:33            788         13  0.1764706        \n",
            "datasets/cocowaffle/baby-photos                          Baby Photos                         115KB  2017-04-11 18:18:23            428          2  0.75             \n",
            "datasets/netanel246/jewish-baby-names                    Jewish Baby Names                     4KB  2017-05-07 20:40:09            137          2  0.64705884       \n",
            "datasets/hassenmorad/us-state-baby-names                 US State Baby Names                  41MB  2018-09-14 18:25:40            158          3  0.5              \n",
            "datasets/ayushigaur/amazon-product-reviews               Amazon Product Reviews               28MB  2020-03-11 06:28:09            401          6  1.0              \n",
            "datasets/mathurinache/femalebabynames                    female baby names                     2KB  2020-09-03 19:06:47             20          2  0.5882353        \n",
            "datasets/hassenmorad/us-national-baby-names-18802017     US National Baby Names (1880-2017)    8MB  2018-09-14 17:35:52            134          3  0.47058824       \n",
            "Downloading database.sqlite.zip to ./datasets/us-baby-name/database.sqlite\n",
            " 93% 122M/131M [00:01<00:00, 93.9MB/s]\n",
            "100% 131M/131M [00:01<00:00, 96.0MB/s]\n",
            "/bin/bash: chdir: command not found\n",
            "Archive:  ./datasets/us-baby-name/database.sqlite/database.sqlite.zip\n",
            "  inflating: ./datasets/us-baby-name/database.sqlite/database.sqlite  \n",
            "Downloading NationalNames.csv.zip to ./datasets/us-baby-name/NationalNames\n",
            " 52% 6.00M/11.5M [00:00<00:00, 61.3MB/s]\n",
            "100% 11.5M/11.5M [00:00<00:00, 56.5MB/s]\n",
            "/bin/bash: chdir: command not found\n",
            "Archive:  ./datasets/us-baby-name/NationalNames/NationalNames.csv.zip\n",
            "  inflating: ./datasets/us-baby-name/NationalNames/NationalNames.csv  \n",
            "Downloading StateNames.csv.zip to ./datasets/us-baby-name/StateNames\n",
            " 30% 9.00M/30.5M [00:00<00:00, 54.7MB/s]\n",
            "100% 30.5M/30.5M [00:00<00:00, 124MB/s] \n",
            "/bin/bash: chdir: command not found\n",
            "Archive:  ./datasets/us-baby-name/StateNames/StateNames.csv.zip\n",
            "  inflating: ./datasets/us-baby-name/StateNames/StateNames.csv  \n"
          ]
        }
      ]
    },
    {
      "cell_type": "code",
      "source": [
        "!unzip ./datasets/us-baby-name/database.sqlite/*.zip  -d ./datasets/us-baby-name/database.sqlite"
      ],
      "metadata": {
        "id": "Q7OSHntXfAdT",
        "outputId": "1f904c8c-c7e3-414d-9c8f-c3877dabb980",
        "colab": {
          "base_uri": "https://localhost:8080/"
        }
      },
      "execution_count": null,
      "outputs": [
        {
          "output_type": "stream",
          "name": "stdout",
          "text": [
            "Archive:  ./datasets/us-baby-name/database.sqlite/database.sqlite.zip\n",
            "replace ./datasets/us-baby-name/database.sqlite/database.sqlite? [y]es, [n]o, [A]ll, [N]one, [r]ename: y\n",
            "  inflating: ./datasets/us-baby-name/database.sqlite/database.sqlite  \n"
          ]
        }
      ]
    },
    {
      "cell_type": "code",
      "source": [
        "import sqlite3\n",
        "import pandas as pd\n",
        "\n",
        "%matplotlib inline\n",
        "CSV_PATH = './datasets/us-baby-name/NationalNames/NationalNames.csv'\n",
        "CSV_PATH_STATE_NAMES = './datasets/us-baby-name/StateNames/StateNames.csv'\n",
        "DB_PATH = './datasets/us-baby-name/database.sqlite'\n",
        "\n",
        "# Create the dataframe\n",
        "df = pd.read_csv(CSV_PATH_STATE_NAMES)\n",
        "df.drop(columns=[\"Id\"],inplace=True)\n",
        "\n",
        "conn = sqlite3.connect(f'{DB_PATH}/database.sqlite') # connecting to the database\n",
        "df.to_sql(name='Names', con=conn)"
      ],
      "metadata": {
        "id": "tAjLNwDPfBFa"
      },
      "execution_count": null,
      "outputs": []
    },
    {
      "cell_type": "code",
      "source": [
        "c = conn.cursor() # creating a cursor object\n",
        "print(\"The number names is: %s\" % c.execute(\"SELECT count(*) FROM Names\" ).fetchone())\n",
        "c.close() # close the cursor"
      ],
      "metadata": {
        "id": "Qf-DIsFzjPqp",
        "outputId": "c2eccd3b-7077-4f4a-8638-5922173574d7",
        "colab": {
          "base_uri": "https://localhost:8080/"
        }
      },
      "execution_count": null,
      "outputs": [
        {
          "output_type": "stream",
          "name": "stdout",
          "text": [
            "The number names is: 5647426\n"
          ]
        }
      ]
    },
    {
      "cell_type": "markdown",
      "metadata": {
        "id": "QEbvkQhCYCyP"
      },
      "source": [
        "**Task 2 (for everyone):** Write a query that returns the statistics for the name Mary (5pt). Use the [the timeit package](https://docs.python.org/3/library/timeit.html) to measure the time it takes the query to run (5pt). **Bonus:** [Create an index](https://www.w3schools.com/sql/sql_create_index.asp)  on the _Name_ column and use the [the timeit package](https://docs.python.org/3/library/timeit.html) to measure the time it takes the query to run with the index (5pt)"
      ]
    },
    {
      "cell_type": "code",
      "metadata": {
        "id": "YBCHPAOzYCyR",
        "outputId": "396cd990-4dcc-428e-adb1-b7b67c341569",
        "colab": {
          "base_uri": "https://localhost:8080/"
        }
      },
      "source": [
        "import timeit\n",
        " \n",
        "conn = sqlite3.connect(f'{DB_PATH}/database.sqlite') # connecting to the database\n",
        "c = conn.cursor() # creating a cursor object\n",
        "start = timeit.default_timer()\n",
        "print(\"Number of Mary :\", c.execute(\"SELECT COUNT (*) from Names WHERE Name = 'Mary'\").fetchone()[0])\n",
        "print(\"The time is :\", timeit.default_timer() - start)\n",
        "c.close() # close the cursor"
      ],
      "execution_count": null,
      "outputs": [
        {
          "output_type": "stream",
          "name": "stdout",
          "text": [
            "Number of Mary : 6371\n",
            "The time is : 0.5510894789999838\n"
          ]
        }
      ]
    },
    {
      "cell_type": "markdown",
      "metadata": {
        "id": "6dClZxXjYCyU"
      },
      "source": [
        "### <span style=\"color:red\"> Please answer only **one** of the following questions according to your ID number (use the formula **<YOUR_ID> mod 4 +1**) </span>"
      ]
    },
    {
      "cell_type": "code",
      "metadata": {
        "id": "iDpqwgwQYCyV",
        "outputId": "071dd9df-b38d-4b08-ab73-3e4424a7ad2d",
        "colab": {
          "base_uri": "https://localhost:8080/"
        }
      },
      "source": [
        "# which question to answer - put your ID number and run the code \n",
        "your_id  = \"204591424\"\n",
        "q = int(your_id) % 4 + 1\n",
        "print(\"You need to answer question number %s\" % q)"
      ],
      "execution_count": null,
      "outputs": [
        {
          "output_type": "stream",
          "name": "stdout",
          "text": [
            "You need to answer question number 1\n"
          ]
        }
      ]
    },
    {
      "cell_type": "markdown",
      "metadata": {
        "id": "bGU71KQ8YCyZ"
      },
      "source": [
        "***Question 1:*** Write a function that returns how many babies were born in a given state in a given year.\n",
        "Use it to calculate the number of babies born in TX in 1986 (10pt)"
      ]
    },
    {
      "cell_type": "code",
      "metadata": {
        "id": "0RB3GjaaYCya",
        "outputId": "de4d2572-7daa-481d-9307-a564ba1eda00",
        "colab": {
          "base_uri": "https://localhost:8080/"
        }
      },
      "source": [
        "def get_num_of_babies(state,year):\n",
        "  conn = sqlite3.connect(f'{DB_PATH}/database.sqlite') # connecting to the database\n",
        "  c = conn.cursor() # creating a cursor object\n",
        "  res = c.execute(\"SELECT COUNT (*) from Names WHERE State = '\"+state+\"' and Year ='\"+str(year)+\"'\").fetchone()[0]\n",
        "  print(res)\n",
        "  c.close() # close the cursor\n",
        "\n",
        "\n",
        "get_num_of_babies('TX',1986)"
      ],
      "execution_count": null,
      "outputs": [
        {
          "output_type": "stream",
          "name": "stdout",
          "text": [
            "3655\n"
          ]
        }
      ]
    },
    {
      "cell_type": "markdown",
      "metadata": {
        "id": "510Wry5WYCye"
      },
      "source": [
        "***Question 2:*** Write a function that returns how many female babies were born between a given range of years.\n",
        "Use it to calculate how many babies were born between 1988 and 1995  (10pt)"
      ]
    },
    {
      "cell_type": "code",
      "metadata": {
        "id": "m5wOKWsBYCyf"
      },
      "source": [
        ""
      ],
      "execution_count": null,
      "outputs": []
    },
    {
      "cell_type": "markdown",
      "metadata": {
        "id": "x721dD1NYCyi"
      },
      "source": [
        "**Question 3:** Write a function that returns the most common female name in a given state. Use it to calculate the most common female name in Wasington in 1987 (10pt)"
      ]
    },
    {
      "cell_type": "code",
      "metadata": {
        "id": "h3t_ouDoYCyj"
      },
      "source": [
        ""
      ],
      "execution_count": null,
      "outputs": []
    },
    {
      "cell_type": "markdown",
      "metadata": {
        "id": "mRyUoBvhYCyl"
      },
      "source": [
        "**Question 4:** Write a function that returns how many male babies named _Robert where born in a given state in a given year. Use it to find the state in which the highest number of babies _Robert_ where born in 2010 (10pt)"
      ]
    },
    {
      "cell_type": "code",
      "metadata": {
        "id": "lz1q1mvPYCym"
      },
      "source": [
        ""
      ],
      "execution_count": null,
      "outputs": []
    },
    {
      "cell_type": "markdown",
      "metadata": {
        "id": "THz0vDHHYCyo"
      },
      "source": [
        "**Question (for everyone):** For the state of CA write code that calculates the second most popular female/male names in each decade (10pt). **Bonus**: Visualize it somehow using Matplotlib (5pt)"
      ]
    },
    {
      "cell_type": "code",
      "metadata": {
        "id": "dVRTQGOS_3G9"
      },
      "source": [
        ""
      ],
      "execution_count": null,
      "outputs": []
    },
    {
      "cell_type": "markdown",
      "metadata": {
        "id": "gmdQrLL9YCyp"
      },
      "source": [
        "# 2. Flavors of Cacao Dataset (15pt)"
      ]
    },
    {
      "cell_type": "markdown",
      "metadata": {
        "id": "dTpNKH7UYCyq"
      },
      "source": [
        "Using the [Flavors of Cacao](https://www.kaggle.com/rombikuboktaeder/choco-flavors) dataset, answer the following questions:"
      ]
    },
    {
      "cell_type": "markdown",
      "metadata": {
        "id": "wbg9gkVtYCyr"
      },
      "source": [
        "**Question 1:** Write a function that returns the number of bars manufactured where the bars' BroadBean Origin is a given country. Use the function to calculate the number of bars where BroadBean Origin is 'Fiji' (15pt)"
      ]
    },
    {
      "cell_type": "code",
      "source": [
        "!pip install pony"
      ],
      "metadata": {
        "colab": {
          "base_uri": "https://localhost:8080/"
        },
        "id": "FgCq_UWa-j80",
        "outputId": "7d54e241-6fce-499a-be7f-200ba3b1526d"
      },
      "execution_count": null,
      "outputs": [
        {
          "output_type": "stream",
          "name": "stdout",
          "text": [
            "Collecting pony\n",
            "  Downloading pony-0.7.16-py3-none-any.whl (313 kB)\n",
            "\u001b[?25l\r\u001b[K     |█                               | 10 kB 16.8 MB/s eta 0:00:01\r\u001b[K     |██                              | 20 kB 21.4 MB/s eta 0:00:01\r\u001b[K     |███▏                            | 30 kB 17.6 MB/s eta 0:00:01\r\u001b[K     |████▏                           | 40 kB 11.9 MB/s eta 0:00:01\r\u001b[K     |█████▏                          | 51 kB 6.6 MB/s eta 0:00:01\r\u001b[K     |██████▎                         | 61 kB 7.8 MB/s eta 0:00:01\r\u001b[K     |███████▎                        | 71 kB 7.7 MB/s eta 0:00:01\r\u001b[K     |████████▍                       | 81 kB 7.4 MB/s eta 0:00:01\r\u001b[K     |█████████▍                      | 92 kB 8.2 MB/s eta 0:00:01\r\u001b[K     |██████████▍                     | 102 kB 7.5 MB/s eta 0:00:01\r\u001b[K     |███████████▌                    | 112 kB 7.5 MB/s eta 0:00:01\r\u001b[K     |████████████▌                   | 122 kB 7.5 MB/s eta 0:00:01\r\u001b[K     |█████████████▋                  | 133 kB 7.5 MB/s eta 0:00:01\r\u001b[K     |██████████████▋                 | 143 kB 7.5 MB/s eta 0:00:01\r\u001b[K     |███████████████▋                | 153 kB 7.5 MB/s eta 0:00:01\r\u001b[K     |████████████████▊               | 163 kB 7.5 MB/s eta 0:00:01\r\u001b[K     |█████████████████▊              | 174 kB 7.5 MB/s eta 0:00:01\r\u001b[K     |██████████████████▉             | 184 kB 7.5 MB/s eta 0:00:01\r\u001b[K     |███████████████████▉            | 194 kB 7.5 MB/s eta 0:00:01\r\u001b[K     |████████████████████▉           | 204 kB 7.5 MB/s eta 0:00:01\r\u001b[K     |██████████████████████          | 215 kB 7.5 MB/s eta 0:00:01\r\u001b[K     |███████████████████████         | 225 kB 7.5 MB/s eta 0:00:01\r\u001b[K     |████████████████████████        | 235 kB 7.5 MB/s eta 0:00:01\r\u001b[K     |█████████████████████████       | 245 kB 7.5 MB/s eta 0:00:01\r\u001b[K     |██████████████████████████      | 256 kB 7.5 MB/s eta 0:00:01\r\u001b[K     |███████████████████████████▏    | 266 kB 7.5 MB/s eta 0:00:01\r\u001b[K     |████████████████████████████▏   | 276 kB 7.5 MB/s eta 0:00:01\r\u001b[K     |█████████████████████████████▎  | 286 kB 7.5 MB/s eta 0:00:01\r\u001b[K     |██████████████████████████████▎ | 296 kB 7.5 MB/s eta 0:00:01\r\u001b[K     |███████████████████████████████▎| 307 kB 7.5 MB/s eta 0:00:01\r\u001b[K     |████████████████████████████████| 313 kB 7.5 MB/s \n",
            "\u001b[?25hInstalling collected packages: pony\n",
            "Successfully installed pony-0.7.16\n"
          ]
        }
      ]
    },
    {
      "cell_type": "code",
      "source": [
        "!pip install kaggle\n",
        "!mkdir /root/.kaggle/\n",
        "\n",
        "from pony.orm import *\n",
        "import json\n",
        "import os\n",
        "\n",
        "\n",
        "#Important Note: complete this with your own key - after running this for the first time remmember to **remove** your API_KEY\n",
        "api_token = {\"username\":\"danasror\",\"key\":\"bacf4386b2ae522ce21a4595b76005d6\"}\n",
        "with open('/root/.kaggle/kaggle.json', 'w') as file:\n",
        "  json.dump(api_token, file)\n",
        "!chmod 600 /root/.kaggle/kaggle.json\n",
        "\n",
        "# searching for the dataset\n",
        "!kaggle datasets list -s choco_flavors\n",
        "\n",
        "# Creating a dataset directory\n",
        "!mkdir ./datasets\n",
        "!mkdir ./datasets/choco_flavors\n",
        "\n",
        "# download the dataset from Kaggle and unzip it\n",
        "!kaggle datasets download rombikuboktaeder/choco-flavors -p ./datasets/choco-flavors/\n",
        "!unzip ./datasets/choco-flavors/choco-flavors.zip -d ./datasets/choco-flavors/"
      ],
      "metadata": {
        "colab": {
          "base_uri": "https://localhost:8080/"
        },
        "id": "gh0peShrA2KU",
        "outputId": "7fb28666-6c20-4190-d861-0054356ea88c"
      },
      "execution_count": null,
      "outputs": [
        {
          "output_type": "stream",
          "name": "stdout",
          "text": [
            "Requirement already satisfied: kaggle in /usr/local/lib/python3.7/dist-packages (1.5.12)\n",
            "Requirement already satisfied: tqdm in /usr/local/lib/python3.7/dist-packages (from kaggle) (4.63.0)\n",
            "Requirement already satisfied: python-dateutil in /usr/local/lib/python3.7/dist-packages (from kaggle) (2.8.2)\n",
            "Requirement already satisfied: certifi in /usr/local/lib/python3.7/dist-packages (from kaggle) (2021.10.8)\n",
            "Requirement already satisfied: requests in /usr/local/lib/python3.7/dist-packages (from kaggle) (2.23.0)\n",
            "Requirement already satisfied: six>=1.10 in /usr/local/lib/python3.7/dist-packages (from kaggle) (1.15.0)\n",
            "Requirement already satisfied: python-slugify in /usr/local/lib/python3.7/dist-packages (from kaggle) (6.1.1)\n",
            "Requirement already satisfied: urllib3 in /usr/local/lib/python3.7/dist-packages (from kaggle) (1.24.3)\n",
            "Requirement already satisfied: text-unidecode>=1.3 in /usr/local/lib/python3.7/dist-packages (from python-slugify->kaggle) (1.3)\n",
            "Requirement already satisfied: chardet<4,>=3.0.2 in /usr/local/lib/python3.7/dist-packages (from requests->kaggle) (3.0.4)\n",
            "Requirement already satisfied: idna<3,>=2.5 in /usr/local/lib/python3.7/dist-packages (from requests->kaggle) (2.10)\n",
            "ref                                      title          size  lastUpdated          downloadCount  voteCount  usabilityRating  \n",
            "---------------------------------------  -------------  ----  -------------------  -------------  ---------  ---------------  \n",
            "datasets/rombikuboktaeder/choco-flavors  choco_flavors  30KB  2018-04-01 04:36:29           1615          4  0.23529412       \n",
            "Downloading choco-flavors.zip to ./datasets/choco-flavors\n",
            "  0% 0.00/30.3k [00:00<?, ?B/s]\n",
            "100% 30.3k/30.3k [00:00<00:00, 5.50MB/s]\n",
            "Archive:  ./datasets/choco-flavors/choco-flavors.zip\n",
            "  inflating: ./datasets/choco-flavors/flavors_of_cacao.csv  \n"
          ]
        }
      ]
    },
    {
      "cell_type": "code",
      "source": [
        "# Creating a new database\n",
        "db = Database()\n",
        "db.bind(provider='sqlite', filename='/content/datasets/choco-flavors/choco-flavors.pony.db', create_db=True)\n",
        "\n",
        "class ChocoFlavor(db.Entity):\n",
        "    Company = Optional(str)\n",
        "    BeanOrigin = Required(str)\n",
        "    REF = Required(int)\n",
        "    ReviewDate = Required(int)\n",
        "    CocoaPrecent = Required(str)\n",
        "    Location = Required(str)\n",
        "    Rating = Required(float)\n",
        "    BeanType = Optional(str)\n",
        "    BroadBeanOrigin = Optional(str)\n",
        "     \n",
        "#set_sql_debug(True) # helps to see what SQL commands are running\n",
        "db.generate_mapping(create_tables=True) # create tables\n",
        "\n",
        "# use the Pandas package to insert data into these table:"
      ],
      "metadata": {
        "id": "JoA8W_o51WCe"
      },
      "execution_count": null,
      "outputs": []
    },
    {
      "cell_type": "code",
      "source": [
        "import pandas\n",
        "import numpy as np\n",
        "\n",
        "# pandas can find csv inside the zip itself\n",
        "df = pandas.read_csv(\"./datasets/choco-flavors/choco-flavors.zip\")\n",
        "df = df.replace(np.nan, '', regex=True)\n",
        "\n",
        "for idx, row in df.iterrows():\n",
        "    ChocoFlavor(\n",
        "            Company=row['Company\\xa0\\n(Maker-if known)'],\n",
        "            BeanOrigin=row['Specific Bean Origin\\nor Bar Name'],\n",
        "            REF=row['REF'],\n",
        "            ReviewDate=row['Review\\nDate'],\n",
        "            CocoaPrecent=row['Cocoa\\nPercent'],\n",
        "            Location=row['Company\\nLocation'],\n",
        "            Rating=row['Rating'],\n",
        "            BeanType=row['Bean\\nType'],\n",
        "            BroadBeanOrigin=row['Broad Bean\\nOrigin']\n",
        "    )\n",
        "show(ChocoFlavor)\n",
        "commit()"
      ],
      "metadata": {
        "colab": {
          "base_uri": "https://localhost:8080/"
        },
        "id": "yUujKH5TAc3P",
        "outputId": "fdb2f857-48de-4102-cbcb-88b5cdffac2b"
      },
      "execution_count": null,
      "outputs": [
        {
          "output_type": "stream",
          "name": "stdout",
          "text": [
            "class ChocoFlavor(Entity):\n",
            "    id = PrimaryKey(int, auto=True)\n",
            "    Company = Optional(str, default='')\n",
            "    BeanOrigin = Required(str)\n",
            "    REF = Required(int)\n",
            "    ReviewDate = Required(int)\n",
            "    CocoaPrecent = Required(str)\n",
            "    Location = Required(str)\n",
            "    Rating = Required(float)\n",
            "    BeanType = Optional(str, default='')\n",
            "    BroadBeanOrigin = Optional(str, default='')\n"
          ]
        }
      ]
    },
    {
      "cell_type": "code",
      "source": [
        "def number_of_bars_manufactured(broadBeanOrigin):\n",
        "  lst = list(select(row for row in ChocoFlavor if row.BroadBeanOrigin  == broadBeanOrigin))\n",
        "  return len(lst)\n",
        "  return lst\n",
        "\n",
        "print(number_of_bars_manufactured(\"Fiji\"))"
      ],
      "metadata": {
        "colab": {
          "base_uri": "https://localhost:8080/"
        },
        "id": "5uteAV67BJoU",
        "outputId": "8fb4c4ce-f9b6-45ee-fda2-1ab97a59f2a7"
      },
      "execution_count": null,
      "outputs": [
        {
          "output_type": "stream",
          "name": "stdout",
          "text": [
            "8\n"
          ]
        }
      ]
    },
    {
      "cell_type": "markdown",
      "metadata": {
        "id": "9GCvKxWtYCyu"
      },
      "source": [
        "**Question 2:** Write a function that returns the maximal and average cocoa percentage in a bar manufactured by a company in a specific country. Use the function to calculate the minimal and average cocoa percentage in bars manufactured by a Swiss company (15pt)."
      ]
    },
    {
      "cell_type": "code",
      "metadata": {
        "id": "KZJXxtwWYCyv"
      },
      "source": [
        ""
      ],
      "execution_count": null,
      "outputs": []
    },
    {
      "cell_type": "markdown",
      "metadata": {
        "id": "GlYqUA1xYCyx"
      },
      "source": [
        "**Question 3:** Calculate the second most common bean type(s) and the most rare bean type(s) (15\n",
        "pt)"
      ]
    },
    {
      "cell_type": "code",
      "metadata": {
        "id": "kk0qIAiwYCyx"
      },
      "source": [
        ""
      ],
      "execution_count": null,
      "outputs": []
    },
    {
      "cell_type": "markdown",
      "metadata": {
        "id": "aOg-NK_lYCyz"
      },
      "source": [
        "**Question 4:** Calculate the number of reviews and the average rating in each year. Calculate the number of reviews and the average rating of each company in each year (15pt)"
      ]
    },
    {
      "cell_type": "code",
      "metadata": {
        "id": "e8qwHAldYCy0"
      },
      "source": [
        ""
      ],
      "execution_count": null,
      "outputs": []
    },
    {
      "cell_type": "markdown",
      "metadata": {
        "id": "eKx7_9vyYCy1"
      },
      "source": [
        "# 3. Kickstarter Projects Dataset (25pt)"
      ]
    },
    {
      "cell_type": "markdown",
      "metadata": {
        "id": "5HXua9B5YCy2"
      },
      "source": [
        "Using the [Kickstarter Projects Dataset](https://www.kaggle.com/kemical/kickstarter-projects#ks-projects-201801.csv), answer the following questions:"
      ]
    },
    {
      "cell_type": "markdown",
      "metadata": {
        "id": "NGgJ1dyeZiFH"
      },
      "source": [
        "**Task 1 (for everyone):** Load the dataset to SQLite DB using [PonyORM](https://ponyorm.org) (10pt)"
      ]
    },
    {
      "cell_type": "code",
      "metadata": {
        "id": "TLhhxMDDb2nN",
        "colab": {
          "base_uri": "https://localhost:8080/"
        },
        "outputId": "0b0c639d-6d61-4ac1-86b0-78e35a84daf4"
      },
      "source": [
        "!kaggle datasets list -s kickstarter-projects\n",
        "!kaggle datasets download kemical/kickstarter-projects -p ./datasets/kickstarter-projects/\n",
        "!unzip ./datasets/kickstarter-projects/*.zip  -d ./datasets/kickstarter-projects/"
      ],
      "execution_count": null,
      "outputs": [
        {
          "output_type": "stream",
          "name": "stdout",
          "text": [
            "ref                                                                         title                                               size  lastUpdated          downloadCount  voteCount  usabilityRating  \n",
            "--------------------------------------------------------------------------  --------------------------------------------------  ----  -------------------  -------------  ---------  ---------------  \n",
            "datasets/kemical/kickstarter-projects                                       Kickstarter Projects                                37MB  2018-02-08 09:02:30          60704       1491  0.7941176        \n",
            "datasets/codename007/funding-successful-projects                            Funding Successful Projects on Kickstarter          20MB  2017-06-20 17:37:38           3147        115  0.88235295       \n",
            "datasets/toshimelonhead/400000-kickstarter-projects                         400,000 Kickstarter Projects                          0B  2019-07-23 01:23:31            351          8  0.7352941        \n",
            "datasets/uysalah/archived-kickstarter-projects                              Archived Kickstarter Projects                        1MB  2019-05-10 04:33:22            245          1  0.7647059        \n",
            "datasets/ekojsalim/kickstarter-projects-kasdd                               Kickstarter Projects - KASDD                        20MB  2021-12-26 03:43:41              2          0  0.29411766       \n",
            "datasets/alonsopuente/kickstarter-projects-comments                         Kickstarter Projects Comments                       63MB  2021-01-04 15:43:53             96          0  0.23529412       \n",
            "datasets/amirhoseinabbasi/kickstarter-10000-projects-attributes-risk-texts  Kickstarter 10000 projects attributes + risk texts   6MB  2021-10-26 08:46:39             30          1  0.1764706        \n",
            "datasets/abhisingh007224/kickstarter-project-success-prediction             Kickstarter project success prediction               3MB  2022-03-16 05:44:28              1          0  0.29411766       \n",
            "Downloading kickstarter-projects.zip to ./datasets/kickstarter-projects\n",
            " 68% 25.0M/36.8M [00:00<00:00, 90.6MB/s]\n",
            "100% 36.8M/36.8M [00:00<00:00, 110MB/s] \n",
            "Archive:  ./datasets/kickstarter-projects/kickstarter-projects.zip\n",
            "  inflating: ./datasets/kickstarter-projects/ks-projects-201612.csv  \n",
            "  inflating: ./datasets/kickstarter-projects/ks-projects-201801.csv  \n"
          ]
        }
      ]
    },
    {
      "cell_type": "markdown",
      "metadata": {
        "id": "W1K5VTLoYCy3"
      },
      "source": [
        "### <span style=\"color:red\"> Please answer only **one** of the following questions according to your ID number (use the formula **<YOUR_ID> mod 3 +1**) </span>"
      ]
    },
    {
      "cell_type": "code",
      "metadata": {
        "id": "vwlOZtVHYCy3",
        "colab": {
          "base_uri": "https://localhost:8080/"
        },
        "outputId": "e5092794-a1b2-4952-d8b9-eb0c982f24a6"
      },
      "source": [
        "# which question to answer - put your ID number and run the code \n",
        "your_id  = \"204591424\"\n",
        "q = int(your_id) % 3 + 1\n",
        "print(\"You need to answer question number %s\" % q)"
      ],
      "execution_count": null,
      "outputs": [
        {
          "output_type": "stream",
          "name": "stdout",
          "text": [
            "You need to answer question number 2\n"
          ]
        }
      ]
    },
    {
      "cell_type": "markdown",
      "metadata": {
        "id": "gkVN8OnxYCy5"
      },
      "source": [
        "**Question 1:** On average which project category received the highest number of backers? (15 pt)"
      ]
    },
    {
      "cell_type": "code",
      "metadata": {
        "id": "vkhb156oYCy6"
      },
      "source": [
        ""
      ],
      "execution_count": null,
      "outputs": []
    },
    {
      "cell_type": "markdown",
      "metadata": {
        "id": "LTk5XnNGYCy7"
      },
      "source": [
        "**Question 2:** On average which project category received the highest pledged USD? (15 pt)"
      ]
    },
    {
      "cell_type": "code",
      "metadata": {
        "id": "DfiXdIneYCy8",
        "colab": {
          "base_uri": "https://localhost:8080/"
        },
        "outputId": "5aef6dde-d18d-4333-fe36-f3bc621b4549"
      },
      "source": [
        "from pony.orm import *\n",
        "# Creating a new database\n",
        "db_ks = Database()\n",
        "db_ks.bind(provider='sqlite', filename='/content/datasets/kickstarter-projects/kickstarter-project.pony.db', create_db=True)\n",
        "\n",
        "class KickstarterProject(db_ks.Entity):\n",
        "    name = Optional(str) \n",
        "    category = Required(str)\n",
        "    main_category = Required(str)\n",
        "    currency = Required(str)\n",
        "    deadline = Required(str)\n",
        "    goal = Required(float)\n",
        "    launched = Required(str)\n",
        "    pledged = Required(float)\n",
        "    launched = Required(str)\n",
        "    state = Required(str)\n",
        "    backers = Required(int)\n",
        "    country = Required(str)\n",
        "    usd_pledged = Optional(float)\n",
        "    usd_pledged_real = Required(float)\n",
        "    usd_goal_real = Required(float)\n",
        "\n",
        "show(KickstarterProject)\n",
        "#set_sql_debug(True) # helps to see what SQL commands are running\n",
        "db_ks.generate_mapping(create_tables=True) # create tables"
      ],
      "execution_count": null,
      "outputs": [
        {
          "output_type": "stream",
          "name": "stdout",
          "text": [
            "class KickstarterProject(Entity):\n",
            "    id = PrimaryKey(int, auto=True)\n",
            "    name = Optional(str, default='')\n",
            "    category = Required(str)\n",
            "    main_category = Required(str)\n",
            "    currency = Required(str)\n",
            "    deadline = Required(str)\n",
            "    goal = Required(float)\n",
            "    pledged = Required(float)\n",
            "    launched = Required(str)\n",
            "    state = Required(str)\n",
            "    backers = Required(int)\n",
            "    country = Required(str)\n",
            "    usd_pledged = Optional(float)\n",
            "    usd_pledged_real = Required(float)\n",
            "    usd_goal_real = Required(float)\n"
          ]
        }
      ]
    },
    {
      "cell_type": "code",
      "source": [
        "import pandas\n",
        "import numpy as np\n",
        "\n",
        "df = pandas.read_csv(\"./datasets/kickstarter-projects/ks-projects-201801.csv\")\n",
        "df['name'].fillna(\"\", inplace=True)\n",
        "df['usd pledged'].fillna(0.0, inplace=True)\n",
        "\n",
        "for idx, row in df.iterrows():\n",
        "    KickstarterProject(\n",
        "            name=(row['name'] if not type(row['name']) is float else \"\"),\n",
        "            category=row['category'],\n",
        "            main_category=row['main_category'],\n",
        "            currency=row['currency'],\n",
        "            deadline=row['deadline'],\n",
        "            goal=row['goal'],\n",
        "            launched=row['launched'],\n",
        "            pledged=row['pledged'],\n",
        "            state=row['state'],\n",
        "            backers=row['backers'],\n",
        "            country=row['country'],\n",
        "            usd_pledged=row['usd pledged'],\n",
        "            usd_pledged_real=row['usd_pledged_real'],\n",
        "            usd_goal_real=row['usd_goal_real'],\n",
        "    )\n",
        "commit()"
      ],
      "metadata": {
        "id": "fCcuwPmzwJ92"
      },
      "execution_count": null,
      "outputs": []
    },
    {
      "cell_type": "code",
      "source": [
        "avg_lst = select((row.category, avg(row.usd_pledged)) for row in KickstarterProject)\n",
        "\n",
        "# order the average list in desc order\n",
        "desc_avg_lst = avg_lst.order_by(lambda x,y: desc(y)).limit(1)\n",
        "list(desc_avg_lst)\n"
      ],
      "metadata": {
        "colab": {
          "base_uri": "https://localhost:8080/"
        },
        "id": "0SoEDrYjuXi2",
        "outputId": "333ad592-bb1f-4068-c54f-3823c8f87fba"
      },
      "execution_count": null,
      "outputs": [
        {
          "output_type": "execute_result",
          "data": {
            "text/plain": [
              "[('3D Printing', 52027.158213762814)]"
            ]
          },
          "metadata": {},
          "execution_count": 17
        }
      ]
    },
    {
      "cell_type": "markdown",
      "metadata": {
        "id": "wM5KvHE1YCy9"
      },
      "source": [
        "**Question 3:** In which month occurred the highest number of projects? (15 pt)"
      ]
    },
    {
      "cell_type": "code",
      "metadata": {
        "id": "5DTIStGMYCy-"
      },
      "source": [
        ""
      ],
      "execution_count": null,
      "outputs": []
    },
    {
      "cell_type": "markdown",
      "metadata": {
        "id": "ResaA3kxYCy_"
      },
      "source": [
        "## 4. Oscars Datasets (10pt)"
      ]
    },
    {
      "cell_type": "markdown",
      "metadata": {
        "id": "WYQasQOKYCzA"
      },
      "source": [
        "Using the [Oscars Dataset](https://www.kaggle.com/theacademy/academy-awards), please answer only one of the following questions (you can chose):"
      ]
    },
    {
      "cell_type": "markdown",
      "metadata": {
        "id": "QGDmLdbKYCzA"
      },
      "source": [
        "**Question 1:** Who is the male actress with the most Oscar nominees? (10pt)"
      ]
    },
    {
      "cell_type": "code",
      "metadata": {
        "id": "qipeHl6AYCzB",
        "colab": {
          "base_uri": "https://localhost:8080/"
        },
        "outputId": "b5467c99-14f5-45c5-83ce-8cc1cacd69b4"
      },
      "source": [
        "# download and unzip dataset\n",
        "!kaggle datasets list -s academy-awards\n",
        "!kaggle datasets download theacademy/academy-awards -p ./datasets/academy-awards/\n",
        "!unzip ./datasets/academy-awards/academy-awards.zip -d ./datasets/academy-awards/"
      ],
      "execution_count": null,
      "outputs": [
        {
          "output_type": "stream",
          "name": "stdout",
          "text": [
            "ref                                                              title                                                size  lastUpdated          downloadCount  voteCount  usabilityRating  \n",
            "---------------------------------------------------------------  --------------------------------------------------  -----  -------------------  -------------  ---------  ---------------  \n",
            "datasets/theacademy/academy-awards                               The Academy Awards, 1927-2015                       185KB  2017-02-13 17:30:48           6760         89  0.7352941        \n",
            "datasets/fmejia21/demographics-of-academy-awards-oscars-winners  Demographics of Academy Awards (Oscars) Winners      20KB  2020-02-04 17:38:26           4132        141  0.9411765        \n",
            "datasets/unanimad/the-oscar-award                                The Oscar Award, 1927 - 2020                        191KB  2020-02-19 15:45:30           3612         95  1.0              \n",
            "datasets/dharmikdonga/academy-awards-dataset-oscars              Academy awards dataset (oscars)                     507KB  2021-05-11 14:33:52            502         10  0.88235295       \n",
            "datasets/madhurinani/oscars-2017-tweets                          2017 #Oscars Tweets                                  11MB  2017-03-17 19:50:40            408          8  0.7647059        \n",
            "datasets/unanimad/emmy-awards                                    Emmy Awards                                         904KB  2020-01-02 23:54:37            297          9  1.0              \n",
            "datasets/unanimad/bafta-awards                                   British Academy of Film and Television Arts Awards   74KB  2020-02-04 11:35:02            155          7  0.9411765        \n",
            "datasets/alexis333/academy-awards-cleanup                        Academy Awards Cleanup                              178KB  2019-03-25 18:19:58             61          2  0.5294118        \n",
            "Downloading academy-awards.zip to ./datasets/academy-awards\n",
            "  0% 0.00/185k [00:00<?, ?B/s]\n",
            "100% 185k/185k [00:00<00:00, 70.3MB/s]\n",
            "Archive:  ./datasets/academy-awards/academy-awards.zip\n",
            "  inflating: ./datasets/academy-awards/database.csv  \n"
          ]
        }
      ]
    },
    {
      "cell_type": "code",
      "source": [
        "from pony.orm import *\n",
        "import pandas\n",
        "\n",
        "# Creating a new database\n",
        "db = Database()\n",
        "db.bind(provider='sqlite', filename='/content/datasets/academy-awards/academy-awards.pony.db', create_db=True)\n",
        "\n",
        "class AcademyAward(db.Entity):\n",
        "    Year = Required(str) \n",
        "    Ceremony = Required(int)\n",
        "    Award = Required(str)\n",
        "    Winner = Optional(float)\n",
        "    Name = Required(str)\n",
        "    Film = Optional(str)\n",
        "\n",
        "show(AcademyAward)\n",
        "#set_sql_debug(True)\n",
        "db.generate_mapping(create_tables=True)"
      ],
      "metadata": {
        "colab": {
          "base_uri": "https://localhost:8080/"
        },
        "id": "tp2ytRyIyqU-",
        "outputId": "56e5fb63-9cf6-46ca-cba4-7b6d337668fd"
      },
      "execution_count": null,
      "outputs": [
        {
          "output_type": "stream",
          "name": "stdout",
          "text": [
            "class AcademyAward(Entity):\n",
            "    id = PrimaryKey(int, auto=True)\n",
            "    Year = Required(str)\n",
            "    Ceremony = Required(int)\n",
            "    Award = Required(str)\n",
            "    Winner = Optional(float)\n",
            "    Name = Required(str)\n",
            "    Film = Optional(str, default='')\n"
          ]
        }
      ]
    },
    {
      "cell_type": "code",
      "source": [
        "import pandas\n",
        "import numpy as np\n",
        "\n",
        "df = pandas.read_csv(\"./datasets/academy-awards/database.csv\")\n",
        "df['Winner'].fillna(0.0, inplace=True)\n",
        "\n",
        "for idx, row in df.iterrows():\n",
        "    AcademyAward(\n",
        "            Year=row['Year'],\n",
        "            Ceremony=row['Ceremony'],\n",
        "            Award=row['Award'],\n",
        "            Winner=row['Winner'],\n",
        "            Name=row['Name'],\n",
        "            Film=(row['Film'] if not type(row['Film']) is float else \"\")\n",
        "    )\n",
        "commit()"
      ],
      "metadata": {
        "id": "-BBy4Idcy0rl"
      },
      "execution_count": null,
      "outputs": []
    },
    {
      "cell_type": "code",
      "source": [
        "top_award = select((a.Name, count(a)) for a in AcademyAward).where(lambda a: a.Award == 'Actor')\n",
        "most_award_desc = top_award.order_by(lambda x,y: desc(y)).limit(1)\n",
        "list(most_award_desc)"
      ],
      "metadata": {
        "colab": {
          "base_uri": "https://localhost:8080/"
        },
        "id": "YfnqRHfAy-2V",
        "outputId": "3afad49d-57a0-4be4-995e-35cbc37f4c09"
      },
      "execution_count": null,
      "outputs": [
        {
          "output_type": "execute_result",
          "data": {
            "text/plain": [
              "[('Spencer Tracy', 9)]"
            ]
          },
          "metadata": {},
          "execution_count": 22
        }
      ]
    },
    {
      "cell_type": "markdown",
      "metadata": {
        "id": "BR33wDkbYCzD"
      },
      "source": [
        "**Question 2:** Who is the female director with the most Oscar nominees? (10pt)"
      ]
    },
    {
      "cell_type": "code",
      "metadata": {
        "id": "2jm9HeghYCzD"
      },
      "source": [
        ""
      ],
      "execution_count": null,
      "outputs": []
    },
    {
      "cell_type": "markdown",
      "metadata": {
        "id": "Va320K09YCzE"
      },
      "source": [
        "**Question 3:** Which top-10 movies received the highest number of Oscar nominees? (10pt)"
      ]
    },
    {
      "cell_type": "code",
      "metadata": {
        "id": "k9gVwnHVYCzF"
      },
      "source": [
        ""
      ],
      "execution_count": null,
      "outputs": []
    },
    {
      "cell_type": "markdown",
      "metadata": {
        "id": "AF15wiyqYCzH"
      },
      "source": [
        "**Question 4:** Write a function that receives an actor's name and returns the actor’s number of Oscar nominees. Use the function to calculate the number of times Leonardo DiCaprio was a nominee (10pt)"
      ]
    },
    {
      "cell_type": "code",
      "metadata": {
        "id": "_ZdwQJCWYCzH"
      },
      "source": [
        ""
      ],
      "execution_count": null,
      "outputs": []
    },
    {
      "cell_type": "markdown",
      "metadata": {
        "id": "eW1N-PBiYCzJ"
      },
      "source": [
        "## 5. Select a Dataset (15pt)"
      ]
    },
    {
      "cell_type": "markdown",
      "metadata": {
        "id": "Me79ek_mYCzJ"
      },
      "source": [
        "**Open Question:** Select an interesting dataset and use SQL to discover something interesting (15pt). **Bonus:** Use BigQuery (2pt)"
      ]
    },
    {
      "cell_type": "code",
      "source": [
        ""
      ],
      "metadata": {
        "id": "DCNbYCe46N40"
      },
      "execution_count": null,
      "outputs": []
    },
    {
      "cell_type": "code",
      "metadata": {
        "outputId": "23d83c4d-ad50-4593-d4ce-52c4134f140c",
        "colab": {
          "base_uri": "https://localhost:8080/"
        },
        "id": "QbzbWRo3jR7r"
      },
      "source": [
        "!pip install kaggle\n",
        "!mkdir /root/.kaggle/\n",
        "\n",
        "import json\n",
        "import os\n",
        "\n",
        "#Important Note: complete this with your own key - after running this for the first time remmember to **remove** your API_KEY\n",
        "api_token = {\"username\":\"danasror\",\"key\":\"bacf4386b2ae522ce21a4595b76005d6\"}\n",
        "with open('/root/.kaggle/kaggle.json', 'w') as file:\n",
        "  json.dump(api_token, file)\n",
        "!chmod 600 /root/.kaggle/kaggle.json\n"
      ],
      "execution_count": null,
      "outputs": [
        {
          "output_type": "stream",
          "name": "stdout",
          "text": [
            "Requirement already satisfied: kaggle in /usr/local/lib/python3.7/dist-packages (1.5.12)\n",
            "Requirement already satisfied: python-dateutil in /usr/local/lib/python3.7/dist-packages (from kaggle) (2.8.2)\n",
            "Requirement already satisfied: six>=1.10 in /usr/local/lib/python3.7/dist-packages (from kaggle) (1.15.0)\n",
            "Requirement already satisfied: tqdm in /usr/local/lib/python3.7/dist-packages (from kaggle) (4.63.0)\n",
            "Requirement already satisfied: python-slugify in /usr/local/lib/python3.7/dist-packages (from kaggle) (6.1.1)\n",
            "Requirement already satisfied: requests in /usr/local/lib/python3.7/dist-packages (from kaggle) (2.23.0)\n",
            "Requirement already satisfied: certifi in /usr/local/lib/python3.7/dist-packages (from kaggle) (2021.10.8)\n",
            "Requirement already satisfied: urllib3 in /usr/local/lib/python3.7/dist-packages (from kaggle) (1.24.3)\n",
            "Requirement already satisfied: text-unidecode>=1.3 in /usr/local/lib/python3.7/dist-packages (from python-slugify->kaggle) (1.3)\n",
            "Requirement already satisfied: chardet<4,>=3.0.2 in /usr/local/lib/python3.7/dist-packages (from requests->kaggle) (3.0.4)\n",
            "Requirement already satisfied: idna<3,>=2.5 in /usr/local/lib/python3.7/dist-packages (from requests->kaggle) (2.10)\n",
            "usage: kaggle [-h] [-v] {competitions,c,datasets,d,kernels,k,config} ...\n",
            "kaggle: error: unrecognized arguments: Cost Personal Datasets\n"
          ]
        }
      ]
    },
    {
      "cell_type": "code",
      "source": [
        "# searching for the dataset\n",
        "!kaggle datasets list -s medical"
      ],
      "metadata": {
        "colab": {
          "base_uri": "https://localhost:8080/"
        },
        "id": "WL_ITMU6jjdQ",
        "outputId": "b4d775ad-0d6c-46d1-f1ae-c40305af8c7a"
      },
      "execution_count": null,
      "outputs": [
        {
          "output_type": "stream",
          "name": "stdout",
          "text": [
            "ref                                                                         title                                       size  lastUpdated          downloadCount  voteCount  usabilityRating  \n",
            "--------------------------------------------------------------------------  -----------------------------------------  -----  -------------------  -------------  ---------  ---------------  \n",
            "datasets/mirichoi0218/insurance                                              Medical Cost Personal Datasets             16KB  2018-02-21 00:15:14         116103       1723  0.88235295       \n",
            "datasets/kmader/siim-medical-images                                         CT Medical Images                          250MB  2017-05-23 07:03:06          25776        680  0.7647059        \n",
            "datasets/tboyle10/medicaltranscriptions                                     Medical Transcriptions                       5MB  2018-10-15 17:44:11           4669        121  0.85294116       \n",
            "datasets/andrewmvd/medical-mnist                                            Medical MNIST                               85MB  2020-04-21 18:31:34           2182         58  0.875            \n",
            "datasets/joniarroba/noshowappointments                                      Medical Appointment No Shows                 2MB  2017-08-20 23:49:38          34444        846  0.7058824        \n",
            "datasets/tejashvi14/medical-insurance-premium-prediction                    Medical Insurance Premium Prediction         7KB  2021-08-04 05:48:58           1968         64  1.0              \n",
            "datasets/rajgupta2019/medical-insurance-dataset                             Medical Insurance dataset                   92KB  2021-12-19 17:23:15            762         24  0.8235294        \n",
            "datasets/chaitanyakck/medical-text                                          Medical Text                                12MB  2019-07-17 20:18:53            735         16  0.9375           \n",
            "datasets/kmader/figure-eight-medical-sentence-summary                       Figure Eight: Medical Sentence Summary       1MB  2018-05-14 07:51:02            781         33  0.7058824        \n",
            "datasets/paultimothymooney/medical-speech-transcription-and-intent          Medical Speech, Transcription, and Intent    5GB  2019-02-24 04:37:00           2145         86  0.7058824        \n",
            "datasets/fda/adverse-food-events                                            Adverse Food Events                          3MB  2017-09-07 19:34:07           3992        105  0.88235295       \n",
            "datasets/finalepoch/medical-ner                                             Medical NER                                 26KB  2020-03-28 13:00:07            775         10  0.625            \n",
            "datasets/karimnahas/medicaldata                                             Medical Data                                50KB  2017-11-04 17:57:53           1641         31  0.29411766       \n",
            "datasets/anshulmehtakaggl/200000-abstracts-for-seq-sentence-classification  200000 Medical Research Paper Abstracts    240MB  2022-01-14 06:29:29            174         33  0.9375           \n",
            "datasets/ymirsky/medical-deepfakes-lung-cancer                              Medical Deepfakes: Lung Cancer               6GB  2020-04-23 17:50:12           1369         26  0.7941176        \n",
            "datasets/gooogr/yolo-medical-mask-dataset                                   YOLO medical mask dataset                  157MB  2020-05-18 17:14:44            517         18  0.75             \n",
            "datasets/afflores/medical-appointment                                       Medical Appointment                        538KB  2017-12-17 17:27:08            519         11  0.5882353        \n",
            "datasets/dansbecker/hospital-readmissions                                   Medical Data and Hospital Readmissions     522KB  2018-09-13 17:46:50           2452         40  0.1764706        \n",
            "datasets/shashwatwork/bengali-medical-dataset                               Bengali Medical Dataset                     51KB  2021-05-09 16:18:39             68          7  0.9411765        \n",
            "datasets/jannalipenkova/covid19-public-media-dataset                        Covid-19 Public Media Dataset by Anacode   739MB  2021-01-14 17:35:23           1290         46  1.0              \n"
          ]
        }
      ]
    },
    {
      "cell_type": "code",
      "source": [
        "!mkdir ./datasets/insurance"
      ],
      "metadata": {
        "id": "g0WSMR08n0Wi"
      },
      "execution_count": null,
      "outputs": []
    },
    {
      "cell_type": "code",
      "source": [
        "!kaggle datasets download -d mirichoi0218/insurance -p ./datasets/insurance/\n",
        "\n",
        "!unzip ./datasets/insurance/insurance.zip -d ./datasets/insurance/\n"
      ],
      "metadata": {
        "colab": {
          "base_uri": "https://localhost:8080/"
        },
        "id": "icbrqxQ4kPKy",
        "outputId": "28985455-b0f1-4116-cd8e-9db5bbfc7d86"
      },
      "execution_count": null,
      "outputs": [
        {
          "output_type": "stream",
          "name": "stdout",
          "text": [
            "Downloading insurance.zip to ./datasets/insurance\n",
            "\r  0% 0.00/16.0k [00:00<?, ?B/s]\n",
            "\r100% 16.0k/16.0k [00:00<00:00, 14.4MB/s]\n",
            "Archive:  ./datasets/insurance/insurance.zip\n",
            "  inflating: ./datasets/insurance/insurance.csv  \n"
          ]
        }
      ]
    },
    {
      "cell_type": "code",
      "source": [
        "import sqlite3\n",
        "import pandas as pd\n",
        "\n",
        "%matplotlib inline\n",
        "CSV_PATH = './datasets/insurance/insurance.csv'\n",
        "\n",
        "# Create the dataframe\n",
        "df = pd.read_csv(CSV_PATH)\n",
        "df\n",
        "\n"
      ],
      "metadata": {
        "colab": {
          "base_uri": "https://localhost:8080/",
          "height": 424
        },
        "id": "d1jkAMQQoFby",
        "outputId": "79d9111b-f4b5-4a44-8f93-6f884b99e30c"
      },
      "execution_count": null,
      "outputs": [
        {
          "output_type": "execute_result",
          "data": {
            "text/plain": [
              "      age     sex     bmi  children smoker     region      charges\n",
              "0      19  female  27.900         0    yes  southwest  16884.92400\n",
              "1      18    male  33.770         1     no  southeast   1725.55230\n",
              "2      28    male  33.000         3     no  southeast   4449.46200\n",
              "3      33    male  22.705         0     no  northwest  21984.47061\n",
              "4      32    male  28.880         0     no  northwest   3866.85520\n",
              "...   ...     ...     ...       ...    ...        ...          ...\n",
              "1333   50    male  30.970         3     no  northwest  10600.54830\n",
              "1334   18  female  31.920         0     no  northeast   2205.98080\n",
              "1335   18  female  36.850         0     no  southeast   1629.83350\n",
              "1336   21  female  25.800         0     no  southwest   2007.94500\n",
              "1337   61  female  29.070         0    yes  northwest  29141.36030\n",
              "\n",
              "[1338 rows x 7 columns]"
            ],
            "text/html": [
              "\n",
              "  <div id=\"df-5eff215a-6ce9-4215-b235-a065a29883c6\">\n",
              "    <div class=\"colab-df-container\">\n",
              "      <div>\n",
              "<style scoped>\n",
              "    .dataframe tbody tr th:only-of-type {\n",
              "        vertical-align: middle;\n",
              "    }\n",
              "\n",
              "    .dataframe tbody tr th {\n",
              "        vertical-align: top;\n",
              "    }\n",
              "\n",
              "    .dataframe thead th {\n",
              "        text-align: right;\n",
              "    }\n",
              "</style>\n",
              "<table border=\"1\" class=\"dataframe\">\n",
              "  <thead>\n",
              "    <tr style=\"text-align: right;\">\n",
              "      <th></th>\n",
              "      <th>age</th>\n",
              "      <th>sex</th>\n",
              "      <th>bmi</th>\n",
              "      <th>children</th>\n",
              "      <th>smoker</th>\n",
              "      <th>region</th>\n",
              "      <th>charges</th>\n",
              "    </tr>\n",
              "  </thead>\n",
              "  <tbody>\n",
              "    <tr>\n",
              "      <th>0</th>\n",
              "      <td>19</td>\n",
              "      <td>female</td>\n",
              "      <td>27.900</td>\n",
              "      <td>0</td>\n",
              "      <td>yes</td>\n",
              "      <td>southwest</td>\n",
              "      <td>16884.92400</td>\n",
              "    </tr>\n",
              "    <tr>\n",
              "      <th>1</th>\n",
              "      <td>18</td>\n",
              "      <td>male</td>\n",
              "      <td>33.770</td>\n",
              "      <td>1</td>\n",
              "      <td>no</td>\n",
              "      <td>southeast</td>\n",
              "      <td>1725.55230</td>\n",
              "    </tr>\n",
              "    <tr>\n",
              "      <th>2</th>\n",
              "      <td>28</td>\n",
              "      <td>male</td>\n",
              "      <td>33.000</td>\n",
              "      <td>3</td>\n",
              "      <td>no</td>\n",
              "      <td>southeast</td>\n",
              "      <td>4449.46200</td>\n",
              "    </tr>\n",
              "    <tr>\n",
              "      <th>3</th>\n",
              "      <td>33</td>\n",
              "      <td>male</td>\n",
              "      <td>22.705</td>\n",
              "      <td>0</td>\n",
              "      <td>no</td>\n",
              "      <td>northwest</td>\n",
              "      <td>21984.47061</td>\n",
              "    </tr>\n",
              "    <tr>\n",
              "      <th>4</th>\n",
              "      <td>32</td>\n",
              "      <td>male</td>\n",
              "      <td>28.880</td>\n",
              "      <td>0</td>\n",
              "      <td>no</td>\n",
              "      <td>northwest</td>\n",
              "      <td>3866.85520</td>\n",
              "    </tr>\n",
              "    <tr>\n",
              "      <th>...</th>\n",
              "      <td>...</td>\n",
              "      <td>...</td>\n",
              "      <td>...</td>\n",
              "      <td>...</td>\n",
              "      <td>...</td>\n",
              "      <td>...</td>\n",
              "      <td>...</td>\n",
              "    </tr>\n",
              "    <tr>\n",
              "      <th>1333</th>\n",
              "      <td>50</td>\n",
              "      <td>male</td>\n",
              "      <td>30.970</td>\n",
              "      <td>3</td>\n",
              "      <td>no</td>\n",
              "      <td>northwest</td>\n",
              "      <td>10600.54830</td>\n",
              "    </tr>\n",
              "    <tr>\n",
              "      <th>1334</th>\n",
              "      <td>18</td>\n",
              "      <td>female</td>\n",
              "      <td>31.920</td>\n",
              "      <td>0</td>\n",
              "      <td>no</td>\n",
              "      <td>northeast</td>\n",
              "      <td>2205.98080</td>\n",
              "    </tr>\n",
              "    <tr>\n",
              "      <th>1335</th>\n",
              "      <td>18</td>\n",
              "      <td>female</td>\n",
              "      <td>36.850</td>\n",
              "      <td>0</td>\n",
              "      <td>no</td>\n",
              "      <td>southeast</td>\n",
              "      <td>1629.83350</td>\n",
              "    </tr>\n",
              "    <tr>\n",
              "      <th>1336</th>\n",
              "      <td>21</td>\n",
              "      <td>female</td>\n",
              "      <td>25.800</td>\n",
              "      <td>0</td>\n",
              "      <td>no</td>\n",
              "      <td>southwest</td>\n",
              "      <td>2007.94500</td>\n",
              "    </tr>\n",
              "    <tr>\n",
              "      <th>1337</th>\n",
              "      <td>61</td>\n",
              "      <td>female</td>\n",
              "      <td>29.070</td>\n",
              "      <td>0</td>\n",
              "      <td>yes</td>\n",
              "      <td>northwest</td>\n",
              "      <td>29141.36030</td>\n",
              "    </tr>\n",
              "  </tbody>\n",
              "</table>\n",
              "<p>1338 rows × 7 columns</p>\n",
              "</div>\n",
              "      <button class=\"colab-df-convert\" onclick=\"convertToInteractive('df-5eff215a-6ce9-4215-b235-a065a29883c6')\"\n",
              "              title=\"Convert this dataframe to an interactive table.\"\n",
              "              style=\"display:none;\">\n",
              "        \n",
              "  <svg xmlns=\"http://www.w3.org/2000/svg\" height=\"24px\"viewBox=\"0 0 24 24\"\n",
              "       width=\"24px\">\n",
              "    <path d=\"M0 0h24v24H0V0z\" fill=\"none\"/>\n",
              "    <path d=\"M18.56 5.44l.94 2.06.94-2.06 2.06-.94-2.06-.94-.94-2.06-.94 2.06-2.06.94zm-11 1L8.5 8.5l.94-2.06 2.06-.94-2.06-.94L8.5 2.5l-.94 2.06-2.06.94zm10 10l.94 2.06.94-2.06 2.06-.94-2.06-.94-.94-2.06-.94 2.06-2.06.94z\"/><path d=\"M17.41 7.96l-1.37-1.37c-.4-.4-.92-.59-1.43-.59-.52 0-1.04.2-1.43.59L10.3 9.45l-7.72 7.72c-.78.78-.78 2.05 0 2.83L4 21.41c.39.39.9.59 1.41.59.51 0 1.02-.2 1.41-.59l7.78-7.78 2.81-2.81c.8-.78.8-2.07 0-2.86zM5.41 20L4 18.59l7.72-7.72 1.47 1.35L5.41 20z\"/>\n",
              "  </svg>\n",
              "      </button>\n",
              "      \n",
              "  <style>\n",
              "    .colab-df-container {\n",
              "      display:flex;\n",
              "      flex-wrap:wrap;\n",
              "      gap: 12px;\n",
              "    }\n",
              "\n",
              "    .colab-df-convert {\n",
              "      background-color: #E8F0FE;\n",
              "      border: none;\n",
              "      border-radius: 50%;\n",
              "      cursor: pointer;\n",
              "      display: none;\n",
              "      fill: #1967D2;\n",
              "      height: 32px;\n",
              "      padding: 0 0 0 0;\n",
              "      width: 32px;\n",
              "    }\n",
              "\n",
              "    .colab-df-convert:hover {\n",
              "      background-color: #E2EBFA;\n",
              "      box-shadow: 0px 1px 2px rgba(60, 64, 67, 0.3), 0px 1px 3px 1px rgba(60, 64, 67, 0.15);\n",
              "      fill: #174EA6;\n",
              "    }\n",
              "\n",
              "    [theme=dark] .colab-df-convert {\n",
              "      background-color: #3B4455;\n",
              "      fill: #D2E3FC;\n",
              "    }\n",
              "\n",
              "    [theme=dark] .colab-df-convert:hover {\n",
              "      background-color: #434B5C;\n",
              "      box-shadow: 0px 1px 3px 1px rgba(0, 0, 0, 0.15);\n",
              "      filter: drop-shadow(0px 1px 2px rgba(0, 0, 0, 0.3));\n",
              "      fill: #FFFFFF;\n",
              "    }\n",
              "  </style>\n",
              "\n",
              "      <script>\n",
              "        const buttonEl =\n",
              "          document.querySelector('#df-5eff215a-6ce9-4215-b235-a065a29883c6 button.colab-df-convert');\n",
              "        buttonEl.style.display =\n",
              "          google.colab.kernel.accessAllowed ? 'block' : 'none';\n",
              "\n",
              "        async function convertToInteractive(key) {\n",
              "          const element = document.querySelector('#df-5eff215a-6ce9-4215-b235-a065a29883c6');\n",
              "          const dataTable =\n",
              "            await google.colab.kernel.invokeFunction('convertToInteractive',\n",
              "                                                     [key], {});\n",
              "          if (!dataTable) return;\n",
              "\n",
              "          const docLinkHtml = 'Like what you see? Visit the ' +\n",
              "            '<a target=\"_blank\" href=https://colab.research.google.com/notebooks/data_table.ipynb>data table notebook</a>'\n",
              "            + ' to learn more about interactive tables.';\n",
              "          element.innerHTML = '';\n",
              "          dataTable['output_type'] = 'display_data';\n",
              "          await google.colab.output.renderOutput(dataTable, element);\n",
              "          const docLink = document.createElement('div');\n",
              "          docLink.innerHTML = docLinkHtml;\n",
              "          element.appendChild(docLink);\n",
              "        }\n",
              "      </script>\n",
              "    </div>\n",
              "  </div>\n",
              "  "
            ]
          },
          "metadata": {},
          "execution_count": 20
        }
      ]
    },
    {
      "cell_type": "code",
      "source": [
        "df.info()"
      ],
      "metadata": {
        "colab": {
          "base_uri": "https://localhost:8080/"
        },
        "id": "GbN6Exvdq9U3",
        "outputId": "f58afcd9-4e3c-419f-cf5d-cc6161ccaed0"
      },
      "execution_count": null,
      "outputs": [
        {
          "output_type": "stream",
          "name": "stdout",
          "text": [
            "<class 'pandas.core.frame.DataFrame'>\n",
            "RangeIndex: 1338 entries, 0 to 1337\n",
            "Data columns (total 7 columns):\n",
            " #   Column    Non-Null Count  Dtype  \n",
            "---  ------    --------------  -----  \n",
            " 0   age       1338 non-null   int64  \n",
            " 1   sex       1338 non-null   object \n",
            " 2   bmi       1338 non-null   float64\n",
            " 3   children  1338 non-null   int64  \n",
            " 4   smoker    1338 non-null   object \n",
            " 5   region    1338 non-null   object \n",
            " 6   charges   1338 non-null   float64\n",
            "dtypes: float64(2), int64(2), object(3)\n",
            "memory usage: 73.3+ KB\n"
          ]
        }
      ]
    },
    {
      "cell_type": "code",
      "source": [
        "!pip install pony"
      ],
      "metadata": {
        "colab": {
          "base_uri": "https://localhost:8080/"
        },
        "id": "qtcFcUiWoT65",
        "outputId": "5ca0e81f-4f64-4d88-9c28-bb8e0df62f13"
      },
      "execution_count": null,
      "outputs": [
        {
          "output_type": "stream",
          "name": "stdout",
          "text": [
            "Requirement already satisfied: pony in /usr/local/lib/python3.7/dist-packages (0.7.16)\n"
          ]
        }
      ]
    },
    {
      "cell_type": "code",
      "source": [
        "from pony.orm import *\n",
        "\n",
        "# Creating a new database\n",
        "db = Database()\n",
        "db.bind(provider='sqlite', filename='/content/datasets/insurance/insurance.csv.pony.db', create_db=True)\n",
        "\n",
        "class Insurance(db.Entity):\n",
        "    Age = Optional(int)\n",
        "    Sex = Optional(str)\n",
        "    Bmi = Optional(float)\n",
        "    Smoker = Optional(str)\n",
        "    Region = Optional(str)\n",
        "    Charges = Required(float)\n",
        "    \n",
        "     \n",
        "#set_sql_debug(True) # helps to see what SQL commands are running\n",
        "db.generate_mapping(create_tables=True) # create tables"
      ],
      "metadata": {
        "id": "eBAtsc4it7n4"
      },
      "execution_count": 24,
      "outputs": []
    },
    {
      "cell_type": "code",
      "source": [
        "# use the Pandas package to insert data into these table:\n",
        "import pandas\n",
        "import numpy as np\n",
        "\n",
        "# pandas can find csv inside the zip itself\n",
        "df = df.replace(np.nan, '', regex=True)\n",
        "\n",
        "for idx, row in df.iterrows():\n",
        "    Insurance(\n",
        "            Age=row['age'],\n",
        "            Sex=row['sex'],\n",
        "            Bmi=row['bmi'],\n",
        "            Smoker=row['smoker'],\n",
        "            Region=row['region'],\n",
        "            Charges=row['charges'],\n",
        "    )\n",
        "show(Insurance)\n",
        "commit()"
      ],
      "metadata": {
        "id": "8UUAv79brkwg",
        "colab": {
          "base_uri": "https://localhost:8080/"
        },
        "outputId": "f9dcb1e9-6002-400f-cfd2-c28fc4fdf882"
      },
      "execution_count": 25,
      "outputs": [
        {
          "output_type": "stream",
          "name": "stdout",
          "text": [
            "class Insurance(Entity):\n",
            "    id = PrimaryKey(int, auto=True)\n",
            "    Age = Optional(int)\n",
            "    Sex = Optional(str, default='')\n",
            "    Bmi = Optional(float)\n",
            "    Smoker = Optional(str, default='')\n",
            "    Region = Optional(str, default='')\n",
            "    Charges = Required(float)\n"
          ]
        }
      ]
    },
    {
      "cell_type": "code",
      "source": [
        "# number_of_male_smoker\n",
        "lst = list(select(row for row in Insurance if (row.Sex  == 'male' and row.Smoker == 'yes')))\n",
        "print(len(lst))\n"
      ],
      "metadata": {
        "colab": {
          "base_uri": "https://localhost:8080/"
        },
        "id": "PBkF3qARuPV_",
        "outputId": "a223cefd-1b7f-4f83-962a-660d7553e0fb"
      },
      "execution_count": 26,
      "outputs": [
        {
          "output_type": "stream",
          "name": "stdout",
          "text": [
            "159\n"
          ]
        }
      ]
    },
    {
      "cell_type": "code",
      "source": [
        "# number_of_female_smoker\n",
        "lst = list(select(row for row in Insurance if (row.Sex  == 'female' and row.Smoker == 'yes')))\n",
        "print(len(lst))"
      ],
      "metadata": {
        "colab": {
          "base_uri": "https://localhost:8080/"
        },
        "id": "e-MpQBEovRbn",
        "outputId": "bf55fb47-579e-4e2d-9987-e5593a53c06b"
      },
      "execution_count": 27,
      "outputs": [
        {
          "output_type": "stream",
          "name": "stdout",
          "text": [
            "115\n"
          ]
        }
      ]
    }
  ]
}