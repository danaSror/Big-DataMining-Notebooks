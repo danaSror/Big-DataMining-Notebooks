{
  "nbformat": 4,
  "nbformat_minor": 0,
  "metadata": {
    "kernelspec": {
      "display_name": "Python 3",
      "language": "python",
      "name": "python3"
    },
    "language_info": {
      "codemirror_mode": {
        "name": "ipython",
        "version": 3
      },
      "file_extension": ".py",
      "mimetype": "text/x-python",
      "name": "python",
      "nbconvert_exporter": "python",
      "pygments_lexer": "ipython3",
      "version": "3.6.7"
    },
    "colab": {
      "name": "204591424_HW 3.ipynb",
      "provenance": [],
      "collapsed_sections": []
    }
  },
  "cells": [
    {
      "cell_type": "markdown",
      "metadata": {
        "id": "yEpzoJKH0P2W"
      },
      "source": [
        "# Homework Assignment 3"
      ]
    },
    {
      "cell_type": "markdown",
      "metadata": {
        "id": "oH_ZGm7d0P2Z"
      },
      "source": [
        "Using the [Seattle Library Collection Inventory Dataset](https://www.kaggle.com/city-of-seattle/seattle-library-collection-inventory#library-collection-inventory.csv) and TuriCreate please, answer the following questions:"
      ]
    },
    {
      "cell_type": "code",
      "source": [
        "!mkdir /root/.kaggle/\n",
        "!mkdir ./datasets\n",
        "import json\n",
        "import os\n",
        "\n",
        "# Installing the Kaggle package\n",
        "!pip install kaggle \n",
        "\n",
        "#Important Note: complete this with your own key - after running this for the first time remmember to **remove** your API_KEY\n",
        "api_token = {\"username\":\"danasror\",\"key\":\"83f2d5cd8d8b7d0c9848067dc056909f\"} \n",
        "\n",
        "\n",
        "# creating kaggle.json file with the personal API-Key details \n",
        "# You can also put this file on your Google Drive\n",
        "with open('/root/.kaggle/kaggle.json', 'w') as file:\n",
        "  json.dump(api_token, file)\n",
        "!chmod 600 /root/.kaggle/kaggle.json"
      ],
      "metadata": {
        "id": "5OYlD5afCHuF",
        "colab": {
          "base_uri": "https://localhost:8080/"
        },
        "outputId": "a17042b4-6486-4cb6-db96-d4a6b845800b"
      },
      "execution_count": 17,
      "outputs": [
        {
          "output_type": "stream",
          "name": "stdout",
          "text": [
            "mkdir: cannot create directory ‘/root/.kaggle/’: File exists\n",
            "mkdir: cannot create directory ‘./datasets’: File exists\n",
            "Requirement already satisfied: kaggle in /usr/local/lib/python3.7/dist-packages (1.5.12)\n",
            "Requirement already satisfied: python-slugify in /usr/local/lib/python3.7/dist-packages (from kaggle) (6.1.1)\n",
            "Requirement already satisfied: requests in /usr/local/lib/python3.7/dist-packages (from kaggle) (2.23.0)\n",
            "Requirement already satisfied: six>=1.10 in /usr/local/lib/python3.7/dist-packages (from kaggle) (1.15.0)\n",
            "Requirement already satisfied: tqdm in /usr/local/lib/python3.7/dist-packages (from kaggle) (4.64.0)\n",
            "Requirement already satisfied: certifi in /usr/local/lib/python3.7/dist-packages (from kaggle) (2021.10.8)\n",
            "Requirement already satisfied: python-dateutil in /usr/local/lib/python3.7/dist-packages (from kaggle) (2.8.2)\n",
            "Requirement already satisfied: urllib3 in /usr/local/lib/python3.7/dist-packages (from kaggle) (1.24.3)\n",
            "Requirement already satisfied: text-unidecode>=1.3 in /usr/local/lib/python3.7/dist-packages (from python-slugify->kaggle) (1.3)\n",
            "Requirement already satisfied: idna<3,>=2.5 in /usr/local/lib/python3.7/dist-packages (from requests->kaggle) (2.10)\n",
            "Requirement already satisfied: chardet<4,>=3.0.2 in /usr/local/lib/python3.7/dist-packages (from requests->kaggle) (3.0.4)\n"
          ]
        }
      ]
    },
    {
      "cell_type": "code",
      "source": [
        "!pip install turicreate"
      ],
      "metadata": {
        "colab": {
          "base_uri": "https://localhost:8080/"
        },
        "id": "cjJISta3DJ3N",
        "outputId": "3597ca5a-5647-43d6-8064-70df3f667cb4"
      },
      "execution_count": null,
      "outputs": [
        {
          "output_type": "stream",
          "name": "stdout",
          "text": [
            "Requirement already satisfied: turicreate in /usr/local/lib/python3.7/dist-packages (6.4.1)\n",
            "Requirement already satisfied: pillow>=5.2.0 in /usr/local/lib/python3.7/dist-packages (from turicreate) (7.1.2)\n",
            "Requirement already satisfied: numba<0.51.0 in /usr/local/lib/python3.7/dist-packages (from turicreate) (0.50.1)\n",
            "Requirement already satisfied: decorator>=4.0.9 in /usr/local/lib/python3.7/dist-packages (from turicreate) (4.4.2)\n",
            "Requirement already satisfied: coremltools==3.3 in /usr/local/lib/python3.7/dist-packages (from turicreate) (3.3)\n",
            "Requirement already satisfied: tensorflow<2.1.0,>=2.0.0 in /usr/local/lib/python3.7/dist-packages (from turicreate) (2.0.4)\n",
            "Requirement already satisfied: prettytable==0.7.2 in /usr/local/lib/python3.7/dist-packages (from turicreate) (0.7.2)\n",
            "Requirement already satisfied: resampy==0.2.1 in /usr/local/lib/python3.7/dist-packages (from turicreate) (0.2.1)\n",
            "Requirement already satisfied: requests>=2.9.1 in /usr/local/lib/python3.7/dist-packages (from turicreate) (2.23.0)\n",
            "Requirement already satisfied: pandas>=0.23.2 in /usr/local/lib/python3.7/dist-packages (from turicreate) (1.3.5)\n",
            "Requirement already satisfied: scipy>=1.1.0 in /usr/local/lib/python3.7/dist-packages (from turicreate) (1.4.1)\n",
            "Requirement already satisfied: six>=1.10.0 in /usr/local/lib/python3.7/dist-packages (from turicreate) (1.15.0)\n",
            "Requirement already satisfied: numpy in /usr/local/lib/python3.7/dist-packages (from turicreate) (1.18.5)\n",
            "Requirement already satisfied: protobuf>=3.1.0 in /usr/local/lib/python3.7/dist-packages (from coremltools==3.3->turicreate) (3.17.3)\n",
            "Requirement already satisfied: llvmlite<0.34,>=0.33.0.dev0 in /usr/local/lib/python3.7/dist-packages (from numba<0.51.0->turicreate) (0.33.0)\n",
            "Requirement already satisfied: setuptools in /usr/local/lib/python3.7/dist-packages (from numba<0.51.0->turicreate) (57.4.0)\n",
            "Requirement already satisfied: python-dateutil>=2.7.3 in /usr/local/lib/python3.7/dist-packages (from pandas>=0.23.2->turicreate) (2.8.2)\n",
            "Requirement already satisfied: pytz>=2017.3 in /usr/local/lib/python3.7/dist-packages (from pandas>=0.23.2->turicreate) (2018.9)\n",
            "Requirement already satisfied: chardet<4,>=3.0.2 in /usr/local/lib/python3.7/dist-packages (from requests>=2.9.1->turicreate) (3.0.4)\n",
            "Requirement already satisfied: idna<3,>=2.5 in /usr/local/lib/python3.7/dist-packages (from requests>=2.9.1->turicreate) (2.10)\n",
            "Requirement already satisfied: urllib3!=1.25.0,!=1.25.1,<1.26,>=1.21.1 in /usr/local/lib/python3.7/dist-packages (from requests>=2.9.1->turicreate) (1.24.3)\n",
            "Requirement already satisfied: certifi>=2017.4.17 in /usr/local/lib/python3.7/dist-packages (from requests>=2.9.1->turicreate) (2021.10.8)\n",
            "Requirement already satisfied: astor>=0.6.0 in /usr/local/lib/python3.7/dist-packages (from tensorflow<2.1.0,>=2.0.0->turicreate) (0.8.1)\n",
            "Requirement already satisfied: tensorflow-estimator<2.1.0,>=2.0.0 in /usr/local/lib/python3.7/dist-packages (from tensorflow<2.1.0,>=2.0.0->turicreate) (2.0.1)\n",
            "Requirement already satisfied: keras-preprocessing>=1.0.5 in /usr/local/lib/python3.7/dist-packages (from tensorflow<2.1.0,>=2.0.0->turicreate) (1.1.2)\n",
            "Requirement already satisfied: wrapt>=1.11.1 in /usr/local/lib/python3.7/dist-packages (from tensorflow<2.1.0,>=2.0.0->turicreate) (1.14.0)\n",
            "Requirement already satisfied: keras-applications>=1.0.8 in /usr/local/lib/python3.7/dist-packages (from tensorflow<2.1.0,>=2.0.0->turicreate) (1.0.8)\n",
            "Requirement already satisfied: gast==0.2.2 in /usr/local/lib/python3.7/dist-packages (from tensorflow<2.1.0,>=2.0.0->turicreate) (0.2.2)\n",
            "Requirement already satisfied: google-pasta>=0.1.6 in /usr/local/lib/python3.7/dist-packages (from tensorflow<2.1.0,>=2.0.0->turicreate) (0.2.0)\n",
            "Requirement already satisfied: termcolor>=1.1.0 in /usr/local/lib/python3.7/dist-packages (from tensorflow<2.1.0,>=2.0.0->turicreate) (1.1.0)\n",
            "Requirement already satisfied: tensorboard<2.1.0,>=2.0.0 in /usr/local/lib/python3.7/dist-packages (from tensorflow<2.1.0,>=2.0.0->turicreate) (2.0.2)\n",
            "Requirement already satisfied: wheel>=0.26 in /usr/local/lib/python3.7/dist-packages (from tensorflow<2.1.0,>=2.0.0->turicreate) (0.37.1)\n",
            "Requirement already satisfied: absl-py>=0.7.0 in /usr/local/lib/python3.7/dist-packages (from tensorflow<2.1.0,>=2.0.0->turicreate) (1.0.0)\n",
            "Requirement already satisfied: opt-einsum>=2.3.2 in /usr/local/lib/python3.7/dist-packages (from tensorflow<2.1.0,>=2.0.0->turicreate) (3.3.0)\n",
            "Requirement already satisfied: h5py<=2.10.0 in /usr/local/lib/python3.7/dist-packages (from tensorflow<2.1.0,>=2.0.0->turicreate) (2.10.0)\n",
            "Requirement already satisfied: grpcio>=1.8.6 in /usr/local/lib/python3.7/dist-packages (from tensorflow<2.1.0,>=2.0.0->turicreate) (1.44.0)\n",
            "Requirement already satisfied: google-auth-oauthlib<0.5,>=0.4.1 in /usr/local/lib/python3.7/dist-packages (from tensorboard<2.1.0,>=2.0.0->tensorflow<2.1.0,>=2.0.0->turicreate) (0.4.6)\n",
            "Requirement already satisfied: werkzeug>=0.11.15 in /usr/local/lib/python3.7/dist-packages (from tensorboard<2.1.0,>=2.0.0->tensorflow<2.1.0,>=2.0.0->turicreate) (1.0.1)\n",
            "Requirement already satisfied: google-auth<2,>=1.6.3 in /usr/local/lib/python3.7/dist-packages (from tensorboard<2.1.0,>=2.0.0->tensorflow<2.1.0,>=2.0.0->turicreate) (1.35.0)\n",
            "Requirement already satisfied: markdown>=2.6.8 in /usr/local/lib/python3.7/dist-packages (from tensorboard<2.1.0,>=2.0.0->tensorflow<2.1.0,>=2.0.0->turicreate) (3.3.6)\n",
            "Requirement already satisfied: rsa<5,>=3.1.4 in /usr/local/lib/python3.7/dist-packages (from google-auth<2,>=1.6.3->tensorboard<2.1.0,>=2.0.0->tensorflow<2.1.0,>=2.0.0->turicreate) (4.8)\n",
            "Requirement already satisfied: cachetools<5.0,>=2.0.0 in /usr/local/lib/python3.7/dist-packages (from google-auth<2,>=1.6.3->tensorboard<2.1.0,>=2.0.0->tensorflow<2.1.0,>=2.0.0->turicreate) (4.2.4)\n",
            "Requirement already satisfied: pyasn1-modules>=0.2.1 in /usr/local/lib/python3.7/dist-packages (from google-auth<2,>=1.6.3->tensorboard<2.1.0,>=2.0.0->tensorflow<2.1.0,>=2.0.0->turicreate) (0.2.8)\n",
            "Requirement already satisfied: requests-oauthlib>=0.7.0 in /usr/local/lib/python3.7/dist-packages (from google-auth-oauthlib<0.5,>=0.4.1->tensorboard<2.1.0,>=2.0.0->tensorflow<2.1.0,>=2.0.0->turicreate) (1.3.1)\n",
            "Requirement already satisfied: importlib-metadata>=4.4 in /usr/local/lib/python3.7/dist-packages (from markdown>=2.6.8->tensorboard<2.1.0,>=2.0.0->tensorflow<2.1.0,>=2.0.0->turicreate) (4.11.3)\n",
            "Requirement already satisfied: zipp>=0.5 in /usr/local/lib/python3.7/dist-packages (from importlib-metadata>=4.4->markdown>=2.6.8->tensorboard<2.1.0,>=2.0.0->tensorflow<2.1.0,>=2.0.0->turicreate) (3.8.0)\n",
            "Requirement already satisfied: typing-extensions>=3.6.4 in /usr/local/lib/python3.7/dist-packages (from importlib-metadata>=4.4->markdown>=2.6.8->tensorboard<2.1.0,>=2.0.0->tensorflow<2.1.0,>=2.0.0->turicreate) (4.1.1)\n",
            "Requirement already satisfied: pyasn1<0.5.0,>=0.4.6 in /usr/local/lib/python3.7/dist-packages (from pyasn1-modules>=0.2.1->google-auth<2,>=1.6.3->tensorboard<2.1.0,>=2.0.0->tensorflow<2.1.0,>=2.0.0->turicreate) (0.4.8)\n",
            "Requirement already satisfied: oauthlib>=3.0.0 in /usr/local/lib/python3.7/dist-packages (from requests-oauthlib>=0.7.0->google-auth-oauthlib<0.5,>=0.4.1->tensorboard<2.1.0,>=2.0.0->tensorflow<2.1.0,>=2.0.0->turicreate) (3.2.0)\n"
          ]
        }
      ]
    },
    {
      "cell_type": "code",
      "source": [
        "# Creating a dataset directory\n",
        "!mkdir ./datasets/library-collection\n",
        "\n",
        "# download the dataset from Kaggle and unzip it\n",
        "!kaggle datasets download city-of-seattle/seattle-library-collection-inventory  -f library-collection-inventory.csv -p ./datasets/library-collection/\n",
        "!unzip ./datasets/library-collection/*.zip  -d ./datasets/library-collection\n",
        "!ls ./datasets/library-collection"
      ],
      "metadata": {
        "colab": {
          "base_uri": "https://localhost:8080/"
        },
        "id": "FjXfWAUSDfB1",
        "outputId": "9dbd16bd-53b4-45fd-91da-60cd8f4150fd"
      },
      "execution_count": 18,
      "outputs": [
        {
          "output_type": "stream",
          "name": "stdout",
          "text": [
            "mkdir: cannot create directory ‘./datasets/library-collection’: File exists\n",
            "library-collection-inventory.csv.zip: Skipping, found more recently modified local copy (use --force to force download)\n",
            "Archive:  ./datasets/library-collection/library-collection-inventory.csv.zip\n",
            "replace ./datasets/library-collection/library-collection-inventory.csv? [y]es, [n]o, [A]ll, [N]one, [r]ename: y\n",
            "  inflating: ./datasets/library-collection/library-collection-inventory.csv  y\n",
            "y\n",
            "y\n",
            "y\n",
            "library-collection-inventory.csv  library-collection-inventory.csv.zip\n"
          ]
        }
      ]
    },
    {
      "cell_type": "markdown",
      "metadata": {
        "id": "LG0KyuFD0P2b"
      },
      "source": [
        "**Question 1:** Write a function that returns the most popular book in each subject. Use it to find the most popular book in\n",
        "    the _Mystery Fiction_ subject (15pt)"
      ]
    },
    {
      "cell_type": "code",
      "metadata": {
        "id": "Ub2x4KPX0P2d",
        "colab": {
          "base_uri": "https://localhost:8080/",
          "height": 1000
        },
        "outputId": "de0b3fc1-baee-46e5-d83b-a9a7cf984b65"
      },
      "source": [
        "import turicreate as tc\n",
        "import turicreate.aggregate as agg\n",
        "%matplotlib inline\n",
        "\n",
        "CSV_PATH = \"./datasets/library-collection/library-collection-inventory.csv\"\n",
        "\n",
        "sf = tc.SFrame.read_csv(CSV_PATH)\n",
        "\n",
        "def get_most_popular_book_for_subject(subject):\n",
        "    sf1 = sf[[\"Title\", \"Subjects\"]]\n",
        "    # get all books with given subject in subjects list\n",
        "    sf1 = sf1[sf1[\"Subjects\"].apply(lambda x: subject in x.lower())]\n",
        "    g = sf1.groupby('Title', {'Count': agg.COUNT()})\n",
        "    g = g.sort(\"Count\", ascending=False)\n",
        "    return g[0]\n",
        "\n",
        "\n",
        "get_most_popular_book_for_subject(\"mystery fiction\")\n"
      ],
      "execution_count": 2,
      "outputs": [
        {
          "output_type": "display_data",
          "data": {
            "text/plain": [
              "Successfully parsed 10 tokens: \n",
              "\t0: 735439\n",
              "\t1: [\"Genealog ... t.\",,1947]\n",
              "\t2: \n",
              "\t3: Enloes family\n",
              "\t4: arbk\n",
              "\t5: caref\n",
              "\t6: \n",
              "\t7: cen\n",
              "\t8: 2017-09-01 ... :00:00.000\n",
              "\t9: 1"
            ],
            "text/html": [
              "<pre>Successfully parsed 10 tokens: \n",
              "\t0: 735439\n",
              "\t1: [\"Genealog ... t.\",,1947]\n",
              "\t2: \n",
              "\t3: Enloes family\n",
              "\t4: arbk\n",
              "\t5: caref\n",
              "\t6: \n",
              "\t7: cen\n",
              "\t8: 2017-09-01 ... :00:00.000\n",
              "\t9: 1</pre>"
            ]
          },
          "metadata": {}
        },
        {
          "output_type": "display_data",
          "data": {
            "text/plain": [
              "1 lines failed to parse correctly"
            ],
            "text/html": [
              "<pre>1 lines failed to parse correctly</pre>"
            ]
          },
          "metadata": {}
        },
        {
          "output_type": "display_data",
          "data": {
            "text/plain": [
              "Finished parsing file /content/datasets/library-collection/library-collection-inventory.csv"
            ],
            "text/html": [
              "<pre>Finished parsing file /content/datasets/library-collection/library-collection-inventory.csv</pre>"
            ]
          },
          "metadata": {}
        },
        {
          "output_type": "display_data",
          "data": {
            "text/plain": [
              "Parsing completed. Parsed 100 lines in 2.39211 secs."
            ],
            "text/html": [
              "<pre>Parsing completed. Parsed 100 lines in 2.39211 secs.</pre>"
            ]
          },
          "metadata": {}
        },
        {
          "output_type": "stream",
          "name": "stdout",
          "text": [
            "------------------------------------------------------\n",
            "Inferred types from first 100 line(s) of file as \n",
            "column_type_hints=[int,str,str,str,str,str,str,str,str,str,str,str,int]\n",
            "If parsing fails due to incorrect types, you can correct\n",
            "the inferred type list above and pass it to read_csv in\n",
            "the column_type_hints argument\n",
            "------------------------------------------------------\n"
          ]
        },
        {
          "output_type": "display_data",
          "data": {
            "text/plain": [
              "Successfully parsed 10 tokens: \n",
              "\t0: 735439\n",
              "\t1: [Genealogy ... t.\",,1947]\n",
              "\t2: \n",
              "\t3: Enloes family\n",
              "\t4: arbk\n",
              "\t5: caref\n",
              "\t6: \n",
              "\t7: cen\n",
              "\t8: 2017-09-01 ... :00:00.000\n",
              "\t9: 1"
            ],
            "text/html": [
              "<pre>Successfully parsed 10 tokens: \n",
              "\t0: 735439\n",
              "\t1: [Genealogy ... t.\",,1947]\n",
              "\t2: \n",
              "\t3: Enloes family\n",
              "\t4: arbk\n",
              "\t5: caref\n",
              "\t6: \n",
              "\t7: cen\n",
              "\t8: 2017-09-01 ... :00:00.000\n",
              "\t9: 1</pre>"
            ]
          },
          "metadata": {}
        },
        {
          "output_type": "display_data",
          "data": {
            "text/plain": [
              "Read 158429 lines. Lines per second: 65227"
            ],
            "text/html": [
              "<pre>Read 158429 lines. Lines per second: 65227</pre>"
            ]
          },
          "metadata": {}
        },
        {
          "output_type": "display_data",
          "data": {
            "text/plain": [
              "Read 792246 lines. Lines per second: 103765"
            ],
            "text/html": [
              "<pre>Read 792246 lines. Lines per second: 103765</pre>"
            ]
          },
          "metadata": {}
        },
        {
          "output_type": "display_data",
          "data": {
            "text/plain": [
              "Successfully parsed 9 tokens: \n",
              "\t0: 362786\n",
              "\t1: [Records., ... l Society]\n",
              "\t2: Registers  ... astchester\n",
              "\t3: arbk\n",
              "\t4: caref\n",
              "\t5: \n",
              "\t6: cen\n",
              "\t7: 2017-09-01 ... :00:00.000\n",
              "\t8: 1"
            ],
            "text/html": [
              "<pre>Successfully parsed 9 tokens: \n",
              "\t0: 362786\n",
              "\t1: [Records., ... l Society]\n",
              "\t2: Registers  ... astchester\n",
              "\t3: arbk\n",
              "\t4: caref\n",
              "\t5: \n",
              "\t6: cen\n",
              "\t7: 2017-09-01 ... :00:00.000\n",
              "\t8: 1</pre>"
            ]
          },
          "metadata": {}
        },
        {
          "output_type": "display_data",
          "data": {
            "text/plain": [
              "Successfully parsed 10 tokens: \n",
              "\t0: 28078\n",
              "\t1: [Papers.,\" ... 9)\",,1969]\n",
              "\t2: \n",
              "\t3: Genealogy Congresses\n",
              "\t4: arbk\n",
              "\t5: caref\n",
              "\t6: \n",
              "\t7: cen\n",
              "\t8: 2017-09-01 ... :00:00.000\n",
              "\t9: 6"
            ],
            "text/html": [
              "<pre>Successfully parsed 10 tokens: \n",
              "\t0: 28078\n",
              "\t1: [Papers.,\" ... 9)\",,1969]\n",
              "\t2: \n",
              "\t3: Genealogy Congresses\n",
              "\t4: arbk\n",
              "\t5: caref\n",
              "\t6: \n",
              "\t7: cen\n",
              "\t8: 2017-09-01 ... :00:00.000\n",
              "\t9: 6</pre>"
            ]
          },
          "metadata": {}
        },
        {
          "output_type": "display_data",
          "data": {
            "text/plain": [
              "Read 1425551 lines. Lines per second: 108546"
            ],
            "text/html": [
              "<pre>Read 1425551 lines. Lines per second: 108546</pre>"
            ]
          },
          "metadata": {}
        },
        {
          "output_type": "display_data",
          "data": {
            "text/plain": [
              "Successfully parsed 9 tokens: \n",
              "\t0: 362786\n",
              "\t1: [Records., ... l Society]\n",
              "\t2: Registers  ... astchester\n",
              "\t3: arbk\n",
              "\t4: caref\n",
              "\t5: \n",
              "\t6: cen\n",
              "\t7: 2017-10-01 ... :00:00.000\n",
              "\t8: 1"
            ],
            "text/html": [
              "<pre>Successfully parsed 9 tokens: \n",
              "\t0: 362786\n",
              "\t1: [Records., ... l Society]\n",
              "\t2: Registers  ... astchester\n",
              "\t3: arbk\n",
              "\t4: caref\n",
              "\t5: \n",
              "\t6: cen\n",
              "\t7: 2017-10-01 ... :00:00.000\n",
              "\t8: 1</pre>"
            ]
          },
          "metadata": {}
        },
        {
          "output_type": "display_data",
          "data": {
            "text/plain": [
              "Read 2058239 lines. Lines per second: 109561"
            ],
            "text/html": [
              "<pre>Read 2058239 lines. Lines per second: 109561</pre>"
            ]
          },
          "metadata": {}
        },
        {
          "output_type": "display_data",
          "data": {
            "text/plain": [
              "Successfully parsed 10 tokens: \n",
              "\t0: 735439\n",
              "\t1: [Genealogy ... t.\",,1947]\n",
              "\t2: \n",
              "\t3: Enloes family\n",
              "\t4: arbk\n",
              "\t5: caref\n",
              "\t6: \n",
              "\t7: cen\n",
              "\t8: 2017-10-01 ... :00:00.000\n",
              "\t9: 1"
            ],
            "text/html": [
              "<pre>Successfully parsed 10 tokens: \n",
              "\t0: 735439\n",
              "\t1: [Genealogy ... t.\",,1947]\n",
              "\t2: \n",
              "\t3: Enloes family\n",
              "\t4: arbk\n",
              "\t5: caref\n",
              "\t6: \n",
              "\t7: cen\n",
              "\t8: 2017-10-01 ... :00:00.000\n",
              "\t9: 1</pre>"
            ]
          },
          "metadata": {}
        },
        {
          "output_type": "display_data",
          "data": {
            "text/plain": [
              "Successfully parsed 10 tokens: \n",
              "\t0: 28078\n",
              "\t1: [Papers.,\" ... 9)\",,1969]\n",
              "\t2: \n",
              "\t3: Genealogy Congresses\n",
              "\t4: arbk\n",
              "\t5: caref\n",
              "\t6: \n",
              "\t7: cen\n",
              "\t8: 2017-10-01 ... :00:00.000\n",
              "\t9: 6"
            ],
            "text/html": [
              "<pre>Successfully parsed 10 tokens: \n",
              "\t0: 28078\n",
              "\t1: [Papers.,\" ... 9)\",,1969]\n",
              "\t2: \n",
              "\t3: Genealogy Congresses\n",
              "\t4: arbk\n",
              "\t5: caref\n",
              "\t6: \n",
              "\t7: cen\n",
              "\t8: 2017-10-01 ... :00:00.000\n",
              "\t9: 6</pre>"
            ]
          },
          "metadata": {}
        },
        {
          "output_type": "display_data",
          "data": {
            "text/plain": [
              "Successfully parsed 10 tokens: \n",
              "\t0: 735439\n",
              "\t1: [Genealogy ... t.\",,1947]\n",
              "\t2: \n",
              "\t3: Enloes family\n",
              "\t4: arbk\n",
              "\t5: caref\n",
              "\t6: \n",
              "\t7: cen\n",
              "\t8: 2017-11-01 ... :00:00.000\n",
              "\t9: 1"
            ],
            "text/html": [
              "<pre>Successfully parsed 10 tokens: \n",
              "\t0: 735439\n",
              "\t1: [Genealogy ... t.\",,1947]\n",
              "\t2: \n",
              "\t3: Enloes family\n",
              "\t4: arbk\n",
              "\t5: caref\n",
              "\t6: \n",
              "\t7: cen\n",
              "\t8: 2017-11-01 ... :00:00.000\n",
              "\t9: 1</pre>"
            ]
          },
          "metadata": {}
        },
        {
          "output_type": "display_data",
          "data": {
            "text/plain": [
              "Read 2691263 lines. Lines per second: 111221"
            ],
            "text/html": [
              "<pre>Read 2691263 lines. Lines per second: 111221</pre>"
            ]
          },
          "metadata": {}
        },
        {
          "output_type": "display_data",
          "data": {
            "text/plain": [
              "Successfully parsed 10 tokens: \n",
              "\t0: 28078\n",
              "\t1: [Papers.,\" ... 9)\",,1969]\n",
              "\t2: \n",
              "\t3: Genealogy Congresses\n",
              "\t4: arbk\n",
              "\t5: caref\n",
              "\t6: \n",
              "\t7: cen\n",
              "\t8: 2017-11-01 ... :00:00.000\n",
              "\t9: 6"
            ],
            "text/html": [
              "<pre>Successfully parsed 10 tokens: \n",
              "\t0: 28078\n",
              "\t1: [Papers.,\" ... 9)\",,1969]\n",
              "\t2: \n",
              "\t3: Genealogy Congresses\n",
              "\t4: arbk\n",
              "\t5: caref\n",
              "\t6: \n",
              "\t7: cen\n",
              "\t8: 2017-11-01 ... :00:00.000\n",
              "\t9: 6</pre>"
            ]
          },
          "metadata": {}
        },
        {
          "output_type": "display_data",
          "data": {
            "text/plain": [
              "Read 3323492 lines. Lines per second: 108478"
            ],
            "text/html": [
              "<pre>Read 3323492 lines. Lines per second: 108478</pre>"
            ]
          },
          "metadata": {}
        },
        {
          "output_type": "display_data",
          "data": {
            "text/plain": [
              "Successfully parsed 9 tokens: \n",
              "\t0: 362786\n",
              "\t1: [Records., ... l Society]\n",
              "\t2: Registers  ... astchester\n",
              "\t3: arbk\n",
              "\t4: caref\n",
              "\t5: \n",
              "\t6: cen\n",
              "\t7: 2017-11-01 ... :00:00.000\n",
              "\t8: 1"
            ],
            "text/html": [
              "<pre>Successfully parsed 9 tokens: \n",
              "\t0: 362786\n",
              "\t1: [Records., ... l Society]\n",
              "\t2: Registers  ... astchester\n",
              "\t3: arbk\n",
              "\t4: caref\n",
              "\t5: \n",
              "\t6: cen\n",
              "\t7: 2017-11-01 ... :00:00.000\n",
              "\t8: 1</pre>"
            ]
          },
          "metadata": {}
        },
        {
          "output_type": "display_data",
          "data": {
            "text/plain": [
              "Read 3955167 lines. Lines per second: 106887"
            ],
            "text/html": [
              "<pre>Read 3955167 lines. Lines per second: 106887</pre>"
            ]
          },
          "metadata": {}
        },
        {
          "output_type": "display_data",
          "data": {
            "text/plain": [
              "Read 4599080 lines. Lines per second: 106113"
            ],
            "text/html": [
              "<pre>Read 4599080 lines. Lines per second: 106113</pre>"
            ]
          },
          "metadata": {}
        },
        {
          "output_type": "display_data",
          "data": {
            "text/plain": [
              "Read 5244354 lines. Lines per second: 105690"
            ],
            "text/html": [
              "<pre>Read 5244354 lines. Lines per second: 105690</pre>"
            ]
          },
          "metadata": {}
        },
        {
          "output_type": "display_data",
          "data": {
            "text/plain": [
              "Read 5888741 lines. Lines per second: 105262"
            ],
            "text/html": [
              "<pre>Read 5888741 lines. Lines per second: 105262</pre>"
            ]
          },
          "metadata": {}
        },
        {
          "output_type": "display_data",
          "data": {
            "text/plain": [
              "Read 6533079 lines. Lines per second: 102973"
            ],
            "text/html": [
              "<pre>Read 6533079 lines. Lines per second: 102973</pre>"
            ]
          },
          "metadata": {}
        },
        {
          "output_type": "display_data",
          "data": {
            "text/plain": [
              "Read 7176009 lines. Lines per second: 102852"
            ],
            "text/html": [
              "<pre>Read 7176009 lines. Lines per second: 102852</pre>"
            ]
          },
          "metadata": {}
        },
        {
          "output_type": "display_data",
          "data": {
            "text/plain": [
              "Read 7818996 lines. Lines per second: 102727"
            ],
            "text/html": [
              "<pre>Read 7818996 lines. Lines per second: 102727</pre>"
            ]
          },
          "metadata": {}
        },
        {
          "output_type": "display_data",
          "data": {
            "text/plain": [
              "Read 8300537 lines. Lines per second: 100694"
            ],
            "text/html": [
              "<pre>Read 8300537 lines. Lines per second: 100694</pre>"
            ]
          },
          "metadata": {}
        },
        {
          "output_type": "display_data",
          "data": {
            "text/plain": [
              "Read 8942541 lines. Lines per second: 100825"
            ],
            "text/html": [
              "<pre>Read 8942541 lines. Lines per second: 100825</pre>"
            ]
          },
          "metadata": {}
        },
        {
          "output_type": "display_data",
          "data": {
            "text/plain": [
              "Read 9584241 lines. Lines per second: 100769"
            ],
            "text/html": [
              "<pre>Read 9584241 lines. Lines per second: 100769</pre>"
            ]
          },
          "metadata": {}
        },
        {
          "output_type": "display_data",
          "data": {
            "text/plain": [
              "Read 10225169 lines. Lines per second: 100862"
            ],
            "text/html": [
              "<pre>Read 10225169 lines. Lines per second: 100862</pre>"
            ]
          },
          "metadata": {}
        },
        {
          "output_type": "display_data",
          "data": {
            "text/plain": [
              "Read 10706084 lines. Lines per second: 100681"
            ],
            "text/html": [
              "<pre>Read 10706084 lines. Lines per second: 100681</pre>"
            ]
          },
          "metadata": {}
        },
        {
          "output_type": "display_data",
          "data": {
            "text/plain": [
              "Read 11186676 lines. Lines per second: 100361"
            ],
            "text/html": [
              "<pre>Read 11186676 lines. Lines per second: 100361</pre>"
            ]
          },
          "metadata": {}
        },
        {
          "output_type": "display_data",
          "data": {
            "text/plain": [
              "Read 11826794 lines. Lines per second: 100313"
            ],
            "text/html": [
              "<pre>Read 11826794 lines. Lines per second: 100313</pre>"
            ]
          },
          "metadata": {}
        },
        {
          "output_type": "display_data",
          "data": {
            "text/plain": [
              "Read 12466427 lines. Lines per second: 100393"
            ],
            "text/html": [
              "<pre>Read 12466427 lines. Lines per second: 100393</pre>"
            ]
          },
          "metadata": {}
        },
        {
          "output_type": "display_data",
          "data": {
            "text/plain": [
              "Read 13105967 lines. Lines per second: 99484.9"
            ],
            "text/html": [
              "<pre>Read 13105967 lines. Lines per second: 99484.9</pre>"
            ]
          },
          "metadata": {}
        },
        {
          "output_type": "display_data",
          "data": {
            "text/plain": [
              "Successfully parsed 7 tokens: \n",
              "\t0: 3057509\n",
              "\t1: Noragami : ... lakeslee].\n",
              "\t2: Adachi, Toka\n",
              "\t3: 1612629083 ... 1612629087\n",
              "\t4: [2014]\n",
              "\t5: Kodansha Comics,\n",
              "\t6: \"Gods Comi ... behavior C"
            ],
            "text/html": [
              "<pre>Successfully parsed 7 tokens: \n",
              "\t0: 3057509\n",
              "\t1: Noragami : ... lakeslee].\n",
              "\t2: Adachi, Toka\n",
              "\t3: 1612629083 ... 1612629087\n",
              "\t4: [2014]\n",
              "\t5: Kodansha Comics,\n",
              "\t6: \"Gods Comi ... behavior C</pre>"
            ]
          },
          "metadata": {}
        },
        {
          "output_type": "display_data",
          "data": {
            "text/plain": [
              "Read 13744955 lines. Lines per second: 100066"
            ],
            "text/html": [
              "<pre>Read 13744955 lines. Lines per second: 100066</pre>"
            ]
          },
          "metadata": {}
        },
        {
          "output_type": "display_data",
          "data": {
            "text/plain": [
              "10 lines failed to parse correctly"
            ],
            "text/html": [
              "<pre>10 lines failed to parse correctly</pre>"
            ]
          },
          "metadata": {}
        },
        {
          "output_type": "display_data",
          "data": {
            "text/plain": [
              "Finished parsing file /content/datasets/library-collection/library-collection-inventory.csv"
            ],
            "text/html": [
              "<pre>Finished parsing file /content/datasets/library-collection/library-collection-inventory.csv</pre>"
            ]
          },
          "metadata": {}
        },
        {
          "output_type": "display_data",
          "data": {
            "text/plain": [
              "Parsing completed. Parsed 13787314 lines in 137.506 secs."
            ],
            "text/html": [
              "<pre>Parsing completed. Parsed 13787314 lines in 137.506 secs.</pre>"
            ]
          },
          "metadata": {}
        },
        {
          "output_type": "execute_result",
          "data": {
            "text/plain": [
              "{'Count': 594, 'Title': 'The late show / Michael Connelly.'}"
            ]
          },
          "metadata": {},
          "execution_count": 2
        }
      ]
    },
    {
      "cell_type": "markdown",
      "metadata": {
        "id": "31NZ1B3S0P2i"
      },
      "source": [
        "**Question 2**: Find the top-10 fiction subjects (5pt), and use Seaborn to visualize the number of items over time for each subject (15pt)\n",
        "    "
      ]
    },
    {
      "cell_type": "code",
      "metadata": {
        "id": "keOHakis0P2j",
        "colab": {
          "base_uri": "https://localhost:8080/"
        },
        "outputId": "ab1bd897-eaa6-4b9a-cf48-ad7d81c2042d"
      },
      "source": [
        "sf2 = sf\n",
        "sf2[\"Subjects\"] = sf2[\"Subjects\"].apply(lambda x: x.lower())\n",
        "# every element in subjects col is now a list\n",
        "sf2[\"Subjects\"] = sf2[\"Subjects\"].apply(lambda x: x.split(\",\"))\n",
        "# separate subjects to different rows\n",
        "sf2 = sf2.stack(\"Subjects\",  new_column_name='Subject')\n",
        "# remove all subjects that are not fiction related\n",
        "sf2 = sf2[sf2[\"Subject\"].apply(lambda x: \"fiction\" in x)]\n",
        "g = sf2.groupby('Subject', {'Count': agg.COUNT()})\n",
        "g_top10 = g.sort(\"Count\", ascending=False)[:10]\n",
        "print(g_top10)"
      ],
      "execution_count": 3,
      "outputs": [
        {
          "output_type": "stream",
          "name": "stdout",
          "text": [
            "+--------------------------------+--------+\n",
            "|            Subject             | Count  |\n",
            "+--------------------------------+--------+\n",
            "|          fiction films         | 484891 |\n",
            "|         mystery fiction        | 336042 |\n",
            "|       historical fiction       | 273168 |\n",
            "|   fiction television programs  | 263729 |\n",
            "|         fantasy fiction        | 199756 |\n",
            "|  detective and mystery fiction | 181526 |\n",
            "|        suspense fiction        | 175299 |\n",
            "|         science fiction        | 158206 |\n",
            "|        domestic fiction        | 146688 |\n",
            "|   friendship juvenile fiction  | 143905 |\n",
            "+--------------------------------+--------+\n",
            "[10 rows x 2 columns]\n",
            "\n"
          ]
        }
      ]
    },
    {
      "cell_type": "code",
      "source": [
        "import re\n",
        "import seaborn as sns\n",
        "import matplotlib.pyplot as plt\n",
        "\n",
        "r = re.compile('\\\\d{4}')\n",
        "def get_year(y_str):\n",
        "    l = r.findall(y_str) # take the first year\n",
        "    if len(l) == 0:\n",
        "        return None\n",
        "    return int(l[0])\n",
        "\n",
        "sf2['Year'] = sf2['PublicationYear'].apply(lambda s: get_year(s))\n",
        "\n",
        "sns.set(rc={'figure.figsize':(10,7)}) # set figure size\n",
        "color_pallete = dict(zip(g_top10[\"Subject\"], sns.color_palette(\"hls\", 10)))\n",
        "\n",
        "for idx, subject in enumerate(g_top10[\"Subject\"]):\n",
        "    subject_by_year = sf2[sf2[\"Subject\"] == subject]\n",
        "    subject_by_year = subject_by_year.groupby('Year', {'Count': agg.COUNT()})\n",
        "    subject_by_year[\"Subject\"] = subject\n",
        "    subject_by_year = subject_by_year.to_dataframe()\n",
        "    s = sns.lineplot(x=\"Year\", y=\"Count\", hue=\"Subject\", data=subject_by_year, palette=color_pallete)\n",
        "\n",
        "plt.xlim(2000,2022)\n",
        "s.set_title(\"Subjects Count on Year\", fontsize=16)\n",
        "s.set_ylabel(\"Count\", fontsize=15)\n",
        "s.set_xlabel(\"Year\",  fontsize=15)"
      ],
      "metadata": {
        "colab": {
          "base_uri": "https://localhost:8080/",
          "height": 485
        },
        "id": "IXzYK2JPR6F6",
        "outputId": "2ef7b510-2533-4356-e317-5659795f93fe"
      },
      "execution_count": 21,
      "outputs": [
        {
          "output_type": "execute_result",
          "data": {
            "text/plain": [
              "Text(0.5, 0, 'Year')"
            ]
          },
          "metadata": {},
          "execution_count": 21
        },
        {
          "output_type": "display_data",
          "data": {
            "text/plain": [
              "<Figure size 720x504 with 1 Axes>"
            ],
            "image/png": "[encoded data removed]"
          },
          "metadata": {}
        }
      ]
    },
    {
      "cell_type": "markdown",
      "metadata": {
        "id": "WlbdMR3m0P2n"
      },
      "source": [
        "**Question 3:** Write a function that gets as input a subject name. The function returns the top-20 most _popular_ authors for the input subject (15pt).\n",
        "\n"
      ]
    },
    {
      "cell_type": "code",
      "metadata": {
        "id": "WXaxnXmr0P2o",
        "colab": {
          "base_uri": "https://localhost:8080/",
          "height": 1000
        },
        "outputId": "da9aba39-5534-4de2-c5fe-a635954a8d63"
      },
      "source": [
        "def  get_top_20_most_popular_authors(subject):\n",
        "    sf3 = tc.SFrame.read_csv(\"./datasets/library-collection/library-collection-inventory.csv\")\n",
        "    sf3=sf3.dropna(columns=[\"Author\"])\n",
        "    sf3 = sf3[sf3[\"Subjects\"].apply(lambda x: subject.lower() in x.lower())]\n",
        "    \n",
        "    g = sf3.groupby('Author', {'Count': agg.COUNT()})\n",
        "    g = g.sort(\"Count\", ascending=False)\n",
        "    return g[1:21]\n",
        "\n",
        "get_top_20_most_popular_authors(\"Fiction Films\")\n",
        "\n"
      ],
      "execution_count": 7,
      "outputs": [
        {
          "output_type": "display_data",
          "data": {
            "text/plain": [
              "Successfully parsed 10 tokens: \n",
              "\t0: 735439\n",
              "\t1: [\"Genealog ... t.\",,1947]\n",
              "\t2: \n",
              "\t3: Enloes family\n",
              "\t4: arbk\n",
              "\t5: caref\n",
              "\t6: \n",
              "\t7: cen\n",
              "\t8: 2017-09-01 ... :00:00.000\n",
              "\t9: 1"
            ],
            "text/html": [
              "<pre>Successfully parsed 10 tokens: \n",
              "\t0: 735439\n",
              "\t1: [\"Genealog ... t.\",,1947]\n",
              "\t2: \n",
              "\t3: Enloes family\n",
              "\t4: arbk\n",
              "\t5: caref\n",
              "\t6: \n",
              "\t7: cen\n",
              "\t8: 2017-09-01 ... :00:00.000\n",
              "\t9: 1</pre>"
            ]
          },
          "metadata": {}
        },
        {
          "output_type": "display_data",
          "data": {
            "text/plain": [
              "1 lines failed to parse correctly"
            ],
            "text/html": [
              "<pre>1 lines failed to parse correctly</pre>"
            ]
          },
          "metadata": {}
        },
        {
          "output_type": "display_data",
          "data": {
            "text/plain": [
              "Finished parsing file /content/datasets/library-collection/library-collection-inventory.csv"
            ],
            "text/html": [
              "<pre>Finished parsing file /content/datasets/library-collection/library-collection-inventory.csv</pre>"
            ]
          },
          "metadata": {}
        },
        {
          "output_type": "display_data",
          "data": {
            "text/plain": [
              "Parsing completed. Parsed 100 lines in 1.95228 secs."
            ],
            "text/html": [
              "<pre>Parsing completed. Parsed 100 lines in 1.95228 secs.</pre>"
            ]
          },
          "metadata": {}
        },
        {
          "output_type": "stream",
          "name": "stdout",
          "text": [
            "------------------------------------------------------\n",
            "Inferred types from first 100 line(s) of file as \n",
            "column_type_hints=[int,str,str,str,str,str,str,str,str,str,str,str,int]\n",
            "If parsing fails due to incorrect types, you can correct\n",
            "the inferred type list above and pass it to read_csv in\n",
            "the column_type_hints argument\n",
            "------------------------------------------------------\n"
          ]
        },
        {
          "output_type": "display_data",
          "data": {
            "text/plain": [
              "Successfully parsed 10 tokens: \n",
              "\t0: 735439\n",
              "\t1: [Genealogy ... t.\",,1947]\n",
              "\t2: \n",
              "\t3: Enloes family\n",
              "\t4: arbk\n",
              "\t5: caref\n",
              "\t6: \n",
              "\t7: cen\n",
              "\t8: 2017-09-01 ... :00:00.000\n",
              "\t9: 1"
            ],
            "text/html": [
              "<pre>Successfully parsed 10 tokens: \n",
              "\t0: 735439\n",
              "\t1: [Genealogy ... t.\",,1947]\n",
              "\t2: \n",
              "\t3: Enloes family\n",
              "\t4: arbk\n",
              "\t5: caref\n",
              "\t6: \n",
              "\t7: cen\n",
              "\t8: 2017-09-01 ... :00:00.000\n",
              "\t9: 1</pre>"
            ]
          },
          "metadata": {}
        },
        {
          "output_type": "display_data",
          "data": {
            "text/plain": [
              "Read 158429 lines. Lines per second: 70443.5"
            ],
            "text/html": [
              "<pre>Read 158429 lines. Lines per second: 70443.5</pre>"
            ]
          },
          "metadata": {}
        },
        {
          "output_type": "display_data",
          "data": {
            "text/plain": [
              "Read 792246 lines. Lines per second: 97279.5"
            ],
            "text/html": [
              "<pre>Read 792246 lines. Lines per second: 97279.5</pre>"
            ]
          },
          "metadata": {}
        },
        {
          "output_type": "display_data",
          "data": {
            "text/plain": [
              "Successfully parsed 9 tokens: \n",
              "\t0: 362786\n",
              "\t1: [Records., ... l Society]\n",
              "\t2: Registers  ... astchester\n",
              "\t3: arbk\n",
              "\t4: caref\n",
              "\t5: \n",
              "\t6: cen\n",
              "\t7: 2017-09-01 ... :00:00.000\n",
              "\t8: 1"
            ],
            "text/html": [
              "<pre>Successfully parsed 9 tokens: \n",
              "\t0: 362786\n",
              "\t1: [Records., ... l Society]\n",
              "\t2: Registers  ... astchester\n",
              "\t3: arbk\n",
              "\t4: caref\n",
              "\t5: \n",
              "\t6: cen\n",
              "\t7: 2017-09-01 ... :00:00.000\n",
              "\t8: 1</pre>"
            ]
          },
          "metadata": {}
        },
        {
          "output_type": "display_data",
          "data": {
            "text/plain": [
              "Successfully parsed 10 tokens: \n",
              "\t0: 28078\n",
              "\t1: [Papers.,\" ... 9)\",,1969]\n",
              "\t2: \n",
              "\t3: Genealogy Congresses\n",
              "\t4: arbk\n",
              "\t5: caref\n",
              "\t6: \n",
              "\t7: cen\n",
              "\t8: 2017-09-01 ... :00:00.000\n",
              "\t9: 6"
            ],
            "text/html": [
              "<pre>Successfully parsed 10 tokens: \n",
              "\t0: 28078\n",
              "\t1: [Papers.,\" ... 9)\",,1969]\n",
              "\t2: \n",
              "\t3: Genealogy Congresses\n",
              "\t4: arbk\n",
              "\t5: caref\n",
              "\t6: \n",
              "\t7: cen\n",
              "\t8: 2017-09-01 ... :00:00.000\n",
              "\t9: 6</pre>"
            ]
          },
          "metadata": {}
        },
        {
          "output_type": "display_data",
          "data": {
            "text/plain": [
              "Read 1267346 lines. Lines per second: 77496.8"
            ],
            "text/html": [
              "<pre>Read 1267346 lines. Lines per second: 77496.8</pre>"
            ]
          },
          "metadata": {}
        },
        {
          "output_type": "display_data",
          "data": {
            "text/plain": [
              "Successfully parsed 9 tokens: \n",
              "\t0: 362786\n",
              "\t1: [Records., ... l Society]\n",
              "\t2: Registers  ... astchester\n",
              "\t3: arbk\n",
              "\t4: caref\n",
              "\t5: \n",
              "\t6: cen\n",
              "\t7: 2017-10-01 ... :00:00.000\n",
              "\t8: 1"
            ],
            "text/html": [
              "<pre>Successfully parsed 9 tokens: \n",
              "\t0: 362786\n",
              "\t1: [Records., ... l Society]\n",
              "\t2: Registers  ... astchester\n",
              "\t3: arbk\n",
              "\t4: caref\n",
              "\t5: \n",
              "\t6: cen\n",
              "\t7: 2017-10-01 ... :00:00.000\n",
              "\t8: 1</pre>"
            ]
          },
          "metadata": {}
        },
        {
          "output_type": "display_data",
          "data": {
            "text/plain": [
              "Read 1900152 lines. Lines per second: 84090.8"
            ],
            "text/html": [
              "<pre>Read 1900152 lines. Lines per second: 84090.8</pre>"
            ]
          },
          "metadata": {}
        },
        {
          "output_type": "display_data",
          "data": {
            "text/plain": [
              "Successfully parsed 10 tokens: \n",
              "\t0: 735439\n",
              "\t1: [Genealogy ... t.\",,1947]\n",
              "\t2: \n",
              "\t3: Enloes family\n",
              "\t4: arbk\n",
              "\t5: caref\n",
              "\t6: \n",
              "\t7: cen\n",
              "\t8: 2017-10-01 ... :00:00.000\n",
              "\t9: 1"
            ],
            "text/html": [
              "<pre>Successfully parsed 10 tokens: \n",
              "\t0: 735439\n",
              "\t1: [Genealogy ... t.\",,1947]\n",
              "\t2: \n",
              "\t3: Enloes family\n",
              "\t4: arbk\n",
              "\t5: caref\n",
              "\t6: \n",
              "\t7: cen\n",
              "\t8: 2017-10-01 ... :00:00.000\n",
              "\t9: 1</pre>"
            ]
          },
          "metadata": {}
        },
        {
          "output_type": "display_data",
          "data": {
            "text/plain": [
              "Successfully parsed 10 tokens: \n",
              "\t0: 28078\n",
              "\t1: [Papers.,\" ... 9)\",,1969]\n",
              "\t2: \n",
              "\t3: Genealogy Congresses\n",
              "\t4: arbk\n",
              "\t5: caref\n",
              "\t6: \n",
              "\t7: cen\n",
              "\t8: 2017-10-01 ... :00:00.000\n",
              "\t9: 6"
            ],
            "text/html": [
              "<pre>Successfully parsed 10 tokens: \n",
              "\t0: 28078\n",
              "\t1: [Papers.,\" ... 9)\",,1969]\n",
              "\t2: \n",
              "\t3: Genealogy Congresses\n",
              "\t4: arbk\n",
              "\t5: caref\n",
              "\t6: \n",
              "\t7: cen\n",
              "\t8: 2017-10-01 ... :00:00.000\n",
              "\t9: 6</pre>"
            ]
          },
          "metadata": {}
        },
        {
          "output_type": "display_data",
          "data": {
            "text/plain": [
              "Successfully parsed 10 tokens: \n",
              "\t0: 735439\n",
              "\t1: [Genealogy ... t.\",,1947]\n",
              "\t2: \n",
              "\t3: Enloes family\n",
              "\t4: arbk\n",
              "\t5: caref\n",
              "\t6: \n",
              "\t7: cen\n",
              "\t8: 2017-11-01 ... :00:00.000\n",
              "\t9: 1"
            ],
            "text/html": [
              "<pre>Successfully parsed 10 tokens: \n",
              "\t0: 735439\n",
              "\t1: [Genealogy ... t.\",,1947]\n",
              "\t2: \n",
              "\t3: Enloes family\n",
              "\t4: arbk\n",
              "\t5: caref\n",
              "\t6: \n",
              "\t7: cen\n",
              "\t8: 2017-11-01 ... :00:00.000\n",
              "\t9: 1</pre>"
            ]
          },
          "metadata": {}
        },
        {
          "output_type": "display_data",
          "data": {
            "text/plain": [
              "Read 2532886 lines. Lines per second: 88635.5"
            ],
            "text/html": [
              "<pre>Read 2532886 lines. Lines per second: 88635.5</pre>"
            ]
          },
          "metadata": {}
        },
        {
          "output_type": "display_data",
          "data": {
            "text/plain": [
              "Successfully parsed 10 tokens: \n",
              "\t0: 28078\n",
              "\t1: [Papers.,\" ... 9)\",,1969]\n",
              "\t2: \n",
              "\t3: Genealogy Congresses\n",
              "\t4: arbk\n",
              "\t5: caref\n",
              "\t6: \n",
              "\t7: cen\n",
              "\t8: 2017-11-01 ... :00:00.000\n",
              "\t9: 6"
            ],
            "text/html": [
              "<pre>Successfully parsed 10 tokens: \n",
              "\t0: 28078\n",
              "\t1: [Papers.,\" ... 9)\",,1969]\n",
              "\t2: \n",
              "\t3: Genealogy Congresses\n",
              "\t4: arbk\n",
              "\t5: caref\n",
              "\t6: \n",
              "\t7: cen\n",
              "\t8: 2017-11-01 ... :00:00.000\n",
              "\t9: 6</pre>"
            ]
          },
          "metadata": {}
        },
        {
          "output_type": "display_data",
          "data": {
            "text/plain": [
              "Read 3165179 lines. Lines per second: 91602.5"
            ],
            "text/html": [
              "<pre>Read 3165179 lines. Lines per second: 91602.5</pre>"
            ]
          },
          "metadata": {}
        },
        {
          "output_type": "display_data",
          "data": {
            "text/plain": [
              "Successfully parsed 9 tokens: \n",
              "\t0: 362786\n",
              "\t1: [Records., ... l Society]\n",
              "\t2: Registers  ... astchester\n",
              "\t3: arbk\n",
              "\t4: caref\n",
              "\t5: \n",
              "\t6: cen\n",
              "\t7: 2017-11-01 ... :00:00.000\n",
              "\t8: 1"
            ],
            "text/html": [
              "<pre>Successfully parsed 9 tokens: \n",
              "\t0: 362786\n",
              "\t1: [Records., ... l Society]\n",
              "\t2: Registers  ... astchester\n",
              "\t3: arbk\n",
              "\t4: caref\n",
              "\t5: \n",
              "\t6: cen\n",
              "\t7: 2017-11-01 ... :00:00.000\n",
              "\t8: 1</pre>"
            ]
          },
          "metadata": {}
        },
        {
          "output_type": "display_data",
          "data": {
            "text/plain": [
              "Read 3639571 lines. Lines per second: 91509.9"
            ],
            "text/html": [
              "<pre>Read 3639571 lines. Lines per second: 91509.9</pre>"
            ]
          },
          "metadata": {}
        },
        {
          "output_type": "display_data",
          "data": {
            "text/plain": [
              "Read 4276116 lines. Lines per second: 93646.2"
            ],
            "text/html": [
              "<pre>Read 4276116 lines. Lines per second: 93646.2</pre>"
            ]
          },
          "metadata": {}
        },
        {
          "output_type": "display_data",
          "data": {
            "text/plain": [
              "Read 4921517 lines. Lines per second: 95204.1"
            ],
            "text/html": [
              "<pre>Read 4921517 lines. Lines per second: 95204.1</pre>"
            ]
          },
          "metadata": {}
        },
        {
          "output_type": "display_data",
          "data": {
            "text/plain": [
              "Read 5566492 lines. Lines per second: 95641"
            ],
            "text/html": [
              "<pre>Read 5566492 lines. Lines per second: 95641</pre>"
            ]
          },
          "metadata": {}
        },
        {
          "output_type": "display_data",
          "data": {
            "text/plain": [
              "Read 6210933 lines. Lines per second: 96757.9"
            ],
            "text/html": [
              "<pre>Read 6210933 lines. Lines per second: 96757.9</pre>"
            ]
          },
          "metadata": {}
        },
        {
          "output_type": "display_data",
          "data": {
            "text/plain": [
              "Read 6694080 lines. Lines per second: 96677.2"
            ],
            "text/html": [
              "<pre>Read 6694080 lines. Lines per second: 96677.2</pre>"
            ]
          },
          "metadata": {}
        },
        {
          "output_type": "display_data",
          "data": {
            "text/plain": [
              "Read 7176009 lines. Lines per second: 96108.8"
            ],
            "text/html": [
              "<pre>Read 7176009 lines. Lines per second: 96108.8</pre>"
            ]
          },
          "metadata": {}
        },
        {
          "output_type": "display_data",
          "data": {
            "text/plain": [
              "Read 7658012 lines. Lines per second: 92013.1"
            ],
            "text/html": [
              "<pre>Read 7658012 lines. Lines per second: 92013.1</pre>"
            ]
          },
          "metadata": {}
        },
        {
          "output_type": "display_data",
          "data": {
            "text/plain": [
              "Read 8300537 lines. Lines per second: 92545.5"
            ],
            "text/html": [
              "<pre>Read 8300537 lines. Lines per second: 92545.5</pre>"
            ]
          },
          "metadata": {}
        },
        {
          "output_type": "display_data",
          "data": {
            "text/plain": [
              "Read 8782147 lines. Lines per second: 92691.1"
            ],
            "text/html": [
              "<pre>Read 8782147 lines. Lines per second: 92691.1</pre>"
            ]
          },
          "metadata": {}
        },
        {
          "output_type": "display_data",
          "data": {
            "text/plain": [
              "Read 9263355 lines. Lines per second: 92675.8"
            ],
            "text/html": [
              "<pre>Read 9263355 lines. Lines per second: 92675.8</pre>"
            ]
          },
          "metadata": {}
        },
        {
          "output_type": "display_data",
          "data": {
            "text/plain": [
              "Read 9744360 lines. Lines per second: 92511.3"
            ],
            "text/html": [
              "<pre>Read 9744360 lines. Lines per second: 92511.3</pre>"
            ]
          },
          "metadata": {}
        },
        {
          "output_type": "display_data",
          "data": {
            "text/plain": [
              "Read 10385547 lines. Lines per second: 92517.1"
            ],
            "text/html": [
              "<pre>Read 10385547 lines. Lines per second: 92517.1</pre>"
            ]
          },
          "metadata": {}
        },
        {
          "output_type": "display_data",
          "data": {
            "text/plain": [
              "Read 11026493 lines. Lines per second: 92736.9"
            ],
            "text/html": [
              "<pre>Read 11026493 lines. Lines per second: 92736.9</pre>"
            ]
          },
          "metadata": {}
        },
        {
          "output_type": "display_data",
          "data": {
            "text/plain": [
              "Read 11506803 lines. Lines per second: 92905.9"
            ],
            "text/html": [
              "<pre>Read 11506803 lines. Lines per second: 92905.9</pre>"
            ]
          },
          "metadata": {}
        },
        {
          "output_type": "display_data",
          "data": {
            "text/plain": [
              "Read 11986830 lines. Lines per second: 93021.9"
            ],
            "text/html": [
              "<pre>Read 11986830 lines. Lines per second: 93021.9</pre>"
            ]
          },
          "metadata": {}
        },
        {
          "output_type": "display_data",
          "data": {
            "text/plain": [
              "Read 12466427 lines. Lines per second: 93155.5"
            ],
            "text/html": [
              "<pre>Read 12466427 lines. Lines per second: 93155.5</pre>"
            ]
          },
          "metadata": {}
        },
        {
          "output_type": "display_data",
          "data": {
            "text/plain": [
              "Read 13105967 lines. Lines per second: 93410.4"
            ],
            "text/html": [
              "<pre>Read 13105967 lines. Lines per second: 93410.4</pre>"
            ]
          },
          "metadata": {}
        },
        {
          "output_type": "display_data",
          "data": {
            "text/plain": [
              "Successfully parsed 7 tokens: \n",
              "\t0: 3057509\n",
              "\t1: Noragami : ... lakeslee].\n",
              "\t2: Adachi, Toka\n",
              "\t3: 1612629083 ... 1612629087\n",
              "\t4: [2014]\n",
              "\t5: Kodansha Comics,\n",
              "\t6: \"Gods Comi ... behavior C"
            ],
            "text/html": [
              "<pre>Successfully parsed 7 tokens: \n",
              "\t0: 3057509\n",
              "\t1: Noragami : ... lakeslee].\n",
              "\t2: Adachi, Toka\n",
              "\t3: 1612629083 ... 1612629087\n",
              "\t4: [2014]\n",
              "\t5: Kodansha Comics,\n",
              "\t6: \"Gods Comi ... behavior C</pre>"
            ]
          },
          "metadata": {}
        },
        {
          "output_type": "display_data",
          "data": {
            "text/plain": [
              "Read 13744955 lines. Lines per second: 94184.2"
            ],
            "text/html": [
              "<pre>Read 13744955 lines. Lines per second: 94184.2</pre>"
            ]
          },
          "metadata": {}
        },
        {
          "output_type": "display_data",
          "data": {
            "text/plain": [
              "10 lines failed to parse correctly"
            ],
            "text/html": [
              "<pre>10 lines failed to parse correctly</pre>"
            ]
          },
          "metadata": {}
        },
        {
          "output_type": "display_data",
          "data": {
            "text/plain": [
              "Finished parsing file /content/datasets/library-collection/library-collection-inventory.csv"
            ],
            "text/html": [
              "<pre>Finished parsing file /content/datasets/library-collection/library-collection-inventory.csv</pre>"
            ]
          },
          "metadata": {}
        },
        {
          "output_type": "display_data",
          "data": {
            "text/plain": [
              "Parsing completed. Parsed 13787314 lines in 146.077 secs."
            ],
            "text/html": [
              "<pre>Parsing completed. Parsed 13787314 lines in 146.077 secs.</pre>"
            ]
          },
          "metadata": {}
        },
        {
          "output_type": "execute_result",
          "data": {
            "text/plain": [
              "Columns:\n",
              "\tAuthor\tstr\n",
              "\tCount\tint\n",
              "\n",
              "Rows: 20\n",
              "\n",
              "Data:\n",
              "+---------------------------+-------+\n",
              "|           Author          | Count |\n",
              "+---------------------------+-------+\n",
              "|     Hart, Kevin, 1979-    |  189  |\n",
              "|       Hidalgo, Pablo      |  173  |\n",
              "|     Fry, Jason, 1969-     |  168  |\n",
              "|      Beecroft, Simon      |  165  |\n",
              "|       Gaffigan, Jim       |  147  |\n",
              "|       Ruditis, Paul       |  136  |\n",
              "|       Rolling Stones      |  118  |\n",
              "|     U2 (Musical group)    |   89  |\n",
              "|     Jessen, Sebastian.    |   86  |\n",
              "| Pryor, Richard, 1940-2005 |   77  |\n",
              "+---------------------------+-------+\n",
              "[20 rows x 2 columns]\n",
              "Note: Only the head of the SFrame is printed.\n",
              "You can use print_rows(num_rows=m, num_columns=n) to print more rows and columns."
            ],
            "text/html": [
              "<div style=\"max-height:1000px;max-width:1500px;overflow:auto;\"><table frame=\"box\" rules=\"cols\">\n",
              "    <tr>\n",
              "        <th style=\"padding-left: 1em; padding-right: 1em; text-align: center\">Author</th>\n",
              "        <th style=\"padding-left: 1em; padding-right: 1em; text-align: center\">Count</th>\n",
              "    </tr>\n",
              "    <tr>\n",
              "        <td style=\"padding-left: 1em; padding-right: 1em; text-align: center; vertical-align: top\">Hart, Kevin, 1979-</td>\n",
              "        <td style=\"padding-left: 1em; padding-right: 1em; text-align: center; vertical-align: top\">189</td>\n",
              "    </tr>\n",
              "    <tr>\n",
              "        <td style=\"padding-left: 1em; padding-right: 1em; text-align: center; vertical-align: top\">Hidalgo, Pablo</td>\n",
              "        <td style=\"padding-left: 1em; padding-right: 1em; text-align: center; vertical-align: top\">173</td>\n",
              "    </tr>\n",
              "    <tr>\n",
              "        <td style=\"padding-left: 1em; padding-right: 1em; text-align: center; vertical-align: top\">Fry, Jason, 1969-</td>\n",
              "        <td style=\"padding-left: 1em; padding-right: 1em; text-align: center; vertical-align: top\">168</td>\n",
              "    </tr>\n",
              "    <tr>\n",
              "        <td style=\"padding-left: 1em; padding-right: 1em; text-align: center; vertical-align: top\">Beecroft, Simon</td>\n",
              "        <td style=\"padding-left: 1em; padding-right: 1em; text-align: center; vertical-align: top\">165</td>\n",
              "    </tr>\n",
              "    <tr>\n",
              "        <td style=\"padding-left: 1em; padding-right: 1em; text-align: center; vertical-align: top\">Gaffigan, Jim</td>\n",
              "        <td style=\"padding-left: 1em; padding-right: 1em; text-align: center; vertical-align: top\">147</td>\n",
              "    </tr>\n",
              "    <tr>\n",
              "        <td style=\"padding-left: 1em; padding-right: 1em; text-align: center; vertical-align: top\">Ruditis, Paul</td>\n",
              "        <td style=\"padding-left: 1em; padding-right: 1em; text-align: center; vertical-align: top\">136</td>\n",
              "    </tr>\n",
              "    <tr>\n",
              "        <td style=\"padding-left: 1em; padding-right: 1em; text-align: center; vertical-align: top\">Rolling Stones</td>\n",
              "        <td style=\"padding-left: 1em; padding-right: 1em; text-align: center; vertical-align: top\">118</td>\n",
              "    </tr>\n",
              "    <tr>\n",
              "        <td style=\"padding-left: 1em; padding-right: 1em; text-align: center; vertical-align: top\">U2 (Musical group)</td>\n",
              "        <td style=\"padding-left: 1em; padding-right: 1em; text-align: center; vertical-align: top\">89</td>\n",
              "    </tr>\n",
              "    <tr>\n",
              "        <td style=\"padding-left: 1em; padding-right: 1em; text-align: center; vertical-align: top\">Jessen, Sebastian.</td>\n",
              "        <td style=\"padding-left: 1em; padding-right: 1em; text-align: center; vertical-align: top\">86</td>\n",
              "    </tr>\n",
              "    <tr>\n",
              "        <td style=\"padding-left: 1em; padding-right: 1em; text-align: center; vertical-align: top\">Pryor, Richard, 1940-2005</td>\n",
              "        <td style=\"padding-left: 1em; padding-right: 1em; text-align: center; vertical-align: top\">77</td>\n",
              "    </tr>\n",
              "</table>\n",
              "[20 rows x 2 columns]<br/>Note: Only the head of the SFrame is printed.<br/>You can use print_rows(num_rows=m, num_columns=n) to print more rows and columns.\n",
              "</div>"
            ]
          },
          "metadata": {},
          "execution_count": 7
        }
      ]
    },
    {
      "cell_type": "markdown",
      "metadata": {
        "id": "w5glNK9H0P2r"
      },
      "source": [
        "Using the [The Blog Authorship Corpus](https://www.kaggle.com/rtatman/blog-authorship-corpus.htm) and TuriCreate, please answer the following questions:"
      ]
    },
    {
      "cell_type": "code",
      "source": [
        "!mkdir ./datasets/blog-authorship\n",
        "!kaggle datasets download -d rtatman/blog-authorship-corpus -f blogtext.csv -p ./datasets/blog-authorship/\n",
        "!unzip /content/datasets/blog-authorship/*.zip  -d /content/datasets/blog-authorship/\n",
        "!ls ./datasets/blog-authorship"
      ],
      "metadata": {
        "colab": {
          "base_uri": "https://localhost:8080/"
        },
        "id": "kT1qOPcKSEd9",
        "outputId": "0b014e41-5c20-4b29-e4a0-8f6485e038b5"
      },
      "execution_count": 8,
      "outputs": [
        {
          "output_type": "stream",
          "name": "stdout",
          "text": [
            "mkdir: cannot create directory ‘./datasets/blog-authorship’: File exists\n",
            "blogtext.csv.zip: Skipping, found more recently modified local copy (use --force to force download)\n",
            "Archive:  /content/datasets/blog-authorship/blogtext.csv.zip\n",
            "replace /content/datasets/blog-authorship/blogtext.csv? [y]es, [n]o, [A]ll, [N]one, [r]ename: y\n",
            "  inflating: /content/datasets/blog-authorship/blogtext.csv  y\n",
            "\n",
            "blogtext.csv  blogtext.csv.zip\n"
          ]
        }
      ]
    },
    {
      "cell_type": "code",
      "source": [
        "import turicreate as tc\n",
        "import turicreate.aggregate as agg\n",
        "import matplotlib.pyplot as plt\n",
        "%matplotlib inline\n",
        "\n",
        "CSV_PATH = \"./datasets/blog-authorship/blogtext.csv\"\n",
        "sf_bloggers = tc.SFrame.read_csv(CSV_PATH)"
      ],
      "metadata": {
        "colab": {
          "base_uri": "https://localhost:8080/",
          "height": 260
        },
        "id": "8xSY9OWOXfqb",
        "outputId": "e3f3d925-9683-4a58-ed8e-55f1f67f41b3"
      },
      "execution_count": 9,
      "outputs": [
        {
          "output_type": "display_data",
          "data": {
            "text/plain": [
              "Finished parsing file /content/datasets/blog-authorship/blogtext.csv"
            ],
            "text/html": [
              "<pre>Finished parsing file /content/datasets/blog-authorship/blogtext.csv</pre>"
            ]
          },
          "metadata": {}
        },
        {
          "output_type": "display_data",
          "data": {
            "text/plain": [
              "Parsing completed. Parsed 100 lines in 1.34 secs."
            ],
            "text/html": [
              "<pre>Parsing completed. Parsed 100 lines in 1.34 secs.</pre>"
            ]
          },
          "metadata": {}
        },
        {
          "output_type": "stream",
          "name": "stdout",
          "text": [
            "------------------------------------------------------\n",
            "Inferred types from first 100 line(s) of file as \n",
            "column_type_hints=[int,str,int,str,str,str,str]\n",
            "If parsing fails due to incorrect types, you can correct\n",
            "the inferred type list above and pass it to read_csv in\n",
            "the column_type_hints argument\n",
            "------------------------------------------------------\n"
          ]
        },
        {
          "output_type": "display_data",
          "data": {
            "text/plain": [
              "Read 44265 lines. Lines per second: 27478.8"
            ],
            "text/html": [
              "<pre>Read 44265 lines. Lines per second: 27478.8</pre>"
            ]
          },
          "metadata": {}
        },
        {
          "output_type": "display_data",
          "data": {
            "text/plain": [
              "Read 319008 lines. Lines per second: 44410.2"
            ],
            "text/html": [
              "<pre>Read 319008 lines. Lines per second: 44410.2</pre>"
            ]
          },
          "metadata": {}
        },
        {
          "output_type": "display_data",
          "data": {
            "text/plain": [
              "Read 579690 lines. Lines per second: 45482.4"
            ],
            "text/html": [
              "<pre>Read 579690 lines. Lines per second: 45482.4</pre>"
            ]
          },
          "metadata": {}
        },
        {
          "output_type": "display_data",
          "data": {
            "text/plain": [
              "Finished parsing file /content/datasets/blog-authorship/blogtext.csv"
            ],
            "text/html": [
              "<pre>Finished parsing file /content/datasets/blog-authorship/blogtext.csv</pre>"
            ]
          },
          "metadata": {}
        },
        {
          "output_type": "display_data",
          "data": {
            "text/plain": [
              "Parsing completed. Parsed 681284 lines in 14.2487 secs."
            ],
            "text/html": [
              "<pre>Parsing completed. Parsed 681284 lines in 14.2487 secs.</pre>"
            ]
          },
          "metadata": {}
        }
      ]
    },
    {
      "cell_type": "code",
      "source": [
        "sf_bloggers"
      ],
      "metadata": {
        "colab": {
          "base_uri": "https://localhost:8080/",
          "height": 457
        },
        "id": "NSSQqwObZUWc",
        "outputId": "d175b204-92b8-4aec-b9bf-915b0788cf01"
      },
      "execution_count": 10,
      "outputs": [
        {
          "output_type": "execute_result",
          "data": {
            "text/plain": [
              "Columns:\n",
              "\tid\tint\n",
              "\tgender\tstr\n",
              "\tage\tint\n",
              "\ttopic\tstr\n",
              "\tsign\tstr\n",
              "\tdate\tstr\n",
              "\ttext\tstr\n",
              "\n",
              "Rows: 681284\n",
              "\n",
              "Data:\n",
              "+---------+--------+-----+-------------------+----------+--------------+\n",
              "|    id   | gender | age |       topic       |   sign   |     date     |\n",
              "+---------+--------+-----+-------------------+----------+--------------+\n",
              "| 2059027 |  male  |  15 |      Student      |   Leo    | 14,May,2004  |\n",
              "| 2059027 |  male  |  15 |      Student      |   Leo    | 13,May,2004  |\n",
              "| 2059027 |  male  |  15 |      Student      |   Leo    | 12,May,2004  |\n",
              "| 2059027 |  male  |  15 |      Student      |   Leo    | 12,May,2004  |\n",
              "| 3581210 |  male  |  33 | InvestmentBanking | Aquarius | 11,June,2004 |\n",
              "| 3581210 |  male  |  33 | InvestmentBanking | Aquarius | 10,June,2004 |\n",
              "| 3581210 |  male  |  33 | InvestmentBanking | Aquarius | 10,June,2004 |\n",
              "| 3581210 |  male  |  33 | InvestmentBanking | Aquarius | 10,June,2004 |\n",
              "| 3581210 |  male  |  33 | InvestmentBanking | Aquarius | 10,June,2004 |\n",
              "| 3581210 |  male  |  33 | InvestmentBanking | Aquarius | 09,June,2004 |\n",
              "+---------+--------+-----+-------------------+----------+--------------+\n",
              "+-------------------------------+\n",
              "|              text             |\n",
              "+-------------------------------+\n",
              "|            Info has been f... |\n",
              "|            These are the t... |\n",
              "|            In het kader va... |\n",
              "|            testing!!!  tes... |\n",
              "|              Thanks to Yah... |\n",
              "|              I had an inte... |\n",
              "|              Somehow Coca-... |\n",
              "|              If anything, ... |\n",
              "|              Take a read o... |\n",
              "|              I surf the En... |\n",
              "+-------------------------------+\n",
              "[681284 rows x 7 columns]\n",
              "Note: Only the head of the SFrame is printed.\n",
              "You can use print_rows(num_rows=m, num_columns=n) to print more rows and columns."
            ],
            "text/html": [
              "<div style=\"max-height:1000px;max-width:1500px;overflow:auto;\"><table frame=\"box\" rules=\"cols\">\n",
              "    <tr>\n",
              "        <th style=\"padding-left: 1em; padding-right: 1em; text-align: center\">id</th>\n",
              "        <th style=\"padding-left: 1em; padding-right: 1em; text-align: center\">gender</th>\n",
              "        <th style=\"padding-left: 1em; padding-right: 1em; text-align: center\">age</th>\n",
              "        <th style=\"padding-left: 1em; padding-right: 1em; text-align: center\">topic</th>\n",
              "        <th style=\"padding-left: 1em; padding-right: 1em; text-align: center\">sign</th>\n",
              "        <th style=\"padding-left: 1em; padding-right: 1em; text-align: center\">date</th>\n",
              "        <th style=\"padding-left: 1em; padding-right: 1em; text-align: center\">text</th>\n",
              "    </tr>\n",
              "    <tr>\n",
              "        <td style=\"padding-left: 1em; padding-right: 1em; text-align: center; vertical-align: top\">2059027</td>\n",
              "        <td style=\"padding-left: 1em; padding-right: 1em; text-align: center; vertical-align: top\">male</td>\n",
              "        <td style=\"padding-left: 1em; padding-right: 1em; text-align: center; vertical-align: top\">15</td>\n",
              "        <td style=\"padding-left: 1em; padding-right: 1em; text-align: center; vertical-align: top\">Student</td>\n",
              "        <td style=\"padding-left: 1em; padding-right: 1em; text-align: center; vertical-align: top\">Leo</td>\n",
              "        <td style=\"padding-left: 1em; padding-right: 1em; text-align: center; vertical-align: top\">14,May,2004</td>\n",
              "        <td style=\"padding-left: 1em; padding-right: 1em; text-align: center; vertical-align: top\">           Info has been<br>found (+/- 100 pages, ...</td>\n",
              "    </tr>\n",
              "    <tr>\n",
              "        <td style=\"padding-left: 1em; padding-right: 1em; text-align: center; vertical-align: top\">2059027</td>\n",
              "        <td style=\"padding-left: 1em; padding-right: 1em; text-align: center; vertical-align: top\">male</td>\n",
              "        <td style=\"padding-left: 1em; padding-right: 1em; text-align: center; vertical-align: top\">15</td>\n",
              "        <td style=\"padding-left: 1em; padding-right: 1em; text-align: center; vertical-align: top\">Student</td>\n",
              "        <td style=\"padding-left: 1em; padding-right: 1em; text-align: center; vertical-align: top\">Leo</td>\n",
              "        <td style=\"padding-left: 1em; padding-right: 1em; text-align: center; vertical-align: top\">13,May,2004</td>\n",
              "        <td style=\"padding-left: 1em; padding-right: 1em; text-align: center; vertical-align: top\">           These are the<br>team members:   Drewes ...</td>\n",
              "    </tr>\n",
              "    <tr>\n",
              "        <td style=\"padding-left: 1em; padding-right: 1em; text-align: center; vertical-align: top\">2059027</td>\n",
              "        <td style=\"padding-left: 1em; padding-right: 1em; text-align: center; vertical-align: top\">male</td>\n",
              "        <td style=\"padding-left: 1em; padding-right: 1em; text-align: center; vertical-align: top\">15</td>\n",
              "        <td style=\"padding-left: 1em; padding-right: 1em; text-align: center; vertical-align: top\">Student</td>\n",
              "        <td style=\"padding-left: 1em; padding-right: 1em; text-align: center; vertical-align: top\">Leo</td>\n",
              "        <td style=\"padding-left: 1em; padding-right: 1em; text-align: center; vertical-align: top\">12,May,2004</td>\n",
              "        <td style=\"padding-left: 1em; padding-right: 1em; text-align: center; vertical-align: top\">           In het kader<br>van kernfusie op aarde: ...</td>\n",
              "    </tr>\n",
              "    <tr>\n",
              "        <td style=\"padding-left: 1em; padding-right: 1em; text-align: center; vertical-align: top\">2059027</td>\n",
              "        <td style=\"padding-left: 1em; padding-right: 1em; text-align: center; vertical-align: top\">male</td>\n",
              "        <td style=\"padding-left: 1em; padding-right: 1em; text-align: center; vertical-align: top\">15</td>\n",
              "        <td style=\"padding-left: 1em; padding-right: 1em; text-align: center; vertical-align: top\">Student</td>\n",
              "        <td style=\"padding-left: 1em; padding-right: 1em; text-align: center; vertical-align: top\">Leo</td>\n",
              "        <td style=\"padding-left: 1em; padding-right: 1em; text-align: center; vertical-align: top\">12,May,2004</td>\n",
              "        <td style=\"padding-left: 1em; padding-right: 1em; text-align: center; vertical-align: top\">           testing!!!<br>testing!!! ...</td>\n",
              "    </tr>\n",
              "    <tr>\n",
              "        <td style=\"padding-left: 1em; padding-right: 1em; text-align: center; vertical-align: top\">3581210</td>\n",
              "        <td style=\"padding-left: 1em; padding-right: 1em; text-align: center; vertical-align: top\">male</td>\n",
              "        <td style=\"padding-left: 1em; padding-right: 1em; text-align: center; vertical-align: top\">33</td>\n",
              "        <td style=\"padding-left: 1em; padding-right: 1em; text-align: center; vertical-align: top\">InvestmentBanking</td>\n",
              "        <td style=\"padding-left: 1em; padding-right: 1em; text-align: center; vertical-align: top\">Aquarius</td>\n",
              "        <td style=\"padding-left: 1em; padding-right: 1em; text-align: center; vertical-align: top\">11,June,2004</td>\n",
              "        <td style=\"padding-left: 1em; padding-right: 1em; text-align: center; vertical-align: top\">             Thanks to<br>Yahoo!&#x27;s Toolbar I can ...</td>\n",
              "    </tr>\n",
              "    <tr>\n",
              "        <td style=\"padding-left: 1em; padding-right: 1em; text-align: center; vertical-align: top\">3581210</td>\n",
              "        <td style=\"padding-left: 1em; padding-right: 1em; text-align: center; vertical-align: top\">male</td>\n",
              "        <td style=\"padding-left: 1em; padding-right: 1em; text-align: center; vertical-align: top\">33</td>\n",
              "        <td style=\"padding-left: 1em; padding-right: 1em; text-align: center; vertical-align: top\">InvestmentBanking</td>\n",
              "        <td style=\"padding-left: 1em; padding-right: 1em; text-align: center; vertical-align: top\">Aquarius</td>\n",
              "        <td style=\"padding-left: 1em; padding-right: 1em; text-align: center; vertical-align: top\">10,June,2004</td>\n",
              "        <td style=\"padding-left: 1em; padding-right: 1em; text-align: center; vertical-align: top\">             I had an<br>interesting conversation ...</td>\n",
              "    </tr>\n",
              "    <tr>\n",
              "        <td style=\"padding-left: 1em; padding-right: 1em; text-align: center; vertical-align: top\">3581210</td>\n",
              "        <td style=\"padding-left: 1em; padding-right: 1em; text-align: center; vertical-align: top\">male</td>\n",
              "        <td style=\"padding-left: 1em; padding-right: 1em; text-align: center; vertical-align: top\">33</td>\n",
              "        <td style=\"padding-left: 1em; padding-right: 1em; text-align: center; vertical-align: top\">InvestmentBanking</td>\n",
              "        <td style=\"padding-left: 1em; padding-right: 1em; text-align: center; vertical-align: top\">Aquarius</td>\n",
              "        <td style=\"padding-left: 1em; padding-right: 1em; text-align: center; vertical-align: top\">10,June,2004</td>\n",
              "        <td style=\"padding-left: 1em; padding-right: 1em; text-align: center; vertical-align: top\">             Somehow<br>Coca-Cola has a way of ...</td>\n",
              "    </tr>\n",
              "    <tr>\n",
              "        <td style=\"padding-left: 1em; padding-right: 1em; text-align: center; vertical-align: top\">3581210</td>\n",
              "        <td style=\"padding-left: 1em; padding-right: 1em; text-align: center; vertical-align: top\">male</td>\n",
              "        <td style=\"padding-left: 1em; padding-right: 1em; text-align: center; vertical-align: top\">33</td>\n",
              "        <td style=\"padding-left: 1em; padding-right: 1em; text-align: center; vertical-align: top\">InvestmentBanking</td>\n",
              "        <td style=\"padding-left: 1em; padding-right: 1em; text-align: center; vertical-align: top\">Aquarius</td>\n",
              "        <td style=\"padding-left: 1em; padding-right: 1em; text-align: center; vertical-align: top\">10,June,2004</td>\n",
              "        <td style=\"padding-left: 1em; padding-right: 1em; text-align: center; vertical-align: top\">             If anything,<br>Korea is a country of ...</td>\n",
              "    </tr>\n",
              "    <tr>\n",
              "        <td style=\"padding-left: 1em; padding-right: 1em; text-align: center; vertical-align: top\">3581210</td>\n",
              "        <td style=\"padding-left: 1em; padding-right: 1em; text-align: center; vertical-align: top\">male</td>\n",
              "        <td style=\"padding-left: 1em; padding-right: 1em; text-align: center; vertical-align: top\">33</td>\n",
              "        <td style=\"padding-left: 1em; padding-right: 1em; text-align: center; vertical-align: top\">InvestmentBanking</td>\n",
              "        <td style=\"padding-left: 1em; padding-right: 1em; text-align: center; vertical-align: top\">Aquarius</td>\n",
              "        <td style=\"padding-left: 1em; padding-right: 1em; text-align: center; vertical-align: top\">10,June,2004</td>\n",
              "        <td style=\"padding-left: 1em; padding-right: 1em; text-align: center; vertical-align: top\">             Take a read<br>of this news article  ...</td>\n",
              "    </tr>\n",
              "    <tr>\n",
              "        <td style=\"padding-left: 1em; padding-right: 1em; text-align: center; vertical-align: top\">3581210</td>\n",
              "        <td style=\"padding-left: 1em; padding-right: 1em; text-align: center; vertical-align: top\">male</td>\n",
              "        <td style=\"padding-left: 1em; padding-right: 1em; text-align: center; vertical-align: top\">33</td>\n",
              "        <td style=\"padding-left: 1em; padding-right: 1em; text-align: center; vertical-align: top\">InvestmentBanking</td>\n",
              "        <td style=\"padding-left: 1em; padding-right: 1em; text-align: center; vertical-align: top\">Aquarius</td>\n",
              "        <td style=\"padding-left: 1em; padding-right: 1em; text-align: center; vertical-align: top\">09,June,2004</td>\n",
              "        <td style=\"padding-left: 1em; padding-right: 1em; text-align: center; vertical-align: top\">             I surf the<br>English news sites a lot ...</td>\n",
              "    </tr>\n",
              "</table>\n",
              "[681284 rows x 7 columns]<br/>Note: Only the head of the SFrame is printed.<br/>You can use print_rows(num_rows=m, num_columns=n) to print more rows and columns.\n",
              "</div>"
            ]
          },
          "metadata": {},
          "execution_count": 10
        }
      ]
    },
    {
      "cell_type": "markdown",
      "metadata": {
        "id": "DrxFfd-i0P2s"
      },
      "source": [
        "**Question 4:** Calculate the average and median age of bloggers in each topic by gender(5pt). \n",
        "Calculate the average and median age of bloggers according to their sign (5pt). \n",
        "Visualize the age distributions  of bloggers according to their  topic and gender using Seaborn and PlotlyExpress(15pt)"
      ]
    },
    {
      "cell_type": "code",
      "metadata": {
        "id": "0J2gbaCw0P2t",
        "colab": {
          "base_uri": "https://localhost:8080/",
          "height": 1000
        },
        "outputId": "b9fa70ea-6f58-441d-a258-e3a5f16d794f"
      },
      "source": [
        "# Calculate the average and median age of bloggers in each topic by gender.\n",
        "print(sf_bloggers.groupby([\"gender\", \"topic\"],  {'AvgAge': agg.AVG(\"age\"), \"Median Age\": agg.QUANTILE(\"age\", .5)}))\n",
        "\n",
        "# Calculate the average and median age of bloggers according to their sign.\n",
        "print(sf_bloggers.groupby([\"sign\"],  {'AvgAge': agg.AVG(\"age\"), \"Median Age\": agg.QUANTILE(\"age\", .5)}))\n",
        "\n",
        "# Visualize the age distributions of bloggers according to their topic and gender using Seaborn and PlotlyExpress\n",
        "import plotly.express as px\n",
        "df = sf_bloggers.to_dataframe()\n",
        "fig = px.scatter_3d(df[:100], x=\"topic\", y=\"gender\", z=\"age\")\n",
        "fig.show()"
      ],
      "execution_count": 11,
      "outputs": [
        {
          "output_type": "stream",
          "name": "stdout",
          "text": [
            "+--------+--------------+--------------------+------------+\n",
            "| gender |    topic     |       AvgAge       | Median Age |\n",
            "+--------+--------------+--------------------+------------+\n",
            "| female |  Non-Profit  | 24.695020188425303 |   [24.0]   |\n",
            "|  male  |  Non-Profit  | 20.940852819807436 |   [17.0]   |\n",
            "| female |   Science    | 25.451525423728814 |   [25.0]   |\n",
            "|  male  |   Science    | 24.216485297522567 |   [25.0]   |\n",
            "| female |   Student    | 17.772081363329345 |   [16.0]   |\n",
            "| female | Construction | 27.523316062176164 |   [25.0]   |\n",
            "|  male  |   Student    | 18.02407852824556  |   [17.0]   |\n",
            "|  male  | Construction | 32.229571984435815 |   [33.0]   |\n",
            "| female |   Military   | 23.717005076142133 |   [23.0]   |\n",
            "|  male  |   Military   | 26.836324786324784 |   [24.0]   |\n",
            "+--------+--------------+--------------------+------------+\n",
            "[80 rows x 4 columns]\n",
            "Note: Only the head of the SFrame is printed.\n",
            "You can use print_rows(num_rows=m, num_columns=n) to print more rows and columns.\n",
            "+-------------+--------------------+------------+\n",
            "|     sign    |       AvgAge       | Median Age |\n",
            "+-------------+--------------------+------------+\n",
            "| Sagittarius | 23.752478215684718 |   [24.0]   |\n",
            "|   Scorpio   | 23.634331099875805 |   [23.0]   |\n",
            "|   Aquarius  | 23.537182764103296 |   [24.0]   |\n",
            "|    Gemini   | 23.94419544099258  |   [24.0]   |\n",
            "|     Leo     | 23.77917154485143  |   [24.0]   |\n",
            "|  Capricorn  | 24.098392309099385 |   [24.0]   |\n",
            "|    Cancer   | 24.470437215594647 |   [25.0]   |\n",
            "|    Aries    | 25.184136413302774 |   [24.0]   |\n",
            "|    Pisces   | 25.033319149723408 |   [24.0]   |\n",
            "|    Virgo    | 23.780642063610347 |   [24.0]   |\n",
            "+-------------+--------------------+------------+\n",
            "[12 rows x 3 columns]\n",
            "Note: Only the head of the SFrame is printed.\n",
            "You can use print_rows(num_rows=m, num_columns=n) to print more rows and columns.\n"
          ]
        },
        {
          "output_type": "display_data",
          "data": {
            "text/html": [
              "<html>\n",
              "<head><meta charset=\"utf-8\" /></head>\n",
              "<body>\n",
              "    <div>            <script src=\"https://cdnjs.cloudflare.com/ajax/libs/mathjax/2.7.5/MathJax.js?config=TeX-AMS-MML_SVG\"></script><script type=\"text/javascript\">if (window.MathJax) {MathJax.Hub.Config({SVG: {font: \"STIX-Web\"}});}</script>                <script type=\"text/javascript\">window.PlotlyConfig = {MathJaxConfig: 'local'};</script>\n",
              "        <script src=\"https://cdn.plot.ly/plotly-2.8.3.min.js\"></script>                <div id=\"ff58fa72-87d7-445b-820c-81c2400bd2bc\" class=\"plotly-graph-div\" style=\"height:525px; width:100%;\"></div>            <script type=\"text/javascript\">                                    window.PLOTLYENV=window.PLOTLYENV || {};                                    if (document.getElementById(\"ff58fa72-87d7-445b-820c-81c2400bd2bc\")) {                    Plotly.newPlot(                        \"ff58fa72-87d7-445b-820c-81c2400bd2bc\",                        [{\"hovertemplate\":\"topic=%{x}<br>gender=%{y}<br>age=%{z}<extra></extra>\",\"legendgroup\":\"\",\"marker\":{\"color\":\"#636efa\",\"symbol\":\"circle\"},\"mode\":\"markers\",\"name\":\"\",\"scene\":\"scene\",\"showlegend\":false,\"x\":[\"Student\",\"Student\",\"Student\",\"Student\",\"InvestmentBanking\",\"InvestmentBanking\",\"InvestmentBanking\",\"InvestmentBanking\",\"InvestmentBanking\",\"InvestmentBanking\",\"InvestmentBanking\",\"InvestmentBanking\",\"InvestmentBanking\",\"InvestmentBanking\",\"InvestmentBanking\",\"InvestmentBanking\",\"InvestmentBanking\",\"InvestmentBanking\",\"InvestmentBanking\",\"InvestmentBanking\",\"InvestmentBanking\",\"InvestmentBanking\",\"InvestmentBanking\",\"InvestmentBanking\",\"InvestmentBanking\",\"InvestmentBanking\",\"InvestmentBanking\",\"InvestmentBanking\",\"InvestmentBanking\",\"InvestmentBanking\",\"InvestmentBanking\",\"InvestmentBanking\",\"InvestmentBanking\",\"InvestmentBanking\",\"InvestmentBanking\",\"InvestmentBanking\",\"InvestmentBanking\",\"InvestmentBanking\",\"InvestmentBanking\",\"InvestmentBanking\",\"InvestmentBanking\",\"InvestmentBanking\",\"InvestmentBanking\",\"InvestmentBanking\",\"InvestmentBanking\",\"InvestmentBanking\",\"InvestmentBanking\",\"InvestmentBanking\",\"InvestmentBanking\",\"InvestmentBanking\",\"InvestmentBanking\",\"InvestmentBanking\",\"InvestmentBanking\",\"InvestmentBanking\",\"InvestmentBanking\",\"InvestmentBanking\",\"InvestmentBanking\",\"InvestmentBanking\",\"InvestmentBanking\",\"InvestmentBanking\",\"InvestmentBanking\",\"InvestmentBanking\",\"InvestmentBanking\",\"InvestmentBanking\",\"InvestmentBanking\",\"InvestmentBanking\",\"InvestmentBanking\",\"InvestmentBanking\",\"InvestmentBanking\",\"InvestmentBanking\",\"InvestmentBanking\",\"InvestmentBanking\",\"InvestmentBanking\",\"InvestmentBanking\",\"indUnk\",\"indUnk\",\"indUnk\",\"indUnk\",\"indUnk\",\"indUnk\",\"indUnk\",\"indUnk\",\"indUnk\",\"indUnk\",\"indUnk\",\"indUnk\",\"indUnk\",\"indUnk\",\"indUnk\",\"indUnk\",\"indUnk\",\"indUnk\",\"indUnk\",\"indUnk\",\"indUnk\",\"indUnk\",\"indUnk\",\"Student\",\"Student\",\"Student\"],\"y\":[\"male\",\"male\",\"male\",\"male\",\"male\",\"male\",\"male\",\"male\",\"male\",\"male\",\"male\",\"male\",\"male\",\"male\",\"male\",\"male\",\"male\",\"male\",\"male\",\"male\",\"male\",\"male\",\"male\",\"male\",\"male\",\"male\",\"male\",\"male\",\"male\",\"male\",\"male\",\"male\",\"male\",\"male\",\"male\",\"male\",\"male\",\"male\",\"male\",\"male\",\"male\",\"male\",\"male\",\"male\",\"male\",\"male\",\"male\",\"male\",\"male\",\"male\",\"male\",\"male\",\"male\",\"male\",\"male\",\"male\",\"male\",\"male\",\"male\",\"male\",\"male\",\"male\",\"male\",\"male\",\"male\",\"male\",\"male\",\"male\",\"male\",\"male\",\"male\",\"male\",\"male\",\"male\",\"female\",\"female\",\"female\",\"female\",\"female\",\"female\",\"female\",\"female\",\"female\",\"female\",\"female\",\"female\",\"female\",\"female\",\"female\",\"female\",\"female\",\"female\",\"female\",\"female\",\"female\",\"female\",\"female\",\"female\",\"female\",\"female\"],\"z\":[15,15,15,15,33,33,33,33,33,33,33,33,33,33,33,33,33,33,33,33,33,33,33,33,33,33,33,33,33,33,33,33,33,33,33,33,33,33,33,33,33,33,33,33,33,33,33,33,33,33,33,33,33,33,33,33,33,33,33,33,33,33,33,33,33,33,33,33,33,33,33,33,33,33,14,14,14,14,14,14,14,14,14,14,14,14,14,14,14,14,14,14,14,14,14,25,25,17,17,17],\"type\":\"scatter3d\"}],                        {\"template\":{\"data\":{\"bar\":[{\"error_x\":{\"color\":\"#2a3f5f\"},\"error_y\":{\"color\":\"#2a3f5f\"},\"marker\":{\"line\":{\"color\":\"#E5ECF6\",\"width\":0.5},\"pattern\":{\"fillmode\":\"overlay\",\"size\":10,\"solidity\":0.2}},\"type\":\"bar\"}],\"barpolar\":[{\"marker\":{\"line\":{\"color\":\"#E5ECF6\",\"width\":0.5},\"pattern\":{\"fillmode\":\"overlay\",\"size\":10,\"solidity\":0.2}},\"type\":\"barpolar\"}],\"carpet\":[{\"aaxis\":{\"endlinecolor\":\"#2a3f5f\",\"gridcolor\":\"white\",\"linecolor\":\"white\",\"minorgridcolor\":\"white\",\"startlinecolor\":\"#2a3f5f\"},\"baxis\":{\"endlinecolor\":\"#2a3f5f\",\"gridcolor\":\"white\",\"linecolor\":\"white\",\"minorgridcolor\":\"white\",\"startlinecolor\":\"#2a3f5f\"},\"type\":\"carpet\"}],\"choropleth\":[{\"colorbar\":{\"outlinewidth\":0,\"ticks\":\"\"},\"type\":\"choropleth\"}],\"contour\":[{\"colorbar\":{\"outlinewidth\":0,\"ticks\":\"\"},\"colorscale\":[[0.0,\"#0d0887\"],[0.1111111111111111,\"#46039f\"],[0.2222222222222222,\"#7201a8\"],[0.3333333333333333,\"#9c179e\"],[0.4444444444444444,\"#bd3786\"],[0.5555555555555556,\"#d8576b\"],[0.6666666666666666,\"#ed7953\"],[0.7777777777777778,\"#fb9f3a\"],[0.8888888888888888,\"#fdca26\"],[1.0,\"#f0f921\"]],\"type\":\"contour\"}],\"contourcarpet\":[{\"colorbar\":{\"outlinewidth\":0,\"ticks\":\"\"},\"type\":\"contourcarpet\"}],\"heatmap\":[{\"colorbar\":{\"outlinewidth\":0,\"ticks\":\"\"},\"colorscale\":[[0.0,\"#0d0887\"],[0.1111111111111111,\"#46039f\"],[0.2222222222222222,\"#7201a8\"],[0.3333333333333333,\"#9c179e\"],[0.4444444444444444,\"#bd3786\"],[0.5555555555555556,\"#d8576b\"],[0.6666666666666666,\"#ed7953\"],[0.7777777777777778,\"#fb9f3a\"],[0.8888888888888888,\"#fdca26\"],[1.0,\"#f0f921\"]],\"type\":\"heatmap\"}],\"heatmapgl\":[{\"colorbar\":{\"outlinewidth\":0,\"ticks\":\"\"},\"colorscale\":[[0.0,\"#0d0887\"],[0.1111111111111111,\"#46039f\"],[0.2222222222222222,\"#7201a8\"],[0.3333333333333333,\"#9c179e\"],[0.4444444444444444,\"#bd3786\"],[0.5555555555555556,\"#d8576b\"],[0.6666666666666666,\"#ed7953\"],[0.7777777777777778,\"#fb9f3a\"],[0.8888888888888888,\"#fdca26\"],[1.0,\"#f0f921\"]],\"type\":\"heatmapgl\"}],\"histogram\":[{\"marker\":{\"pattern\":{\"fillmode\":\"overlay\",\"size\":10,\"solidity\":0.2}},\"type\":\"histogram\"}],\"histogram2d\":[{\"colorbar\":{\"outlinewidth\":0,\"ticks\":\"\"},\"colorscale\":[[0.0,\"#0d0887\"],[0.1111111111111111,\"#46039f\"],[0.2222222222222222,\"#7201a8\"],[0.3333333333333333,\"#9c179e\"],[0.4444444444444444,\"#bd3786\"],[0.5555555555555556,\"#d8576b\"],[0.6666666666666666,\"#ed7953\"],[0.7777777777777778,\"#fb9f3a\"],[0.8888888888888888,\"#fdca26\"],[1.0,\"#f0f921\"]],\"type\":\"histogram2d\"}],\"histogram2dcontour\":[{\"colorbar\":{\"outlinewidth\":0,\"ticks\":\"\"},\"colorscale\":[[0.0,\"#0d0887\"],[0.1111111111111111,\"#46039f\"],[0.2222222222222222,\"#7201a8\"],[0.3333333333333333,\"#9c179e\"],[0.4444444444444444,\"#bd3786\"],[0.5555555555555556,\"#d8576b\"],[0.6666666666666666,\"#ed7953\"],[0.7777777777777778,\"#fb9f3a\"],[0.8888888888888888,\"#fdca26\"],[1.0,\"#f0f921\"]],\"type\":\"histogram2dcontour\"}],\"mesh3d\":[{\"colorbar\":{\"outlinewidth\":0,\"ticks\":\"\"},\"type\":\"mesh3d\"}],\"parcoords\":[{\"line\":{\"colorbar\":{\"outlinewidth\":0,\"ticks\":\"\"}},\"type\":\"parcoords\"}],\"pie\":[{\"automargin\":true,\"type\":\"pie\"}],\"scatter\":[{\"marker\":{\"colorbar\":{\"outlinewidth\":0,\"ticks\":\"\"}},\"type\":\"scatter\"}],\"scatter3d\":[{\"line\":{\"colorbar\":{\"outlinewidth\":0,\"ticks\":\"\"}},\"marker\":{\"colorbar\":{\"outlinewidth\":0,\"ticks\":\"\"}},\"type\":\"scatter3d\"}],\"scattercarpet\":[{\"marker\":{\"colorbar\":{\"outlinewidth\":0,\"ticks\":\"\"}},\"type\":\"scattercarpet\"}],\"scattergeo\":[{\"marker\":{\"colorbar\":{\"outlinewidth\":0,\"ticks\":\"\"}},\"type\":\"scattergeo\"}],\"scattergl\":[{\"marker\":{\"colorbar\":{\"outlinewidth\":0,\"ticks\":\"\"}},\"type\":\"scattergl\"}],\"scattermapbox\":[{\"marker\":{\"colorbar\":{\"outlinewidth\":0,\"ticks\":\"\"}},\"type\":\"scattermapbox\"}],\"scatterpolar\":[{\"marker\":{\"colorbar\":{\"outlinewidth\":0,\"ticks\":\"\"}},\"type\":\"scatterpolar\"}],\"scatterpolargl\":[{\"marker\":{\"colorbar\":{\"outlinewidth\":0,\"ticks\":\"\"}},\"type\":\"scatterpolargl\"}],\"scatterternary\":[{\"marker\":{\"colorbar\":{\"outlinewidth\":0,\"ticks\":\"\"}},\"type\":\"scatterternary\"}],\"surface\":[{\"colorbar\":{\"outlinewidth\":0,\"ticks\":\"\"},\"colorscale\":[[0.0,\"#0d0887\"],[0.1111111111111111,\"#46039f\"],[0.2222222222222222,\"#7201a8\"],[0.3333333333333333,\"#9c179e\"],[0.4444444444444444,\"#bd3786\"],[0.5555555555555556,\"#d8576b\"],[0.6666666666666666,\"#ed7953\"],[0.7777777777777778,\"#fb9f3a\"],[0.8888888888888888,\"#fdca26\"],[1.0,\"#f0f921\"]],\"type\":\"surface\"}],\"table\":[{\"cells\":{\"fill\":{\"color\":\"#EBF0F8\"},\"line\":{\"color\":\"white\"}},\"header\":{\"fill\":{\"color\":\"#C8D4E3\"},\"line\":{\"color\":\"white\"}},\"type\":\"table\"}]},\"layout\":{\"annotationdefaults\":{\"arrowcolor\":\"#2a3f5f\",\"arrowhead\":0,\"arrowwidth\":1},\"autotypenumbers\":\"strict\",\"coloraxis\":{\"colorbar\":{\"outlinewidth\":0,\"ticks\":\"\"}},\"colorscale\":{\"diverging\":[[0,\"#8e0152\"],[0.1,\"#c51b7d\"],[0.2,\"#de77ae\"],[0.3,\"#f1b6da\"],[0.4,\"#fde0ef\"],[0.5,\"#f7f7f7\"],[0.6,\"#e6f5d0\"],[0.7,\"#b8e186\"],[0.8,\"#7fbc41\"],[0.9,\"#4d9221\"],[1,\"#276419\"]],\"sequential\":[[0.0,\"#0d0887\"],[0.1111111111111111,\"#46039f\"],[0.2222222222222222,\"#7201a8\"],[0.3333333333333333,\"#9c179e\"],[0.4444444444444444,\"#bd3786\"],[0.5555555555555556,\"#d8576b\"],[0.6666666666666666,\"#ed7953\"],[0.7777777777777778,\"#fb9f3a\"],[0.8888888888888888,\"#fdca26\"],[1.0,\"#f0f921\"]],\"sequentialminus\":[[0.0,\"#0d0887\"],[0.1111111111111111,\"#46039f\"],[0.2222222222222222,\"#7201a8\"],[0.3333333333333333,\"#9c179e\"],[0.4444444444444444,\"#bd3786\"],[0.5555555555555556,\"#d8576b\"],[0.6666666666666666,\"#ed7953\"],[0.7777777777777778,\"#fb9f3a\"],[0.8888888888888888,\"#fdca26\"],[1.0,\"#f0f921\"]]},\"colorway\":[\"#636efa\",\"#EF553B\",\"#00cc96\",\"#ab63fa\",\"#FFA15A\",\"#19d3f3\",\"#FF6692\",\"#B6E880\",\"#FF97FF\",\"#FECB52\"],\"font\":{\"color\":\"#2a3f5f\"},\"geo\":{\"bgcolor\":\"white\",\"lakecolor\":\"white\",\"landcolor\":\"#E5ECF6\",\"showlakes\":true,\"showland\":true,\"subunitcolor\":\"white\"},\"hoverlabel\":{\"align\":\"left\"},\"hovermode\":\"closest\",\"mapbox\":{\"style\":\"light\"},\"paper_bgcolor\":\"white\",\"plot_bgcolor\":\"#E5ECF6\",\"polar\":{\"angularaxis\":{\"gridcolor\":\"white\",\"linecolor\":\"white\",\"ticks\":\"\"},\"bgcolor\":\"#E5ECF6\",\"radialaxis\":{\"gridcolor\":\"white\",\"linecolor\":\"white\",\"ticks\":\"\"}},\"scene\":{\"xaxis\":{\"backgroundcolor\":\"#E5ECF6\",\"gridcolor\":\"white\",\"gridwidth\":2,\"linecolor\":\"white\",\"showbackground\":true,\"ticks\":\"\",\"zerolinecolor\":\"white\"},\"yaxis\":{\"backgroundcolor\":\"#E5ECF6\",\"gridcolor\":\"white\",\"gridwidth\":2,\"linecolor\":\"white\",\"showbackground\":true,\"ticks\":\"\",\"zerolinecolor\":\"white\"},\"zaxis\":{\"backgroundcolor\":\"#E5ECF6\",\"gridcolor\":\"white\",\"gridwidth\":2,\"linecolor\":\"white\",\"showbackground\":true,\"ticks\":\"\",\"zerolinecolor\":\"white\"}},\"shapedefaults\":{\"line\":{\"color\":\"#2a3f5f\"}},\"ternary\":{\"aaxis\":{\"gridcolor\":\"white\",\"linecolor\":\"white\",\"ticks\":\"\"},\"baxis\":{\"gridcolor\":\"white\",\"linecolor\":\"white\",\"ticks\":\"\"},\"bgcolor\":\"#E5ECF6\",\"caxis\":{\"gridcolor\":\"white\",\"linecolor\":\"white\",\"ticks\":\"\"}},\"title\":{\"x\":0.05},\"xaxis\":{\"automargin\":true,\"gridcolor\":\"white\",\"linecolor\":\"white\",\"ticks\":\"\",\"title\":{\"standoff\":15},\"zerolinecolor\":\"white\",\"zerolinewidth\":2},\"yaxis\":{\"automargin\":true,\"gridcolor\":\"white\",\"linecolor\":\"white\",\"ticks\":\"\",\"title\":{\"standoff\":15},\"zerolinecolor\":\"white\",\"zerolinewidth\":2}}},\"scene\":{\"domain\":{\"x\":[0.0,1.0],\"y\":[0.0,1.0]},\"xaxis\":{\"title\":{\"text\":\"topic\"}},\"yaxis\":{\"title\":{\"text\":\"gender\"}},\"zaxis\":{\"title\":{\"text\":\"age\"}}},\"legend\":{\"tracegroupgap\":0},\"margin\":{\"t\":60}},                        {\"responsive\": true}                    ).then(function(){\n",
              "                            \n",
              "var gd = document.getElementById('ff58fa72-87d7-445b-820c-81c2400bd2bc');\n",
              "var x = new MutationObserver(function (mutations, observer) {{\n",
              "        var display = window.getComputedStyle(gd).display;\n",
              "        if (!display || display === 'none') {{\n",
              "            console.log([gd, 'removed!']);\n",
              "            Plotly.purge(gd);\n",
              "            observer.disconnect();\n",
              "        }}\n",
              "}});\n",
              "\n",
              "// Listen for the removal of the full notebook cells\n",
              "var notebookContainer = gd.closest('#notebook-container');\n",
              "if (notebookContainer) {{\n",
              "    x.observe(notebookContainer, {childList: true});\n",
              "}}\n",
              "\n",
              "// Listen for the clearing of the current output cell\n",
              "var outputEl = gd.closest('.output');\n",
              "if (outputEl) {{\n",
              "    x.observe(outputEl, {childList: true});\n",
              "}}\n",
              "\n",
              "                        })                };                            </script>        </div>\n",
              "</body>\n",
              "</html>"
            ]
          },
          "metadata": {}
        }
      ]
    },
    {
      "cell_type": "markdown",
      "metadata": {
        "id": "HoIuWd1A0P2x"
      },
      "source": [
        "**Question 5:** Using the  [SJR Journal Ranking of 2018](https://www.scimagojr.com/journalrank.php) dataset and Seaborn, visualize\n",
        "    the H-index distributions according to the SJR Best Quartile (15pt). Using a grid, visualize the _Cites / Doc. (2years)_ histograms values of each publisher (15pt).\n",
        "    \n"
      ]
    },
    {
      "cell_type": "code",
      "metadata": {
        "id": "HNtgDQZE0P2y",
        "colab": {
          "base_uri": "https://localhost:8080/",
          "height": 818
        },
        "outputId": "dc87aa60-3f36-4acf-82f7-6064b42efdf7"
      },
      "source": [
        "# download dataset\n",
        "!mkdir ./datasets/sjr/\n",
        "!wget -O ./datasets/sjr/sjr2018.csv https://www.scimagojr.com/journalrank.php?out=xls \n",
        "import turicreate as tc\n",
        "import seaborn as sns\n",
        "sf_sjr = tc.SFrame.read_csv(\"./datasets/sjr/sjr2018.csv\", delimiter=\";\")\n",
        "\n",
        "# visualize the H-index distributions according to the SJR Best Quartile\n",
        "import matplotlib.pyplot as plt\n",
        "sns.set_style(\"ticks\")\n",
        "s = sns.distplot(sf_sjr[\"H index\"])\n",
        "plt.xlim(0,200)\n",
        "s.set_title(\"H index distribution\", fontsize=13)\n",
        "s.set_ylabel(\"Count\", fontsize=13)\n",
        "s.set_xlabel(\"H-index\",  fontsize=11)"
      ],
      "execution_count": 12,
      "outputs": [
        {
          "output_type": "stream",
          "name": "stdout",
          "text": [
            "mkdir: cannot create directory ‘./datasets/sjr/’: File exists\n",
            "--2022-04-17 18:47:23--  https://www.scimagojr.com/journalrank.php?out=xls\n",
            "Resolving www.scimagojr.com (www.scimagojr.com)... 94.130.25.5\n",
            "Connecting to www.scimagojr.com (www.scimagojr.com)|94.130.25.5|:443... connected.\n",
            "HTTP request sent, awaiting response... 200 OK\n",
            "Length: unspecified [text/csv]\n",
            "Saving to: ‘./datasets/sjr/sjr2018.csv’\n",
            "\n",
            "./datasets/sjr/sjr2     [     <=>            ]   8.65M  6.85MB/s    in 1.3s    \n",
            "\n",
            "2022-04-17 18:47:28 (6.85 MB/s) - ‘./datasets/sjr/sjr2018.csv’ saved [9068260]\n",
            "\n"
          ]
        },
        {
          "output_type": "display_data",
          "data": {
            "text/plain": [
              "Read 100 lines. Lines per second: 219.119"
            ],
            "text/html": [
              "<pre>Read 100 lines. Lines per second: 219.119</pre>"
            ]
          },
          "metadata": {}
        },
        {
          "output_type": "display_data",
          "data": {
            "text/plain": [
              "Finished parsing file /content/datasets/sjr/sjr2018.csv"
            ],
            "text/html": [
              "<pre>Finished parsing file /content/datasets/sjr/sjr2018.csv</pre>"
            ]
          },
          "metadata": {}
        },
        {
          "output_type": "display_data",
          "data": {
            "text/plain": [
              "Parsing completed. Parsed 100 lines in 0.459233 secs."
            ],
            "text/html": [
              "<pre>Parsing completed. Parsed 100 lines in 0.459233 secs.</pre>"
            ]
          },
          "metadata": {}
        },
        {
          "output_type": "stream",
          "name": "stdout",
          "text": [
            "------------------------------------------------------\n",
            "Inferred types from first 100 line(s) of file as \n",
            "column_type_hints=[int,int,str,str,str,str,str,int,int,int,int,int,int,str,str,str,str,str,str,str]\n",
            "If parsing fails due to incorrect types, you can correct\n",
            "the inferred type list above and pass it to read_csv in\n",
            "the column_type_hints argument\n",
            "------------------------------------------------------\n"
          ]
        },
        {
          "output_type": "display_data",
          "data": {
            "text/plain": [
              "Finished parsing file /content/datasets/sjr/sjr2018.csv"
            ],
            "text/html": [
              "<pre>Finished parsing file /content/datasets/sjr/sjr2018.csv</pre>"
            ]
          },
          "metadata": {}
        },
        {
          "output_type": "display_data",
          "data": {
            "text/plain": [
              "Parsing completed. Parsed 32952 lines in 0.386431 secs."
            ],
            "text/html": [
              "<pre>Parsing completed. Parsed 32952 lines in 0.386431 secs.</pre>"
            ]
          },
          "metadata": {}
        },
        {
          "output_type": "stream",
          "name": "stderr",
          "text": [
            "/usr/local/lib/python3.7/dist-packages/seaborn/distributions.py:2619: FutureWarning:\n",
            "\n",
            "`distplot` is a deprecated function and will be removed in a future version. Please adapt your code to use either `displot` (a figure-level function with similar flexibility) or `histplot` (an axes-level function for histograms).\n",
            "\n"
          ]
        },
        {
          "output_type": "execute_result",
          "data": {
            "text/plain": [
              "Text(0.5, 0, 'H-index')"
            ]
          },
          "metadata": {},
          "execution_count": 12
        },
        {
          "output_type": "display_data",
          "data": {
            "text/plain": [
              "<Figure size 432x288 with 1 Axes>"
            ],
            "image/png": "[encoded data removed]"
          },
          "metadata": {}
        }
      ]
    },
    {
      "cell_type": "code",
      "source": [
        "# Using a grid, visualize the Cites / Doc. (2years) histograms values of each publisher\n",
        "import turicreate.aggregate as agg\n",
        "sf_sjr_g = sf_sjr.groupby('Publisher', {'Count': agg.COUNT()})\n",
        "sf_sjr_g = sf_sjr_g.sort(\"Count\", ascending=False)\n",
        "top_10publishers = sf_sjr_g[\"Publisher\"][:10]\n",
        "\n",
        "# selecting only rows with publisher in the list above\n",
        "sf_sjr2 = sf_sjr[sf_sjr[\"Publisher\"].apply(lambda x: x in top_10publishers)]\n",
        "\n",
        "sns.set_style(\"dark\")\n",
        "sns.set(rc={'figure.figsize':(10,7)}) # set figure size\n",
        "sns.set(style=\"dark\", color_codes=True)\n",
        "g = sns.FacetGrid(sf_sjr2.to_dataframe(), row=\"Publisher\", aspect=2, margin_titles=True)\n",
        "g.map(plt.hist, \"Cites / Doc. (2years)\", color=\"b\", bins=[0,2,4,6,8,10]).set(ylim=(0,8))"
      ],
      "metadata": {
        "id": "Z0ncqk6Ue9U6",
        "colab": {
          "base_uri": "https://localhost:8080/",
          "height": 1000
        },
        "outputId": "dc02a3e8-ce02-416f-e0f3-73e918f33e3e"
      },
      "execution_count": 13,
      "outputs": [
        {
          "output_type": "execute_result",
          "data": {
            "text/plain": [
              "<seaborn.axisgrid.FacetGrid at 0x7fb6d8888c50>"
            ]
          },
          "metadata": {},
          "execution_count": 13
        },
        {
          "output_type": "display_data",
          "data": {
            "text/plain": [
              "<Figure size 432x2160 with 10 Axes>"
            ],
            "image/png": "[encoded data removed]"
          },
          "metadata": {}
        }
      ]
    }
  ]
}