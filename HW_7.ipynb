{
  "nbformat": 4,
  "nbformat_minor": 0,
  "metadata": {
    "kernelspec": {
      "display_name": "Python 3",
      "language": "python",
      "name": "python3"
    },
    "language_info": {
      "codemirror_mode": {
        "name": "ipython",
        "version": 3
      },
      "file_extension": ".py",
      "mimetype": "text/x-python",
      "name": "python",
      "nbconvert_exporter": "python",
      "pygments_lexer": "ipython3",
      "version": "3.6.7"
    },
    "colab": {
      "name": "204591424 HW_7.ipynb",
      "provenance": []
    }
  },
  "cells": [
    {
      "cell_type": "markdown",
      "metadata": {
        "id": "vpM6SFPqDMEe"
      },
      "source": [
        "# Homework Assignment 7"
      ]
    },
    {
      "cell_type": "markdown",
      "metadata": {
        "id": "Fdve57NuDMEf"
      },
      "source": [
        "#**Question 1:** Select two books and construct networks of people and locations, i.e. each link is between a a person and a location (20pt). Visualize the network using Cytoscape or Gephi (20pt).\n"
      ]
    },
    {
      "cell_type": "markdown",
      "source": [
        "## installing"
      ],
      "metadata": {
        "id": "NGed29pFc6Jn"
      }
    },
    {
      "cell_type": "code",
      "metadata": {
        "id": "n5T-SMZHDMEg",
        "colab": {
          "base_uri": "https://localhost:8080/",
          "height": 1000
        },
        "outputId": "563369e5-2321-48ac-cdb2-850a770f343b"
      },
      "source": [
        "!pip install turicreate\n",
        "!pip install kaggle \n",
        "!pip install gensim\n",
        "!pip install pyLDAvis\n",
        "!pip install spaCy\n",
        "!pip install afinn\n",
        "!pip install nltk\n",
        "!pip install plotly_express\n",
        "\n",
        "import nltk\n",
        "nltk.download('stopwords')\n",
        "nltk.download('punkt')\n",
        "\n",
        "!python -m spacy download en_core_web_lg # Important! you need to restart runtime after install"
      ],
      "execution_count": 1,
      "outputs": [
        {
          "output_type": "stream",
          "name": "stdout",
          "text": [
            "\u001b[33mWARNING: Ignoring invalid distribution -ensorflow (/usr/local/lib/python3.7/dist-packages)\u001b[0m\n",
            "\u001b[33mWARNING: Ignoring invalid distribution -ensorflow (/usr/local/lib/python3.7/dist-packages)\u001b[0m\n",
            "Requirement already satisfied: turicreate in /usr/local/lib/python3.7/dist-packages (6.4.1)\n",
            "Requirement already satisfied: pillow>=5.2.0 in /usr/local/lib/python3.7/dist-packages (from turicreate) (7.1.2)\n",
            "Requirement already satisfied: six>=1.10.0 in /usr/local/lib/python3.7/dist-packages (from turicreate) (1.15.0)\n",
            "Requirement already satisfied: numba<0.51.0 in /usr/local/lib/python3.7/dist-packages (from turicreate) (0.50.1)\n",
            "Requirement already satisfied: resampy==0.2.1 in /usr/local/lib/python3.7/dist-packages (from turicreate) (0.2.1)\n",
            "Requirement already satisfied: pandas>=0.23.2 in /usr/local/lib/python3.7/dist-packages (from turicreate) (1.3.5)\n",
            "Requirement already satisfied: decorator>=4.0.9 in /usr/local/lib/python3.7/dist-packages (from turicreate) (4.4.2)\n",
            "Requirement already satisfied: scipy>=1.1.0 in /usr/local/lib/python3.7/dist-packages (from turicreate) (1.4.1)\n",
            "Requirement already satisfied: coremltools==3.3 in /usr/local/lib/python3.7/dist-packages (from turicreate) (3.3)\n",
            "Requirement already satisfied: requests>=2.9.1 in /usr/local/lib/python3.7/dist-packages (from turicreate) (2.23.0)\n",
            "Requirement already satisfied: tensorflow<2.1.0,>=2.0.0 in /usr/local/lib/python3.7/dist-packages (from turicreate) (2.0.4)\n",
            "Requirement already satisfied: numpy in /usr/local/lib/python3.7/dist-packages (from turicreate) (1.21.6)\n",
            "Requirement already satisfied: prettytable==0.7.2 in /usr/local/lib/python3.7/dist-packages (from turicreate) (0.7.2)\n",
            "Requirement already satisfied: protobuf>=3.1.0 in /usr/local/lib/python3.7/dist-packages (from coremltools==3.3->turicreate) (3.17.3)\n",
            "Requirement already satisfied: setuptools in /usr/local/lib/python3.7/dist-packages (from numba<0.51.0->turicreate) (57.4.0)\n",
            "Requirement already satisfied: llvmlite<0.34,>=0.33.0.dev0 in /usr/local/lib/python3.7/dist-packages (from numba<0.51.0->turicreate) (0.33.0)\n",
            "Requirement already satisfied: python-dateutil>=2.7.3 in /usr/local/lib/python3.7/dist-packages (from pandas>=0.23.2->turicreate) (2.8.2)\n",
            "Requirement already satisfied: pytz>=2017.3 in /usr/local/lib/python3.7/dist-packages (from pandas>=0.23.2->turicreate) (2022.1)\n",
            "Requirement already satisfied: idna<3,>=2.5 in /usr/local/lib/python3.7/dist-packages (from requests>=2.9.1->turicreate) (2.10)\n",
            "Requirement already satisfied: certifi>=2017.4.17 in /usr/local/lib/python3.7/dist-packages (from requests>=2.9.1->turicreate) (2021.10.8)\n",
            "Requirement already satisfied: chardet<4,>=3.0.2 in /usr/local/lib/python3.7/dist-packages (from requests>=2.9.1->turicreate) (3.0.4)\n",
            "Requirement already satisfied: urllib3!=1.25.0,!=1.25.1,<1.26,>=1.21.1 in /usr/local/lib/python3.7/dist-packages (from requests>=2.9.1->turicreate) (1.24.3)\n",
            "Requirement already satisfied: astor>=0.6.0 in /usr/local/lib/python3.7/dist-packages (from tensorflow<2.1.0,>=2.0.0->turicreate) (0.8.1)\n",
            "Requirement already satisfied: keras-applications>=1.0.8 in /usr/local/lib/python3.7/dist-packages (from tensorflow<2.1.0,>=2.0.0->turicreate) (1.0.8)\n",
            "Requirement already satisfied: wrapt>=1.11.1 in /usr/local/lib/python3.7/dist-packages (from tensorflow<2.1.0,>=2.0.0->turicreate) (1.14.1)\n",
            "Requirement already satisfied: wheel>=0.26 in /usr/local/lib/python3.7/dist-packages (from tensorflow<2.1.0,>=2.0.0->turicreate) (0.37.1)\n",
            "Requirement already satisfied: absl-py>=0.7.0 in /usr/local/lib/python3.7/dist-packages (from tensorflow<2.1.0,>=2.0.0->turicreate) (1.0.0)\n",
            "Requirement already satisfied: google-pasta>=0.1.6 in /usr/local/lib/python3.7/dist-packages (from tensorflow<2.1.0,>=2.0.0->turicreate) (0.2.0)\n",
            "Requirement already satisfied: grpcio>=1.8.6 in /usr/local/lib/python3.7/dist-packages (from tensorflow<2.1.0,>=2.0.0->turicreate) (1.46.1)\n",
            "Requirement already satisfied: termcolor>=1.1.0 in /usr/local/lib/python3.7/dist-packages (from tensorflow<2.1.0,>=2.0.0->turicreate) (1.1.0)\n",
            "Requirement already satisfied: h5py<=2.10.0 in /usr/local/lib/python3.7/dist-packages (from tensorflow<2.1.0,>=2.0.0->turicreate) (2.10.0)\n",
            "Requirement already satisfied: keras-preprocessing>=1.0.5 in /usr/local/lib/python3.7/dist-packages (from tensorflow<2.1.0,>=2.0.0->turicreate) (1.1.2)\n",
            "Requirement already satisfied: tensorflow-estimator<2.1.0,>=2.0.0 in /usr/local/lib/python3.7/dist-packages (from tensorflow<2.1.0,>=2.0.0->turicreate) (2.0.1)\n",
            "Requirement already satisfied: opt-einsum>=2.3.2 in /usr/local/lib/python3.7/dist-packages (from tensorflow<2.1.0,>=2.0.0->turicreate) (3.3.0)\n",
            "Requirement already satisfied: gast==0.2.2 in /usr/local/lib/python3.7/dist-packages (from tensorflow<2.1.0,>=2.0.0->turicreate) (0.2.2)\n",
            "Requirement already satisfied: tensorboard<2.1.0,>=2.0.0 in /usr/local/lib/python3.7/dist-packages (from tensorflow<2.1.0,>=2.0.0->turicreate) (2.0.2)\n",
            "Collecting numpy\n",
            "  Using cached numpy-1.18.5-cp37-cp37m-manylinux1_x86_64.whl (20.1 MB)\n",
            "Requirement already satisfied: markdown>=2.6.8 in /usr/local/lib/python3.7/dist-packages (from tensorboard<2.1.0,>=2.0.0->tensorflow<2.1.0,>=2.0.0->turicreate) (3.3.7)\n",
            "Requirement already satisfied: google-auth<2,>=1.6.3 in /usr/local/lib/python3.7/dist-packages (from tensorboard<2.1.0,>=2.0.0->tensorflow<2.1.0,>=2.0.0->turicreate) (1.35.0)\n",
            "Requirement already satisfied: werkzeug>=0.11.15 in /usr/local/lib/python3.7/dist-packages (from tensorboard<2.1.0,>=2.0.0->tensorflow<2.1.0,>=2.0.0->turicreate) (1.0.1)\n",
            "Requirement already satisfied: google-auth-oauthlib<0.5,>=0.4.1 in /usr/local/lib/python3.7/dist-packages (from tensorboard<2.1.0,>=2.0.0->tensorflow<2.1.0,>=2.0.0->turicreate) (0.4.6)\n",
            "Requirement already satisfied: pyasn1-modules>=0.2.1 in /usr/local/lib/python3.7/dist-packages (from google-auth<2,>=1.6.3->tensorboard<2.1.0,>=2.0.0->tensorflow<2.1.0,>=2.0.0->turicreate) (0.2.8)\n",
            "Requirement already satisfied: rsa<5,>=3.1.4 in /usr/local/lib/python3.7/dist-packages (from google-auth<2,>=1.6.3->tensorboard<2.1.0,>=2.0.0->tensorflow<2.1.0,>=2.0.0->turicreate) (4.8)\n",
            "Requirement already satisfied: cachetools<5.0,>=2.0.0 in /usr/local/lib/python3.7/dist-packages (from google-auth<2,>=1.6.3->tensorboard<2.1.0,>=2.0.0->tensorflow<2.1.0,>=2.0.0->turicreate) (4.2.4)\n",
            "Requirement already satisfied: requests-oauthlib>=0.7.0 in /usr/local/lib/python3.7/dist-packages (from google-auth-oauthlib<0.5,>=0.4.1->tensorboard<2.1.0,>=2.0.0->tensorflow<2.1.0,>=2.0.0->turicreate) (1.3.1)\n",
            "Requirement already satisfied: importlib-metadata>=4.4 in /usr/local/lib/python3.7/dist-packages (from markdown>=2.6.8->tensorboard<2.1.0,>=2.0.0->tensorflow<2.1.0,>=2.0.0->turicreate) (4.11.3)\n",
            "Requirement already satisfied: zipp>=0.5 in /usr/local/lib/python3.7/dist-packages (from importlib-metadata>=4.4->markdown>=2.6.8->tensorboard<2.1.0,>=2.0.0->tensorflow<2.1.0,>=2.0.0->turicreate) (3.8.0)\n",
            "Requirement already satisfied: typing-extensions>=3.6.4 in /usr/local/lib/python3.7/dist-packages (from importlib-metadata>=4.4->markdown>=2.6.8->tensorboard<2.1.0,>=2.0.0->tensorflow<2.1.0,>=2.0.0->turicreate) (4.2.0)\n",
            "Requirement already satisfied: pyasn1<0.5.0,>=0.4.6 in /usr/local/lib/python3.7/dist-packages (from pyasn1-modules>=0.2.1->google-auth<2,>=1.6.3->tensorboard<2.1.0,>=2.0.0->tensorflow<2.1.0,>=2.0.0->turicreate) (0.4.8)\n",
            "Requirement already satisfied: oauthlib>=3.0.0 in /usr/local/lib/python3.7/dist-packages (from requests-oauthlib>=0.7.0->google-auth-oauthlib<0.5,>=0.4.1->tensorboard<2.1.0,>=2.0.0->tensorflow<2.1.0,>=2.0.0->turicreate) (3.2.0)\n",
            "\u001b[33mWARNING: Ignoring invalid distribution -ensorflow (/usr/local/lib/python3.7/dist-packages)\u001b[0m\n",
            "Installing collected packages: numpy\n",
            "  Attempting uninstall: numpy\n",
            "\u001b[33m    WARNING: Ignoring invalid distribution -ensorflow (/usr/local/lib/python3.7/dist-packages)\u001b[0m\n",
            "    Found existing installation: numpy 1.21.6\n",
            "    Uninstalling numpy-1.21.6:\n",
            "      Successfully uninstalled numpy-1.21.6\n",
            "\u001b[33mWARNING: Ignoring invalid distribution -ensorflow (/usr/local/lib/python3.7/dist-packages)\u001b[0m\n",
            "\u001b[31mERROR: pip's dependency resolver does not currently take into account all the packages that are installed. This behaviour is the source of the following dependency conflicts.\n",
            "xarray-einstats 0.2.2 requires numpy>=1.21, but you have numpy 1.18.5 which is incompatible.\n",
            "tensorflow-probability 0.16.0 requires gast>=0.3.2, but you have gast 0.2.2 which is incompatible.\n",
            "tables 3.7.0 requires numpy>=1.19.0, but you have numpy 1.18.5 which is incompatible.\n",
            "pyldavis 3.3.1 requires numpy>=1.20.0, but you have numpy 1.18.5 which is incompatible.\n",
            "librosa 0.8.1 requires resampy>=0.2.2, but you have resampy 0.2.1 which is incompatible.\n",
            "jaxlib 0.3.7+cuda11.cudnn805 requires numpy>=1.19, but you have numpy 1.18.5 which is incompatible.\n",
            "jax 0.3.8 requires numpy>=1.19, but you have numpy 1.18.5 which is incompatible.\n",
            "datascience 0.10.6 requires folium==0.2.1, but you have folium 0.8.3 which is incompatible.\n",
            "albumentations 0.1.12 requires imgaug<0.2.7,>=0.2.5, but you have imgaug 0.2.9 which is incompatible.\u001b[0m\n",
            "Successfully installed numpy-1.18.5\n"
          ]
        },
        {
          "output_type": "display_data",
          "data": {
            "application/vnd.colab-display-data+json": {
              "pip_warning": {
                "packages": [
                  "numpy"
                ]
              }
            }
          },
          "metadata": {}
        },
        {
          "output_type": "stream",
          "name": "stdout",
          "text": [
            "\u001b[33mWARNING: Ignoring invalid distribution -ensorflow (/usr/local/lib/python3.7/dist-packages)\u001b[0m\n",
            "\u001b[33mWARNING: Ignoring invalid distribution -ensorflow (/usr/local/lib/python3.7/dist-packages)\u001b[0m\n",
            "Requirement already satisfied: kaggle in /usr/local/lib/python3.7/dist-packages (1.5.12)\n",
            "Requirement already satisfied: six>=1.10 in /usr/local/lib/python3.7/dist-packages (from kaggle) (1.15.0)\n",
            "Requirement already satisfied: urllib3 in /usr/local/lib/python3.7/dist-packages (from kaggle) (1.24.3)\n",
            "Requirement already satisfied: tqdm in /usr/local/lib/python3.7/dist-packages (from kaggle) (4.64.0)\n",
            "Requirement already satisfied: python-slugify in /usr/local/lib/python3.7/dist-packages (from kaggle) (6.1.2)\n",
            "Requirement already satisfied: certifi in /usr/local/lib/python3.7/dist-packages (from kaggle) (2021.10.8)\n",
            "Requirement already satisfied: requests in /usr/local/lib/python3.7/dist-packages (from kaggle) (2.23.0)\n",
            "Requirement already satisfied: python-dateutil in /usr/local/lib/python3.7/dist-packages (from kaggle) (2.8.2)\n",
            "Requirement already satisfied: text-unidecode>=1.3 in /usr/local/lib/python3.7/dist-packages (from python-slugify->kaggle) (1.3)\n",
            "Requirement already satisfied: idna<3,>=2.5 in /usr/local/lib/python3.7/dist-packages (from requests->kaggle) (2.10)\n",
            "Requirement already satisfied: chardet<4,>=3.0.2 in /usr/local/lib/python3.7/dist-packages (from requests->kaggle) (3.0.4)\n",
            "\u001b[33mWARNING: Ignoring invalid distribution -ensorflow (/usr/local/lib/python3.7/dist-packages)\u001b[0m\n",
            "\u001b[33mWARNING: Ignoring invalid distribution -ensorflow (/usr/local/lib/python3.7/dist-packages)\u001b[0m\n",
            "\u001b[33mWARNING: Ignoring invalid distribution -ensorflow (/usr/local/lib/python3.7/dist-packages)\u001b[0m\n",
            "Requirement already satisfied: gensim in /usr/local/lib/python3.7/dist-packages (3.6.0)\n",
            "Requirement already satisfied: smart-open>=1.2.1 in /usr/local/lib/python3.7/dist-packages (from gensim) (6.0.0)\n",
            "Requirement already satisfied: scipy>=0.18.1 in /usr/local/lib/python3.7/dist-packages (from gensim) (1.4.1)\n",
            "Requirement already satisfied: numpy>=1.11.3 in /usr/local/lib/python3.7/dist-packages (from gensim) (1.18.5)\n",
            "Requirement already satisfied: six>=1.5.0 in /usr/local/lib/python3.7/dist-packages (from gensim) (1.15.0)\n",
            "\u001b[33mWARNING: Ignoring invalid distribution -ensorflow (/usr/local/lib/python3.7/dist-packages)\u001b[0m\n",
            "\u001b[33mWARNING: Ignoring invalid distribution -ensorflow (/usr/local/lib/python3.7/dist-packages)\u001b[0m\n",
            "\u001b[33mWARNING: Ignoring invalid distribution -ensorflow (/usr/local/lib/python3.7/dist-packages)\u001b[0m\n",
            "Requirement already satisfied: pyLDAvis in /usr/local/lib/python3.7/dist-packages (3.3.1)\n",
            "Requirement already satisfied: scikit-learn in /usr/local/lib/python3.7/dist-packages (from pyLDAvis) (1.0.2)\n",
            "Collecting numpy>=1.20.0\n",
            "  Using cached numpy-1.21.6-cp37-cp37m-manylinux_2_12_x86_64.manylinux2010_x86_64.whl (15.7 MB)\n",
            "Requirement already satisfied: jinja2 in /usr/local/lib/python3.7/dist-packages (from pyLDAvis) (2.11.3)\n",
            "Requirement already satisfied: numexpr in /usr/local/lib/python3.7/dist-packages (from pyLDAvis) (2.8.1)\n",
            "Requirement already satisfied: future in /usr/local/lib/python3.7/dist-packages (from pyLDAvis) (0.16.0)\n",
            "Requirement already satisfied: setuptools in /usr/local/lib/python3.7/dist-packages (from pyLDAvis) (57.4.0)\n",
            "Requirement already satisfied: pandas>=1.2.0 in /usr/local/lib/python3.7/dist-packages (from pyLDAvis) (1.3.5)\n",
            "Requirement already satisfied: scipy in /usr/local/lib/python3.7/dist-packages (from pyLDAvis) (1.4.1)\n",
            "Requirement already satisfied: funcy in /usr/local/lib/python3.7/dist-packages (from pyLDAvis) (1.17)\n",
            "Requirement already satisfied: joblib in /usr/local/lib/python3.7/dist-packages (from pyLDAvis) (1.1.0)\n",
            "Requirement already satisfied: sklearn in /usr/local/lib/python3.7/dist-packages (from pyLDAvis) (0.0)\n",
            "Requirement already satisfied: gensim in /usr/local/lib/python3.7/dist-packages (from pyLDAvis) (3.6.0)\n",
            "Requirement already satisfied: python-dateutil>=2.7.3 in /usr/local/lib/python3.7/dist-packages (from pandas>=1.2.0->pyLDAvis) (2.8.2)\n",
            "Requirement already satisfied: pytz>=2017.3 in /usr/local/lib/python3.7/dist-packages (from pandas>=1.2.0->pyLDAvis) (2022.1)\n",
            "Requirement already satisfied: six>=1.5 in /usr/local/lib/python3.7/dist-packages (from python-dateutil>=2.7.3->pandas>=1.2.0->pyLDAvis) (1.15.0)\n",
            "Requirement already satisfied: smart-open>=1.2.1 in /usr/local/lib/python3.7/dist-packages (from gensim->pyLDAvis) (6.0.0)\n",
            "Requirement already satisfied: MarkupSafe>=0.23 in /usr/local/lib/python3.7/dist-packages (from jinja2->pyLDAvis) (2.0.1)\n",
            "Requirement already satisfied: packaging in /usr/local/lib/python3.7/dist-packages (from numexpr->pyLDAvis) (21.3)\n",
            "Requirement already satisfied: pyparsing!=3.0.5,>=2.0.2 in /usr/local/lib/python3.7/dist-packages (from packaging->numexpr->pyLDAvis) (3.0.9)\n",
            "Requirement already satisfied: threadpoolctl>=2.0.0 in /usr/local/lib/python3.7/dist-packages (from scikit-learn->pyLDAvis) (3.1.0)\n",
            "\u001b[33mWARNING: Ignoring invalid distribution -ensorflow (/usr/local/lib/python3.7/dist-packages)\u001b[0m\n",
            "Installing collected packages: numpy\n",
            "  Attempting uninstall: numpy\n",
            "\u001b[33m    WARNING: Ignoring invalid distribution -ensorflow (/usr/local/lib/python3.7/dist-packages)\u001b[0m\n",
            "    Found existing installation: numpy 1.18.5\n",
            "    Uninstalling numpy-1.18.5:\n",
            "      Successfully uninstalled numpy-1.18.5\n",
            "\u001b[33mWARNING: Ignoring invalid distribution -ensorflow (/usr/local/lib/python3.7/dist-packages)\u001b[0m\n",
            "\u001b[31mERROR: pip's dependency resolver does not currently take into account all the packages that are installed. This behaviour is the source of the following dependency conflicts.\n",
            "tensorflow 2.0.4 requires numpy<1.19.0,>=1.16.0, but you have numpy 1.21.6 which is incompatible.\n",
            "tensorflow-probability 0.16.0 requires gast>=0.3.2, but you have gast 0.2.2 which is incompatible.\n",
            "librosa 0.8.1 requires resampy>=0.2.2, but you have resampy 0.2.1 which is incompatible.\n",
            "datascience 0.10.6 requires folium==0.2.1, but you have folium 0.8.3 which is incompatible.\n",
            "albumentations 0.1.12 requires imgaug<0.2.7,>=0.2.5, but you have imgaug 0.2.9 which is incompatible.\u001b[0m\n",
            "Successfully installed numpy-1.21.6\n"
          ]
        },
        {
          "output_type": "display_data",
          "data": {
            "application/vnd.colab-display-data+json": {
              "pip_warning": {
                "packages": [
                  "numpy"
                ]
              }
            }
          },
          "metadata": {}
        },
        {
          "output_type": "stream",
          "name": "stdout",
          "text": [
            "\u001b[33mWARNING: Ignoring invalid distribution -ensorflow (/usr/local/lib/python3.7/dist-packages)\u001b[0m\n",
            "\u001b[33mWARNING: Ignoring invalid distribution -ensorflow (/usr/local/lib/python3.7/dist-packages)\u001b[0m\n",
            "Requirement already satisfied: spaCy in /usr/local/lib/python3.7/dist-packages (2.2.4)\n",
            "Requirement already satisfied: wasabi<1.1.0,>=0.4.0 in /usr/local/lib/python3.7/dist-packages (from spaCy) (0.9.1)\n",
            "Requirement already satisfied: requests<3.0.0,>=2.13.0 in /usr/local/lib/python3.7/dist-packages (from spaCy) (2.23.0)\n",
            "Requirement already satisfied: blis<0.5.0,>=0.4.0 in /usr/local/lib/python3.7/dist-packages (from spaCy) (0.4.1)\n",
            "Requirement already satisfied: preshed<3.1.0,>=3.0.2 in /usr/local/lib/python3.7/dist-packages (from spaCy) (3.0.6)\n",
            "Requirement already satisfied: cymem<2.1.0,>=2.0.2 in /usr/local/lib/python3.7/dist-packages (from spaCy) (2.0.6)\n",
            "Requirement already satisfied: numpy>=1.15.0 in /usr/local/lib/python3.7/dist-packages (from spaCy) (1.21.6)\n",
            "Requirement already satisfied: catalogue<1.1.0,>=0.0.7 in /usr/local/lib/python3.7/dist-packages (from spaCy) (1.0.0)\n",
            "Requirement already satisfied: murmurhash<1.1.0,>=0.28.0 in /usr/local/lib/python3.7/dist-packages (from spaCy) (1.0.7)\n",
            "Requirement already satisfied: srsly<1.1.0,>=1.0.2 in /usr/local/lib/python3.7/dist-packages (from spaCy) (1.0.5)\n",
            "Requirement already satisfied: setuptools in /usr/local/lib/python3.7/dist-packages (from spaCy) (57.4.0)\n",
            "Requirement already satisfied: plac<1.2.0,>=0.9.6 in /usr/local/lib/python3.7/dist-packages (from spaCy) (1.1.3)\n",
            "Requirement already satisfied: tqdm<5.0.0,>=4.38.0 in /usr/local/lib/python3.7/dist-packages (from spaCy) (4.64.0)\n",
            "Requirement already satisfied: thinc==7.4.0 in /usr/local/lib/python3.7/dist-packages (from spaCy) (7.4.0)\n",
            "Requirement already satisfied: importlib-metadata>=0.20 in /usr/local/lib/python3.7/dist-packages (from catalogue<1.1.0,>=0.0.7->spaCy) (4.11.3)\n",
            "Requirement already satisfied: zipp>=0.5 in /usr/local/lib/python3.7/dist-packages (from importlib-metadata>=0.20->catalogue<1.1.0,>=0.0.7->spaCy) (3.8.0)\n",
            "Requirement already satisfied: typing-extensions>=3.6.4 in /usr/local/lib/python3.7/dist-packages (from importlib-metadata>=0.20->catalogue<1.1.0,>=0.0.7->spaCy) (4.2.0)\n",
            "Requirement already satisfied: urllib3!=1.25.0,!=1.25.1,<1.26,>=1.21.1 in /usr/local/lib/python3.7/dist-packages (from requests<3.0.0,>=2.13.0->spaCy) (1.24.3)\n",
            "Requirement already satisfied: idna<3,>=2.5 in /usr/local/lib/python3.7/dist-packages (from requests<3.0.0,>=2.13.0->spaCy) (2.10)\n",
            "Requirement already satisfied: certifi>=2017.4.17 in /usr/local/lib/python3.7/dist-packages (from requests<3.0.0,>=2.13.0->spaCy) (2021.10.8)\n",
            "Requirement already satisfied: chardet<4,>=3.0.2 in /usr/local/lib/python3.7/dist-packages (from requests<3.0.0,>=2.13.0->spaCy) (3.0.4)\n",
            "\u001b[33mWARNING: Ignoring invalid distribution -ensorflow (/usr/local/lib/python3.7/dist-packages)\u001b[0m\n",
            "\u001b[33mWARNING: Ignoring invalid distribution -ensorflow (/usr/local/lib/python3.7/dist-packages)\u001b[0m\n",
            "\u001b[33mWARNING: Ignoring invalid distribution -ensorflow (/usr/local/lib/python3.7/dist-packages)\u001b[0m\n",
            "Requirement already satisfied: afinn in /usr/local/lib/python3.7/dist-packages (0.1)\n",
            "\u001b[33mWARNING: Ignoring invalid distribution -ensorflow (/usr/local/lib/python3.7/dist-packages)\u001b[0m\n",
            "\u001b[33mWARNING: Ignoring invalid distribution -ensorflow (/usr/local/lib/python3.7/dist-packages)\u001b[0m\n",
            "\u001b[33mWARNING: Ignoring invalid distribution -ensorflow (/usr/local/lib/python3.7/dist-packages)\u001b[0m\n",
            "Requirement already satisfied: nltk in /usr/local/lib/python3.7/dist-packages (3.2.5)\n",
            "Requirement already satisfied: six in /usr/local/lib/python3.7/dist-packages (from nltk) (1.15.0)\n",
            "\u001b[33mWARNING: Ignoring invalid distribution -ensorflow (/usr/local/lib/python3.7/dist-packages)\u001b[0m\n",
            "\u001b[33mWARNING: Ignoring invalid distribution -ensorflow (/usr/local/lib/python3.7/dist-packages)\u001b[0m\n",
            "\u001b[33mWARNING: Ignoring invalid distribution -ensorflow (/usr/local/lib/python3.7/dist-packages)\u001b[0m\n",
            "Requirement already satisfied: plotly_express in /usr/local/lib/python3.7/dist-packages (0.4.1)\n",
            "Requirement already satisfied: pandas>=0.20.0 in /usr/local/lib/python3.7/dist-packages (from plotly_express) (1.3.5)\n",
            "Requirement already satisfied: scipy>=0.18 in /usr/local/lib/python3.7/dist-packages (from plotly_express) (1.4.1)\n",
            "Requirement already satisfied: patsy>=0.5 in /usr/local/lib/python3.7/dist-packages (from plotly_express) (0.5.2)\n",
            "Requirement already satisfied: statsmodels>=0.9.0 in /usr/local/lib/python3.7/dist-packages (from plotly_express) (0.10.2)\n",
            "Requirement already satisfied: numpy>=1.11 in /usr/local/lib/python3.7/dist-packages (from plotly_express) (1.21.6)\n",
            "Requirement already satisfied: plotly>=4.1.0 in /usr/local/lib/python3.7/dist-packages (from plotly_express) (5.5.0)\n",
            "Requirement already satisfied: python-dateutil>=2.7.3 in /usr/local/lib/python3.7/dist-packages (from pandas>=0.20.0->plotly_express) (2.8.2)\n",
            "Requirement already satisfied: pytz>=2017.3 in /usr/local/lib/python3.7/dist-packages (from pandas>=0.20.0->plotly_express) (2022.1)\n",
            "Requirement already satisfied: six in /usr/local/lib/python3.7/dist-packages (from patsy>=0.5->plotly_express) (1.15.0)\n",
            "Requirement already satisfied: tenacity>=6.2.0 in /usr/local/lib/python3.7/dist-packages (from plotly>=4.1.0->plotly_express) (8.0.1)\n",
            "\u001b[33mWARNING: Ignoring invalid distribution -ensorflow (/usr/local/lib/python3.7/dist-packages)\u001b[0m\n",
            "[nltk_data] Downloading package stopwords to /root/nltk_data...\n",
            "[nltk_data]   Unzipping corpora/stopwords.zip.\n",
            "[nltk_data] Downloading package punkt to /root/nltk_data...\n",
            "[nltk_data]   Unzipping tokenizers/punkt.zip.\n",
            "\u001b[33mWARNING: Ignoring invalid distribution -ensorflow (/usr/local/lib/python3.7/dist-packages)\u001b[0m\n",
            "\u001b[33mWARNING: Ignoring invalid distribution -ensorflow (/usr/local/lib/python3.7/dist-packages)\u001b[0m\n",
            "Collecting en_core_web_lg==2.2.5\n",
            "  Downloading https://github.com/explosion/spacy-models/releases/download/en_core_web_lg-2.2.5/en_core_web_lg-2.2.5.tar.gz (827.9 MB)\n",
            "\u001b[K     |████████████████████████████████| 827.9 MB 1.3 MB/s \n",
            "\u001b[?25hRequirement already satisfied: spacy>=2.2.2 in /usr/local/lib/python3.7/dist-packages (from en_core_web_lg==2.2.5) (2.2.4)\n",
            "Requirement already satisfied: plac<1.2.0,>=0.9.6 in /usr/local/lib/python3.7/dist-packages (from spacy>=2.2.2->en_core_web_lg==2.2.5) (1.1.3)\n",
            "Requirement already satisfied: thinc==7.4.0 in /usr/local/lib/python3.7/dist-packages (from spacy>=2.2.2->en_core_web_lg==2.2.5) (7.4.0)\n",
            "Requirement already satisfied: cymem<2.1.0,>=2.0.2 in /usr/local/lib/python3.7/dist-packages (from spacy>=2.2.2->en_core_web_lg==2.2.5) (2.0.6)\n",
            "Requirement already satisfied: numpy>=1.15.0 in /usr/local/lib/python3.7/dist-packages (from spacy>=2.2.2->en_core_web_lg==2.2.5) (1.21.6)\n",
            "Requirement already satisfied: murmurhash<1.1.0,>=0.28.0 in /usr/local/lib/python3.7/dist-packages (from spacy>=2.2.2->en_core_web_lg==2.2.5) (1.0.7)\n",
            "Requirement already satisfied: requests<3.0.0,>=2.13.0 in /usr/local/lib/python3.7/dist-packages (from spacy>=2.2.2->en_core_web_lg==2.2.5) (2.23.0)\n",
            "Requirement already satisfied: wasabi<1.1.0,>=0.4.0 in /usr/local/lib/python3.7/dist-packages (from spacy>=2.2.2->en_core_web_lg==2.2.5) (0.9.1)\n",
            "Requirement already satisfied: catalogue<1.1.0,>=0.0.7 in /usr/local/lib/python3.7/dist-packages (from spacy>=2.2.2->en_core_web_lg==2.2.5) (1.0.0)\n",
            "Requirement already satisfied: setuptools in /usr/local/lib/python3.7/dist-packages (from spacy>=2.2.2->en_core_web_lg==2.2.5) (57.4.0)\n",
            "Requirement already satisfied: srsly<1.1.0,>=1.0.2 in /usr/local/lib/python3.7/dist-packages (from spacy>=2.2.2->en_core_web_lg==2.2.5) (1.0.5)\n",
            "Requirement already satisfied: blis<0.5.0,>=0.4.0 in /usr/local/lib/python3.7/dist-packages (from spacy>=2.2.2->en_core_web_lg==2.2.5) (0.4.1)\n",
            "Requirement already satisfied: tqdm<5.0.0,>=4.38.0 in /usr/local/lib/python3.7/dist-packages (from spacy>=2.2.2->en_core_web_lg==2.2.5) (4.64.0)\n",
            "Requirement already satisfied: preshed<3.1.0,>=3.0.2 in /usr/local/lib/python3.7/dist-packages (from spacy>=2.2.2->en_core_web_lg==2.2.5) (3.0.6)\n",
            "Requirement already satisfied: importlib-metadata>=0.20 in /usr/local/lib/python3.7/dist-packages (from catalogue<1.1.0,>=0.0.7->spacy>=2.2.2->en_core_web_lg==2.2.5) (4.11.3)\n",
            "Requirement already satisfied: typing-extensions>=3.6.4 in /usr/local/lib/python3.7/dist-packages (from importlib-metadata>=0.20->catalogue<1.1.0,>=0.0.7->spacy>=2.2.2->en_core_web_lg==2.2.5) (4.2.0)\n",
            "Requirement already satisfied: zipp>=0.5 in /usr/local/lib/python3.7/dist-packages (from importlib-metadata>=0.20->catalogue<1.1.0,>=0.0.7->spacy>=2.2.2->en_core_web_lg==2.2.5) (3.8.0)\n",
            "Requirement already satisfied: urllib3!=1.25.0,!=1.25.1,<1.26,>=1.21.1 in /usr/local/lib/python3.7/dist-packages (from requests<3.0.0,>=2.13.0->spacy>=2.2.2->en_core_web_lg==2.2.5) (1.24.3)\n",
            "Requirement already satisfied: certifi>=2017.4.17 in /usr/local/lib/python3.7/dist-packages (from requests<3.0.0,>=2.13.0->spacy>=2.2.2->en_core_web_lg==2.2.5) (2021.10.8)\n",
            "Requirement already satisfied: chardet<4,>=3.0.2 in /usr/local/lib/python3.7/dist-packages (from requests<3.0.0,>=2.13.0->spacy>=2.2.2->en_core_web_lg==2.2.5) (3.0.4)\n",
            "Requirement already satisfied: idna<3,>=2.5 in /usr/local/lib/python3.7/dist-packages (from requests<3.0.0,>=2.13.0->spacy>=2.2.2->en_core_web_lg==2.2.5) (2.10)\n",
            "Building wheels for collected packages: en-core-web-lg\n",
            "  Building wheel for en-core-web-lg (setup.py) ... \u001b[?25l\u001b[?25hdone\n",
            "  Created wheel for en-core-web-lg: filename=en_core_web_lg-2.2.5-py3-none-any.whl size=829180942 sha256=63e0b67ca8385f74fe27e0bd256f031feec5b1473125f4de09617fd0974cb42a\n",
            "  Stored in directory: /tmp/pip-ephem-wheel-cache-y2cl9og2/wheels/11/95/ba/2c36cc368c0bd339b44a791c2c1881a1fb714b78c29a4cb8f5\n",
            "Successfully built en-core-web-lg\n",
            "\u001b[33mWARNING: Ignoring invalid distribution -ensorflow (/usr/local/lib/python3.7/dist-packages)\u001b[0m\n",
            "Installing collected packages: en-core-web-lg\n",
            "\u001b[33mWARNING: Ignoring invalid distribution -ensorflow (/usr/local/lib/python3.7/dist-packages)\u001b[0m\n",
            "Successfully installed en-core-web-lg-2.2.5\n",
            "\u001b[38;5;2m✔ Download and installation successful\u001b[0m\n",
            "You can now load the model via spacy.load('en_core_web_lg')\n"
          ]
        }
      ]
    },
    {
      "cell_type": "code",
      "source": [
        "#setting up Kaggle & TuriCreate package s\n",
        "import json\n",
        "import os\n",
        "\n",
        "!mkdir /root/.kaggle/\n",
        "# Installing the Kaggle package\n",
        "\n",
        "#Important Note: complete this with your own key - after running this for the first time remmember to **remove** your API_KEY\n",
        "api_token = {\"username\":\"danasror\",\"key\":\"83f2d5cd8d8b7d0c9848067dc056909f\"}\n",
        "\n",
        "# creating kaggle.json file with the personal API-Key details \n",
        "# You can also put this file on your Google Drive\n",
        "\n",
        "with open('/root/.kaggle/kaggle.json', 'w') as file:\n",
        "  json.dump(api_token, file)\n",
        "!chmod 600 /root/.kaggle/kaggle.json"
      ],
      "metadata": {
        "colab": {
          "base_uri": "https://localhost:8080/"
        },
        "id": "pYzCB2BR29N-",
        "outputId": "e19fe683-563a-4746-eda3-3d46f68f4e6d"
      },
      "execution_count": 2,
      "outputs": [
        {
          "output_type": "stream",
          "name": "stdout",
          "text": [
            "mkdir: cannot create directory ‘/root/.kaggle/’: File exists\n"
          ]
        }
      ]
    },
    {
      "cell_type": "markdown",
      "source": [
        "## Harry Poter network"
      ],
      "metadata": {
        "id": "sPwDxtthc-4s"
      }
    },
    {
      "cell_type": "code",
      "source": [
        "!kaggle datasets list -s \"harry potter\""
      ],
      "metadata": {
        "id": "DcrtI6K9-I0t"
      },
      "execution_count": null,
      "outputs": []
    },
    {
      "cell_type": "code",
      "source": [
        "!mkdir ./datasets\n",
        "!mkdir ./datasets/harry_potter_dataset\n",
        "\n",
        "!kaggle datasets download zez000/characters-in-harry-potter-books -p ./datasets/harry_potter_dataset\n",
        "!unzip ./datasets/harry_potter_dataset/*.zip  -d ./datasets/harry_potter_dataset/"
      ],
      "metadata": {
        "colab": {
          "base_uri": "https://localhost:8080/"
        },
        "id": "D3DpLBeO-M7U",
        "outputId": "1b33e4f2-98d1-4c65-df88-b440a5de4d2e"
      },
      "execution_count": 3,
      "outputs": [
        {
          "output_type": "stream",
          "name": "stdout",
          "text": [
            "mkdir: cannot create directory ‘./datasets’: File exists\n",
            "Downloading characters-in-harry-potter-books.zip to ./datasets/harry_potter_dataset\n",
            "  0% 0.00/321k [00:00<?, ?B/s]\n",
            "100% 321k/321k [00:00<00:00, 77.2MB/s]\n",
            "Archive:  ./datasets/harry_potter_dataset/characters-in-harry-potter-books.zip\n",
            "  inflating: ./datasets/harry_potter_dataset/HPCharactersData.csv  \n",
            "  inflating: ./datasets/harry_potter_dataset/HPCharactersDataRaw.json  \n"
          ]
        }
      ]
    },
    {
      "cell_type": "code",
      "source": [
        "!unzip ./datasets/harry_potter_dataset/characters-in-harry-potter-books.zip  -d ./datasets/harry_potter_dataset/"
      ],
      "metadata": {
        "colab": {
          "base_uri": "https://localhost:8080/"
        },
        "id": "AbMWIzXdA2QF",
        "outputId": "efe9e63e-67ea-4972-8de3-e84e9954c8c5"
      },
      "execution_count": 4,
      "outputs": [
        {
          "output_type": "stream",
          "name": "stdout",
          "text": [
            "Archive:  ./datasets/harry_potter_dataset/characters-in-harry-potter-books.zip\n",
            "replace ./datasets/harry_potter_dataset/HPCharactersData.csv? [y]es, [n]o, [A]ll, [N]one, [r]ename: y\n",
            "  inflating: ./datasets/harry_potter_dataset/HPCharactersData.csv  \n",
            "replace ./datasets/harry_potter_dataset/HPCharactersDataRaw.json? [y]es, [n]o, [A]ll, [N]one, [r]ename: y\n",
            "  inflating: ./datasets/harry_potter_dataset/HPCharactersDataRaw.json  \n"
          ]
        }
      ]
    },
    {
      "cell_type": "code",
      "source": [
        "import turicreate as tc\n",
        "\n",
        "sf = tc.SFrame.read_csv(\"./datasets/harry_potter_dataset/HPCharactersData.csv\")\n",
        "sf"
      ],
      "metadata": {
        "colab": {
          "base_uri": "https://localhost:8080/",
          "height": 898
        },
        "id": "E0QPl6rLBHb9",
        "outputId": "467fff69-140c-4db6-d296-9661e2231497"
      },
      "execution_count": 5,
      "outputs": [
        {
          "output_type": "display_data",
          "data": {
            "text/plain": [
              "Finished parsing file /content/datasets/harry_potter_dataset/HPCharactersData.csv"
            ],
            "text/html": [
              "<pre>Finished parsing file /content/datasets/harry_potter_dataset/HPCharactersData.csv</pre>"
            ]
          },
          "metadata": {}
        },
        {
          "output_type": "display_data",
          "data": {
            "text/plain": [
              "Parsing completed. Parsed 100 lines in 0.048187 secs."
            ],
            "text/html": [
              "<pre>Parsing completed. Parsed 100 lines in 0.048187 secs.</pre>"
            ]
          },
          "metadata": {}
        },
        {
          "output_type": "stream",
          "name": "stdout",
          "text": [
            "------------------------------------------------------\n",
            "Inferred types from first 100 line(s) of file as \n",
            "column_type_hints=[str,str,str,str,str,str,str,str]\n",
            "If parsing fails due to incorrect types, you can correct\n",
            "the inferred type list above and pass it to read_csv in\n",
            "the column_type_hints argument\n",
            "------------------------------------------------------\n"
          ]
        },
        {
          "output_type": "display_data",
          "data": {
            "text/plain": [
              "Finished parsing file /content/datasets/harry_potter_dataset/HPCharactersData.csv"
            ],
            "text/html": [
              "<pre>Finished parsing file /content/datasets/harry_potter_dataset/HPCharactersData.csv</pre>"
            ]
          },
          "metadata": {}
        },
        {
          "output_type": "display_data",
          "data": {
            "text/plain": [
              "Parsing completed. Parsed 1281 lines in 0.021517 secs."
            ],
            "text/html": [
              "<pre>Parsing completed. Parsed 1281 lines in 0.021517 secs.</pre>"
            ]
          },
          "metadata": {}
        },
        {
          "output_type": "execute_result",
          "data": {
            "text/plain": [
              "Columns:\n",
              "\tName\tstr\n",
              "\tLink\tstr\n",
              "\tDescr\tstr\n",
              "\tGender\tstr\n",
              "\tSpecies/Race\tstr\n",
              "\tBlood\tstr\n",
              "\tSchool\tstr\n",
              "\tProfession\tstr\n",
              "\n",
              "Rows: 1281\n",
              "\n",
              "Data:\n",
              "+----------------------+-------------------------------+\n",
              "|         Name         |              Link             |\n",
              "+----------------------+-------------------------------+\n",
              "|     Mrs. Abbott      | https://www.hp-lexicon.org... |\n",
              "|    Hannah Abbott     | https://www.hp-lexicon.org... |\n",
              "|    Abel Treetops     | https://www.hp-lexicon.org... |\n",
              "|   Euan Abercrombie   | https://www.hp-lexicon.org... |\n",
              "| Aberforth Dumbledore | https://www.hp-lexicon.org... |\n",
              "|      Abernathy       | https://www.hp-lexicon.org... |\n",
              "|  Abraham Peasegood   | https://www.hp-lexicon.org... |\n",
              "|    Abraham Potter    | https://www.hp-lexicon.org... |\n",
              "|    Abraxas Malfoy    | https://www.hp-lexicon.org... |\n",
              "|  Achilles Tolliver   | https://www.hp-lexicon.org... |\n",
              "+----------------------+-------------------------------+\n",
              "+-------------------------------+--------+--------------+-------------+\n",
              "|             Descr             | Gender | Species/Race |    Blood    |\n",
              "+-------------------------------+--------+--------------+-------------+\n",
              "| Mrs. Abbott was the mother... | Female |    witch     | Muggle-born |\n",
              "| Hannah Abbott is a Hufflep... | Female |    witch     |  Half-blood |\n",
              "| Abel Treetops was a wizard... |  Male  |    wizard    |   Unknown   |\n",
              "| Euan Abercrombie was a sma... |  Male  |    wizard    |   Unknown   |\n",
              "| Aberforth Dumbledore was a... |  Male  |    wizard    |  Half-blood |\n",
              "| Abernathy\\xa0was Tina Gold... |  Male  |    wizard    |   Unknown   |\n",
              "| Abraham Peasegood was an A... |  Male  |    wizard    |   Unknown   |\n",
              "| Abraham Potter was one of ... |  Male  |    wizard    |   Unknown   |\n",
              "| Abraxas Malfoy was a wizar... |  Male  |    wizard    |  Pure blood |\n",
              "| Achilles Tolliver was an A... |  Male  |    wizard    |   Unknown   |\n",
              "+-------------------------------+--------+--------------+-------------+\n",
              "+-----------------------+--------------------------------+\n",
              "|         School        |           Profession           |\n",
              "+-----------------------+--------------------------------+\n",
              "|        Unknown        |            Unknown             |\n",
              "| Hogwarts - Hufflepuff | Landlady of the Leaky Cauldron |\n",
              "|        Unknown        |            Unknown             |\n",
              "| Hogwarts - Gryffindor |            Unknown             |\n",
              "|   Hogwarts - Student  |             Barman             |\n",
              "|        Unknown        | MACUSA employee, then serv...  |\n",
              "|        Unknown        |            Unknown             |\n",
              "|        Unknown        |             Auror              |\n",
              "|        Unknown        |            Unknown             |\n",
              "|        Unknown        |             Auror              |\n",
              "+-----------------------+--------------------------------+\n",
              "[1281 rows x 8 columns]\n",
              "Note: Only the head of the SFrame is printed.\n",
              "You can use print_rows(num_rows=m, num_columns=n) to print more rows and columns."
            ],
            "text/html": [
              "<div style=\"max-height:1000px;max-width:1500px;overflow:auto;\"><table frame=\"box\" rules=\"cols\">\n",
              "    <tr>\n",
              "        <th style=\"padding-left: 1em; padding-right: 1em; text-align: center\">Name</th>\n",
              "        <th style=\"padding-left: 1em; padding-right: 1em; text-align: center\">Link</th>\n",
              "        <th style=\"padding-left: 1em; padding-right: 1em; text-align: center\">Descr</th>\n",
              "        <th style=\"padding-left: 1em; padding-right: 1em; text-align: center\">Gender</th>\n",
              "        <th style=\"padding-left: 1em; padding-right: 1em; text-align: center\">Species/Race</th>\n",
              "    </tr>\n",
              "    <tr>\n",
              "        <td style=\"padding-left: 1em; padding-right: 1em; text-align: center; vertical-align: top\">Mrs. Abbott</td>\n",
              "        <td style=\"padding-left: 1em; padding-right: 1em; text-align: center; vertical-align: top\">https://www.hp-lexicon.or<br>g/character/abbott- ...</td>\n",
              "        <td style=\"padding-left: 1em; padding-right: 1em; text-align: center; vertical-align: top\">Mrs. Abbott was the<br>mother of Hannah Abbott, ...</td>\n",
              "        <td style=\"padding-left: 1em; padding-right: 1em; text-align: center; vertical-align: top\">Female</td>\n",
              "        <td style=\"padding-left: 1em; padding-right: 1em; text-align: center; vertical-align: top\">witch</td>\n",
              "    </tr>\n",
              "    <tr>\n",
              "        <td style=\"padding-left: 1em; padding-right: 1em; text-align: center; vertical-align: top\">Hannah Abbott</td>\n",
              "        <td style=\"padding-left: 1em; padding-right: 1em; text-align: center; vertical-align: top\">https://www.hp-lexicon.or<br>g/character/abbott- ...</td>\n",
              "        <td style=\"padding-left: 1em; padding-right: 1em; text-align: center; vertical-align: top\">Hannah Abbott is a<br>Hufflepuff student in ...</td>\n",
              "        <td style=\"padding-left: 1em; padding-right: 1em; text-align: center; vertical-align: top\">Female</td>\n",
              "        <td style=\"padding-left: 1em; padding-right: 1em; text-align: center; vertical-align: top\">witch</td>\n",
              "    </tr>\n",
              "    <tr>\n",
              "        <td style=\"padding-left: 1em; padding-right: 1em; text-align: center; vertical-align: top\">Abel Treetops</td>\n",
              "        <td style=\"padding-left: 1em; padding-right: 1em; text-align: center; vertical-align: top\">https://www.hp-lexicon.or<br>g/character/abel- ...</td>\n",
              "        <td style=\"padding-left: 1em; padding-right: 1em; text-align: center; vertical-align: top\">Abel Treetops was a<br>wizard from Cincinnati ...</td>\n",
              "        <td style=\"padding-left: 1em; padding-right: 1em; text-align: center; vertical-align: top\">Male</td>\n",
              "        <td style=\"padding-left: 1em; padding-right: 1em; text-align: center; vertical-align: top\">wizard</td>\n",
              "    </tr>\n",
              "    <tr>\n",
              "        <td style=\"padding-left: 1em; padding-right: 1em; text-align: center; vertical-align: top\">Euan Abercrombie</td>\n",
              "        <td style=\"padding-left: 1em; padding-right: 1em; text-align: center; vertical-align: top\">https://www.hp-lexicon.or<br>g/character/abercrombie- ...</td>\n",
              "        <td style=\"padding-left: 1em; padding-right: 1em; text-align: center; vertical-align: top\">Euan Abercrombie was a<br>small boy with prominent ...</td>\n",
              "        <td style=\"padding-left: 1em; padding-right: 1em; text-align: center; vertical-align: top\">Male</td>\n",
              "        <td style=\"padding-left: 1em; padding-right: 1em; text-align: center; vertical-align: top\">wizard</td>\n",
              "    </tr>\n",
              "    <tr>\n",
              "        <td style=\"padding-left: 1em; padding-right: 1em; text-align: center; vertical-align: top\">Aberforth Dumbledore</td>\n",
              "        <td style=\"padding-left: 1em; padding-right: 1em; text-align: center; vertical-align: top\">https://www.hp-lexicon.or<br>g/character/dumbledore- ...</td>\n",
              "        <td style=\"padding-left: 1em; padding-right: 1em; text-align: center; vertical-align: top\">Aberforth Dumbledore was<br>a tall, thin, grumpy- ...</td>\n",
              "        <td style=\"padding-left: 1em; padding-right: 1em; text-align: center; vertical-align: top\">Male</td>\n",
              "        <td style=\"padding-left: 1em; padding-right: 1em; text-align: center; vertical-align: top\">wizard</td>\n",
              "    </tr>\n",
              "    <tr>\n",
              "        <td style=\"padding-left: 1em; padding-right: 1em; text-align: center; vertical-align: top\">Abernathy</td>\n",
              "        <td style=\"padding-left: 1em; padding-right: 1em; text-align: center; vertical-align: top\">https://www.hp-lexicon.or<br>g/character/abernathy/ ...</td>\n",
              "        <td style=\"padding-left: 1em; padding-right: 1em; text-align: center; vertical-align: top\">Abernathy\\xa0was Tina<br>Goldstein’s pompous boss ...</td>\n",
              "        <td style=\"padding-left: 1em; padding-right: 1em; text-align: center; vertical-align: top\">Male</td>\n",
              "        <td style=\"padding-left: 1em; padding-right: 1em; text-align: center; vertical-align: top\">wizard</td>\n",
              "    </tr>\n",
              "    <tr>\n",
              "        <td style=\"padding-left: 1em; padding-right: 1em; text-align: center; vertical-align: top\">Abraham Peasegood</td>\n",
              "        <td style=\"padding-left: 1em; padding-right: 1em; text-align: center; vertical-align: top\">https://www.hp-lexicon.or<br>g/character/abraham- ...</td>\n",
              "        <td style=\"padding-left: 1em; padding-right: 1em; text-align: center; vertical-align: top\">Abraham Peasegood was an<br>American wizard who ...</td>\n",
              "        <td style=\"padding-left: 1em; padding-right: 1em; text-align: center; vertical-align: top\">Male</td>\n",
              "        <td style=\"padding-left: 1em; padding-right: 1em; text-align: center; vertical-align: top\">wizard</td>\n",
              "    </tr>\n",
              "    <tr>\n",
              "        <td style=\"padding-left: 1em; padding-right: 1em; text-align: center; vertical-align: top\">Abraham Potter</td>\n",
              "        <td style=\"padding-left: 1em; padding-right: 1em; text-align: center; vertical-align: top\">https://www.hp-lexicon.or<br>g/character/potter- ...</td>\n",
              "        <td style=\"padding-left: 1em; padding-right: 1em; text-align: center; vertical-align: top\">Abraham Potter was one of<br>MACUSA’s original twelve ...</td>\n",
              "        <td style=\"padding-left: 1em; padding-right: 1em; text-align: center; vertical-align: top\">Male</td>\n",
              "        <td style=\"padding-left: 1em; padding-right: 1em; text-align: center; vertical-align: top\">wizard</td>\n",
              "    </tr>\n",
              "    <tr>\n",
              "        <td style=\"padding-left: 1em; padding-right: 1em; text-align: center; vertical-align: top\">Abraxas Malfoy</td>\n",
              "        <td style=\"padding-left: 1em; padding-right: 1em; text-align: center; vertical-align: top\">https://www.hp-lexicon.or<br>g/character/malfoy- ...</td>\n",
              "        <td style=\"padding-left: 1em; padding-right: 1em; text-align: center; vertical-align: top\">Abraxas Malfoy was a<br>wizard who was believed ...</td>\n",
              "        <td style=\"padding-left: 1em; padding-right: 1em; text-align: center; vertical-align: top\">Male</td>\n",
              "        <td style=\"padding-left: 1em; padding-right: 1em; text-align: center; vertical-align: top\">wizard</td>\n",
              "    </tr>\n",
              "    <tr>\n",
              "        <td style=\"padding-left: 1em; padding-right: 1em; text-align: center; vertical-align: top\">Achilles Tolliver</td>\n",
              "        <td style=\"padding-left: 1em; padding-right: 1em; text-align: center; vertical-align: top\">https://www.hp-lexicon.or<br>g/character/achilles- ...</td>\n",
              "        <td style=\"padding-left: 1em; padding-right: 1em; text-align: center; vertical-align: top\">Achilles Tolliver was an<br>Auror whom Tina Golds ...</td>\n",
              "        <td style=\"padding-left: 1em; padding-right: 1em; text-align: center; vertical-align: top\">Male</td>\n",
              "        <td style=\"padding-left: 1em; padding-right: 1em; text-align: center; vertical-align: top\">wizard</td>\n",
              "    </tr>\n",
              "</table>\n",
              "<table frame=\"box\" rules=\"cols\">\n",
              "    <tr>\n",
              "        <th style=\"padding-left: 1em; padding-right: 1em; text-align: center\">Blood</th>\n",
              "        <th style=\"padding-left: 1em; padding-right: 1em; text-align: center\">School</th>\n",
              "        <th style=\"padding-left: 1em; padding-right: 1em; text-align: center\">Profession</th>\n",
              "    </tr>\n",
              "    <tr>\n",
              "        <td style=\"padding-left: 1em; padding-right: 1em; text-align: center; vertical-align: top\">Muggle-born</td>\n",
              "        <td style=\"padding-left: 1em; padding-right: 1em; text-align: center; vertical-align: top\">Unknown</td>\n",
              "        <td style=\"padding-left: 1em; padding-right: 1em; text-align: center; vertical-align: top\">Unknown</td>\n",
              "    </tr>\n",
              "    <tr>\n",
              "        <td style=\"padding-left: 1em; padding-right: 1em; text-align: center; vertical-align: top\">Half-blood</td>\n",
              "        <td style=\"padding-left: 1em; padding-right: 1em; text-align: center; vertical-align: top\">Hogwarts - Hufflepuff</td>\n",
              "        <td style=\"padding-left: 1em; padding-right: 1em; text-align: center; vertical-align: top\">Landlady of the Leaky<br>Cauldron ...</td>\n",
              "    </tr>\n",
              "    <tr>\n",
              "        <td style=\"padding-left: 1em; padding-right: 1em; text-align: center; vertical-align: top\">Unknown</td>\n",
              "        <td style=\"padding-left: 1em; padding-right: 1em; text-align: center; vertical-align: top\">Unknown</td>\n",
              "        <td style=\"padding-left: 1em; padding-right: 1em; text-align: center; vertical-align: top\">Unknown</td>\n",
              "    </tr>\n",
              "    <tr>\n",
              "        <td style=\"padding-left: 1em; padding-right: 1em; text-align: center; vertical-align: top\">Unknown</td>\n",
              "        <td style=\"padding-left: 1em; padding-right: 1em; text-align: center; vertical-align: top\">Hogwarts - Gryffindor</td>\n",
              "        <td style=\"padding-left: 1em; padding-right: 1em; text-align: center; vertical-align: top\">Unknown</td>\n",
              "    </tr>\n",
              "    <tr>\n",
              "        <td style=\"padding-left: 1em; padding-right: 1em; text-align: center; vertical-align: top\">Half-blood</td>\n",
              "        <td style=\"padding-left: 1em; padding-right: 1em; text-align: center; vertical-align: top\">Hogwarts - Student</td>\n",
              "        <td style=\"padding-left: 1em; padding-right: 1em; text-align: center; vertical-align: top\">Barman</td>\n",
              "    </tr>\n",
              "    <tr>\n",
              "        <td style=\"padding-left: 1em; padding-right: 1em; text-align: center; vertical-align: top\">Unknown</td>\n",
              "        <td style=\"padding-left: 1em; padding-right: 1em; text-align: center; vertical-align: top\">Unknown</td>\n",
              "        <td style=\"padding-left: 1em; padding-right: 1em; text-align: center; vertical-align: top\">MACUSA employee, then<br>servant of Grindelwald ...</td>\n",
              "    </tr>\n",
              "    <tr>\n",
              "        <td style=\"padding-left: 1em; padding-right: 1em; text-align: center; vertical-align: top\">Unknown</td>\n",
              "        <td style=\"padding-left: 1em; padding-right: 1em; text-align: center; vertical-align: top\">Unknown</td>\n",
              "        <td style=\"padding-left: 1em; padding-right: 1em; text-align: center; vertical-align: top\">Unknown</td>\n",
              "    </tr>\n",
              "    <tr>\n",
              "        <td style=\"padding-left: 1em; padding-right: 1em; text-align: center; vertical-align: top\">Unknown</td>\n",
              "        <td style=\"padding-left: 1em; padding-right: 1em; text-align: center; vertical-align: top\">Unknown</td>\n",
              "        <td style=\"padding-left: 1em; padding-right: 1em; text-align: center; vertical-align: top\">Auror</td>\n",
              "    </tr>\n",
              "    <tr>\n",
              "        <td style=\"padding-left: 1em; padding-right: 1em; text-align: center; vertical-align: top\">Pure blood</td>\n",
              "        <td style=\"padding-left: 1em; padding-right: 1em; text-align: center; vertical-align: top\">Unknown</td>\n",
              "        <td style=\"padding-left: 1em; padding-right: 1em; text-align: center; vertical-align: top\">Unknown</td>\n",
              "    </tr>\n",
              "    <tr>\n",
              "        <td style=\"padding-left: 1em; padding-right: 1em; text-align: center; vertical-align: top\">Unknown</td>\n",
              "        <td style=\"padding-left: 1em; padding-right: 1em; text-align: center; vertical-align: top\">Unknown</td>\n",
              "        <td style=\"padding-left: 1em; padding-right: 1em; text-align: center; vertical-align: top\">Auror</td>\n",
              "    </tr>\n",
              "</table>\n",
              "[1281 rows x 8 columns]<br/>Note: Only the head of the SFrame is printed.<br/>You can use print_rows(num_rows=m, num_columns=n) to print more rows and columns.\n",
              "</div>"
            ]
          },
          "metadata": {},
          "execution_count": 5
        }
      ]
    },
    {
      "cell_type": "code",
      "source": [
        "f_sf = sf[sf['School'] != 'Unknown']\n",
        "f_sf"
      ],
      "metadata": {
        "colab": {
          "base_uri": "https://localhost:8080/",
          "height": 724
        },
        "id": "XwIFNfFXUP-e",
        "outputId": "cb6c67d3-d622-4b3f-892d-a70628bd46a6"
      },
      "execution_count": 6,
      "outputs": [
        {
          "output_type": "execute_result",
          "data": {
            "text/plain": [
              "Columns:\n",
              "\tName\tstr\n",
              "\tLink\tstr\n",
              "\tDescr\tstr\n",
              "\tGender\tstr\n",
              "\tSpecies/Race\tstr\n",
              "\tBlood\tstr\n",
              "\tSchool\tstr\n",
              "\tProfession\tstr\n",
              "\n",
              "Rows: Unknown\n",
              "\n",
              "Data:\n",
              "+----------------------+-------------------------------+\n",
              "|         Name         |              Link             |\n",
              "+----------------------+-------------------------------+\n",
              "|    Hannah Abbott     | https://www.hp-lexicon.org... |\n",
              "|   Euan Abercrombie   | https://www.hp-lexicon.org... |\n",
              "| Aberforth Dumbledore | https://www.hp-lexicon.org... |\n",
              "|   Stewart Ackerley   | https://www.hp-lexicon.org... |\n",
              "|     Adrian Pucey     | https://www.hp-lexicon.org... |\n",
              "|    Mad-Eye Moody     | https://www.hp-lexicon.org... |\n",
              "|   Albus Dumbledore   | https://www.hp-lexicon.org... |\n",
              "|     Albus Potter     | https://www.hp-lexicon.org... |\n",
              "|    Alecto Carrow     | https://www.hp-lexicon.org... |\n",
              "|    Alicia Spinnet    | https://www.hp-lexicon.org... |\n",
              "+----------------------+-------------------------------+\n",
              "+-------------------------------+--------+--------------+------------+\n",
              "|             Descr             | Gender | Species/Race |   Blood    |\n",
              "+-------------------------------+--------+--------------+------------+\n",
              "| Hannah Abbott is a Hufflep... | Female |    witch     | Half-blood |\n",
              "| Euan Abercrombie was a sma... |  Male  |    wizard    |  Unknown   |\n",
              "| Aberforth Dumbledore was a... |  Male  |    wizard    | Half-blood |\n",
              "| Stewart Ackerley was a Rav... |  Male  |    wizard    |  Unknown   |\n",
              "| Adrian Pucey is a Chaser o... |  Male  |    wizard    |  Unknown   |\n",
              "| Alastor “Mad-Eye” Moody is... |  Male  |    wizard    |  Unknown   |\n",
              "| Albus Dumbledore was the H... |  Male  |    wizard    | Half-blood |\n",
              "| Albus Potter is the middle... |  Male  |    wizard    | Half-blood |\n",
              "| Alecto and Amycus Carrow (... | Female |    witch     | Pure blood |\n",
              "| Alicia Spinnet was a Gryff... | Female |    witch     |  Unknown   |\n",
              "+-------------------------------+--------+--------------+------------+\n",
              "+-------------------------------+--------------------------------+\n",
              "|             School            |           Profession           |\n",
              "+-------------------------------+--------------------------------+\n",
              "|     Hogwarts - Hufflepuff     | Landlady of the Leaky Cauldron |\n",
              "|     Hogwarts - Gryffindor     |            Unknown             |\n",
              "|       Hogwarts - Student      |             Barman             |\n",
              "|      Hogwarts - Ravenclaw     |            Unknown             |\n",
              "|      Hogwarts - Slytherin     |            Unknown             |\n",
              "|        Hogwarts - Staff       | Auror (retired), Hogwarts ...  |\n",
              "| Hogwarts - Staff\\Hogwarts ... | Headmaster at Hogwarts School  |\n",
              "|      Hogwarts - Slytherin     |            Unknown             |\n",
              "|        Hogwarts - Staff       |            Unknown             |\n",
              "|     Hogwarts - Gryffindor     |            Unknown             |\n",
              "+-------------------------------+--------------------------------+\n",
              "[? rows x 8 columns]\n",
              "Note: Only the head of the SFrame is printed. This SFrame is lazily evaluated.\n",
              "You can use sf.materialize() to force materialization."
            ],
            "text/html": [
              "<div style=\"max-height:1000px;max-width:1500px;overflow:auto;\"><table frame=\"box\" rules=\"cols\">\n",
              "    <tr>\n",
              "        <th style=\"padding-left: 1em; padding-right: 1em; text-align: center\">Name</th>\n",
              "        <th style=\"padding-left: 1em; padding-right: 1em; text-align: center\">Link</th>\n",
              "        <th style=\"padding-left: 1em; padding-right: 1em; text-align: center\">Descr</th>\n",
              "        <th style=\"padding-left: 1em; padding-right: 1em; text-align: center\">Gender</th>\n",
              "        <th style=\"padding-left: 1em; padding-right: 1em; text-align: center\">Species/Race</th>\n",
              "    </tr>\n",
              "    <tr>\n",
              "        <td style=\"padding-left: 1em; padding-right: 1em; text-align: center; vertical-align: top\">Hannah Abbott</td>\n",
              "        <td style=\"padding-left: 1em; padding-right: 1em; text-align: center; vertical-align: top\">https://www.hp-lexicon.or<br>g/character/abbott- ...</td>\n",
              "        <td style=\"padding-left: 1em; padding-right: 1em; text-align: center; vertical-align: top\">Hannah Abbott is a<br>Hufflepuff student in ...</td>\n",
              "        <td style=\"padding-left: 1em; padding-right: 1em; text-align: center; vertical-align: top\">Female</td>\n",
              "        <td style=\"padding-left: 1em; padding-right: 1em; text-align: center; vertical-align: top\">witch</td>\n",
              "    </tr>\n",
              "    <tr>\n",
              "        <td style=\"padding-left: 1em; padding-right: 1em; text-align: center; vertical-align: top\">Euan Abercrombie</td>\n",
              "        <td style=\"padding-left: 1em; padding-right: 1em; text-align: center; vertical-align: top\">https://www.hp-lexicon.or<br>g/character/abercrombie- ...</td>\n",
              "        <td style=\"padding-left: 1em; padding-right: 1em; text-align: center; vertical-align: top\">Euan Abercrombie was a<br>small boy with prominent ...</td>\n",
              "        <td style=\"padding-left: 1em; padding-right: 1em; text-align: center; vertical-align: top\">Male</td>\n",
              "        <td style=\"padding-left: 1em; padding-right: 1em; text-align: center; vertical-align: top\">wizard</td>\n",
              "    </tr>\n",
              "    <tr>\n",
              "        <td style=\"padding-left: 1em; padding-right: 1em; text-align: center; vertical-align: top\">Aberforth Dumbledore</td>\n",
              "        <td style=\"padding-left: 1em; padding-right: 1em; text-align: center; vertical-align: top\">https://www.hp-lexicon.or<br>g/character/dumbledore- ...</td>\n",
              "        <td style=\"padding-left: 1em; padding-right: 1em; text-align: center; vertical-align: top\">Aberforth Dumbledore was<br>a tall, thin, grumpy- ...</td>\n",
              "        <td style=\"padding-left: 1em; padding-right: 1em; text-align: center; vertical-align: top\">Male</td>\n",
              "        <td style=\"padding-left: 1em; padding-right: 1em; text-align: center; vertical-align: top\">wizard</td>\n",
              "    </tr>\n",
              "    <tr>\n",
              "        <td style=\"padding-left: 1em; padding-right: 1em; text-align: center; vertical-align: top\">Stewart Ackerley</td>\n",
              "        <td style=\"padding-left: 1em; padding-right: 1em; text-align: center; vertical-align: top\">https://www.hp-lexicon.or<br>g/character/stewart- ...</td>\n",
              "        <td style=\"padding-left: 1em; padding-right: 1em; text-align: center; vertical-align: top\">Stewart Ackerley was a<br>Ravenclaw student who ...</td>\n",
              "        <td style=\"padding-left: 1em; padding-right: 1em; text-align: center; vertical-align: top\">Male</td>\n",
              "        <td style=\"padding-left: 1em; padding-right: 1em; text-align: center; vertical-align: top\">wizard</td>\n",
              "    </tr>\n",
              "    <tr>\n",
              "        <td style=\"padding-left: 1em; padding-right: 1em; text-align: center; vertical-align: top\">Adrian Pucey</td>\n",
              "        <td style=\"padding-left: 1em; padding-right: 1em; text-align: center; vertical-align: top\">https://www.hp-lexicon.or<br>g/character/adrian-pu ...</td>\n",
              "        <td style=\"padding-left: 1em; padding-right: 1em; text-align: center; vertical-align: top\">Adrian Pucey is a Chaser<br>on the Slytherin ...</td>\n",
              "        <td style=\"padding-left: 1em; padding-right: 1em; text-align: center; vertical-align: top\">Male</td>\n",
              "        <td style=\"padding-left: 1em; padding-right: 1em; text-align: center; vertical-align: top\">wizard</td>\n",
              "    </tr>\n",
              "    <tr>\n",
              "        <td style=\"padding-left: 1em; padding-right: 1em; text-align: center; vertical-align: top\">Mad-Eye Moody</td>\n",
              "        <td style=\"padding-left: 1em; padding-right: 1em; text-align: center; vertical-align: top\">https://www.hp-lexicon.or<br>g/character/alastor-mad- ...</td>\n",
              "        <td style=\"padding-left: 1em; padding-right: 1em; text-align: center; vertical-align: top\">Alastor “Mad-Eye” Moody<br>is a retired Auror, ...</td>\n",
              "        <td style=\"padding-left: 1em; padding-right: 1em; text-align: center; vertical-align: top\">Male</td>\n",
              "        <td style=\"padding-left: 1em; padding-right: 1em; text-align: center; vertical-align: top\">wizard</td>\n",
              "    </tr>\n",
              "    <tr>\n",
              "        <td style=\"padding-left: 1em; padding-right: 1em; text-align: center; vertical-align: top\">Albus Dumbledore</td>\n",
              "        <td style=\"padding-left: 1em; padding-right: 1em; text-align: center; vertical-align: top\">https://www.hp-lexicon.or<br>g/character/dumbledore- ...</td>\n",
              "        <td style=\"padding-left: 1em; padding-right: 1em; text-align: center; vertical-align: top\">Albus Dumbledore was the<br>Headmaster of Hogwarts ...</td>\n",
              "        <td style=\"padding-left: 1em; padding-right: 1em; text-align: center; vertical-align: top\">Male</td>\n",
              "        <td style=\"padding-left: 1em; padding-right: 1em; text-align: center; vertical-align: top\">wizard</td>\n",
              "    </tr>\n",
              "    <tr>\n",
              "        <td style=\"padding-left: 1em; padding-right: 1em; text-align: center; vertical-align: top\">Albus Potter</td>\n",
              "        <td style=\"padding-left: 1em; padding-right: 1em; text-align: center; vertical-align: top\">https://www.hp-lexicon.or<br>g/character/potter- ...</td>\n",
              "        <td style=\"padding-left: 1em; padding-right: 1em; text-align: center; vertical-align: top\">Albus Potter is the<br>middle child and second ...</td>\n",
              "        <td style=\"padding-left: 1em; padding-right: 1em; text-align: center; vertical-align: top\">Male</td>\n",
              "        <td style=\"padding-left: 1em; padding-right: 1em; text-align: center; vertical-align: top\">wizard</td>\n",
              "    </tr>\n",
              "    <tr>\n",
              "        <td style=\"padding-left: 1em; padding-right: 1em; text-align: center; vertical-align: top\">Alecto Carrow</td>\n",
              "        <td style=\"padding-left: 1em; padding-right: 1em; text-align: center; vertical-align: top\">https://www.hp-lexicon.or<br>g/character/carrow- ...</td>\n",
              "        <td style=\"padding-left: 1em; padding-right: 1em; text-align: center; vertical-align: top\">Alecto and Amycus Carrow<br>(JKR) were Death Eaters, ...</td>\n",
              "        <td style=\"padding-left: 1em; padding-right: 1em; text-align: center; vertical-align: top\">Female</td>\n",
              "        <td style=\"padding-left: 1em; padding-right: 1em; text-align: center; vertical-align: top\">witch</td>\n",
              "    </tr>\n",
              "    <tr>\n",
              "        <td style=\"padding-left: 1em; padding-right: 1em; text-align: center; vertical-align: top\">Alicia Spinnet</td>\n",
              "        <td style=\"padding-left: 1em; padding-right: 1em; text-align: center; vertical-align: top\">https://www.hp-lexicon.or<br>g/character/alicia- ...</td>\n",
              "        <td style=\"padding-left: 1em; padding-right: 1em; text-align: center; vertical-align: top\">Alicia Spinnet was a<br>Gryffindor girl two y ...</td>\n",
              "        <td style=\"padding-left: 1em; padding-right: 1em; text-align: center; vertical-align: top\">Female</td>\n",
              "        <td style=\"padding-left: 1em; padding-right: 1em; text-align: center; vertical-align: top\">witch</td>\n",
              "    </tr>\n",
              "</table>\n",
              "<table frame=\"box\" rules=\"cols\">\n",
              "    <tr>\n",
              "        <th style=\"padding-left: 1em; padding-right: 1em; text-align: center\">Blood</th>\n",
              "        <th style=\"padding-left: 1em; padding-right: 1em; text-align: center\">School</th>\n",
              "        <th style=\"padding-left: 1em; padding-right: 1em; text-align: center\">Profession</th>\n",
              "    </tr>\n",
              "    <tr>\n",
              "        <td style=\"padding-left: 1em; padding-right: 1em; text-align: center; vertical-align: top\">Half-blood</td>\n",
              "        <td style=\"padding-left: 1em; padding-right: 1em; text-align: center; vertical-align: top\">Hogwarts - Hufflepuff</td>\n",
              "        <td style=\"padding-left: 1em; padding-right: 1em; text-align: center; vertical-align: top\">Landlady of the Leaky<br>Cauldron ...</td>\n",
              "    </tr>\n",
              "    <tr>\n",
              "        <td style=\"padding-left: 1em; padding-right: 1em; text-align: center; vertical-align: top\">Unknown</td>\n",
              "        <td style=\"padding-left: 1em; padding-right: 1em; text-align: center; vertical-align: top\">Hogwarts - Gryffindor</td>\n",
              "        <td style=\"padding-left: 1em; padding-right: 1em; text-align: center; vertical-align: top\">Unknown</td>\n",
              "    </tr>\n",
              "    <tr>\n",
              "        <td style=\"padding-left: 1em; padding-right: 1em; text-align: center; vertical-align: top\">Half-blood</td>\n",
              "        <td style=\"padding-left: 1em; padding-right: 1em; text-align: center; vertical-align: top\">Hogwarts - Student</td>\n",
              "        <td style=\"padding-left: 1em; padding-right: 1em; text-align: center; vertical-align: top\">Barman</td>\n",
              "    </tr>\n",
              "    <tr>\n",
              "        <td style=\"padding-left: 1em; padding-right: 1em; text-align: center; vertical-align: top\">Unknown</td>\n",
              "        <td style=\"padding-left: 1em; padding-right: 1em; text-align: center; vertical-align: top\">Hogwarts - Ravenclaw</td>\n",
              "        <td style=\"padding-left: 1em; padding-right: 1em; text-align: center; vertical-align: top\">Unknown</td>\n",
              "    </tr>\n",
              "    <tr>\n",
              "        <td style=\"padding-left: 1em; padding-right: 1em; text-align: center; vertical-align: top\">Unknown</td>\n",
              "        <td style=\"padding-left: 1em; padding-right: 1em; text-align: center; vertical-align: top\">Hogwarts - Slytherin</td>\n",
              "        <td style=\"padding-left: 1em; padding-right: 1em; text-align: center; vertical-align: top\">Unknown</td>\n",
              "    </tr>\n",
              "    <tr>\n",
              "        <td style=\"padding-left: 1em; padding-right: 1em; text-align: center; vertical-align: top\">Unknown</td>\n",
              "        <td style=\"padding-left: 1em; padding-right: 1em; text-align: center; vertical-align: top\">Hogwarts - Staff</td>\n",
              "        <td style=\"padding-left: 1em; padding-right: 1em; text-align: center; vertical-align: top\">Auror (retired), Hogwarts<br>Defense Against the Dark ...</td>\n",
              "    </tr>\n",
              "    <tr>\n",
              "        <td style=\"padding-left: 1em; padding-right: 1em; text-align: center; vertical-align: top\">Half-blood</td>\n",
              "        <td style=\"padding-left: 1em; padding-right: 1em; text-align: center; vertical-align: top\">Hogwarts - Staff\\Hogwarts<br>- Gryffindor ...</td>\n",
              "        <td style=\"padding-left: 1em; padding-right: 1em; text-align: center; vertical-align: top\">Headmaster at Hogwarts<br>School ...</td>\n",
              "    </tr>\n",
              "    <tr>\n",
              "        <td style=\"padding-left: 1em; padding-right: 1em; text-align: center; vertical-align: top\">Half-blood</td>\n",
              "        <td style=\"padding-left: 1em; padding-right: 1em; text-align: center; vertical-align: top\">Hogwarts - Slytherin</td>\n",
              "        <td style=\"padding-left: 1em; padding-right: 1em; text-align: center; vertical-align: top\">Unknown</td>\n",
              "    </tr>\n",
              "    <tr>\n",
              "        <td style=\"padding-left: 1em; padding-right: 1em; text-align: center; vertical-align: top\">Pure blood</td>\n",
              "        <td style=\"padding-left: 1em; padding-right: 1em; text-align: center; vertical-align: top\">Hogwarts - Staff</td>\n",
              "        <td style=\"padding-left: 1em; padding-right: 1em; text-align: center; vertical-align: top\">Unknown</td>\n",
              "    </tr>\n",
              "    <tr>\n",
              "        <td style=\"padding-left: 1em; padding-right: 1em; text-align: center; vertical-align: top\">Unknown</td>\n",
              "        <td style=\"padding-left: 1em; padding-right: 1em; text-align: center; vertical-align: top\">Hogwarts - Gryffindor</td>\n",
              "        <td style=\"padding-left: 1em; padding-right: 1em; text-align: center; vertical-align: top\">Unknown</td>\n",
              "    </tr>\n",
              "</table>\n",
              "[? rows x 8 columns]<br/>Note: Only the head of the SFrame is printed. This SFrame is lazily evaluated.<br/>You can use sf.materialize() to force materialization.\n",
              "</div>"
            ]
          },
          "metadata": {},
          "execution_count": 6
        }
      ]
    },
    {
      "cell_type": "code",
      "source": [
        "import networkx as nx\n",
        "\n",
        "l_name = list(f_sf[\"Name\"])\n",
        "l_school = list(f_sf[\"School\"])\n",
        "\n",
        "g = nx.Graph()\n",
        "edge_list = list(zip(l_name,l_school))\n",
        "\n",
        "# remove all unknown places\n",
        "for edge in edge_list:\n",
        "  if  'own' in str(edge[1]) or str(edge[1]) == '':\n",
        "    edge_list.remove(edge)\n",
        "\n",
        "g.add_edges_from(edge_list)\n",
        "\n",
        "print(nx.info(g))\n",
        "nx.write_gml(g, \"harry_potter.gml\")"
      ],
      "metadata": {
        "colab": {
          "base_uri": "https://localhost:8080/"
        },
        "id": "D0pHShk9BT53",
        "outputId": "1a6f7b4d-4b39-4b5c-db46-a72c9a73fbf3"
      },
      "execution_count": 7,
      "outputs": [
        {
          "output_type": "stream",
          "name": "stdout",
          "text": [
            "Graph with 278 nodes and 257 edges\n"
          ]
        }
      ]
    },
    {
      "cell_type": "markdown",
      "source": [
        "![Screenshot_4.jpg](data:image/jpeg;base64,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)"
      ],
      "metadata": {
        "id": "UxKVCLJ2Xm6W"
      }
    },
    {
      "cell_type": "code",
      "source": [
        "def unique(list1):\n",
        "  \n",
        "    # initialize a null list\n",
        "    unique_list = []\n",
        "      \n",
        "    # traverse for all elements\n",
        "    for x in list1:\n",
        "        # check if exists in unique_list or not\n",
        "        if x not in unique_list:\n",
        "            unique_list.append(x)\n",
        "    # print list\n",
        "    for x in unique_list:\n",
        "        print (x)\n",
        "\n",
        "unique(l_name)\n",
        "#unique(l_school)"
      ],
      "metadata": {
        "colab": {
          "base_uri": "https://localhost:8080/"
        },
        "id": "B6k39LRtFVaM",
        "outputId": "d33ceb27-4902-4a94-a285-ca7bca30b54f"
      },
      "execution_count": 8,
      "outputs": [
        {
          "output_type": "stream",
          "name": "stdout",
          "text": [
            "Hannah Abbott\n",
            "Euan Abercrombie\n",
            "Aberforth Dumbledore\n",
            "Stewart Ackerley\n",
            "Adrian Pucey\n",
            "Mad-Eye Moody\n",
            "Albus Dumbledore\n",
            "Albus Potter\n",
            "Alecto Carrow\n",
            "Alicia Spinnet\n",
            "Alphard Black\n",
            "Amycus Carrow\n",
            "Andrew Kirke\n",
            "Andromeda Tonks\n",
            "Angelina Johnson\n",
            "Anthony Goldstein\n",
            "Apollyon Pringle\n",
            "Arcturus Black (1884)\n",
            "Arcturus Black (1901)\n",
            "Argus Filch\n",
            "Armando Dippet\n",
            "Artemisia Lufkin\n",
            "Arthur Weasley\n",
            "Bertram Aubrey\n",
            "Aurora Sinistra\n",
            "Avery\n",
            "Babajide Akingbade\n",
            "Millicent Bagnold\n",
            "Barty Crouch Jr.\n",
            "Bathsheda Babbling\n",
            "Herbert Beery\n",
            "Katie Bell\n",
            "Benedita Dourado\n",
            "Bertha Jorkins\n",
            "Bill Weasley\n",
            "Professor Binns\n",
            "Bellatrix Lestrange\n",
            "Belvina Black\n",
            "Callidora Black\n",
            "Cassiopeia Black\n",
            "Charis Black\n",
            "Cygnus Black\n",
            "Cygnus Black (1889)\n",
            "Orion Black\n",
            "Pollux Black\n",
            "Dorea Black Potter\n",
            "Regulus Black\n",
            "Sirius Black\n",
            "Cedrella Black Weasley\n",
            "Blaise Zabini\n",
            "Miles Bletchley\n",
            "The Bloody Baron\n",
            "Melinda Bobbin\n",
            "Bole\n",
            "Susan Bones\n",
            "Webster Boot\n",
            "Libatius Borage\n",
            "Craig Bowker Jr.\n",
            "Bradley\n",
            "Bridget Wenlock\n",
            "Lavender Brown\n",
            "Zygmunt Budge\n",
            "K. Bundy\n",
            "Charity Burbage\n",
            "Cadwallader\n",
            "S. Capper\n",
            "Eddie Carmichael\n",
            "Rancorous Carpe\n",
            "Cedric Diggory\n",
            "Celestina Warbeck\n",
            "Chambers\n",
            "Cho Chang\n",
            "Polly Chapman\n",
            "Charlie Weasley\n",
            "Penelope Clearwater\n",
            "Edgar Cloggs\n",
            "João Coelho\n",
            "Colin Creevey\n",
            "Ritchie Coote\n",
            "Corban Yaxley\n",
            "Cormac McLaggen\n",
            "Michael Corner\n",
            "Corvinus Gaunt\n",
            "Dirk Cresswell\n",
            "Damocles Belby\n",
            "Daphne Greengrass\n",
            "Davey Gudgeon\n",
            "Roger Davies\n",
            "Dean Thomas\n",
            "Fleur Delacour\n",
            "Demelza Robins\n",
            "Nearly-Headless Nick\n",
            "Dennis Creevey\n",
            "Derek\n",
            "Derrick\n",
            "Dilys Derwent\n",
            "Dexter Fortescue\n",
            "Harold Dingle\n",
            "Emma Dobbs\n",
            "Elphias Doge\n",
            "Dolores Umbridge\n",
            "J. Dorny\n",
            "Distractible Douglas\n",
            "Draco Malfoy\n",
            "B. Dunstan\n",
            "Marietta Edgecombe\n",
            "Teddy Lupin\n",
            "Eglantine Puffett\n",
            "Eloise Midgen/Eloise Midgeon\n",
            "Ernie Macmillan\n",
            "Eupraxia Mole\n",
            "Everard\n",
            "Perpetua Fancourt\n",
            "Gemma Farley\n",
            "The Fat Friar\n",
            "Miss S. Fawcett\n",
            "Seamus Finnigan\n",
            "Firenze\n",
            "Nicolas Flamel\n",
            "Fleamont Potter\n",
            "Marcus Flint\n",
            "Filius Flitwick\n",
            "Fred Weasley\n",
            "Galatea Merrythought\n",
            "Garrick Ollivander\n",
            "Geoffrey Hooper\n",
            "George Weasley\n",
            "Gilderoy Lockhart\n",
            "Ginny Weasley\n",
            "Queenie Goldstein\n",
            "Gormlaith Gaunt\n",
            "Graham Pritchard\n",
            "Hermione Granger\n",
            "Rose Granger-Weasley\n",
            "Gregory Goyle\n",
            "The Grey Lady\n",
            "Gellert Grindelwald\n",
            "Grogan Stump\n",
            "Wilhelmina Grubbly-Plank\n",
            "Godric Gryffindor\n",
            "Gwenog Jones\n",
            "Hankerton Humble\n",
            "Harfang Munter\n",
            "Harper\n",
            "Harry Potter\n",
            "Helena Ravenclaw\n",
            "Hengist of Woodcroft\n",
            "Masaki Hongo\n",
            "Madam Hooch\n",
            "Horace Slughorn\n",
            "Olive Hornby\n",
            "Helga Hufflepuff\n",
            "Ignatia Wildsmith\n",
            "Igor Karkaroff\n",
            "Irma Pince\n",
            "Isobel McGonagall\n",
            "Jack Sloper\n",
            "James Potter\n",
            "James Sirius Potter\n",
            "Karl Jenkins\n",
            "Jimmy Peakes\n",
            "Lee Jordan\n",
            "Justin Finch-Fletchley\n",
            "Kenneth Towler\n",
            "Silvanus Kettleburn\n",
            "Kreacher\n",
            "Viktor Krum\n",
            "Kimiko Kurosawa\n",
            "Laverne de Montmorency\n",
            "Leanne\n",
            "Leta Lestrange\n",
            "Lily Potter\n",
            "Lily Luna Potter\n",
            "Sue Li\n",
            "Neville Longbottom\n",
            "Lord Voldemort\n",
            "Luna Lovegood\n",
            "Lucius Malfoy\n",
            "Luc Millefeuille\n",
            "Remus Lupin\n",
            "Morag Macdougal\n",
            "Malcolm Baddock\n",
            "Narcissa Malfoy\n",
            "Scorpius Malfoy\n",
            "Roger Malone\n",
            "Mandy Brocklehurst\n",
            "Marcus Belby\n",
            "Olympe Maxime\n",
            "McClaggan\n",
            "Natalie McDonald\n",
            "Minerva McGonagall\n",
            "Merlin\n",
            "Millicent Bulstrode\n",
            "Montague\n",
            "Mulciber\n",
            "Myrtle Warren\n",
            "Moaning Myrtle\n",
            "Nerida Vulchanova\n",
            "Newt Scamander\n",
            "Phineas Nigellus Black\n",
            "Noriko Sato\n",
            "Theodore Nott\n",
            "Nymphadora Tonks\n",
            "Ogg\n",
            "Oliver Rivers\n",
            "Oliver Wood\n",
            "Orla Quirke\n",
            "Panju Weasley\n",
            "Pansy Parkinson\n",
            "Padma Patil\n",
            "Parvati Patil\n",
            "Percy Weasley\n",
            "Sally-Anne Perks\n",
            "Peter Pettigrew\n",
            "Poliakoff\n",
            "Pomona Sprout\n",
            "Poppy Pomfrey\n",
            "Tina Goldstein\n",
            "Prendergast\n",
            "Quirinus Quirrell\n",
            "Professor Vector\n",
            "Queenie Greengrass\n",
            "Rabastan Lestrange\n",
            "Rowena Ravenclaw\n",
            "Tom Marvolo Riddle\n",
            "Rodolphus Lestrange\n",
            "Romilda Vane\n",
            "Ron Weasley\n",
            "Rubeus Hagrid\n",
            "Ryuichi Yamaguchi\n",
            "Sally Smith\n",
            "Seraphina Picquery\n",
            "Shintaro Shingo\n",
            "Sir Cadogan\n",
            "Salazar Slytherin\n",
            "Zacharias Smith\n",
            "Severus Snape\n",
            "Sorting Hat\n",
            "Stebbins\n",
            "Stephen Cornfoot\n",
            "Su Li\n",
            "Sybill Trelawney\n",
            "Terry Boot\n",
            "Todoroki\n",
            "Trocar\n",
            "Uric the Oddball\n",
            "Urquhart\n",
            "Vaisey\n",
            "Vicky Frobisher\n",
            "Victoire Weasley\n",
            "Vincent Duc de Trefle-Picques\n",
            "Vincent Crabbe\n",
            "Yoshi Wakahisa\n",
            "Walburga Black\n",
            "Warrington\n",
            "Wormtail\n",
            "Yann Fredericks\n"
          ]
        }
      ]
    },
    {
      "cell_type": "markdown",
      "source": [
        "## Game Of Thrones network"
      ],
      "metadata": {
        "id": "67HHctLTdN93"
      }
    },
    {
      "cell_type": "code",
      "source": [
        "!mkdir ./datasets\n",
        "!mkdir ./datasets/game-of-thrones\n",
        "\n",
        "!kaggle datasets download mylesoneill/game-of-thrones -p ./datasets/game-of-thrones\n",
        "!unzip ./datasets/game-of-thrones/*.zip  -d ./datasets/game-of-thrones/"
      ],
      "metadata": {
        "colab": {
          "base_uri": "https://localhost:8080/"
        },
        "id": "SceuIKzvYQRv",
        "outputId": "eb4f30a0-65fe-486b-dbf4-ac6bcfc77d14"
      },
      "execution_count": 9,
      "outputs": [
        {
          "output_type": "stream",
          "name": "stdout",
          "text": [
            "mkdir: cannot create directory ‘./datasets’: File exists\n",
            "Downloading game-of-thrones.zip to ./datasets/game-of-thrones\n",
            "  0% 0.00/66.1k [00:00<?, ?B/s]\n",
            "100% 66.1k/66.1k [00:00<00:00, 46.8MB/s]\n",
            "Archive:  ./datasets/game-of-thrones/game-of-thrones.zip\n",
            "  inflating: ./datasets/game-of-thrones/battles.csv  \n",
            "  inflating: ./datasets/game-of-thrones/character-deaths.csv  \n",
            "  inflating: ./datasets/game-of-thrones/character-predictions.csv  \n"
          ]
        }
      ]
    },
    {
      "cell_type": "code",
      "source": [
        "import pandas as pd\n",
        "\n",
        "CSV_PATH = \"/content/datasets/game-of-thrones/character-deaths.csv\"\n",
        "df = pd.read_csv(CSV_PATH)\n",
        "df"
      ],
      "metadata": {
        "colab": {
          "base_uri": "https://localhost:8080/",
          "height": 424
        },
        "id": "mpSg3-7-YwEt",
        "outputId": "5b15a49c-7d07-4f1f-9f31-7c58616b4241"
      },
      "execution_count": 10,
      "outputs": [
        {
          "output_type": "execute_result",
          "data": {
            "text/plain": [
              "                        Name      Allegiances  Death Year  Book of Death  \\\n",
              "0             Addam Marbrand        Lannister         NaN            NaN   \n",
              "1    Aegon Frey (Jinglebell)             None       299.0            3.0   \n",
              "2            Aegon Targaryen  House Targaryen         NaN            NaN   \n",
              "3              Adrack Humble    House Greyjoy       300.0            5.0   \n",
              "4             Aemon Costayne        Lannister         NaN            NaN   \n",
              "..                       ...              ...         ...            ...   \n",
              "912                    Zollo             None         NaN            NaN   \n",
              "913        Yurkhaz zo Yunzak             None       300.0            5.0   \n",
              "914         Yezzan Zo Qaggaz             None       300.0            5.0   \n",
              "915         Torwynd the Tame         Wildling       300.0            5.0   \n",
              "916            Talbert Serry           Tyrell       300.0            4.0   \n",
              "\n",
              "     Death Chapter  Book Intro Chapter  Gender  Nobility  GoT  CoK  SoS  FfC  \\\n",
              "0              NaN                56.0       1         1    1    1    1    1   \n",
              "1             51.0                49.0       1         1    0    0    1    0   \n",
              "2              NaN                 5.0       1         1    0    0    0    0   \n",
              "3             20.0                20.0       1         1    0    0    0    0   \n",
              "4              NaN                 NaN       1         1    0    0    1    0   \n",
              "..             ...                 ...     ...       ...  ...  ...  ...  ...   \n",
              "912            NaN                21.0       1         0    0    0    1    0   \n",
              "913           59.0                47.0       1         0    0    0    0    0   \n",
              "914           57.0                25.0       1         1    0    0    0    0   \n",
              "915           73.0                73.0       1         0    0    0    1    0   \n",
              "916           29.0                29.0       1         1    0    0    0    1   \n",
              "\n",
              "     DwD  \n",
              "0      0  \n",
              "1      0  \n",
              "2      1  \n",
              "3      1  \n",
              "4      0  \n",
              "..   ...  \n",
              "912    0  \n",
              "913    1  \n",
              "914    1  \n",
              "915    0  \n",
              "916    0  \n",
              "\n",
              "[917 rows x 13 columns]"
            ],
            "text/html": [
              "\n",
              "  <div id=\"df-d7aba793-d297-4a51-b235-6796c171f93b\">\n",
              "    <div class=\"colab-df-container\">\n",
              "      <div>\n",
              "<style scoped>\n",
              "    .dataframe tbody tr th:only-of-type {\n",
              "        vertical-align: middle;\n",
              "    }\n",
              "\n",
              "    .dataframe tbody tr th {\n",
              "        vertical-align: top;\n",
              "    }\n",
              "\n",
              "    .dataframe thead th {\n",
              "        text-align: right;\n",
              "    }\n",
              "</style>\n",
              "<table border=\"1\" class=\"dataframe\">\n",
              "  <thead>\n",
              "    <tr style=\"text-align: right;\">\n",
              "      <th></th>\n",
              "      <th>Name</th>\n",
              "      <th>Allegiances</th>\n",
              "      <th>Death Year</th>\n",
              "      <th>Book of Death</th>\n",
              "      <th>Death Chapter</th>\n",
              "      <th>Book Intro Chapter</th>\n",
              "      <th>Gender</th>\n",
              "      <th>Nobility</th>\n",
              "      <th>GoT</th>\n",
              "      <th>CoK</th>\n",
              "      <th>SoS</th>\n",
              "      <th>FfC</th>\n",
              "      <th>DwD</th>\n",
              "    </tr>\n",
              "  </thead>\n",
              "  <tbody>\n",
              "    <tr>\n",
              "      <th>0</th>\n",
              "      <td>Addam Marbrand</td>\n",
              "      <td>Lannister</td>\n",
              "      <td>NaN</td>\n",
              "      <td>NaN</td>\n",
              "      <td>NaN</td>\n",
              "      <td>56.0</td>\n",
              "      <td>1</td>\n",
              "      <td>1</td>\n",
              "      <td>1</td>\n",
              "      <td>1</td>\n",
              "      <td>1</td>\n",
              "      <td>1</td>\n",
              "      <td>0</td>\n",
              "    </tr>\n",
              "    <tr>\n",
              "      <th>1</th>\n",
              "      <td>Aegon Frey (Jinglebell)</td>\n",
              "      <td>None</td>\n",
              "      <td>299.0</td>\n",
              "      <td>3.0</td>\n",
              "      <td>51.0</td>\n",
              "      <td>49.0</td>\n",
              "      <td>1</td>\n",
              "      <td>1</td>\n",
              "      <td>0</td>\n",
              "      <td>0</td>\n",
              "      <td>1</td>\n",
              "      <td>0</td>\n",
              "      <td>0</td>\n",
              "    </tr>\n",
              "    <tr>\n",
              "      <th>2</th>\n",
              "      <td>Aegon Targaryen</td>\n",
              "      <td>House Targaryen</td>\n",
              "      <td>NaN</td>\n",
              "      <td>NaN</td>\n",
              "      <td>NaN</td>\n",
              "      <td>5.0</td>\n",
              "      <td>1</td>\n",
              "      <td>1</td>\n",
              "      <td>0</td>\n",
              "      <td>0</td>\n",
              "      <td>0</td>\n",
              "      <td>0</td>\n",
              "      <td>1</td>\n",
              "    </tr>\n",
              "    <tr>\n",
              "      <th>3</th>\n",
              "      <td>Adrack Humble</td>\n",
              "      <td>House Greyjoy</td>\n",
              "      <td>300.0</td>\n",
              "      <td>5.0</td>\n",
              "      <td>20.0</td>\n",
              "      <td>20.0</td>\n",
              "      <td>1</td>\n",
              "      <td>1</td>\n",
              "      <td>0</td>\n",
              "      <td>0</td>\n",
              "      <td>0</td>\n",
              "      <td>0</td>\n",
              "      <td>1</td>\n",
              "    </tr>\n",
              "    <tr>\n",
              "      <th>4</th>\n",
              "      <td>Aemon Costayne</td>\n",
              "      <td>Lannister</td>\n",
              "      <td>NaN</td>\n",
              "      <td>NaN</td>\n",
              "      <td>NaN</td>\n",
              "      <td>NaN</td>\n",
              "      <td>1</td>\n",
              "      <td>1</td>\n",
              "      <td>0</td>\n",
              "      <td>0</td>\n",
              "      <td>1</td>\n",
              "      <td>0</td>\n",
              "      <td>0</td>\n",
              "    </tr>\n",
              "    <tr>\n",
              "      <th>...</th>\n",
              "      <td>...</td>\n",
              "      <td>...</td>\n",
              "      <td>...</td>\n",
              "      <td>...</td>\n",
              "      <td>...</td>\n",
              "      <td>...</td>\n",
              "      <td>...</td>\n",
              "      <td>...</td>\n",
              "      <td>...</td>\n",
              "      <td>...</td>\n",
              "      <td>...</td>\n",
              "      <td>...</td>\n",
              "      <td>...</td>\n",
              "    </tr>\n",
              "    <tr>\n",
              "      <th>912</th>\n",
              "      <td>Zollo</td>\n",
              "      <td>None</td>\n",
              "      <td>NaN</td>\n",
              "      <td>NaN</td>\n",
              "      <td>NaN</td>\n",
              "      <td>21.0</td>\n",
              "      <td>1</td>\n",
              "      <td>0</td>\n",
              "      <td>0</td>\n",
              "      <td>0</td>\n",
              "      <td>1</td>\n",
              "      <td>0</td>\n",
              "      <td>0</td>\n",
              "    </tr>\n",
              "    <tr>\n",
              "      <th>913</th>\n",
              "      <td>Yurkhaz zo Yunzak</td>\n",
              "      <td>None</td>\n",
              "      <td>300.0</td>\n",
              "      <td>5.0</td>\n",
              "      <td>59.0</td>\n",
              "      <td>47.0</td>\n",
              "      <td>1</td>\n",
              "      <td>0</td>\n",
              "      <td>0</td>\n",
              "      <td>0</td>\n",
              "      <td>0</td>\n",
              "      <td>0</td>\n",
              "      <td>1</td>\n",
              "    </tr>\n",
              "    <tr>\n",
              "      <th>914</th>\n",
              "      <td>Yezzan Zo Qaggaz</td>\n",
              "      <td>None</td>\n",
              "      <td>300.0</td>\n",
              "      <td>5.0</td>\n",
              "      <td>57.0</td>\n",
              "      <td>25.0</td>\n",
              "      <td>1</td>\n",
              "      <td>1</td>\n",
              "      <td>0</td>\n",
              "      <td>0</td>\n",
              "      <td>0</td>\n",
              "      <td>0</td>\n",
              "      <td>1</td>\n",
              "    </tr>\n",
              "    <tr>\n",
              "      <th>915</th>\n",
              "      <td>Torwynd the Tame</td>\n",
              "      <td>Wildling</td>\n",
              "      <td>300.0</td>\n",
              "      <td>5.0</td>\n",
              "      <td>73.0</td>\n",
              "      <td>73.0</td>\n",
              "      <td>1</td>\n",
              "      <td>0</td>\n",
              "      <td>0</td>\n",
              "      <td>0</td>\n",
              "      <td>1</td>\n",
              "      <td>0</td>\n",
              "      <td>0</td>\n",
              "    </tr>\n",
              "    <tr>\n",
              "      <th>916</th>\n",
              "      <td>Talbert Serry</td>\n",
              "      <td>Tyrell</td>\n",
              "      <td>300.0</td>\n",
              "      <td>4.0</td>\n",
              "      <td>29.0</td>\n",
              "      <td>29.0</td>\n",
              "      <td>1</td>\n",
              "      <td>1</td>\n",
              "      <td>0</td>\n",
              "      <td>0</td>\n",
              "      <td>0</td>\n",
              "      <td>1</td>\n",
              "      <td>0</td>\n",
              "    </tr>\n",
              "  </tbody>\n",
              "</table>\n",
              "<p>917 rows × 13 columns</p>\n",
              "</div>\n",
              "      <button class=\"colab-df-convert\" onclick=\"convertToInteractive('df-d7aba793-d297-4a51-b235-6796c171f93b')\"\n",
              "              title=\"Convert this dataframe to an interactive table.\"\n",
              "              style=\"display:none;\">\n",
              "        \n",
              "  <svg xmlns=\"http://www.w3.org/2000/svg\" height=\"24px\"viewBox=\"0 0 24 24\"\n",
              "       width=\"24px\">\n",
              "    <path d=\"M0 0h24v24H0V0z\" fill=\"none\"/>\n",
              "    <path d=\"M18.56 5.44l.94 2.06.94-2.06 2.06-.94-2.06-.94-.94-2.06-.94 2.06-2.06.94zm-11 1L8.5 8.5l.94-2.06 2.06-.94-2.06-.94L8.5 2.5l-.94 2.06-2.06.94zm10 10l.94 2.06.94-2.06 2.06-.94-2.06-.94-.94-2.06-.94 2.06-2.06.94z\"/><path d=\"M17.41 7.96l-1.37-1.37c-.4-.4-.92-.59-1.43-.59-.52 0-1.04.2-1.43.59L10.3 9.45l-7.72 7.72c-.78.78-.78 2.05 0 2.83L4 21.41c.39.39.9.59 1.41.59.51 0 1.02-.2 1.41-.59l7.78-7.78 2.81-2.81c.8-.78.8-2.07 0-2.86zM5.41 20L4 18.59l7.72-7.72 1.47 1.35L5.41 20z\"/>\n",
              "  </svg>\n",
              "      </button>\n",
              "      \n",
              "  <style>\n",
              "    .colab-df-container {\n",
              "      display:flex;\n",
              "      flex-wrap:wrap;\n",
              "      gap: 12px;\n",
              "    }\n",
              "\n",
              "    .colab-df-convert {\n",
              "      background-color: #E8F0FE;\n",
              "      border: none;\n",
              "      border-radius: 50%;\n",
              "      cursor: pointer;\n",
              "      display: none;\n",
              "      fill: #1967D2;\n",
              "      height: 32px;\n",
              "      padding: 0 0 0 0;\n",
              "      width: 32px;\n",
              "    }\n",
              "\n",
              "    .colab-df-convert:hover {\n",
              "      background-color: #E2EBFA;\n",
              "      box-shadow: 0px 1px 2px rgba(60, 64, 67, 0.3), 0px 1px 3px 1px rgba(60, 64, 67, 0.15);\n",
              "      fill: #174EA6;\n",
              "    }\n",
              "\n",
              "    [theme=dark] .colab-df-convert {\n",
              "      background-color: #3B4455;\n",
              "      fill: #D2E3FC;\n",
              "    }\n",
              "\n",
              "    [theme=dark] .colab-df-convert:hover {\n",
              "      background-color: #434B5C;\n",
              "      box-shadow: 0px 1px 3px 1px rgba(0, 0, 0, 0.15);\n",
              "      filter: drop-shadow(0px 1px 2px rgba(0, 0, 0, 0.3));\n",
              "      fill: #FFFFFF;\n",
              "    }\n",
              "  </style>\n",
              "\n",
              "      <script>\n",
              "        const buttonEl =\n",
              "          document.querySelector('#df-d7aba793-d297-4a51-b235-6796c171f93b button.colab-df-convert');\n",
              "        buttonEl.style.display =\n",
              "          google.colab.kernel.accessAllowed ? 'block' : 'none';\n",
              "\n",
              "        async function convertToInteractive(key) {\n",
              "          const element = document.querySelector('#df-d7aba793-d297-4a51-b235-6796c171f93b');\n",
              "          const dataTable =\n",
              "            await google.colab.kernel.invokeFunction('convertToInteractive',\n",
              "                                                     [key], {});\n",
              "          if (!dataTable) return;\n",
              "\n",
              "          const docLinkHtml = 'Like what you see? Visit the ' +\n",
              "            '<a target=\"_blank\" href=https://colab.research.google.com/notebooks/data_table.ipynb>data table notebook</a>'\n",
              "            + ' to learn more about interactive tables.';\n",
              "          element.innerHTML = '';\n",
              "          dataTable['output_type'] = 'display_data';\n",
              "          await google.colab.output.renderOutput(dataTable, element);\n",
              "          const docLink = document.createElement('div');\n",
              "          docLink.innerHTML = docLinkHtml;\n",
              "          element.appendChild(docLink);\n",
              "        }\n",
              "      </script>\n",
              "    </div>\n",
              "  </div>\n",
              "  "
            ]
          },
          "metadata": {},
          "execution_count": 10
        }
      ]
    },
    {
      "cell_type": "code",
      "source": [
        "f_df = df[df['Allegiances'] != 'None']\n",
        "f_df"
      ],
      "metadata": {
        "colab": {
          "base_uri": "https://localhost:8080/",
          "height": 424
        },
        "id": "YEFCP4GVZPN2",
        "outputId": "84e55f54-189b-42f3-9582-e1001d7f6d3c"
      },
      "execution_count": 11,
      "outputs": [
        {
          "output_type": "execute_result",
          "data": {
            "text/plain": [
              "                 Name      Allegiances  Death Year  Book of Death  \\\n",
              "0      Addam Marbrand        Lannister         NaN            NaN   \n",
              "2     Aegon Targaryen  House Targaryen         NaN            NaN   \n",
              "3       Adrack Humble    House Greyjoy       300.0            5.0   \n",
              "4      Aemon Costayne        Lannister         NaN            NaN   \n",
              "5     Aemon Estermont        Baratheon         NaN            NaN   \n",
              "..                ...              ...         ...            ...   \n",
              "909       Young Henly    Night's Watch       299.0            3.0   \n",
              "910            Ysilla  House Targaryen         NaN            NaN   \n",
              "911               Zei            Stark         NaN            NaN   \n",
              "915  Torwynd the Tame         Wildling       300.0            5.0   \n",
              "916     Talbert Serry           Tyrell       300.0            4.0   \n",
              "\n",
              "     Death Chapter  Book Intro Chapter  Gender  Nobility  GoT  CoK  SoS  FfC  \\\n",
              "0              NaN                56.0       1         1    1    1    1    1   \n",
              "2              NaN                 5.0       1         1    0    0    0    0   \n",
              "3             20.0                20.0       1         1    0    0    0    0   \n",
              "4              NaN                 NaN       1         1    0    0    1    0   \n",
              "5              NaN                 NaN       1         1    0    1    1    0   \n",
              "..             ...                 ...     ...       ...  ...  ...  ...  ...   \n",
              "909           55.0                55.0       1         0    0    0    1    0   \n",
              "910            NaN                 8.0       1         0    0    0    0    0   \n",
              "911            NaN                64.0       0         0    0    0    1    0   \n",
              "915           73.0                73.0       1         0    0    0    1    0   \n",
              "916           29.0                29.0       1         1    0    0    0    1   \n",
              "\n",
              "     DwD  \n",
              "0      0  \n",
              "2      1  \n",
              "3      1  \n",
              "4      0  \n",
              "5      0  \n",
              "..   ...  \n",
              "909    0  \n",
              "910    1  \n",
              "911    0  \n",
              "915    0  \n",
              "916    0  \n",
              "\n",
              "[664 rows x 13 columns]"
            ],
            "text/html": [
              "\n",
              "  <div id=\"df-03a2e7cf-f948-4b7e-9b15-4fe26f03dd1a\">\n",
              "    <div class=\"colab-df-container\">\n",
              "      <div>\n",
              "<style scoped>\n",
              "    .dataframe tbody tr th:only-of-type {\n",
              "        vertical-align: middle;\n",
              "    }\n",
              "\n",
              "    .dataframe tbody tr th {\n",
              "        vertical-align: top;\n",
              "    }\n",
              "\n",
              "    .dataframe thead th {\n",
              "        text-align: right;\n",
              "    }\n",
              "</style>\n",
              "<table border=\"1\" class=\"dataframe\">\n",
              "  <thead>\n",
              "    <tr style=\"text-align: right;\">\n",
              "      <th></th>\n",
              "      <th>Name</th>\n",
              "      <th>Allegiances</th>\n",
              "      <th>Death Year</th>\n",
              "      <th>Book of Death</th>\n",
              "      <th>Death Chapter</th>\n",
              "      <th>Book Intro Chapter</th>\n",
              "      <th>Gender</th>\n",
              "      <th>Nobility</th>\n",
              "      <th>GoT</th>\n",
              "      <th>CoK</th>\n",
              "      <th>SoS</th>\n",
              "      <th>FfC</th>\n",
              "      <th>DwD</th>\n",
              "    </tr>\n",
              "  </thead>\n",
              "  <tbody>\n",
              "    <tr>\n",
              "      <th>0</th>\n",
              "      <td>Addam Marbrand</td>\n",
              "      <td>Lannister</td>\n",
              "      <td>NaN</td>\n",
              "      <td>NaN</td>\n",
              "      <td>NaN</td>\n",
              "      <td>56.0</td>\n",
              "      <td>1</td>\n",
              "      <td>1</td>\n",
              "      <td>1</td>\n",
              "      <td>1</td>\n",
              "      <td>1</td>\n",
              "      <td>1</td>\n",
              "      <td>0</td>\n",
              "    </tr>\n",
              "    <tr>\n",
              "      <th>2</th>\n",
              "      <td>Aegon Targaryen</td>\n",
              "      <td>House Targaryen</td>\n",
              "      <td>NaN</td>\n",
              "      <td>NaN</td>\n",
              "      <td>NaN</td>\n",
              "      <td>5.0</td>\n",
              "      <td>1</td>\n",
              "      <td>1</td>\n",
              "      <td>0</td>\n",
              "      <td>0</td>\n",
              "      <td>0</td>\n",
              "      <td>0</td>\n",
              "      <td>1</td>\n",
              "    </tr>\n",
              "    <tr>\n",
              "      <th>3</th>\n",
              "      <td>Adrack Humble</td>\n",
              "      <td>House Greyjoy</td>\n",
              "      <td>300.0</td>\n",
              "      <td>5.0</td>\n",
              "      <td>20.0</td>\n",
              "      <td>20.0</td>\n",
              "      <td>1</td>\n",
              "      <td>1</td>\n",
              "      <td>0</td>\n",
              "      <td>0</td>\n",
              "      <td>0</td>\n",
              "      <td>0</td>\n",
              "      <td>1</td>\n",
              "    </tr>\n",
              "    <tr>\n",
              "      <th>4</th>\n",
              "      <td>Aemon Costayne</td>\n",
              "      <td>Lannister</td>\n",
              "      <td>NaN</td>\n",
              "      <td>NaN</td>\n",
              "      <td>NaN</td>\n",
              "      <td>NaN</td>\n",
              "      <td>1</td>\n",
              "      <td>1</td>\n",
              "      <td>0</td>\n",
              "      <td>0</td>\n",
              "      <td>1</td>\n",
              "      <td>0</td>\n",
              "      <td>0</td>\n",
              "    </tr>\n",
              "    <tr>\n",
              "      <th>5</th>\n",
              "      <td>Aemon Estermont</td>\n",
              "      <td>Baratheon</td>\n",
              "      <td>NaN</td>\n",
              "      <td>NaN</td>\n",
              "      <td>NaN</td>\n",
              "      <td>NaN</td>\n",
              "      <td>1</td>\n",
              "      <td>1</td>\n",
              "      <td>0</td>\n",
              "      <td>1</td>\n",
              "      <td>1</td>\n",
              "      <td>0</td>\n",
              "      <td>0</td>\n",
              "    </tr>\n",
              "    <tr>\n",
              "      <th>...</th>\n",
              "      <td>...</td>\n",
              "      <td>...</td>\n",
              "      <td>...</td>\n",
              "      <td>...</td>\n",
              "      <td>...</td>\n",
              "      <td>...</td>\n",
              "      <td>...</td>\n",
              "      <td>...</td>\n",
              "      <td>...</td>\n",
              "      <td>...</td>\n",
              "      <td>...</td>\n",
              "      <td>...</td>\n",
              "      <td>...</td>\n",
              "    </tr>\n",
              "    <tr>\n",
              "      <th>909</th>\n",
              "      <td>Young Henly</td>\n",
              "      <td>Night's Watch</td>\n",
              "      <td>299.0</td>\n",
              "      <td>3.0</td>\n",
              "      <td>55.0</td>\n",
              "      <td>55.0</td>\n",
              "      <td>1</td>\n",
              "      <td>0</td>\n",
              "      <td>0</td>\n",
              "      <td>0</td>\n",
              "      <td>1</td>\n",
              "      <td>0</td>\n",
              "      <td>0</td>\n",
              "    </tr>\n",
              "    <tr>\n",
              "      <th>910</th>\n",
              "      <td>Ysilla</td>\n",
              "      <td>House Targaryen</td>\n",
              "      <td>NaN</td>\n",
              "      <td>NaN</td>\n",
              "      <td>NaN</td>\n",
              "      <td>8.0</td>\n",
              "      <td>1</td>\n",
              "      <td>0</td>\n",
              "      <td>0</td>\n",
              "      <td>0</td>\n",
              "      <td>0</td>\n",
              "      <td>0</td>\n",
              "      <td>1</td>\n",
              "    </tr>\n",
              "    <tr>\n",
              "      <th>911</th>\n",
              "      <td>Zei</td>\n",
              "      <td>Stark</td>\n",
              "      <td>NaN</td>\n",
              "      <td>NaN</td>\n",
              "      <td>NaN</td>\n",
              "      <td>64.0</td>\n",
              "      <td>0</td>\n",
              "      <td>0</td>\n",
              "      <td>0</td>\n",
              "      <td>0</td>\n",
              "      <td>1</td>\n",
              "      <td>0</td>\n",
              "      <td>0</td>\n",
              "    </tr>\n",
              "    <tr>\n",
              "      <th>915</th>\n",
              "      <td>Torwynd the Tame</td>\n",
              "      <td>Wildling</td>\n",
              "      <td>300.0</td>\n",
              "      <td>5.0</td>\n",
              "      <td>73.0</td>\n",
              "      <td>73.0</td>\n",
              "      <td>1</td>\n",
              "      <td>0</td>\n",
              "      <td>0</td>\n",
              "      <td>0</td>\n",
              "      <td>1</td>\n",
              "      <td>0</td>\n",
              "      <td>0</td>\n",
              "    </tr>\n",
              "    <tr>\n",
              "      <th>916</th>\n",
              "      <td>Talbert Serry</td>\n",
              "      <td>Tyrell</td>\n",
              "      <td>300.0</td>\n",
              "      <td>4.0</td>\n",
              "      <td>29.0</td>\n",
              "      <td>29.0</td>\n",
              "      <td>1</td>\n",
              "      <td>1</td>\n",
              "      <td>0</td>\n",
              "      <td>0</td>\n",
              "      <td>0</td>\n",
              "      <td>1</td>\n",
              "      <td>0</td>\n",
              "    </tr>\n",
              "  </tbody>\n",
              "</table>\n",
              "<p>664 rows × 13 columns</p>\n",
              "</div>\n",
              "      <button class=\"colab-df-convert\" onclick=\"convertToInteractive('df-03a2e7cf-f948-4b7e-9b15-4fe26f03dd1a')\"\n",
              "              title=\"Convert this dataframe to an interactive table.\"\n",
              "              style=\"display:none;\">\n",
              "        \n",
              "  <svg xmlns=\"http://www.w3.org/2000/svg\" height=\"24px\"viewBox=\"0 0 24 24\"\n",
              "       width=\"24px\">\n",
              "    <path d=\"M0 0h24v24H0V0z\" fill=\"none\"/>\n",
              "    <path d=\"M18.56 5.44l.94 2.06.94-2.06 2.06-.94-2.06-.94-.94-2.06-.94 2.06-2.06.94zm-11 1L8.5 8.5l.94-2.06 2.06-.94-2.06-.94L8.5 2.5l-.94 2.06-2.06.94zm10 10l.94 2.06.94-2.06 2.06-.94-2.06-.94-.94-2.06-.94 2.06-2.06.94z\"/><path d=\"M17.41 7.96l-1.37-1.37c-.4-.4-.92-.59-1.43-.59-.52 0-1.04.2-1.43.59L10.3 9.45l-7.72 7.72c-.78.78-.78 2.05 0 2.83L4 21.41c.39.39.9.59 1.41.59.51 0 1.02-.2 1.41-.59l7.78-7.78 2.81-2.81c.8-.78.8-2.07 0-2.86zM5.41 20L4 18.59l7.72-7.72 1.47 1.35L5.41 20z\"/>\n",
              "  </svg>\n",
              "      </button>\n",
              "      \n",
              "  <style>\n",
              "    .colab-df-container {\n",
              "      display:flex;\n",
              "      flex-wrap:wrap;\n",
              "      gap: 12px;\n",
              "    }\n",
              "\n",
              "    .colab-df-convert {\n",
              "      background-color: #E8F0FE;\n",
              "      border: none;\n",
              "      border-radius: 50%;\n",
              "      cursor: pointer;\n",
              "      display: none;\n",
              "      fill: #1967D2;\n",
              "      height: 32px;\n",
              "      padding: 0 0 0 0;\n",
              "      width: 32px;\n",
              "    }\n",
              "\n",
              "    .colab-df-convert:hover {\n",
              "      background-color: #E2EBFA;\n",
              "      box-shadow: 0px 1px 2px rgba(60, 64, 67, 0.3), 0px 1px 3px 1px rgba(60, 64, 67, 0.15);\n",
              "      fill: #174EA6;\n",
              "    }\n",
              "\n",
              "    [theme=dark] .colab-df-convert {\n",
              "      background-color: #3B4455;\n",
              "      fill: #D2E3FC;\n",
              "    }\n",
              "\n",
              "    [theme=dark] .colab-df-convert:hover {\n",
              "      background-color: #434B5C;\n",
              "      box-shadow: 0px 1px 3px 1px rgba(0, 0, 0, 0.15);\n",
              "      filter: drop-shadow(0px 1px 2px rgba(0, 0, 0, 0.3));\n",
              "      fill: #FFFFFF;\n",
              "    }\n",
              "  </style>\n",
              "\n",
              "      <script>\n",
              "        const buttonEl =\n",
              "          document.querySelector('#df-03a2e7cf-f948-4b7e-9b15-4fe26f03dd1a button.colab-df-convert');\n",
              "        buttonEl.style.display =\n",
              "          google.colab.kernel.accessAllowed ? 'block' : 'none';\n",
              "\n",
              "        async function convertToInteractive(key) {\n",
              "          const element = document.querySelector('#df-03a2e7cf-f948-4b7e-9b15-4fe26f03dd1a');\n",
              "          const dataTable =\n",
              "            await google.colab.kernel.invokeFunction('convertToInteractive',\n",
              "                                                     [key], {});\n",
              "          if (!dataTable) return;\n",
              "\n",
              "          const docLinkHtml = 'Like what you see? Visit the ' +\n",
              "            '<a target=\"_blank\" href=https://colab.research.google.com/notebooks/data_table.ipynb>data table notebook</a>'\n",
              "            + ' to learn more about interactive tables.';\n",
              "          element.innerHTML = '';\n",
              "          dataTable['output_type'] = 'display_data';\n",
              "          await google.colab.output.renderOutput(dataTable, element);\n",
              "          const docLink = document.createElement('div');\n",
              "          docLink.innerHTML = docLinkHtml;\n",
              "          element.appendChild(docLink);\n",
              "        }\n",
              "      </script>\n",
              "    </div>\n",
              "  </div>\n",
              "  "
            ]
          },
          "metadata": {},
          "execution_count": 11
        }
      ]
    },
    {
      "cell_type": "code",
      "source": [
        "unique(list(f_df['Name']))\n",
        "unique(list(f_df['Allegiances']))"
      ],
      "metadata": {
        "colab": {
          "base_uri": "https://localhost:8080/"
        },
        "id": "LV5Dv6PiZeHm",
        "outputId": "5272ac9a-eb31-474e-c558-ad21abb267e5"
      },
      "execution_count": 12,
      "outputs": [
        {
          "output_type": "stream",
          "name": "stdout",
          "text": [
            "Addam Marbrand\n",
            "Aegon Targaryen\n",
            "Adrack Humble\n",
            "Aemon Costayne\n",
            "Aemon Estermont\n",
            "Aemon Targaryen (son of Maekar I)\n",
            "Aeron Greyjoy\n",
            "Aethan\n",
            "Aggar\n",
            "Aggo\n",
            "Alan of Rosby\n",
            "Albar Royce\n",
            "Albett\n",
            "Alebelly\n",
            "Alerie Hightower\n",
            "Alesander Staedmon\n",
            "Alester Florent\n",
            "Alla Tyrell\n",
            "Allard Seaworth\n",
            "Alliser Thorne\n",
            "Alyn\n",
            "Alyn Ambrose\n",
            "Alyn Estermont\n",
            "Alyn Stackspear\n",
            "Alys Karstark\n",
            "Alysane Mormont\n",
            "Ambrode\n",
            "Amory Lorch\n",
            "Andar Royce\n",
            "Andrew Estermont\n",
            "Andrey Dalt\n",
            "Andrik\n",
            "Antario Jast\n",
            "Anya Waynwood\n",
            "Archibald Yronwood\n",
            "Ardrian Celtigar\n",
            "Areo Hotah\n",
            "Arianne Martell\n",
            "Arneld\n",
            "Arnolf Karstark\n",
            "Aron Santagar\n",
            "Arron\n",
            "Arron Qorgyle\n",
            "Arryk (Guard)\n",
            "Arson\n",
            "Arthor Karstark\n",
            "Arwyn Oakheart\n",
            "Arya Stark\n",
            "Arys Oakheart\n",
            "Asha Greyjoy\n",
            "Aurane Waters\n",
            "Axell Florent\n",
            "Ballabar\n",
            "Balon Swann\n",
            "Bannen\n",
            "Barbrey Dustin\n",
            "Barristan Selmy\n",
            "Barth (brewer)\n",
            "Bass\n",
            "Bayard Norcross\n",
            "Bearded Ben\n",
            "Becca\n",
            "Bedwyck\n",
            "Belwas\n",
            "Benedar Belmore\n",
            "Benfred Tallhart\n",
            "Benjen Stark\n",
            "Bessa (Winterfell)\n",
            "Beth Cassel\n",
            "Big Boil\n",
            "Black Bernarr\n",
            "Blane\n",
            "Blue Bard\n",
            "Bonifer Hasty\n",
            "Borcas\n",
            "Boremund Harlaw\n",
            "Boros Blount\n",
            "Borroq\n",
            "Bowen Marsh\n",
            "Bran Stark\n",
            "Brandon Norrey\n",
            "Brienne of Tarth\n",
            "Bronn\n",
            "Brown Bernarr\n",
            "Bryan Fossoway\n",
            "Bryce Caron\n",
            "Bryen Farring\n",
            "Brynden Rivers\n",
            "Brynden Tully\n",
            "Burton Crakehall\n",
            "Butterbumps\n",
            "Byam Flint\n",
            "Byron\n",
            "Cadwyn\n",
            "Caleotte\n",
            "Catelyn Tully\n",
            "Cayn\n",
            "Cellador\n",
            "Cersei Lannister\n",
            "Chayle\n",
            "Chella\n",
            "Chett\n",
            "Chiggen\n",
            "Clayton Suggs\n",
            "Clement Piper\n",
            "Cley Cerwyn\n",
            "Clubfoot Karl\n",
            "Clydas\n",
            "Colemon\n",
            "Colen of Greenpools\n",
            "Conn\n",
            "Conwy\n",
            "Corliss Penny\n",
            "Cortnay Penrose\n",
            "Cotter Pyke\n",
            "Cragorn\n",
            "Cregan Karstark\n",
            "Cressen\n",
            "Cuger\n",
            "Daario Naharis\n",
            "Dacey Mormont\n",
            "Daemon Sand\n",
            "Daenerys Targaryen\n",
            "Dagon Codd\n",
            "Dagmer\n",
            "Dalbridge\n",
            "Dale Seaworth\n",
            "Dalla\n",
            "Dalla (Dragonstone)\n",
            "Dareon\n",
            "Daryn Hornwood\n",
            "Daven Lannister\n",
            "Davos Seaworth\n",
            "Del\n",
            "Delp\n",
            "Denys Drumm\n",
            "Denys Mallister\n",
            "Dermot\n",
            "Desmond\n",
            "Desmond Grell\n",
            "Devan Seaworth\n",
            "Deziel Dalt\n",
            "Dick Follard\n",
            "Dickon Manwoody\n",
            "Dirk\n",
            "Donal Noye\n",
            "Donella Hornwood\n",
            "Donnel Drumm\n",
            "Donnel Hill\n",
            "Donnel Locke\n",
            "Donnel Waynwood\n",
            "Donnis\n",
            "Doran Martell\n",
            "Doreah\n",
            "Dornish Dilly\n",
            "Drennan\n",
            "Drogo\n",
            "Dudley\n",
            "Dunstan Drumm\n",
            "Duram Bar Emmon\n",
            "Dykk Harlaw\n",
            "Dywen\n",
            "Easy\n",
            "Ebben\n",
            "Eddard Karstark\n",
            "Eddard Stark\n",
            "Eddison Tollett\n",
            "Edmure Tully\n",
            "Edric Storm\n",
            "Eldred Codd\n",
            "Eleyna Westerling\n",
            "Elinor Tyrell\n",
            "Ellaria Sand\n",
            "Elyas Willum\n",
            "Emmon Cuy\n",
            "Emmon Frey\n",
            "Emmond\n",
            "Emrick\n",
            "Endehar\n",
            "Elwood\n",
            "Endrew Tarth\n",
            "Enger\n",
            "Eon Hunter\n",
            "Erik Ironmaker\n",
            "Eroeh\n",
            "Erryk (Guard)\n",
            "Esgred\n",
            "Ezzara\n",
            "Falia Flowers\n",
            "Falyse Stokeworth\n",
            "Farlen\n",
            "Flement Brax\n",
            "Forley Prester\n",
            "Fornio\n",
            "Frenken\n",
            "Frenya\n",
            "Frynne\n",
            "Gage\n",
            "Galbart Glover\n",
            "Gared\n",
            "Garin (Orphan)\n",
            "Gariss\n",
            "Garlan Tyrell\n",
            "Garrett Paege\n",
            "Garth Greyfeather\n",
            "Garth of Greenaway\n",
            "Garth of Oldtown\n",
            "Gawen Westerling\n",
            "Gelmarr\n",
            "Genna Lannister\n",
            "Gerald Gower\n",
            "Gerold Dayne\n",
            "Gerris Drinkwater\n",
            "Gevin Harlaw\n",
            "Gilly\n",
            "Gilwood Hunter\n",
            "Gladden Wylde\n",
            "Glendon Hewett\n",
            "Goady\n",
            "Godry Farring\n",
            "Godwyn\n",
            "Gormond Goodbrother\n",
            "Gorold Goodbrother\n",
            "Gran Goodbrother\n",
            "Gregor Clegane\n",
            "Grenn\n",
            "Grey Worm\n",
            "Greydon Goodbrother\n",
            "Grigg\n",
            "Groleo\n",
            "Grubbs\n",
            "Gueren\n",
            "Guncer Sunglass\n",
            "Guyard Morrigen\n",
            "Gwin Goodbrother\n",
            "Gylbert Farwynd\n",
            "Gyles Farwynd\n",
            "Gyles Grafton\n",
            "Gyles Rosby\n",
            "Gynir\n",
            "Gysella Goodbrother\n",
            "Hairy Hal\n",
            "Hake\n",
            "Halder\n",
            "Haldon\n",
            "Hali\n",
            "Hallis Mollen\n",
            "Hallyne\n",
            "Halys Hornwood\n",
            "Hareth (Mole's Town)\n",
            "Harma\n",
            "Harmund Sharp\n",
            "Harmune\n",
            "Harrag Sharp\n",
            "Harras Harlaw\n",
            "Harwood Fell\n",
            "Harrion Karstark\n",
            "Harwin\n",
            "Harwood Stout\n",
            "Harys Swyft\n",
            "Helman Tallhart\n",
            "Heward\n",
            "Hobb\n",
            "Hobber Redwyne\n",
            "Hodor\n",
            "Holly\n",
            "Hop-Robin\n",
            "Horas Redwyne\n",
            "Horton Redfort\n",
            "Hoster Tully\n",
            "Hother Umber\n",
            "Howd Wanderer\n",
            "Hubard Rambton\n",
            "Hugh\n",
            "Hugo Vance\n",
            "Hullen\n",
            "Humfrey Swyft\n",
            "Illyrio Mopatis\n",
            "Ilyn Payne\n",
            "Imry Florent\n",
            "Iron Emmett\n",
            "Irri\n",
            "Jacelyn Bywater\n",
            "Jack Bulwer\n",
            "Jacks\n",
            "Jaime Lannister\n",
            "Janna Tyrell\n",
            "Jaremy Rykker\n",
            "Jarl\n",
            "Jarman Buckwell\n",
            "Jason Mallister\n",
            "Jate\n",
            "Jate Blackberry\n",
            "Jeor Mormont\n",
            "Jeren\n",
            "Jeyne Poole\n",
            "Jeyne Westerling\n",
            "Jhiqui\n",
            "Jhogo\n",
            "Jocelyn Swyft\n",
            "Jodge\n",
            "Jojen Reed\n",
            "Jommy\n",
            "Jon Bettley\n",
            "Jon Connington\n",
            "Jon Fossoway\n",
            "Jon Snow\n",
            "Jon Umber (Greatjon)\n",
            "Joffrey Baratheon\n",
            "Jon Umber (Smalljon)\n",
            "Jonelle Cerwyn\n",
            "Jonos Bracken\n",
            "Jorah Mormont\n",
            "Jory Cassel\n",
            "Joseran\n",
            "Joseth\n",
            "Josmyn Peckledon\n",
            "Joss Stilwood\n",
            "Josua Willum\n",
            "Jothos Slynt\n",
            "Justin Massey\n",
            "Jyck\n",
            "Jynessa Blackmont\n",
            "Karyl Vance\n",
            "Kedge Whiteye\n",
            "Kennos of Kayce\n",
            "Ketter\n",
            "Kenned\n",
            "Kerwin\n",
            "Kevan Lannister\n",
            "Koss\n",
            "Kromm\n",
            "Kurz\n",
            "Kyra\n",
            "Lambert Turnberry\n",
            "Lamprey\n",
            "Lancel Lannister\n",
            "Lark\n",
            "Larra Blackmont\n",
            "Larraq\n",
            "Leathers\n",
            "Left Hand Lew\n",
            "Lenwood Tawney\n",
            "Leo Lefford\n",
            "Leo Tyrell\n",
            "Leobald Tallhart\n",
            "Leona Woolfield\n",
            "Leonette Fossoway\n",
            "Lew\n",
            "Lewys Lydden\n",
            "Lewys Piper\n",
            "Lharys\n",
            "Lollys Stokeworth\n",
            "Lommy\n",
            "Loras Tyrell\n",
            "Lord of Bones\n",
            "Lorent Caswell\n",
            "Lorren\n",
            "Lucas Blackwood\n",
            "Lucas Codd\n",
            "Luke of Longtown\n",
            "Luwin\n",
            "Lyle Crakehall\n",
            "Lyman Darry\n",
            "Lymond Goodbrook\n",
            "Lymond Lychester\n",
            "Lyn Corbray\n",
            "Lysa Tully\n",
            "Mace Tyrell\n",
            "Maege Mormont\n",
            "Mag Mar Tun Doh Weg\n",
            "Mallador Locke\n",
            "Malliard\n",
            "Mallor\n",
            "Mance Rayder\n",
            "Mandon Moore\n",
            "Maric Seaworth\n",
            "Margaery Tyrell\n",
            "Marillion\n",
            "Maris\n",
            "Mark Mullendore\n",
            "Marlon Manderly\n",
            "Maron Volmark\n",
            "Marq Piper\n",
            "Marwyn Belmore\n",
            "Masha Heddle\n",
            "Maslyn\n",
            "Mathis Rowan\n",
            "Matrice\n",
            "Matthos Seaworth\n",
            "Matthar\n",
            "Mawney\n",
            "Medger Cerwyn\n",
            "Meera Reed\n",
            "Megga Tyrell\n",
            "Meha\n",
            "Mela\n",
            "Meldred Merlyn\n",
            "Meliana\n",
            "Melisandre\n",
            "Mellei\n",
            "Meredyth Crane\n",
            "Merlon Crakehall\n",
            "Meryn Trant\n",
            "Mikken\n",
            "Missandei\n",
            "Monford Velaryon\n",
            "Monster\n",
            "Moon Boy\n",
            "Moqorro\n",
            "Mord\n",
            "Mordane\n",
            "Morna White Mask\n",
            "Morra\n",
            "Morrec\n",
            "Morros Slynt\n",
            "Mors Manwoody\n",
            "Mors Umber\n",
            "Morton Waynwood\n",
            "Mully\n",
            "Munciter\n",
            "Murch\n",
            "Murch (Winterfell)\n",
            "Mossador\n",
            "Murenmure\n",
            "Muttering Bill\n",
            "Mya Stone\n",
            "Mycah\n",
            "Myles\n",
            "Myles Manwoody\n",
            "Myranda Royce\n",
            "Myrcella Baratheon\n",
            "Myria Jordayne\n",
            "Myrtle\n",
            "Nan\n",
            "Nestor Royce\n",
            "Norjen\n",
            "Nute\n",
            "Nymella Toland\n",
            "Nymeria Sand\n",
            "Obara Sand\n",
            "Oberyn Martell\n",
            "Old Henly\n",
            "Olenna Redwyne\n",
            "Ollo Lophand\n",
            "Ondrew Locke\n",
            "Orell\n",
            "Orphan Oss\n",
            "Orton Merryweather\n",
            "Osfryd Kettleblack\n",
            "Osha\n",
            "Osmund Kettleblack\n",
            "Osney Kettleblack\n",
            "Ossy\n",
            "Othell Yarwyck\n",
            "Ottyn Wythers\n",
            "Owen\n",
            "Owen Norrey\n",
            "Palla\n",
            "Parmen Crane\n",
            "Patchface\n",
            "Pate (Night's Watch)\n",
            "Patrek of King's Mountain\n",
            "Patrek Mallister\n",
            "Paxter Redwyne\n",
            "Perros Blackmont\n",
            "Philip Foote\n",
            "Podrick Payne\n",
            "Porridge\n",
            "Porther\n",
            "Poul Pemford\n",
            "Poxy Tym\n",
            "Preston Greenfield\n",
            "Pycelle\n",
            "Pylos\n",
            "Pypar\n",
            "Qarl Shepherd\n",
            "Qarl the Maid\n",
            "Qhorin Halfhand\n",
            "Quaro\n",
            "Quellon Humble\n",
            "Quent\n",
            "Quenten Banefort\n",
            "Quentyn Martell\n",
            "Qyburn\n",
            "Quort\n",
            "Qyle\n",
            "Ragnor Pyke\n",
            "Ragwyle\n",
            "Rakharo\n",
            "Ralf Kenning\n",
            "Ralf Stonehouse\n",
            "Ralf the Limper\n",
            "Randyll Tarly\n",
            "Rast\n",
            "Ravella Swann\n",
            "Raymar Royce\n",
            "Raymun Darry\n",
            "Raynald Westerling\n",
            "Red Alyn\n",
            "Red Rolfe\n",
            "Renly Baratheon\n",
            "Reysen\n",
            "Ricasso\n",
            "Richard Horpe\n",
            "Rickard Karstark\n",
            "Rickard Ryswell\n",
            "Rickon Stark\n",
            "Robar Royce\n",
            "Robb Stark\n",
            "Robert Baratheon\n",
            "Robert Arryn\n",
            "Robett Glover\n",
            "Robin Flint\n",
            "Robin Moreland\n",
            "Robin Ryger\n",
            "Rodrik Cassel\n",
            "Rodrik Harlaw\n",
            "Roger Hogg\n",
            "Roger Ryswell\n",
            "Roland Crakehall (Lord)\n",
            "Rolder\n",
            "Rolfe\n",
            "Rollam Westerling\n",
            "Rolfe the Dwarf\n",
            "Rolley\n",
            "Rolly Duckfield\n",
            "Rolph Spicer\n",
            "Romny Weaver\n",
            "Ronnel Harclay\n",
            "Ronnet Connington\n",
            "Roose Bolton\n",
            "Rowan\n",
            "Rudge\n",
            "Rusty Flowers\n",
            "Ryk\n",
            "Rupert Brax\n",
            "Rymolf Stormdrunk\n",
            "Ryon Allyrion\n",
            "Salladhor Saan\n",
            "Samwell Tarly\n",
            "Sawane Botley\n",
            "Sansa Stark\n",
            "Sarella Sand\n",
            "Satin\n",
            "Sawwood\n",
            "Selyse Florent\n",
            "Senelle\n",
            "Shae\n",
            "Shagga\n",
            "Shireen Baratheon\n",
            "Shyra Errol\n",
            "Sigfry Stonetree\n",
            "Small Paul\n",
            "Softfoot\n",
            "Spare Boot\n",
            "Spotted Pate of Maidenpool\n",
            "Squint\n",
            "Squirrel\n",
            "Stalwart Shield\n",
            "Steffon Swyft\n",
            "Stevron Frey\n",
            "Stiv\n",
            "Stone Thumbs\n",
            "Stonesnake\n",
            "Stygg\n",
            "Styr\n",
            "Sybell Spicer\n",
            "Sybelle Glover\n",
            "Sylva Santagar\n",
            "Symon Silver Tongue\n",
            "Symon Stripeback\n",
            "Symond Templeton\n",
            "Syrio Forel\n",
            "Taena of Myr\n",
            "Tal Toraq\n",
            "Tallad\n",
            "Tanda Stokeworth\n",
            "Tanton Fossoway\n",
            "Terrance Lynderly\n",
            "The Red Lamb\n",
            "Theodan Wells\n",
            "Theon Greyjoy\n",
            "Thistle\n",
            "Thoren Smallwood\n",
            "Three-Tooth\n",
            "Tickler\n",
            "Tim Tangletongue\n",
            "Timett\n",
            "Timon\n",
            "Tion Frey\n",
            "Todder\n",
            "Todric\n",
            "Tomard\n",
            "Tormund\n",
            "Torrhen Karstark\n",
            "Tothmure\n",
            "Tregar\n",
            "Tremond Gargalen\n",
            "Tristifer Botley\n",
            "Triston Sunderland\n",
            "Tumberjon\n",
            "Tumco Lho\n",
            "Tyene Sand\n",
            "Tymor\n",
            "Tyrek Lannister\n",
            "Tyrion Lannister\n",
            "Tytos Blackwood\n",
            "Tytos Brax\n",
            "Tywin Lannister\n",
            "Ulf son of Umar\n",
            "Ulf the Ill\n",
            "Ulmer\n",
            "Ulwyck Uller\n",
            "Urreg\n",
            "Utherydes Wayn\n",
            "Val\n",
            "Varamyr\n",
            "Vardis Egen\n",
            "Varys\n",
            "Vayon Poole\n",
            "Victarion Greyjoy\n",
            "Viserys Targaryen\n",
            "Vylarr\n",
            "Vyman\n",
            "Wallen\n",
            "Watt\n",
            "Waymar Royce\n",
            "Wayn (guard)\n",
            "Weeper\n",
            "Weese\n",
            "Wendel Manderly\n",
            "Werlag\n",
            "Wex Pyke\n",
            "Wilbert\n",
            "Will\n",
            "Willam Wells\n",
            "Willem Lannister\n",
            "William Mooton\n",
            "Willis Wode\n",
            "Willit\n",
            "Willow Witch-eye\n",
            "Willum\n",
            "Woth\n",
            "Wulfe\n",
            "Wun Weg Wun Dar Wun\n",
            "Wyl (guard)\n",
            "Wylis Manderly\n",
            "Wylla Manderly\n",
            "Wyman Manderly\n",
            "Wynafryd Manderly\n",
            "Wynton Stout\n",
            "Yandry\n",
            "Ygon Farwynd\n",
            "Ygritte\n",
            "Yohn Farwynd\n",
            "Yohn Royce\n",
            "Yoren\n",
            "Young Henly\n",
            "Ysilla\n",
            "Zei\n",
            "Torwynd the Tame\n",
            "Talbert Serry\n",
            "Lannister\n",
            "House Targaryen\n",
            "House Greyjoy\n",
            "Baratheon\n",
            "Night's Watch\n",
            "Arryn\n",
            "House Stark\n",
            "House Tyrell\n",
            "Tyrell\n",
            "Stark\n",
            "Greyjoy\n",
            "House Lannister\n",
            "Martell\n",
            "House Martell\n",
            "Wildling\n",
            "Targaryen\n",
            "House Arryn\n",
            "House Tully\n",
            "Tully\n",
            "House Baratheon\n"
          ]
        }
      ]
    },
    {
      "cell_type": "code",
      "source": [
        "import networkx as nx\n",
        "\n",
        "l_name = list(f_df[\"Name\"])\n",
        "l_allegiances = list(f_df[\"Allegiances\"])\n",
        "\n",
        "g = nx.Graph()\n",
        "edge_list = list(zip(l_name,l_school))\n",
        "\n",
        "g.add_edges_from(edge_list)\n",
        "\n",
        "print(nx.info(g))\n",
        "nx.write_gml(g, \"game-of-thrones.gml\")"
      ],
      "metadata": {
        "colab": {
          "base_uri": "https://localhost:8080/"
        },
        "id": "BXvBDn9aY-LV",
        "outputId": "94dc55bc-33ad-42ca-93a6-c0cd1c24293a"
      },
      "execution_count": 13,
      "outputs": [
        {
          "output_type": "stream",
          "name": "stdout",
          "text": [
            "Graph with 278 nodes and 257 edges\n"
          ]
        }
      ]
    },
    {
      "cell_type": "markdown",
      "source": [
        "![Screenshot_5.jpg](data:image/jpeg;base64,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)"
      ],
      "metadata": {
        "id": "cbJt_z33bQo-"
      }
    },
    {
      "cell_type": "markdown",
      "metadata": {
        "id": "tEHVwYACDMEl"
      },
      "source": [
        "#**Question 2:** Use the [Friends TV Show Transcript](https://www.kaggle.com/ryanstonebraker/friends-transcript)\n",
        "to create and evaluate a classifier that given a line of text can predict\n",
        " who is the \"friend\" that said it (20pt). Using sentiment analysis identify who are the most and less friendly friends (20pt). Construct a classifier that can be given several text lines (quotes) from a specific episode that will predict the episode's season number (20pt)."
      ]
    },
    {
      "cell_type": "code",
      "metadata": {
        "id": "IIh11ESmDMEm",
        "colab": {
          "base_uri": "https://localhost:8080/"
        },
        "outputId": "d3323e1f-a541-4a0b-c72a-cf41c3b36d7b"
      },
      "source": [
        "!mkdir ./datasets\n",
        "!mkdir ./datasets/friends\n",
        "\n",
        "!kaggle datasets download ryanstonebraker/friends-transcript -p ./datasets/friends\n",
        "!unzip ./datasets/friends/*.zip  -d ./datasets/friends/"
      ],
      "execution_count": 14,
      "outputs": [
        {
          "output_type": "stream",
          "name": "stdout",
          "text": [
            "mkdir: cannot create directory ‘./datasets’: File exists\n",
            "mkdir: cannot create directory ‘./datasets/friends’: File exists\n",
            "Downloading friends-transcript.zip to ./datasets/friends\n",
            "  0% 0.00/1.72M [00:00<?, ?B/s]\n",
            "100% 1.72M/1.72M [00:00<00:00, 130MB/s]\n",
            "Archive:  ./datasets/friends/friends-transcript.zip\n",
            "  inflating: ./datasets/friends/friends_quotes.csv  \n"
          ]
        }
      ]
    },
    {
      "cell_type": "code",
      "source": [
        "import turicreate as tc\n",
        "\n",
        "sf = tc.SFrame.read_csv(\"./datasets/friends/friends_quotes.csv\")\n",
        "sf"
      ],
      "metadata": {
        "colab": {
          "base_uri": "https://localhost:8080/",
          "height": 596
        },
        "id": "Xnsnvrv3bpWM",
        "outputId": "4d73a2da-b9af-4f9f-bbc4-88543a94d4a4"
      },
      "execution_count": 2,
      "outputs": [
        {
          "output_type": "display_data",
          "data": {
            "text/plain": [
              "Finished parsing file /content/datasets/friends/friends_quotes.csv"
            ],
            "text/html": [
              "<pre>Finished parsing file /content/datasets/friends/friends_quotes.csv</pre>"
            ]
          },
          "metadata": {}
        },
        {
          "output_type": "display_data",
          "data": {
            "text/plain": [
              "Parsing completed. Parsed 100 lines in 0.25847 secs."
            ],
            "text/html": [
              "<pre>Parsing completed. Parsed 100 lines in 0.25847 secs.</pre>"
            ]
          },
          "metadata": {}
        },
        {
          "output_type": "stream",
          "name": "stdout",
          "text": [
            "------------------------------------------------------\n",
            "Inferred types from first 100 line(s) of file as \n",
            "column_type_hints=[str,float,str,str,float,float]\n",
            "If parsing fails due to incorrect types, you can correct\n",
            "the inferred type list above and pass it to read_csv in\n",
            "the column_type_hints argument\n",
            "------------------------------------------------------\n"
          ]
        },
        {
          "output_type": "display_data",
          "data": {
            "text/plain": [
              "Finished parsing file /content/datasets/friends/friends_quotes.csv"
            ],
            "text/html": [
              "<pre>Finished parsing file /content/datasets/friends/friends_quotes.csv</pre>"
            ]
          },
          "metadata": {}
        },
        {
          "output_type": "display_data",
          "data": {
            "text/plain": [
              "Parsing completed. Parsed 60291 lines in 0.158405 secs."
            ],
            "text/html": [
              "<pre>Parsing completed. Parsed 60291 lines in 0.158405 secs.</pre>"
            ]
          },
          "metadata": {}
        },
        {
          "output_type": "execute_result",
          "data": {
            "text/plain": [
              "Columns:\n",
              "\tauthor\tstr\n",
              "\tepisode_number\tfloat\n",
              "\tepisode_title\tstr\n",
              "\tquote\tstr\n",
              "\tquote_order\tfloat\n",
              "\tseason\tfloat\n",
              "\n",
              "Rows: 60291\n",
              "\n",
              "Data:\n",
              "+----------+----------------+------------------------+\n",
              "|  author  | episode_number |     episode_title      |\n",
              "+----------+----------------+------------------------+\n",
              "|  Monica  |      1.0       | Monica Gets A Roommate |\n",
              "|   Joey   |      1.0       | Monica Gets A Roommate |\n",
              "| Chandler |      1.0       | Monica Gets A Roommate |\n",
              "|  Phoebe  |      1.0       | Monica Gets A Roommate |\n",
              "|  Phoebe  |      1.0       | Monica Gets A Roommate |\n",
              "|  Monica  |      1.0       | Monica Gets A Roommate |\n",
              "| Chandler |      1.0       | Monica Gets A Roommate |\n",
              "| Chandler |      1.0       | Monica Gets A Roommate |\n",
              "|   All    |      1.0       | Monica Gets A Roommate |\n",
              "| Chandler |      1.0       | Monica Gets A Roommate |\n",
              "+----------+----------------+------------------------+\n",
              "+-------------------------------+-------------+--------+\n",
              "|             quote             | quote_order | season |\n",
              "+-------------------------------+-------------+--------+\n",
              "| There's nothing to tell! H... |     0.0     |  1.0   |\n",
              "| C'mon, you're going out wi... |     1.0     |  1.0   |\n",
              "| All right Joey, be nice. S... |     2.0     |  1.0   |\n",
              "|    Wait, does he eat chalk?   |     3.0     |  1.0   |\n",
              "| Just, 'cause, I don't want... |     4.0     |  1.0   |\n",
              "| Okay, everybody relax. Thi... |     5.0     |  1.0   |\n",
              "|   Sounds like a date to me.   |     6.0     |  1.0   |\n",
              "| Alright, so I'm back in hi... |     7.0     |  1.0   |\n",
              "|   Oh, yeah. Had that dream.   |     8.0     |  1.0   |\n",
              "| Then I look down, and I re... |     9.0     |  1.0   |\n",
              "+-------------------------------+-------------+--------+\n",
              "[60291 rows x 6 columns]\n",
              "Note: Only the head of the SFrame is printed.\n",
              "You can use print_rows(num_rows=m, num_columns=n) to print more rows and columns."
            ],
            "text/html": [
              "<div style=\"max-height:1000px;max-width:1500px;overflow:auto;\"><table frame=\"box\" rules=\"cols\">\n",
              "    <tr>\n",
              "        <th style=\"padding-left: 1em; padding-right: 1em; text-align: center\">author</th>\n",
              "        <th style=\"padding-left: 1em; padding-right: 1em; text-align: center\">episode_number</th>\n",
              "        <th style=\"padding-left: 1em; padding-right: 1em; text-align: center\">episode_title</th>\n",
              "        <th style=\"padding-left: 1em; padding-right: 1em; text-align: center\">quote</th>\n",
              "        <th style=\"padding-left: 1em; padding-right: 1em; text-align: center\">quote_order</th>\n",
              "        <th style=\"padding-left: 1em; padding-right: 1em; text-align: center\">season</th>\n",
              "    </tr>\n",
              "    <tr>\n",
              "        <td style=\"padding-left: 1em; padding-right: 1em; text-align: center; vertical-align: top\">Monica</td>\n",
              "        <td style=\"padding-left: 1em; padding-right: 1em; text-align: center; vertical-align: top\">1.0</td>\n",
              "        <td style=\"padding-left: 1em; padding-right: 1em; text-align: center; vertical-align: top\">Monica Gets A Roommate</td>\n",
              "        <td style=\"padding-left: 1em; padding-right: 1em; text-align: center; vertical-align: top\">There&#x27;s nothing to tell!<br>He&#x27;s just some guy I  ...</td>\n",
              "        <td style=\"padding-left: 1em; padding-right: 1em; text-align: center; vertical-align: top\">0.0</td>\n",
              "        <td style=\"padding-left: 1em; padding-right: 1em; text-align: center; vertical-align: top\">1.0</td>\n",
              "    </tr>\n",
              "    <tr>\n",
              "        <td style=\"padding-left: 1em; padding-right: 1em; text-align: center; vertical-align: top\">Joey</td>\n",
              "        <td style=\"padding-left: 1em; padding-right: 1em; text-align: center; vertical-align: top\">1.0</td>\n",
              "        <td style=\"padding-left: 1em; padding-right: 1em; text-align: center; vertical-align: top\">Monica Gets A Roommate</td>\n",
              "        <td style=\"padding-left: 1em; padding-right: 1em; text-align: center; vertical-align: top\">C&#x27;mon, you&#x27;re going out<br>with the guy! There&#x27;s ...</td>\n",
              "        <td style=\"padding-left: 1em; padding-right: 1em; text-align: center; vertical-align: top\">1.0</td>\n",
              "        <td style=\"padding-left: 1em; padding-right: 1em; text-align: center; vertical-align: top\">1.0</td>\n",
              "    </tr>\n",
              "    <tr>\n",
              "        <td style=\"padding-left: 1em; padding-right: 1em; text-align: center; vertical-align: top\">Chandler</td>\n",
              "        <td style=\"padding-left: 1em; padding-right: 1em; text-align: center; vertical-align: top\">1.0</td>\n",
              "        <td style=\"padding-left: 1em; padding-right: 1em; text-align: center; vertical-align: top\">Monica Gets A Roommate</td>\n",
              "        <td style=\"padding-left: 1em; padding-right: 1em; text-align: center; vertical-align: top\">All right Joey, be nice.<br>So does he have a hum ...</td>\n",
              "        <td style=\"padding-left: 1em; padding-right: 1em; text-align: center; vertical-align: top\">2.0</td>\n",
              "        <td style=\"padding-left: 1em; padding-right: 1em; text-align: center; vertical-align: top\">1.0</td>\n",
              "    </tr>\n",
              "    <tr>\n",
              "        <td style=\"padding-left: 1em; padding-right: 1em; text-align: center; vertical-align: top\">Phoebe</td>\n",
              "        <td style=\"padding-left: 1em; padding-right: 1em; text-align: center; vertical-align: top\">1.0</td>\n",
              "        <td style=\"padding-left: 1em; padding-right: 1em; text-align: center; vertical-align: top\">Monica Gets A Roommate</td>\n",
              "        <td style=\"padding-left: 1em; padding-right: 1em; text-align: center; vertical-align: top\">Wait, does he eat chalk?</td>\n",
              "        <td style=\"padding-left: 1em; padding-right: 1em; text-align: center; vertical-align: top\">3.0</td>\n",
              "        <td style=\"padding-left: 1em; padding-right: 1em; text-align: center; vertical-align: top\">1.0</td>\n",
              "    </tr>\n",
              "    <tr>\n",
              "        <td style=\"padding-left: 1em; padding-right: 1em; text-align: center; vertical-align: top\">Phoebe</td>\n",
              "        <td style=\"padding-left: 1em; padding-right: 1em; text-align: center; vertical-align: top\">1.0</td>\n",
              "        <td style=\"padding-left: 1em; padding-right: 1em; text-align: center; vertical-align: top\">Monica Gets A Roommate</td>\n",
              "        <td style=\"padding-left: 1em; padding-right: 1em; text-align: center; vertical-align: top\">Just, &#x27;cause, I don&#x27;t<br>want her to go through ...</td>\n",
              "        <td style=\"padding-left: 1em; padding-right: 1em; text-align: center; vertical-align: top\">4.0</td>\n",
              "        <td style=\"padding-left: 1em; padding-right: 1em; text-align: center; vertical-align: top\">1.0</td>\n",
              "    </tr>\n",
              "    <tr>\n",
              "        <td style=\"padding-left: 1em; padding-right: 1em; text-align: center; vertical-align: top\">Monica</td>\n",
              "        <td style=\"padding-left: 1em; padding-right: 1em; text-align: center; vertical-align: top\">1.0</td>\n",
              "        <td style=\"padding-left: 1em; padding-right: 1em; text-align: center; vertical-align: top\">Monica Gets A Roommate</td>\n",
              "        <td style=\"padding-left: 1em; padding-right: 1em; text-align: center; vertical-align: top\">Okay, everybody relax.<br>This is not even a date. ...</td>\n",
              "        <td style=\"padding-left: 1em; padding-right: 1em; text-align: center; vertical-align: top\">5.0</td>\n",
              "        <td style=\"padding-left: 1em; padding-right: 1em; text-align: center; vertical-align: top\">1.0</td>\n",
              "    </tr>\n",
              "    <tr>\n",
              "        <td style=\"padding-left: 1em; padding-right: 1em; text-align: center; vertical-align: top\">Chandler</td>\n",
              "        <td style=\"padding-left: 1em; padding-right: 1em; text-align: center; vertical-align: top\">1.0</td>\n",
              "        <td style=\"padding-left: 1em; padding-right: 1em; text-align: center; vertical-align: top\">Monica Gets A Roommate</td>\n",
              "        <td style=\"padding-left: 1em; padding-right: 1em; text-align: center; vertical-align: top\">Sounds like a date to me.</td>\n",
              "        <td style=\"padding-left: 1em; padding-right: 1em; text-align: center; vertical-align: top\">6.0</td>\n",
              "        <td style=\"padding-left: 1em; padding-right: 1em; text-align: center; vertical-align: top\">1.0</td>\n",
              "    </tr>\n",
              "    <tr>\n",
              "        <td style=\"padding-left: 1em; padding-right: 1em; text-align: center; vertical-align: top\">Chandler</td>\n",
              "        <td style=\"padding-left: 1em; padding-right: 1em; text-align: center; vertical-align: top\">1.0</td>\n",
              "        <td style=\"padding-left: 1em; padding-right: 1em; text-align: center; vertical-align: top\">Monica Gets A Roommate</td>\n",
              "        <td style=\"padding-left: 1em; padding-right: 1em; text-align: center; vertical-align: top\">Alright, so I&#x27;m back in<br>high school, I&#x27;m stan ...</td>\n",
              "        <td style=\"padding-left: 1em; padding-right: 1em; text-align: center; vertical-align: top\">7.0</td>\n",
              "        <td style=\"padding-left: 1em; padding-right: 1em; text-align: center; vertical-align: top\">1.0</td>\n",
              "    </tr>\n",
              "    <tr>\n",
              "        <td style=\"padding-left: 1em; padding-right: 1em; text-align: center; vertical-align: top\">All</td>\n",
              "        <td style=\"padding-left: 1em; padding-right: 1em; text-align: center; vertical-align: top\">1.0</td>\n",
              "        <td style=\"padding-left: 1em; padding-right: 1em; text-align: center; vertical-align: top\">Monica Gets A Roommate</td>\n",
              "        <td style=\"padding-left: 1em; padding-right: 1em; text-align: center; vertical-align: top\">Oh, yeah. Had that dream.</td>\n",
              "        <td style=\"padding-left: 1em; padding-right: 1em; text-align: center; vertical-align: top\">8.0</td>\n",
              "        <td style=\"padding-left: 1em; padding-right: 1em; text-align: center; vertical-align: top\">1.0</td>\n",
              "    </tr>\n",
              "    <tr>\n",
              "        <td style=\"padding-left: 1em; padding-right: 1em; text-align: center; vertical-align: top\">Chandler</td>\n",
              "        <td style=\"padding-left: 1em; padding-right: 1em; text-align: center; vertical-align: top\">1.0</td>\n",
              "        <td style=\"padding-left: 1em; padding-right: 1em; text-align: center; vertical-align: top\">Monica Gets A Roommate</td>\n",
              "        <td style=\"padding-left: 1em; padding-right: 1em; text-align: center; vertical-align: top\">Then I look down, and I<br>realize there&#x27;s a ...</td>\n",
              "        <td style=\"padding-left: 1em; padding-right: 1em; text-align: center; vertical-align: top\">9.0</td>\n",
              "        <td style=\"padding-left: 1em; padding-right: 1em; text-align: center; vertical-align: top\">1.0</td>\n",
              "    </tr>\n",
              "</table>\n",
              "[60291 rows x 6 columns]<br/>Note: Only the head of the SFrame is printed.<br/>You can use print_rows(num_rows=m, num_columns=n) to print more rows and columns.\n",
              "</div>"
            ]
          },
          "metadata": {},
          "execution_count": 2
        }
      ]
    },
    {
      "cell_type": "markdown",
      "source": [
        "## Create and evaluate a classifier that given a line of text can predict who is the \"friend\" that said it (20pt)."
      ],
      "metadata": {
        "id": "7bOJURZacXtc"
      }
    },
    {
      "cell_type": "code",
      "source": [
        "!python -m spacy download en_core_web_lg # Important! you need to restart runtime after install"
      ],
      "metadata": {
        "colab": {
          "base_uri": "https://localhost:8080/"
        },
        "id": "nQXd5OxzOdgX",
        "outputId": "e0f285f9-0a80-496f-ac7e-960f1cc2bcee"
      },
      "execution_count": 17,
      "outputs": [
        {
          "output_type": "stream",
          "name": "stdout",
          "text": [
            "\u001b[33mWARNING: Ignoring invalid distribution -ensorflow (/usr/local/lib/python3.7/dist-packages)\u001b[0m\n",
            "\u001b[33mWARNING: Ignoring invalid distribution -ensorflow (/usr/local/lib/python3.7/dist-packages)\u001b[0m\n",
            "Collecting en_core_web_lg==2.2.5\n",
            "  Downloading https://github.com/explosion/spacy-models/releases/download/en_core_web_lg-2.2.5/en_core_web_lg-2.2.5.tar.gz (827.9 MB)\n",
            "\u001b[K     |████████████████████████████████| 827.9 MB 1.2 MB/s \n",
            "\u001b[?25hRequirement already satisfied: spacy>=2.2.2 in /usr/local/lib/python3.7/dist-packages (from en_core_web_lg==2.2.5) (2.2.4)\n",
            "Requirement already satisfied: requests<3.0.0,>=2.13.0 in /usr/local/lib/python3.7/dist-packages (from spacy>=2.2.2->en_core_web_lg==2.2.5) (2.23.0)\n",
            "Requirement already satisfied: wasabi<1.1.0,>=0.4.0 in /usr/local/lib/python3.7/dist-packages (from spacy>=2.2.2->en_core_web_lg==2.2.5) (0.9.1)\n",
            "Requirement already satisfied: catalogue<1.1.0,>=0.0.7 in /usr/local/lib/python3.7/dist-packages (from spacy>=2.2.2->en_core_web_lg==2.2.5) (1.0.0)\n",
            "Requirement already satisfied: tqdm<5.0.0,>=4.38.0 in /usr/local/lib/python3.7/dist-packages (from spacy>=2.2.2->en_core_web_lg==2.2.5) (4.64.0)\n",
            "Requirement already satisfied: thinc==7.4.0 in /usr/local/lib/python3.7/dist-packages (from spacy>=2.2.2->en_core_web_lg==2.2.5) (7.4.0)\n",
            "Requirement already satisfied: setuptools in /usr/local/lib/python3.7/dist-packages (from spacy>=2.2.2->en_core_web_lg==2.2.5) (57.4.0)\n",
            "Requirement already satisfied: murmurhash<1.1.0,>=0.28.0 in /usr/local/lib/python3.7/dist-packages (from spacy>=2.2.2->en_core_web_lg==2.2.5) (1.0.7)\n",
            "Requirement already satisfied: numpy>=1.15.0 in /usr/local/lib/python3.7/dist-packages (from spacy>=2.2.2->en_core_web_lg==2.2.5) (1.21.6)\n",
            "Requirement already satisfied: blis<0.5.0,>=0.4.0 in /usr/local/lib/python3.7/dist-packages (from spacy>=2.2.2->en_core_web_lg==2.2.5) (0.4.1)\n",
            "Requirement already satisfied: cymem<2.1.0,>=2.0.2 in /usr/local/lib/python3.7/dist-packages (from spacy>=2.2.2->en_core_web_lg==2.2.5) (2.0.6)\n",
            "Requirement already satisfied: plac<1.2.0,>=0.9.6 in /usr/local/lib/python3.7/dist-packages (from spacy>=2.2.2->en_core_web_lg==2.2.5) (1.1.3)\n",
            "Requirement already satisfied: preshed<3.1.0,>=3.0.2 in /usr/local/lib/python3.7/dist-packages (from spacy>=2.2.2->en_core_web_lg==2.2.5) (3.0.6)\n",
            "Requirement already satisfied: srsly<1.1.0,>=1.0.2 in /usr/local/lib/python3.7/dist-packages (from spacy>=2.2.2->en_core_web_lg==2.2.5) (1.0.5)\n",
            "Requirement already satisfied: importlib-metadata>=0.20 in /usr/local/lib/python3.7/dist-packages (from catalogue<1.1.0,>=0.0.7->spacy>=2.2.2->en_core_web_lg==2.2.5) (4.11.3)\n",
            "Requirement already satisfied: typing-extensions>=3.6.4 in /usr/local/lib/python3.7/dist-packages (from importlib-metadata>=0.20->catalogue<1.1.0,>=0.0.7->spacy>=2.2.2->en_core_web_lg==2.2.5) (4.2.0)\n",
            "Requirement already satisfied: zipp>=0.5 in /usr/local/lib/python3.7/dist-packages (from importlib-metadata>=0.20->catalogue<1.1.0,>=0.0.7->spacy>=2.2.2->en_core_web_lg==2.2.5) (3.8.0)\n",
            "Requirement already satisfied: urllib3!=1.25.0,!=1.25.1,<1.26,>=1.21.1 in /usr/local/lib/python3.7/dist-packages (from requests<3.0.0,>=2.13.0->spacy>=2.2.2->en_core_web_lg==2.2.5) (1.24.3)\n",
            "Requirement already satisfied: idna<3,>=2.5 in /usr/local/lib/python3.7/dist-packages (from requests<3.0.0,>=2.13.0->spacy>=2.2.2->en_core_web_lg==2.2.5) (2.10)\n",
            "Requirement already satisfied: chardet<4,>=3.0.2 in /usr/local/lib/python3.7/dist-packages (from requests<3.0.0,>=2.13.0->spacy>=2.2.2->en_core_web_lg==2.2.5) (3.0.4)\n",
            "Requirement already satisfied: certifi>=2017.4.17 in /usr/local/lib/python3.7/dist-packages (from requests<3.0.0,>=2.13.0->spacy>=2.2.2->en_core_web_lg==2.2.5) (2021.10.8)\n",
            "\u001b[33mWARNING: Ignoring invalid distribution -ensorflow (/usr/local/lib/python3.7/dist-packages)\u001b[0m\n",
            "\u001b[38;5;2m✔ Download and installation successful\u001b[0m\n",
            "You can now load the model via spacy.load('en_core_web_lg')\n"
          ]
        }
      ]
    },
    {
      "cell_type": "code",
      "source": [
        "from tqdm import tqdm\n",
        "import spacy\n",
        "nlp = spacy.load('en_core_web_lg')\n",
        "vector_list = []\n",
        "for quote in tqdm(sf['quote']):\n",
        "    vector_list.append(nlp(quote).vector)\n",
        "sf['vector'] = vector_list\n",
        "sf"
      ],
      "metadata": {
        "id": "rOSwB_33cO3P",
        "colab": {
          "base_uri": "https://localhost:8080/",
          "height": 811
        },
        "outputId": "e96207a9-10f3-4e5a-b936-05a56677dee3"
      },
      "execution_count": 3,
      "outputs": [
        {
          "output_type": "stream",
          "name": "stderr",
          "text": [
            "100%|██████████| 60291/60291 [11:16<00:00, 89.09it/s]\n"
          ]
        },
        {
          "output_type": "execute_result",
          "data": {
            "text/plain": [
              "Columns:\n",
              "\tauthor\tstr\n",
              "\tepisode_number\tfloat\n",
              "\tepisode_title\tstr\n",
              "\tquote\tstr\n",
              "\tquote_order\tfloat\n",
              "\tseason\tfloat\n",
              "\tvector\tndarray\n",
              "\n",
              "Rows: 60291\n",
              "\n",
              "Data:\n",
              "+----------+----------------+------------------------+\n",
              "|  author  | episode_number |     episode_title      |\n",
              "+----------+----------------+------------------------+\n",
              "|  Monica  |      1.0       | Monica Gets A Roommate |\n",
              "|   Joey   |      1.0       | Monica Gets A Roommate |\n",
              "| Chandler |      1.0       | Monica Gets A Roommate |\n",
              "|  Phoebe  |      1.0       | Monica Gets A Roommate |\n",
              "|  Phoebe  |      1.0       | Monica Gets A Roommate |\n",
              "|  Monica  |      1.0       | Monica Gets A Roommate |\n",
              "| Chandler |      1.0       | Monica Gets A Roommate |\n",
              "| Chandler |      1.0       | Monica Gets A Roommate |\n",
              "|   All    |      1.0       | Monica Gets A Roommate |\n",
              "| Chandler |      1.0       | Monica Gets A Roommate |\n",
              "+----------+----------------+------------------------+\n",
              "+-------------------------------+-------------+--------+\n",
              "|             quote             | quote_order | season |\n",
              "+-------------------------------+-------------+--------+\n",
              "| There's nothing to tell! H... |     0.0     |  1.0   |\n",
              "| C'mon, you're going out wi... |     1.0     |  1.0   |\n",
              "| All right Joey, be nice. S... |     2.0     |  1.0   |\n",
              "|    Wait, does he eat chalk?   |     3.0     |  1.0   |\n",
              "| Just, 'cause, I don't want... |     4.0     |  1.0   |\n",
              "| Okay, everybody relax. Thi... |     5.0     |  1.0   |\n",
              "|   Sounds like a date to me.   |     6.0     |  1.0   |\n",
              "| Alright, so I'm back in hi... |     7.0     |  1.0   |\n",
              "|   Oh, yeah. Had that dream.   |     8.0     |  1.0   |\n",
              "| Then I look down, and I re... |     9.0     |  1.0   |\n",
              "+-------------------------------+-------------+--------+\n",
              "+-------------------------------+\n",
              "|             vector            |\n",
              "+-------------------------------+\n",
              "| [-6.18888177e-02  2.657972... |\n",
              "| [-1.22622110e-01  1.815474... |\n",
              "| [-9.82086826e-03  9.881126... |\n",
              "| [-3.71425711e-02  2.298191... |\n",
              "| [ 4.21000049e-02  2.365028... |\n",
              "| [-1.00040007e-02  1.462418... |\n",
              "| [ 4.51041423e-02  1.739305... |\n",
              "| [ 1.14625013e-02  2.698495... |\n",
              "| [ 2.19136756e-03  2.693336... |\n",
              "| [ 7.12726032e-03  2.440985... |\n",
              "+-------------------------------+\n",
              "[60291 rows x 7 columns]\n",
              "Note: Only the head of the SFrame is printed.\n",
              "You can use print_rows(num_rows=m, num_columns=n) to print more rows and columns."
            ],
            "text/html": [
              "<div style=\"max-height:1000px;max-width:1500px;overflow:auto;\"><table frame=\"box\" rules=\"cols\">\n",
              "    <tr>\n",
              "        <th style=\"padding-left: 1em; padding-right: 1em; text-align: center\">author</th>\n",
              "        <th style=\"padding-left: 1em; padding-right: 1em; text-align: center\">episode_number</th>\n",
              "        <th style=\"padding-left: 1em; padding-right: 1em; text-align: center\">episode_title</th>\n",
              "        <th style=\"padding-left: 1em; padding-right: 1em; text-align: center\">quote</th>\n",
              "        <th style=\"padding-left: 1em; padding-right: 1em; text-align: center\">quote_order</th>\n",
              "        <th style=\"padding-left: 1em; padding-right: 1em; text-align: center\">season</th>\n",
              "    </tr>\n",
              "    <tr>\n",
              "        <td style=\"padding-left: 1em; padding-right: 1em; text-align: center; vertical-align: top\">Monica</td>\n",
              "        <td style=\"padding-left: 1em; padding-right: 1em; text-align: center; vertical-align: top\">1.0</td>\n",
              "        <td style=\"padding-left: 1em; padding-right: 1em; text-align: center; vertical-align: top\">Monica Gets A Roommate</td>\n",
              "        <td style=\"padding-left: 1em; padding-right: 1em; text-align: center; vertical-align: top\">There&#x27;s nothing to tell!<br>He&#x27;s just some guy I  ...</td>\n",
              "        <td style=\"padding-left: 1em; padding-right: 1em; text-align: center; vertical-align: top\">0.0</td>\n",
              "        <td style=\"padding-left: 1em; padding-right: 1em; text-align: center; vertical-align: top\">1.0</td>\n",
              "    </tr>\n",
              "    <tr>\n",
              "        <td style=\"padding-left: 1em; padding-right: 1em; text-align: center; vertical-align: top\">Joey</td>\n",
              "        <td style=\"padding-left: 1em; padding-right: 1em; text-align: center; vertical-align: top\">1.0</td>\n",
              "        <td style=\"padding-left: 1em; padding-right: 1em; text-align: center; vertical-align: top\">Monica Gets A Roommate</td>\n",
              "        <td style=\"padding-left: 1em; padding-right: 1em; text-align: center; vertical-align: top\">C&#x27;mon, you&#x27;re going out<br>with the guy! There&#x27;s ...</td>\n",
              "        <td style=\"padding-left: 1em; padding-right: 1em; text-align: center; vertical-align: top\">1.0</td>\n",
              "        <td style=\"padding-left: 1em; padding-right: 1em; text-align: center; vertical-align: top\">1.0</td>\n",
              "    </tr>\n",
              "    <tr>\n",
              "        <td style=\"padding-left: 1em; padding-right: 1em; text-align: center; vertical-align: top\">Chandler</td>\n",
              "        <td style=\"padding-left: 1em; padding-right: 1em; text-align: center; vertical-align: top\">1.0</td>\n",
              "        <td style=\"padding-left: 1em; padding-right: 1em; text-align: center; vertical-align: top\">Monica Gets A Roommate</td>\n",
              "        <td style=\"padding-left: 1em; padding-right: 1em; text-align: center; vertical-align: top\">All right Joey, be nice.<br>So does he have a hum ...</td>\n",
              "        <td style=\"padding-left: 1em; padding-right: 1em; text-align: center; vertical-align: top\">2.0</td>\n",
              "        <td style=\"padding-left: 1em; padding-right: 1em; text-align: center; vertical-align: top\">1.0</td>\n",
              "    </tr>\n",
              "    <tr>\n",
              "        <td style=\"padding-left: 1em; padding-right: 1em; text-align: center; vertical-align: top\">Phoebe</td>\n",
              "        <td style=\"padding-left: 1em; padding-right: 1em; text-align: center; vertical-align: top\">1.0</td>\n",
              "        <td style=\"padding-left: 1em; padding-right: 1em; text-align: center; vertical-align: top\">Monica Gets A Roommate</td>\n",
              "        <td style=\"padding-left: 1em; padding-right: 1em; text-align: center; vertical-align: top\">Wait, does he eat chalk?</td>\n",
              "        <td style=\"padding-left: 1em; padding-right: 1em; text-align: center; vertical-align: top\">3.0</td>\n",
              "        <td style=\"padding-left: 1em; padding-right: 1em; text-align: center; vertical-align: top\">1.0</td>\n",
              "    </tr>\n",
              "    <tr>\n",
              "        <td style=\"padding-left: 1em; padding-right: 1em; text-align: center; vertical-align: top\">Phoebe</td>\n",
              "        <td style=\"padding-left: 1em; padding-right: 1em; text-align: center; vertical-align: top\">1.0</td>\n",
              "        <td style=\"padding-left: 1em; padding-right: 1em; text-align: center; vertical-align: top\">Monica Gets A Roommate</td>\n",
              "        <td style=\"padding-left: 1em; padding-right: 1em; text-align: center; vertical-align: top\">Just, &#x27;cause, I don&#x27;t<br>want her to go through ...</td>\n",
              "        <td style=\"padding-left: 1em; padding-right: 1em; text-align: center; vertical-align: top\">4.0</td>\n",
              "        <td style=\"padding-left: 1em; padding-right: 1em; text-align: center; vertical-align: top\">1.0</td>\n",
              "    </tr>\n",
              "    <tr>\n",
              "        <td style=\"padding-left: 1em; padding-right: 1em; text-align: center; vertical-align: top\">Monica</td>\n",
              "        <td style=\"padding-left: 1em; padding-right: 1em; text-align: center; vertical-align: top\">1.0</td>\n",
              "        <td style=\"padding-left: 1em; padding-right: 1em; text-align: center; vertical-align: top\">Monica Gets A Roommate</td>\n",
              "        <td style=\"padding-left: 1em; padding-right: 1em; text-align: center; vertical-align: top\">Okay, everybody relax.<br>This is not even a date. ...</td>\n",
              "        <td style=\"padding-left: 1em; padding-right: 1em; text-align: center; vertical-align: top\">5.0</td>\n",
              "        <td style=\"padding-left: 1em; padding-right: 1em; text-align: center; vertical-align: top\">1.0</td>\n",
              "    </tr>\n",
              "    <tr>\n",
              "        <td style=\"padding-left: 1em; padding-right: 1em; text-align: center; vertical-align: top\">Chandler</td>\n",
              "        <td style=\"padding-left: 1em; padding-right: 1em; text-align: center; vertical-align: top\">1.0</td>\n",
              "        <td style=\"padding-left: 1em; padding-right: 1em; text-align: center; vertical-align: top\">Monica Gets A Roommate</td>\n",
              "        <td style=\"padding-left: 1em; padding-right: 1em; text-align: center; vertical-align: top\">Sounds like a date to me.</td>\n",
              "        <td style=\"padding-left: 1em; padding-right: 1em; text-align: center; vertical-align: top\">6.0</td>\n",
              "        <td style=\"padding-left: 1em; padding-right: 1em; text-align: center; vertical-align: top\">1.0</td>\n",
              "    </tr>\n",
              "    <tr>\n",
              "        <td style=\"padding-left: 1em; padding-right: 1em; text-align: center; vertical-align: top\">Chandler</td>\n",
              "        <td style=\"padding-left: 1em; padding-right: 1em; text-align: center; vertical-align: top\">1.0</td>\n",
              "        <td style=\"padding-left: 1em; padding-right: 1em; text-align: center; vertical-align: top\">Monica Gets A Roommate</td>\n",
              "        <td style=\"padding-left: 1em; padding-right: 1em; text-align: center; vertical-align: top\">Alright, so I&#x27;m back in<br>high school, I&#x27;m stan ...</td>\n",
              "        <td style=\"padding-left: 1em; padding-right: 1em; text-align: center; vertical-align: top\">7.0</td>\n",
              "        <td style=\"padding-left: 1em; padding-right: 1em; text-align: center; vertical-align: top\">1.0</td>\n",
              "    </tr>\n",
              "    <tr>\n",
              "        <td style=\"padding-left: 1em; padding-right: 1em; text-align: center; vertical-align: top\">All</td>\n",
              "        <td style=\"padding-left: 1em; padding-right: 1em; text-align: center; vertical-align: top\">1.0</td>\n",
              "        <td style=\"padding-left: 1em; padding-right: 1em; text-align: center; vertical-align: top\">Monica Gets A Roommate</td>\n",
              "        <td style=\"padding-left: 1em; padding-right: 1em; text-align: center; vertical-align: top\">Oh, yeah. Had that dream.</td>\n",
              "        <td style=\"padding-left: 1em; padding-right: 1em; text-align: center; vertical-align: top\">8.0</td>\n",
              "        <td style=\"padding-left: 1em; padding-right: 1em; text-align: center; vertical-align: top\">1.0</td>\n",
              "    </tr>\n",
              "    <tr>\n",
              "        <td style=\"padding-left: 1em; padding-right: 1em; text-align: center; vertical-align: top\">Chandler</td>\n",
              "        <td style=\"padding-left: 1em; padding-right: 1em; text-align: center; vertical-align: top\">1.0</td>\n",
              "        <td style=\"padding-left: 1em; padding-right: 1em; text-align: center; vertical-align: top\">Monica Gets A Roommate</td>\n",
              "        <td style=\"padding-left: 1em; padding-right: 1em; text-align: center; vertical-align: top\">Then I look down, and I<br>realize there&#x27;s a ...</td>\n",
              "        <td style=\"padding-left: 1em; padding-right: 1em; text-align: center; vertical-align: top\">9.0</td>\n",
              "        <td style=\"padding-left: 1em; padding-right: 1em; text-align: center; vertical-align: top\">1.0</td>\n",
              "    </tr>\n",
              "</table>\n",
              "<table frame=\"box\" rules=\"cols\">\n",
              "    <tr>\n",
              "        <th style=\"padding-left: 1em; padding-right: 1em; text-align: center\">vector</th>\n",
              "    </tr>\n",
              "    <tr>\n",
              "        <td style=\"padding-left: 1em; padding-right: 1em; text-align: center; vertical-align: top\">[-6.18888177e-02<br>2.65797228e-01 ...</td>\n",
              "    </tr>\n",
              "    <tr>\n",
              "        <td style=\"padding-left: 1em; padding-right: 1em; text-align: center; vertical-align: top\">[-1.22622110e-01<br>1.81547493e-01 ...</td>\n",
              "    </tr>\n",
              "    <tr>\n",
              "        <td style=\"padding-left: 1em; padding-right: 1em; text-align: center; vertical-align: top\">[-9.82086826e-03<br>9.88112614e-02 ...</td>\n",
              "    </tr>\n",
              "    <tr>\n",
              "        <td style=\"padding-left: 1em; padding-right: 1em; text-align: center; vertical-align: top\">[-3.71425711e-02<br>2.29819149e-01 ...</td>\n",
              "    </tr>\n",
              "    <tr>\n",
              "        <td style=\"padding-left: 1em; padding-right: 1em; text-align: center; vertical-align: top\">[ 4.21000049e-02<br>2.36502886e-01 ...</td>\n",
              "    </tr>\n",
              "    <tr>\n",
              "        <td style=\"padding-left: 1em; padding-right: 1em; text-align: center; vertical-align: top\">[-1.00040007e-02<br>1.46241844e-01 ...</td>\n",
              "    </tr>\n",
              "    <tr>\n",
              "        <td style=\"padding-left: 1em; padding-right: 1em; text-align: center; vertical-align: top\">[ 4.51041423e-02<br>1.73930570e-01 ...</td>\n",
              "    </tr>\n",
              "    <tr>\n",
              "        <td style=\"padding-left: 1em; padding-right: 1em; text-align: center; vertical-align: top\">[ 1.14625013e-02<br>2.69849598e-01 ...</td>\n",
              "    </tr>\n",
              "    <tr>\n",
              "        <td style=\"padding-left: 1em; padding-right: 1em; text-align: center; vertical-align: top\">[ 2.19136756e-03<br>2.69333631e-01 ...</td>\n",
              "    </tr>\n",
              "    <tr>\n",
              "        <td style=\"padding-left: 1em; padding-right: 1em; text-align: center; vertical-align: top\">[ 7.12726032e-03<br>2.44098589e-01 ...</td>\n",
              "    </tr>\n",
              "</table>\n",
              "[60291 rows x 7 columns]<br/>Note: Only the head of the SFrame is printed.<br/>You can use print_rows(num_rows=m, num_columns=n) to print more rows and columns.\n",
              "</div>"
            ]
          },
          "metadata": {},
          "execution_count": 3
        }
      ]
    },
    {
      "cell_type": "code",
      "source": [
        "train,test = sf.random_split(0.8)\n",
        "cls = tc.classifier.create(train[:5000], features=[\"vector\"], target=\"author\")"
      ],
      "metadata": {
        "colab": {
          "base_uri": "https://localhost:8080/",
          "height": 1000
        },
        "id": "Ra5nTRdqL-jP",
        "outputId": "7c4899cf-0beb-4f1f-8f5f-d00805a97def"
      },
      "execution_count": 4,
      "outputs": [
        {
          "output_type": "stream",
          "name": "stdout",
          "text": [
            "PROGRESS: Creating a validation set from 5 percent of training data. This may take a while.\n",
            "          You can set ``validation_set=None`` to disable validation tracking.\n",
            "\n",
            "PROGRESS: The following methods are available for this type of problem.\n",
            "PROGRESS: BoostedTreesClassifier, RandomForestClassifier, DecisionTreeClassifier, LogisticClassifier\n",
            "PROGRESS: The returned model will be chosen according to validation accuracy.\n"
          ]
        },
        {
          "output_type": "display_data",
          "data": {
            "text/plain": [
              "Boosted trees classifier:"
            ],
            "text/html": [
              "<pre>Boosted trees classifier:</pre>"
            ]
          },
          "metadata": {}
        },
        {
          "output_type": "display_data",
          "data": {
            "text/plain": [
              "--------------------------------------------------------"
            ],
            "text/html": [
              "<pre>--------------------------------------------------------</pre>"
            ]
          },
          "metadata": {}
        },
        {
          "output_type": "display_data",
          "data": {
            "text/plain": [
              "Number of examples          : 4750"
            ],
            "text/html": [
              "<pre>Number of examples          : 4750</pre>"
            ]
          },
          "metadata": {}
        },
        {
          "output_type": "display_data",
          "data": {
            "text/plain": [
              "Number of classes           : 152"
            ],
            "text/html": [
              "<pre>Number of classes           : 152</pre>"
            ]
          },
          "metadata": {}
        },
        {
          "output_type": "display_data",
          "data": {
            "text/plain": [
              "Number of feature columns   : 1"
            ],
            "text/html": [
              "<pre>Number of feature columns   : 1</pre>"
            ]
          },
          "metadata": {}
        },
        {
          "output_type": "display_data",
          "data": {
            "text/plain": [
              "Number of unpacked features : 300"
            ],
            "text/html": [
              "<pre>Number of unpacked features : 300</pre>"
            ]
          },
          "metadata": {}
        },
        {
          "output_type": "display_data",
          "data": {
            "text/plain": [
              "+-----------+--------------+-------------------+---------------------+-------------------+---------------------+"
            ],
            "text/html": [
              "<pre>+-----------+--------------+-------------------+---------------------+-------------------+---------------------+</pre>"
            ]
          },
          "metadata": {}
        },
        {
          "output_type": "display_data",
          "data": {
            "text/plain": [
              "| Iteration | Elapsed Time | Training Accuracy | Validation Accuracy | Training Log Loss | Validation Log Loss |"
            ],
            "text/html": [
              "<pre>| Iteration | Elapsed Time | Training Accuracy | Validation Accuracy | Training Log Loss | Validation Log Loss |</pre>"
            ]
          },
          "metadata": {}
        },
        {
          "output_type": "display_data",
          "data": {
            "text/plain": [
              "+-----------+--------------+-------------------+---------------------+-------------------+---------------------+"
            ],
            "text/html": [
              "<pre>+-----------+--------------+-------------------+---------------------+-------------------+---------------------+</pre>"
            ]
          },
          "metadata": {}
        },
        {
          "output_type": "display_data",
          "data": {
            "text/plain": [
              "| 1         | 11.012940    | 0.270316          | 0.228571            | 2.722674          | 3.307861            |"
            ],
            "text/html": [
              "<pre>| 1         | 11.012940    | 0.270316          | 0.228571            | 2.722674          | 3.307861            |</pre>"
            ]
          },
          "metadata": {}
        },
        {
          "output_type": "display_data",
          "data": {
            "text/plain": [
              "| 2         | 21.057306    | 0.325895          | 0.220408            | 2.191235          | 3.221253            |"
            ],
            "text/html": [
              "<pre>| 2         | 21.057306    | 0.325895          | 0.220408            | 2.191235          | 3.221253            |</pre>"
            ]
          },
          "metadata": {}
        },
        {
          "output_type": "display_data",
          "data": {
            "text/plain": [
              "| 3         | 31.054655    | 0.418737          | 0.224490            | 1.845293          | 3.160848            |"
            ],
            "text/html": [
              "<pre>| 3         | 31.054655    | 0.418737          | 0.224490            | 1.845293          | 3.160848            |</pre>"
            ]
          },
          "metadata": {}
        },
        {
          "output_type": "display_data",
          "data": {
            "text/plain": [
              "| 4         | 40.924137    | 0.513474          | 0.220408            | 1.587198          | 3.119034            |"
            ],
            "text/html": [
              "<pre>| 4         | 40.924137    | 0.513474          | 0.220408            | 1.587198          | 3.119034            |</pre>"
            ]
          },
          "metadata": {}
        },
        {
          "output_type": "display_data",
          "data": {
            "text/plain": [
              "| 5         | 50.812837    | 0.590947          | 0.212245            | 1.399361          | 3.090143            |"
            ],
            "text/html": [
              "<pre>| 5         | 50.812837    | 0.590947          | 0.212245            | 1.399361          | 3.090143            |</pre>"
            ]
          },
          "metadata": {}
        },
        {
          "output_type": "display_data",
          "data": {
            "text/plain": [
              "| 7         | 70.532309    | 0.720842          | 0.220408            | 1.131136          | 3.060522            |"
            ],
            "text/html": [
              "<pre>| 7         | 70.532309    | 0.720842          | 0.220408            | 1.131136          | 3.060522            |</pre>"
            ]
          },
          "metadata": {}
        },
        {
          "output_type": "display_data",
          "data": {
            "text/plain": [
              "| 8         | 80.414227    | 0.781474          | 0.224490            | 1.022978          | 3.051920            |"
            ],
            "text/html": [
              "<pre>| 8         | 80.414227    | 0.781474          | 0.224490            | 1.022978          | 3.051920            |</pre>"
            ]
          },
          "metadata": {}
        },
        {
          "output_type": "display_data",
          "data": {
            "text/plain": [
              "| 9         | 90.139307    | 0.817474          | 0.228571            | 0.940604          | 3.047253            |"
            ],
            "text/html": [
              "<pre>| 9         | 90.139307    | 0.817474          | 0.228571            | 0.940604          | 3.047253            |</pre>"
            ]
          },
          "metadata": {}
        },
        {
          "output_type": "display_data",
          "data": {
            "text/plain": [
              "| 10        | 99.912160    | 0.846737          | 0.220408            | 0.865799          | 3.040470            |"
            ],
            "text/html": [
              "<pre>| 10        | 99.912160    | 0.846737          | 0.220408            | 0.865799          | 3.040470            |</pre>"
            ]
          },
          "metadata": {}
        },
        {
          "output_type": "display_data",
          "data": {
            "text/plain": [
              "+-----------+--------------+-------------------+---------------------+-------------------+---------------------+"
            ],
            "text/html": [
              "<pre>+-----------+--------------+-------------------+---------------------+-------------------+---------------------+</pre>"
            ]
          },
          "metadata": {}
        },
        {
          "output_type": "display_data",
          "data": {
            "text/plain": [
              "Random forest classifier:"
            ],
            "text/html": [
              "<pre>Random forest classifier:</pre>"
            ]
          },
          "metadata": {}
        },
        {
          "output_type": "display_data",
          "data": {
            "text/plain": [
              "--------------------------------------------------------"
            ],
            "text/html": [
              "<pre>--------------------------------------------------------</pre>"
            ]
          },
          "metadata": {}
        },
        {
          "output_type": "display_data",
          "data": {
            "text/plain": [
              "Number of examples          : 4750"
            ],
            "text/html": [
              "<pre>Number of examples          : 4750</pre>"
            ]
          },
          "metadata": {}
        },
        {
          "output_type": "display_data",
          "data": {
            "text/plain": [
              "Number of classes           : 152"
            ],
            "text/html": [
              "<pre>Number of classes           : 152</pre>"
            ]
          },
          "metadata": {}
        },
        {
          "output_type": "display_data",
          "data": {
            "text/plain": [
              "Number of feature columns   : 1"
            ],
            "text/html": [
              "<pre>Number of feature columns   : 1</pre>"
            ]
          },
          "metadata": {}
        },
        {
          "output_type": "display_data",
          "data": {
            "text/plain": [
              "Number of unpacked features : 300"
            ],
            "text/html": [
              "<pre>Number of unpacked features : 300</pre>"
            ]
          },
          "metadata": {}
        },
        {
          "output_type": "display_data",
          "data": {
            "text/plain": [
              "+-----------+--------------+-------------------+---------------------+-------------------+---------------------+"
            ],
            "text/html": [
              "<pre>+-----------+--------------+-------------------+---------------------+-------------------+---------------------+</pre>"
            ]
          },
          "metadata": {}
        },
        {
          "output_type": "display_data",
          "data": {
            "text/plain": [
              "| Iteration | Elapsed Time | Training Accuracy | Validation Accuracy | Training Log Loss | Validation Log Loss |"
            ],
            "text/html": [
              "<pre>| Iteration | Elapsed Time | Training Accuracy | Validation Accuracy | Training Log Loss | Validation Log Loss |</pre>"
            ]
          },
          "metadata": {}
        },
        {
          "output_type": "display_data",
          "data": {
            "text/plain": [
              "+-----------+--------------+-------------------+---------------------+-------------------+---------------------+"
            ],
            "text/html": [
              "<pre>+-----------+--------------+-------------------+---------------------+-------------------+---------------------+</pre>"
            ]
          },
          "metadata": {}
        },
        {
          "output_type": "display_data",
          "data": {
            "text/plain": [
              "| 1         | 7.891701     | 0.254737          | 0.228571            | 5.120563          | 7.145345            |"
            ],
            "text/html": [
              "<pre>| 1         | 7.891701     | 0.254737          | 0.228571            | 5.120563          | 7.145345            |</pre>"
            ]
          },
          "metadata": {}
        },
        {
          "output_type": "display_data",
          "data": {
            "text/plain": [
              "| 2         | 15.492313    | 0.294947          | 0.248980            | 4.321144          | 6.116415            |"
            ],
            "text/html": [
              "<pre>| 2         | 15.492313    | 0.294947          | 0.248980            | 4.321144          | 6.116415            |</pre>"
            ]
          },
          "metadata": {}
        },
        {
          "output_type": "display_data",
          "data": {
            "text/plain": [
              "| 3         | 23.454921    | 0.308211          | 0.253061            | 4.061600          | 5.828691            |"
            ],
            "text/html": [
              "<pre>| 3         | 23.454921    | 0.308211          | 0.253061            | 4.061600          | 5.828691            |</pre>"
            ]
          },
          "metadata": {}
        },
        {
          "output_type": "display_data",
          "data": {
            "text/plain": [
              "| 4         | 31.173910    | 0.326316          | 0.248980            | 3.837856          | 5.616495            |"
            ],
            "text/html": [
              "<pre>| 4         | 31.173910    | 0.326316          | 0.248980            | 3.837856          | 5.616495            |</pre>"
            ]
          },
          "metadata": {}
        },
        {
          "output_type": "display_data",
          "data": {
            "text/plain": [
              "| 5         | 39.080457    | 0.334316          | 0.253061            | 3.730954          | 5.480878            |"
            ],
            "text/html": [
              "<pre>| 5         | 39.080457    | 0.334316          | 0.253061            | 3.730954          | 5.480878            |</pre>"
            ]
          },
          "metadata": {}
        },
        {
          "output_type": "display_data",
          "data": {
            "text/plain": [
              "| 7         | 54.805141    | 0.349474          | 0.257143            | 3.600418          | 5.287663            |"
            ],
            "text/html": [
              "<pre>| 7         | 54.805141    | 0.349474          | 0.257143            | 3.600418          | 5.287663            |</pre>"
            ]
          },
          "metadata": {}
        },
        {
          "output_type": "display_data",
          "data": {
            "text/plain": [
              "| 8         | 62.754406    | 0.346737          | 0.253061            | 3.565646          | 5.243298            |"
            ],
            "text/html": [
              "<pre>| 8         | 62.754406    | 0.346737          | 0.253061            | 3.565646          | 5.243298            |</pre>"
            ]
          },
          "metadata": {}
        },
        {
          "output_type": "display_data",
          "data": {
            "text/plain": [
              "| 9         | 70.458950    | 0.349263          | 0.240816            | 3.535947          | 5.283169            |"
            ],
            "text/html": [
              "<pre>| 9         | 70.458950    | 0.349263          | 0.240816            | 3.535947          | 5.283169            |</pre>"
            ]
          },
          "metadata": {}
        },
        {
          "output_type": "display_data",
          "data": {
            "text/plain": [
              "| 10        | 78.390020    | 0.348211          | 0.240816            | 3.520970          | 5.237657            |"
            ],
            "text/html": [
              "<pre>| 10        | 78.390020    | 0.348211          | 0.240816            | 3.520970          | 5.237657            |</pre>"
            ]
          },
          "metadata": {}
        },
        {
          "output_type": "display_data",
          "data": {
            "text/plain": [
              "+-----------+--------------+-------------------+---------------------+-------------------+---------------------+"
            ],
            "text/html": [
              "<pre>+-----------+--------------+-------------------+---------------------+-------------------+---------------------+</pre>"
            ]
          },
          "metadata": {}
        },
        {
          "output_type": "display_data",
          "data": {
            "text/plain": [
              "Decision tree classifier:"
            ],
            "text/html": [
              "<pre>Decision tree classifier:</pre>"
            ]
          },
          "metadata": {}
        },
        {
          "output_type": "display_data",
          "data": {
            "text/plain": [
              "--------------------------------------------------------"
            ],
            "text/html": [
              "<pre>--------------------------------------------------------</pre>"
            ]
          },
          "metadata": {}
        },
        {
          "output_type": "display_data",
          "data": {
            "text/plain": [
              "Number of examples          : 4750"
            ],
            "text/html": [
              "<pre>Number of examples          : 4750</pre>"
            ]
          },
          "metadata": {}
        },
        {
          "output_type": "display_data",
          "data": {
            "text/plain": [
              "Number of classes           : 152"
            ],
            "text/html": [
              "<pre>Number of classes           : 152</pre>"
            ]
          },
          "metadata": {}
        },
        {
          "output_type": "display_data",
          "data": {
            "text/plain": [
              "Number of feature columns   : 1"
            ],
            "text/html": [
              "<pre>Number of feature columns   : 1</pre>"
            ]
          },
          "metadata": {}
        },
        {
          "output_type": "display_data",
          "data": {
            "text/plain": [
              "Number of unpacked features : 300"
            ],
            "text/html": [
              "<pre>Number of unpacked features : 300</pre>"
            ]
          },
          "metadata": {}
        },
        {
          "output_type": "display_data",
          "data": {
            "text/plain": [
              "+-----------+--------------+-------------------+---------------------+-------------------+---------------------+"
            ],
            "text/html": [
              "<pre>+-----------+--------------+-------------------+---------------------+-------------------+---------------------+</pre>"
            ]
          },
          "metadata": {}
        },
        {
          "output_type": "display_data",
          "data": {
            "text/plain": [
              "| Iteration | Elapsed Time | Training Accuracy | Validation Accuracy | Training Log Loss | Validation Log Loss |"
            ],
            "text/html": [
              "<pre>| Iteration | Elapsed Time | Training Accuracy | Validation Accuracy | Training Log Loss | Validation Log Loss |</pre>"
            ]
          },
          "metadata": {}
        },
        {
          "output_type": "display_data",
          "data": {
            "text/plain": [
              "+-----------+--------------+-------------------+---------------------+-------------------+---------------------+"
            ],
            "text/html": [
              "<pre>+-----------+--------------+-------------------+---------------------+-------------------+---------------------+</pre>"
            ]
          },
          "metadata": {}
        },
        {
          "output_type": "display_data",
          "data": {
            "text/plain": [
              "| 1         | 11.016735    | 0.270316          | 0.228571            | 5.322412          | 7.361452            |"
            ],
            "text/html": [
              "<pre>| 1         | 11.016735    | 0.270316          | 0.228571            | 5.322412          | 7.361452            |</pre>"
            ]
          },
          "metadata": {}
        },
        {
          "output_type": "display_data",
          "data": {
            "text/plain": [
              "+-----------+--------------+-------------------+---------------------+-------------------+---------------------+"
            ],
            "text/html": [
              "<pre>+-----------+--------------+-------------------+---------------------+-------------------+---------------------+</pre>"
            ]
          },
          "metadata": {}
        },
        {
          "output_type": "display_data",
          "data": {
            "text/plain": [
              "Logistic regression:"
            ],
            "text/html": [
              "<pre>Logistic regression:</pre>"
            ]
          },
          "metadata": {}
        },
        {
          "output_type": "display_data",
          "data": {
            "text/plain": [
              "--------------------------------------------------------"
            ],
            "text/html": [
              "<pre>--------------------------------------------------------</pre>"
            ]
          },
          "metadata": {}
        },
        {
          "output_type": "display_data",
          "data": {
            "text/plain": [
              "Number of examples          : 4750"
            ],
            "text/html": [
              "<pre>Number of examples          : 4750</pre>"
            ]
          },
          "metadata": {}
        },
        {
          "output_type": "display_data",
          "data": {
            "text/plain": [
              "Number of classes           : 152"
            ],
            "text/html": [
              "<pre>Number of classes           : 152</pre>"
            ]
          },
          "metadata": {}
        },
        {
          "output_type": "display_data",
          "data": {
            "text/plain": [
              "Number of feature columns   : 1"
            ],
            "text/html": [
              "<pre>Number of feature columns   : 1</pre>"
            ]
          },
          "metadata": {}
        },
        {
          "output_type": "display_data",
          "data": {
            "text/plain": [
              "Number of unpacked features : 300"
            ],
            "text/html": [
              "<pre>Number of unpacked features : 300</pre>"
            ]
          },
          "metadata": {}
        },
        {
          "output_type": "display_data",
          "data": {
            "text/plain": [
              "Number of coefficients      : 45451"
            ],
            "text/html": [
              "<pre>Number of coefficients      : 45451</pre>"
            ]
          },
          "metadata": {}
        },
        {
          "output_type": "display_data",
          "data": {
            "text/plain": [
              "Starting L-BFGS"
            ],
            "text/html": [
              "<pre>Starting L-BFGS</pre>"
            ]
          },
          "metadata": {}
        },
        {
          "output_type": "display_data",
          "data": {
            "text/plain": [
              "--------------------------------------------------------"
            ],
            "text/html": [
              "<pre>--------------------------------------------------------</pre>"
            ]
          },
          "metadata": {}
        },
        {
          "output_type": "display_data",
          "data": {
            "text/plain": [
              "+-----------+----------+-----------+--------------+-------------------+---------------------+"
            ],
            "text/html": [
              "<pre>+-----------+----------+-----------+--------------+-------------------+---------------------+</pre>"
            ]
          },
          "metadata": {}
        },
        {
          "output_type": "display_data",
          "data": {
            "text/plain": [
              "| Iteration | Passes   | Step size | Elapsed Time | Training Accuracy | Validation Accuracy |"
            ],
            "text/html": [
              "<pre>| Iteration | Passes   | Step size | Elapsed Time | Training Accuracy | Validation Accuracy |</pre>"
            ]
          },
          "metadata": {}
        },
        {
          "output_type": "display_data",
          "data": {
            "text/plain": [
              "+-----------+----------+-----------+--------------+-------------------+---------------------+"
            ],
            "text/html": [
              "<pre>+-----------+----------+-----------+--------------+-------------------+---------------------+</pre>"
            ]
          },
          "metadata": {}
        },
        {
          "output_type": "display_data",
          "data": {
            "text/plain": [
              "| 0         | 2        | 1.000000  | 0.945122     | 0.196211          | 0.204000            |"
            ],
            "text/html": [
              "<pre>| 0         | 2        | 1.000000  | 0.945122     | 0.196211          | 0.204000            |</pre>"
            ]
          },
          "metadata": {}
        },
        {
          "output_type": "display_data",
          "data": {
            "text/plain": [
              "| 1         | 4        | 1.000000  | 2.329877     | 0.178316          | 0.176000            |"
            ],
            "text/html": [
              "<pre>| 1         | 4        | 1.000000  | 2.329877     | 0.178316          | 0.176000            |</pre>"
            ]
          },
          "metadata": {}
        },
        {
          "output_type": "display_data",
          "data": {
            "text/plain": [
              "| 2         | 9        | 0.571681  | 5.091739     | 0.205895          | 0.216000            |"
            ],
            "text/html": [
              "<pre>| 2         | 9        | 0.571681  | 5.091739     | 0.205895          | 0.216000            |</pre>"
            ]
          },
          "metadata": {}
        },
        {
          "output_type": "display_data",
          "data": {
            "text/plain": [
              "| 3         | 16       | 7.533886  | 8.699022     | 0.230737          | 0.224000            |"
            ],
            "text/html": [
              "<pre>| 3         | 16       | 7.533886  | 8.699022     | 0.230737          | 0.224000            |</pre>"
            ]
          },
          "metadata": {}
        },
        {
          "output_type": "display_data",
          "data": {
            "text/plain": [
              "| 4         | 17       | 7.533886  | 9.639731     | 0.118526          | 0.088000            |"
            ],
            "text/html": [
              "<pre>| 4         | 17       | 7.533886  | 9.639731     | 0.118526          | 0.088000            |</pre>"
            ]
          },
          "metadata": {}
        },
        {
          "output_type": "display_data",
          "data": {
            "text/plain": [
              "| 9         | 28       | 1.000000  | 16.996998    | 0.294526          | 0.244000            |"
            ],
            "text/html": [
              "<pre>| 9         | 28       | 1.000000  | 16.996998    | 0.294526          | 0.244000            |</pre>"
            ]
          },
          "metadata": {}
        },
        {
          "output_type": "display_data",
          "data": {
            "text/plain": [
              "+-----------+----------+-----------+--------------+-------------------+---------------------+"
            ],
            "text/html": [
              "<pre>+-----------+----------+-----------+--------------+-------------------+---------------------+</pre>"
            ]
          },
          "metadata": {}
        },
        {
          "output_type": "stream",
          "name": "stdout",
          "text": [
            "PROGRESS: Model selection based on validation accuracy:\n",
            "PROGRESS: ---------------------------------------------\n",
            "PROGRESS: BoostedTreesClassifier          : 0.216\n",
            "PROGRESS: RandomForestClassifier          : 0.236\n",
            "PROGRESS: DecisionTreeClassifier          : 0.224\n",
            "PROGRESS: LogisticClassifier              : 0.244\n",
            "PROGRESS: ---------------------------------------------\n",
            "PROGRESS: Selecting LogisticClassifier based on validation set performance.\n"
          ]
        }
      ]
    },
    {
      "cell_type": "code",
      "source": [
        "cls.evaluate(test[:1000])"
      ],
      "metadata": {
        "colab": {
          "base_uri": "https://localhost:8080/"
        },
        "id": "wdedn2JyMLmH",
        "outputId": "2210c779-aa5e-4771-e1bc-dda074e684fb"
      },
      "execution_count": 5,
      "outputs": [
        {
          "output_type": "execute_result",
          "data": {
            "text/plain": [
              "{'accuracy': 0.237, 'auc': nan, 'confusion_matrix': Columns:\n",
              " \ttarget_label\tstr\n",
              " \tpredicted_label\tstr\n",
              " \tcount\tint\n",
              " \n",
              " Rows: 175\n",
              " \n",
              " Data:\n",
              " +--------------+-----------------+-------+\n",
              " | target_label | predicted_label | count |\n",
              " +--------------+-----------------+-------+\n",
              " |    Sandy     |       Ross      |   1   |\n",
              " |     Susa     |       Susa      |   4   |\n",
              " |    David     |       Ross      |   6   |\n",
              " | Dr. Mitchell |       Ross      |   1   |\n",
              " | Aunt Lillian |      Monica     |   1   |\n",
              " |    Lowell    |      Rachel     |   1   |\n",
              " |     Kid      |      Rachel     |   1   |\n",
              " |    Monica    |       Ross      |   38  |\n",
              " | Mr. Heckles  |       Ross      |   2   |\n",
              " |    Aurora    |      Rachel     |   1   |\n",
              " +--------------+-----------------+-------+\n",
              " [175 rows x 3 columns]\n",
              " Note: Only the head of the SFrame is printed.\n",
              " You can use print_rows(num_rows=m, num_columns=n) to print more rows and columns., 'f1_score': 0.1682451209348838, 'log_loss': 2.775096887192557, 'precision': 0.6395704876347785, 'recall': 0.17535537497041376, 'roc_curve': Columns:\n",
              " \tthreshold\tfloat\n",
              " \tfpr\tfloat\n",
              " \ttpr\tfloat\n",
              " \tp\tint\n",
              " \tn\tint\n",
              " \tclass\tint\n",
              " \n",
              " Rows: 152152\n",
              " \n",
              " Data:\n",
              " +-----------+----------------------+-----+---+-----+-------+\n",
              " | threshold |         fpr          | tpr | p |  n  | class |\n",
              " +-----------+----------------------+-----+---+-----+-------+\n",
              " |    0.0    |         1.0          | nan | 0 | 994 |   0   |\n",
              " |   0.001   |  0.1448692152917505  | nan | 0 | 994 |   0   |\n",
              " |   0.002   | 0.02012072434607646  | nan | 0 | 994 |   0   |\n",
              " |   0.003   | 0.005030181086519115 | nan | 0 | 994 |   0   |\n",
              " |   0.004   | 0.001006036217303823 | nan | 0 | 994 |   0   |\n",
              " |   0.005   | 0.001006036217303823 | nan | 0 | 994 |   0   |\n",
              " |   0.006   |         0.0          | nan | 0 | 994 |   0   |\n",
              " |   0.007   |         0.0          | nan | 0 | 994 |   0   |\n",
              " |   0.008   |         0.0          | nan | 0 | 994 |   0   |\n",
              " |   0.009   |         0.0          | nan | 0 | 994 |   0   |\n",
              " +-----------+----------------------+-----+---+-----+-------+\n",
              " [152152 rows x 6 columns]\n",
              " Note: Only the head of the SFrame is printed.\n",
              " You can use print_rows(num_rows=m, num_columns=n) to print more rows and columns.}"
            ]
          },
          "metadata": {},
          "execution_count": 5
        }
      ]
    },
    {
      "cell_type": "markdown",
      "source": [
        "##  Using sentiment analysis identify who are the most and less friendly friends (20pt). "
      ],
      "metadata": {
        "id": "JMWOF-3kchpN"
      }
    },
    {
      "cell_type": "code",
      "source": [
        "from afinn import Afinn\n",
        "afinn = Afinn()\n",
        "\n",
        "sf['score'] = sf['quote'].apply(lambda t: afinn.score(t))\n",
        "sf"
      ],
      "metadata": {
        "id": "EEqyn-6Nclok",
        "colab": {
          "base_uri": "https://localhost:8080/",
          "height": 794
        },
        "outputId": "646ff652-6c07-4fb4-ec2e-383644229255"
      },
      "execution_count": 6,
      "outputs": [
        {
          "output_type": "execute_result",
          "data": {
            "text/plain": [
              "Columns:\n",
              "\tauthor\tstr\n",
              "\tepisode_number\tfloat\n",
              "\tepisode_title\tstr\n",
              "\tquote\tstr\n",
              "\tquote_order\tfloat\n",
              "\tseason\tfloat\n",
              "\tvector\tndarray\n",
              "\tscore\tfloat\n",
              "\n",
              "Rows: 60291\n",
              "\n",
              "Data:\n",
              "+----------+----------------+------------------------+\n",
              "|  author  | episode_number |     episode_title      |\n",
              "+----------+----------------+------------------------+\n",
              "|  Monica  |      1.0       | Monica Gets A Roommate |\n",
              "|   Joey   |      1.0       | Monica Gets A Roommate |\n",
              "| Chandler |      1.0       | Monica Gets A Roommate |\n",
              "|  Phoebe  |      1.0       | Monica Gets A Roommate |\n",
              "|  Phoebe  |      1.0       | Monica Gets A Roommate |\n",
              "|  Monica  |      1.0       | Monica Gets A Roommate |\n",
              "| Chandler |      1.0       | Monica Gets A Roommate |\n",
              "| Chandler |      1.0       | Monica Gets A Roommate |\n",
              "|   All    |      1.0       | Monica Gets A Roommate |\n",
              "| Chandler |      1.0       | Monica Gets A Roommate |\n",
              "+----------+----------------+------------------------+\n",
              "+-------------------------------+-------------+--------+\n",
              "|             quote             | quote_order | season |\n",
              "+-------------------------------+-------------+--------+\n",
              "| There's nothing to tell! H... |     0.0     |  1.0   |\n",
              "| C'mon, you're going out wi... |     1.0     |  1.0   |\n",
              "| All right Joey, be nice. S... |     2.0     |  1.0   |\n",
              "|    Wait, does he eat chalk?   |     3.0     |  1.0   |\n",
              "| Just, 'cause, I don't want... |     4.0     |  1.0   |\n",
              "| Okay, everybody relax. Thi... |     5.0     |  1.0   |\n",
              "|   Sounds like a date to me.   |     6.0     |  1.0   |\n",
              "| Alright, so I'm back in hi... |     7.0     |  1.0   |\n",
              "|   Oh, yeah. Had that dream.   |     8.0     |  1.0   |\n",
              "| Then I look down, and I re... |     9.0     |  1.0   |\n",
              "+-------------------------------+-------------+--------+\n",
              "+-------------------------------+-------+\n",
              "|             vector            | score |\n",
              "+-------------------------------+-------+\n",
              "| [-6.18888177e-02  2.657972... |  0.0  |\n",
              "| [-1.22622110e-01  1.815474... |  -2.0 |\n",
              "| [-9.82086826e-03  9.881126... |  3.0  |\n",
              "| [-3.71425711e-02  2.298191... |  0.0  |\n",
              "| [ 4.21000049e-02  2.365028... |  1.0  |\n",
              "| [-1.00040007e-02  1.462418... |  0.0  |\n",
              "| [ 4.51041423e-02  1.739305... |  2.0  |\n",
              "| [ 1.14625013e-02  2.698495... |  0.0  |\n",
              "| [ 2.19136756e-03  2.693336... |  2.0  |\n",
              "| [ 7.12726032e-03  2.440985... |  0.0  |\n",
              "+-------------------------------+-------+\n",
              "[60291 rows x 8 columns]\n",
              "Note: Only the head of the SFrame is printed.\n",
              "You can use print_rows(num_rows=m, num_columns=n) to print more rows and columns."
            ],
            "text/html": [
              "<div style=\"max-height:1000px;max-width:1500px;overflow:auto;\"><table frame=\"box\" rules=\"cols\">\n",
              "    <tr>\n",
              "        <th style=\"padding-left: 1em; padding-right: 1em; text-align: center\">author</th>\n",
              "        <th style=\"padding-left: 1em; padding-right: 1em; text-align: center\">episode_number</th>\n",
              "        <th style=\"padding-left: 1em; padding-right: 1em; text-align: center\">episode_title</th>\n",
              "        <th style=\"padding-left: 1em; padding-right: 1em; text-align: center\">quote</th>\n",
              "        <th style=\"padding-left: 1em; padding-right: 1em; text-align: center\">quote_order</th>\n",
              "        <th style=\"padding-left: 1em; padding-right: 1em; text-align: center\">season</th>\n",
              "    </tr>\n",
              "    <tr>\n",
              "        <td style=\"padding-left: 1em; padding-right: 1em; text-align: center; vertical-align: top\">Monica</td>\n",
              "        <td style=\"padding-left: 1em; padding-right: 1em; text-align: center; vertical-align: top\">1.0</td>\n",
              "        <td style=\"padding-left: 1em; padding-right: 1em; text-align: center; vertical-align: top\">Monica Gets A Roommate</td>\n",
              "        <td style=\"padding-left: 1em; padding-right: 1em; text-align: center; vertical-align: top\">There&#x27;s nothing to tell!<br>He&#x27;s just some guy I  ...</td>\n",
              "        <td style=\"padding-left: 1em; padding-right: 1em; text-align: center; vertical-align: top\">0.0</td>\n",
              "        <td style=\"padding-left: 1em; padding-right: 1em; text-align: center; vertical-align: top\">1.0</td>\n",
              "    </tr>\n",
              "    <tr>\n",
              "        <td style=\"padding-left: 1em; padding-right: 1em; text-align: center; vertical-align: top\">Joey</td>\n",
              "        <td style=\"padding-left: 1em; padding-right: 1em; text-align: center; vertical-align: top\">1.0</td>\n",
              "        <td style=\"padding-left: 1em; padding-right: 1em; text-align: center; vertical-align: top\">Monica Gets A Roommate</td>\n",
              "        <td style=\"padding-left: 1em; padding-right: 1em; text-align: center; vertical-align: top\">C&#x27;mon, you&#x27;re going out<br>with the guy! There&#x27;s ...</td>\n",
              "        <td style=\"padding-left: 1em; padding-right: 1em; text-align: center; vertical-align: top\">1.0</td>\n",
              "        <td style=\"padding-left: 1em; padding-right: 1em; text-align: center; vertical-align: top\">1.0</td>\n",
              "    </tr>\n",
              "    <tr>\n",
              "        <td style=\"padding-left: 1em; padding-right: 1em; text-align: center; vertical-align: top\">Chandler</td>\n",
              "        <td style=\"padding-left: 1em; padding-right: 1em; text-align: center; vertical-align: top\">1.0</td>\n",
              "        <td style=\"padding-left: 1em; padding-right: 1em; text-align: center; vertical-align: top\">Monica Gets A Roommate</td>\n",
              "        <td style=\"padding-left: 1em; padding-right: 1em; text-align: center; vertical-align: top\">All right Joey, be nice.<br>So does he have a hum ...</td>\n",
              "        <td style=\"padding-left: 1em; padding-right: 1em; text-align: center; vertical-align: top\">2.0</td>\n",
              "        <td style=\"padding-left: 1em; padding-right: 1em; text-align: center; vertical-align: top\">1.0</td>\n",
              "    </tr>\n",
              "    <tr>\n",
              "        <td style=\"padding-left: 1em; padding-right: 1em; text-align: center; vertical-align: top\">Phoebe</td>\n",
              "        <td style=\"padding-left: 1em; padding-right: 1em; text-align: center; vertical-align: top\">1.0</td>\n",
              "        <td style=\"padding-left: 1em; padding-right: 1em; text-align: center; vertical-align: top\">Monica Gets A Roommate</td>\n",
              "        <td style=\"padding-left: 1em; padding-right: 1em; text-align: center; vertical-align: top\">Wait, does he eat chalk?</td>\n",
              "        <td style=\"padding-left: 1em; padding-right: 1em; text-align: center; vertical-align: top\">3.0</td>\n",
              "        <td style=\"padding-left: 1em; padding-right: 1em; text-align: center; vertical-align: top\">1.0</td>\n",
              "    </tr>\n",
              "    <tr>\n",
              "        <td style=\"padding-left: 1em; padding-right: 1em; text-align: center; vertical-align: top\">Phoebe</td>\n",
              "        <td style=\"padding-left: 1em; padding-right: 1em; text-align: center; vertical-align: top\">1.0</td>\n",
              "        <td style=\"padding-left: 1em; padding-right: 1em; text-align: center; vertical-align: top\">Monica Gets A Roommate</td>\n",
              "        <td style=\"padding-left: 1em; padding-right: 1em; text-align: center; vertical-align: top\">Just, &#x27;cause, I don&#x27;t<br>want her to go through ...</td>\n",
              "        <td style=\"padding-left: 1em; padding-right: 1em; text-align: center; vertical-align: top\">4.0</td>\n",
              "        <td style=\"padding-left: 1em; padding-right: 1em; text-align: center; vertical-align: top\">1.0</td>\n",
              "    </tr>\n",
              "    <tr>\n",
              "        <td style=\"padding-left: 1em; padding-right: 1em; text-align: center; vertical-align: top\">Monica</td>\n",
              "        <td style=\"padding-left: 1em; padding-right: 1em; text-align: center; vertical-align: top\">1.0</td>\n",
              "        <td style=\"padding-left: 1em; padding-right: 1em; text-align: center; vertical-align: top\">Monica Gets A Roommate</td>\n",
              "        <td style=\"padding-left: 1em; padding-right: 1em; text-align: center; vertical-align: top\">Okay, everybody relax.<br>This is not even a date. ...</td>\n",
              "        <td style=\"padding-left: 1em; padding-right: 1em; text-align: center; vertical-align: top\">5.0</td>\n",
              "        <td style=\"padding-left: 1em; padding-right: 1em; text-align: center; vertical-align: top\">1.0</td>\n",
              "    </tr>\n",
              "    <tr>\n",
              "        <td style=\"padding-left: 1em; padding-right: 1em; text-align: center; vertical-align: top\">Chandler</td>\n",
              "        <td style=\"padding-left: 1em; padding-right: 1em; text-align: center; vertical-align: top\">1.0</td>\n",
              "        <td style=\"padding-left: 1em; padding-right: 1em; text-align: center; vertical-align: top\">Monica Gets A Roommate</td>\n",
              "        <td style=\"padding-left: 1em; padding-right: 1em; text-align: center; vertical-align: top\">Sounds like a date to me.</td>\n",
              "        <td style=\"padding-left: 1em; padding-right: 1em; text-align: center; vertical-align: top\">6.0</td>\n",
              "        <td style=\"padding-left: 1em; padding-right: 1em; text-align: center; vertical-align: top\">1.0</td>\n",
              "    </tr>\n",
              "    <tr>\n",
              "        <td style=\"padding-left: 1em; padding-right: 1em; text-align: center; vertical-align: top\">Chandler</td>\n",
              "        <td style=\"padding-left: 1em; padding-right: 1em; text-align: center; vertical-align: top\">1.0</td>\n",
              "        <td style=\"padding-left: 1em; padding-right: 1em; text-align: center; vertical-align: top\">Monica Gets A Roommate</td>\n",
              "        <td style=\"padding-left: 1em; padding-right: 1em; text-align: center; vertical-align: top\">Alright, so I&#x27;m back in<br>high school, I&#x27;m stan ...</td>\n",
              "        <td style=\"padding-left: 1em; padding-right: 1em; text-align: center; vertical-align: top\">7.0</td>\n",
              "        <td style=\"padding-left: 1em; padding-right: 1em; text-align: center; vertical-align: top\">1.0</td>\n",
              "    </tr>\n",
              "    <tr>\n",
              "        <td style=\"padding-left: 1em; padding-right: 1em; text-align: center; vertical-align: top\">All</td>\n",
              "        <td style=\"padding-left: 1em; padding-right: 1em; text-align: center; vertical-align: top\">1.0</td>\n",
              "        <td style=\"padding-left: 1em; padding-right: 1em; text-align: center; vertical-align: top\">Monica Gets A Roommate</td>\n",
              "        <td style=\"padding-left: 1em; padding-right: 1em; text-align: center; vertical-align: top\">Oh, yeah. Had that dream.</td>\n",
              "        <td style=\"padding-left: 1em; padding-right: 1em; text-align: center; vertical-align: top\">8.0</td>\n",
              "        <td style=\"padding-left: 1em; padding-right: 1em; text-align: center; vertical-align: top\">1.0</td>\n",
              "    </tr>\n",
              "    <tr>\n",
              "        <td style=\"padding-left: 1em; padding-right: 1em; text-align: center; vertical-align: top\">Chandler</td>\n",
              "        <td style=\"padding-left: 1em; padding-right: 1em; text-align: center; vertical-align: top\">1.0</td>\n",
              "        <td style=\"padding-left: 1em; padding-right: 1em; text-align: center; vertical-align: top\">Monica Gets A Roommate</td>\n",
              "        <td style=\"padding-left: 1em; padding-right: 1em; text-align: center; vertical-align: top\">Then I look down, and I<br>realize there&#x27;s a ...</td>\n",
              "        <td style=\"padding-left: 1em; padding-right: 1em; text-align: center; vertical-align: top\">9.0</td>\n",
              "        <td style=\"padding-left: 1em; padding-right: 1em; text-align: center; vertical-align: top\">1.0</td>\n",
              "    </tr>\n",
              "</table>\n",
              "<table frame=\"box\" rules=\"cols\">\n",
              "    <tr>\n",
              "        <th style=\"padding-left: 1em; padding-right: 1em; text-align: center\">vector</th>\n",
              "        <th style=\"padding-left: 1em; padding-right: 1em; text-align: center\">score</th>\n",
              "    </tr>\n",
              "    <tr>\n",
              "        <td style=\"padding-left: 1em; padding-right: 1em; text-align: center; vertical-align: top\">[-6.18888177e-02<br>2.65797228e-01 ...</td>\n",
              "        <td style=\"padding-left: 1em; padding-right: 1em; text-align: center; vertical-align: top\">0.0</td>\n",
              "    </tr>\n",
              "    <tr>\n",
              "        <td style=\"padding-left: 1em; padding-right: 1em; text-align: center; vertical-align: top\">[-1.22622110e-01<br>1.81547493e-01 ...</td>\n",
              "        <td style=\"padding-left: 1em; padding-right: 1em; text-align: center; vertical-align: top\">-2.0</td>\n",
              "    </tr>\n",
              "    <tr>\n",
              "        <td style=\"padding-left: 1em; padding-right: 1em; text-align: center; vertical-align: top\">[-9.82086826e-03<br>9.88112614e-02 ...</td>\n",
              "        <td style=\"padding-left: 1em; padding-right: 1em; text-align: center; vertical-align: top\">3.0</td>\n",
              "    </tr>\n",
              "    <tr>\n",
              "        <td style=\"padding-left: 1em; padding-right: 1em; text-align: center; vertical-align: top\">[-3.71425711e-02<br>2.29819149e-01 ...</td>\n",
              "        <td style=\"padding-left: 1em; padding-right: 1em; text-align: center; vertical-align: top\">0.0</td>\n",
              "    </tr>\n",
              "    <tr>\n",
              "        <td style=\"padding-left: 1em; padding-right: 1em; text-align: center; vertical-align: top\">[ 4.21000049e-02<br>2.36502886e-01 ...</td>\n",
              "        <td style=\"padding-left: 1em; padding-right: 1em; text-align: center; vertical-align: top\">1.0</td>\n",
              "    </tr>\n",
              "    <tr>\n",
              "        <td style=\"padding-left: 1em; padding-right: 1em; text-align: center; vertical-align: top\">[-1.00040007e-02<br>1.46241844e-01 ...</td>\n",
              "        <td style=\"padding-left: 1em; padding-right: 1em; text-align: center; vertical-align: top\">0.0</td>\n",
              "    </tr>\n",
              "    <tr>\n",
              "        <td style=\"padding-left: 1em; padding-right: 1em; text-align: center; vertical-align: top\">[ 4.51041423e-02<br>1.73930570e-01 ...</td>\n",
              "        <td style=\"padding-left: 1em; padding-right: 1em; text-align: center; vertical-align: top\">2.0</td>\n",
              "    </tr>\n",
              "    <tr>\n",
              "        <td style=\"padding-left: 1em; padding-right: 1em; text-align: center; vertical-align: top\">[ 1.14625013e-02<br>2.69849598e-01 ...</td>\n",
              "        <td style=\"padding-left: 1em; padding-right: 1em; text-align: center; vertical-align: top\">0.0</td>\n",
              "    </tr>\n",
              "    <tr>\n",
              "        <td style=\"padding-left: 1em; padding-right: 1em; text-align: center; vertical-align: top\">[ 2.19136756e-03<br>2.69333631e-01 ...</td>\n",
              "        <td style=\"padding-left: 1em; padding-right: 1em; text-align: center; vertical-align: top\">2.0</td>\n",
              "    </tr>\n",
              "    <tr>\n",
              "        <td style=\"padding-left: 1em; padding-right: 1em; text-align: center; vertical-align: top\">[ 7.12726032e-03<br>2.44098589e-01 ...</td>\n",
              "        <td style=\"padding-left: 1em; padding-right: 1em; text-align: center; vertical-align: top\">0.0</td>\n",
              "    </tr>\n",
              "</table>\n",
              "[60291 rows x 8 columns]<br/>Note: Only the head of the SFrame is printed.<br/>You can use print_rows(num_rows=m, num_columns=n) to print more rows and columns.\n",
              "</div>"
            ]
          },
          "metadata": {},
          "execution_count": 6
        }
      ]
    },
    {
      "cell_type": "code",
      "source": [
        "friendly_dict = {}\n",
        "\n",
        "for friend in sf:\n",
        "  f_name = friend[\"author\"]\n",
        "  score = friendly_dict.setdefault(f_name, 0)\n",
        "  friendly_dict.update({f_name: score + friend[\"score\"]})\n",
        "\n",
        "\n",
        "print(friendly_dict)"
      ],
      "metadata": {
        "colab": {
          "base_uri": "https://localhost:8080/"
        },
        "id": "yMFyOJnwMT4Y",
        "outputId": "95c0d92c-6613-4ad0-c35c-fd3d620c817f"
      },
      "execution_count": 7,
      "outputs": [
        {
          "output_type": "stream",
          "name": "stdout",
          "text": [
            "{'Monica': 3469.0, 'Joey': 3927.0, 'Chandler': 3261.0, 'Phoebe': 3593.0, 'All': 153.0, 'Ross': 3950.0, 'Rachel': 4640.0, 'Waitress': 0.0, 'Phoebe, Ross, Chandler, and Joey': 0.0, 'Paul': 71.0, 'Priest on TV': 1.0, 'Frannie': -3.0, 'Ross and Rachel': 3.0, 'Customer': -6.0, 'Marsha': 1.0, 'Carol': 104.0, 'Chandler and Joey': 6.0, 'Mrs. Geller': 75.0, 'Mr. Geller': 56.0, 'Susan': 53.0, 'Barry': 36.0, 'Robbie': 0.0, 'Bernice': -4.0, 'Dr. Oberman': 1.0, 'Paula': -4.0, 'Alan': 7.0, 'The Guys': 4.0, 'Lizzie': 0.0, 'Guys': -3.0, 'Leslie': 19.0, 'Kiki': 0.0, 'Joanne': 0.0, 'Receptionist': 7.0, 'Pizza Guy': 0.0, 'Monica and Phoebe': 3.0, 'Both': 2.0, 'Kid': -2.0, 'Angela': 8.0, 'Janice': 130.0, 'Woman': 78.0, 'Bob': -5.0, \"All you want is a dingle,\\r\\n What you envy's a schwang,\\r\\n A thing through which you can tinkle,\\r\\n Or play with, or simply let hang..\": 0.0, 'Aurora': 4.0, 'Director': 22.0, 'Jill': 57.0, 'Monica, Joey, and Phoebe': 4.0, 'Mr. Heckles': 0.0, 'Paolo': 2.0, 'Shelley': 18.0, 'Aunt Lillian': -6.0, 'Nurse': -3.0, 'Andrea': -1.0, 'Lowell': 10.0, 'Terry': -3.0, 'Guy': 27.0, 'Girl': 1.0, 'Bladder Control Problem\\r\\n Stop Wife Beating\\r\\n Hemorrhoids?\\r\\n Winner of 3 Tony Awards...': 3.0, \"He's finally happy with that and walks away.\": 3.0, \"I made a man with eyes of coal\\r\\n And a smile so bewitchin',\\r\\n How was I supposed to know\\r\\n That my mom was dead in the kitchen?\\r\\n (shakes bell) La lalala la la la la lalala la la..\": -1.0, \"...My mother's ashes\\r\\n Even her eyelashes\\r\\n Are resting in a little yellow jar,\\r\\n And sometimes when it's breezy..\": 0.0, '...I feel a little sneezy\\r\\n And now I- (abruptly stops)': -1.0, 'Excuse me, excuse me! Yeah, noisy boys! (They stop talking and look up) Is\\r\\nit something that you would like to share with the entire group': 0.0, 'Max': 8.0, 'David': 171.0, 'Sandy': 17.0, 'Fun Bobby': -4.0, 'Dick Clark': -4.0, 'Jay Leno': -3.0, 'Mrs. Bing': 50.0, \"You don't have to be awake to be my man,\\r\\n As long as you have brainwaves I'll be there to hold your hand.\\r\\n Though we just met the other day, \\r\\n There's something I have got to say..\": 0.0, 'Coma Guy': 6.0, 'Joey, Chandler, and Ross': 0.0, 'Carol and Susan': 0.0, \"Phoebe's Assistant\": -4.0, 'Joey and Chandler': 5.0, 'Rachel and Phoebe': -7.0, 'Girls': 3.0, 'Roger': 11.0, 'Mr. Tribbiani': 19.0, 'Ronni': 32.0, 'Mrs. Tribbiani': 17.0, 'Lorraine': 4.0, 'Kristin': 12.0, 'Fireman No. 1': 0.0, 'Fireman No. 2': 6.0, 'Fireman No. 3': 0.0, 'Mrs. Tedlock': 0.0, 'Celia': -7.0, 'Steve': 48.0, 'Chandle': 0.0, 'Joe': 0.0, 'Ursul': 0.0, 'Chandler and Joe': 0.0, 'Ros': 0.0, 'Rache': 0.0, 'Al': 0.0, 'Phoeb': 0.0, 'Monic': 0.0, 'Woma': 0.0, 'Teache': 0.0, 'Caro': 0.0, 'Susa': 0.0, 'Hele': 0.0, 'Nin': 0.0, 'Ross and Susa': 0.0, 'Mr. Dougla': 0.0, 'Jami': 0.0, 'Fra': 0.0, 'Rachel and Chandle': 0.0, 'Mr.Heckle': 0.0, 'Soothing male voic': 3.0, 'Monica and Rache': 0.0, 'Dr. Mitchell': 9.0, 'Rachel (as Monica)': 6.0, 'Monica (as Rachel)': 2.0, 'Dr. Rosen': 8.0, 'The Whole Party': 0.0, \"Phoebe's Friends\": 2.0, 'Rachel and Monica': 5.0, 'Ross and Chandler': 0.0, 'Ursula': 30.0, 'Chandler and Ross': 3.0, 'Phoebe and Rachel': -4.0, 'Aunt Iris': 2.0, \"{Transcriber's Note\": 0.0, 'Intercom': 0.0, 'Luisa': -10.0, 'Woman No. 1': -2.0, 'Woman No. 2': 8.0, 'Joey and Ross': 1.0, 'Bobby': 2.0, 'Mindy': 4.0, 'Danielle': -3.0, 'Teacher': -1.0, 'Fake Monica': -11.0, 'Dr. Baldhara': -3.0, 'PA': 0.0, 'Actor': -3.0, 'Casting Director No. 1': 4.0, 'Casting Director No. 2': 0.0, 'Phoebe, Joey, and Ross': 0.0, 'Young Ethan': 8.0, 'Ross, Rachel, and Phoebe': 0.0, 'Joey, Chander, and Ross': -1.0, 'Gerston': 1.0, 'Santos': 0.0, 'Petrie': 3.0, 'Story by': 0.0, 'Dr. Franzblau': 18.0, 'Lydia': 10.0, \"They're tiny and chubby and so sweet to touch,\\r\\n and soon they'll grow up and resent you so much. \\r\\n Now they're yelling at you and you don't know why, \\r\\n you cry and you cry and you cry. \\r\\n And you cry and you cry and you cry..\": -4.0, 'Susan and Ross': 2.0, 'Janitor': -1.0, 'Melanie': 11.0, 'Flight Attendant': -2.0, 'Man': -5.0, 'Carl': -8.0, 'Julie': 32.0, 'Ross and Julie': 0.0, 'Paulo': 0.0, 'Frankie': 1.0, 'Annabelle': 1.0, 'Hombre Man': -2.0, 'Store Guy': -3.0, 'CHANDLER': 193.0, 'MONICA': 305.0, 'RACHEL': 404.0, 'JOEY': 434.0, 'ROSS': 420.0, 'ALL': 14.0, 'PHOEBE': 398.0, 'MR. HECKLES': 0.0, 'MR. TREEGER': 2.0, 'MR. BOYLE': -4.0, 'JANICE': 8.0, 'ALISON': -2.0, 'STRANGER': 3.0, 'JULIE': 7.0, 'DUNCAN': 20.0, 'RAHCEL': 3.0, 'OLD WOMAN': 0.0, 'JADE': 5.0, 'WAITER': -2.0, 'MACHINE': 0.0, 'STEVE': 9.0, 'WAITRESS': 0.0, 'TERRY': 6.0, 'CAROLINE': 4.0, 'BOYS': 0.0, 'DOCTOR': -1.0, 'CHANDLER AND JOEY': 0.0, 'BOTH': 0.0, 'STEPHANIE': 15.0, 'TRANSIT AUTHORITY GUY': 2.0, 'KID': -4.0, 'TOGETHER': 0.0, 'CHAN': 28.0, 'RACH': 37.0, 'PHOE': 60.0, 'MNCA': 67.0, 'MICH': -1.0, 'GUY': 2.0, 'PHOE/MNCA': 0.0, 'RTST': 36.0, 'JOEY/CHAN': 0.0, 'CHAN, JOEY, ROSS': -1.0, 'RADIO': 6.0, 'GUNTHER': -5.0, 'GANG': 0.0, 'GRANDMOTHER': -5.0, 'FBOB': 5.0, 'RUSS': -2.0, 'ESTL': 11.0, 'CreditsScene': 0.0, 'END': 0.0, 'CAROL': 7.0, 'SUSAN': 13.0, 'ROSS, CHANDLER & JOEY': 1.0, 'MRS. WALLACE': 0.0, 'MRS. GREEN': 0.0, 'MRS GREEN': 31.0, 'MR A': 2.0, 'MINISTER': 5.0, 'WOMAN': 2.0, 'COMMERCIAL VOICEOVER': 0.0, 'ROB': 13.0, 'ERICA': 30.0, 'LIPSON': -12.0, 'KIDS': 0.0, 'RACHEL AND MONICA': 1.0, 'JANITOR': 1.0, 'TV DOCTOR': 2.0, 'JOEY ON TV': -3.0, 'SECURITY GUARD': 1.0, 'TRAINER': -1.0, 'SUSIE': 13.0, 'VAN DAMME': -14.0, 'MONICA AND RACHEL': -9.0, 'DIRECTOR': -3.0, 'NOTE': 0.0, 'INTERVIEWER': 4.0, 'GAIL': 3.0, 'MAN': 2.0, 'MONICA and ROSS': 0.0, 'ROY': -4.0, 'chandler': 0.0, 'CHANDLER and JOEY': 0.0, 'RACHEL and PHOEBE': 1.0, 'DELIVERY GUY': -1.0, 'MONICA and PHOEBE': 0.0, 'RICHARD': 66.0, 'FRIEND': 2.0, 'TATTOO ARTIST': 0.0, 'PRODUCER': 2.0, 'EDDIE': 49.0, 'AMBER': 1.0, 'TILLY': 2.0, 'WRITER': 1.0, 'RACHEL and MONICA': 0.0, 'DR HORTON': 2.0, 'INTERCOM': -2.0, 'AMGER': 3.0, 'ESTELLE': -3.0, 'CASTING GUY': 4.0, 'MOVER': 2.0, 'CAROL and SUSAN': 8.0, 'BEN': 0.0, 'ERNIE': 8.0, 'EVERYONE': 0.0, 'BIG BULLY': -5.0, 'LITTLE BULLY': 13.0, 'ROSS and CHANDLER': 0.0, 'MRS BUFFAY': 1.0, 'FRANK': 18.0, 'GUNTER': -1.0, 'GUYS': -3.0, 'SCOTT': 5.0, 'RYAN': 14.0, 'JEANNIE': 9.0, 'PHOEBE and RYAN': 0.0, 'WEDDING PLANNER': 5.0, 'MINDY': -1.0, 'BARRY': 4.0, 'BEST MAN': 9.0, 'Video': -1.0, 'Written by': 0.0, 'Richard': 52.0, 'Machine': 3.0, 'Michelle': 0.0, 'Sherman Whitfield': 0.0, 'Whitfield': 5.0, 'Scene': -17.0, 'Malcom': 1.0, 'Host': 8.0, 'Mike': 185.0, 'Young Ross': 1.0, 'Young Monica': 0.0, 'Frank': 54.0, 'Phoebe and Girl': 0.0, 'Jasmine': -7.0, 'Isabella': -3.0, 'Monica and Rachel': 0.0, 'Eric': 31.0, 'Friend No. 1': 2.0, 'Friend No. 2': 1.0, 'Her Friends': 0.0, 'Gunther': 34.0, 'Matress King': -5.0, 'Dr. Green': 25.0, 'Dr Green': 0.0, 'Student': 8.0, 'Jester': 4.0, 'Ben': 5.0, 'Chandler and Phoebe': 5.0, 'Monica and Ross': 1.0, 'Rachel, Chandler, and Joey': 0.0, 'Monica and Joey': 0.0, 'Margha': 0.0, 'Sarah': 42.0, 'Leader': 8.0, 'Joey and Monica': 3.0, 'Rachel\\x92s Boss': 3.0, 'Mr. Kaplan': 4.0, 'Joey\\x92s Sisters': 3.0, 'Cookie': -1.0, 'Sister 1': 0.0, 'Joey\\x92s Grandmother': 1.0, 'Joey\\x92s Sister': -4.0, 'Mary-Angela': 0.0, 'Mary-Theresa': 0.0, 'Mark': 26.0, 'Jeannine': 0.0, 'Julio': -2.0, 'Quartet': 11.0, 'The Bass Barber': 3.0, 'Bass Singer': 1.0, 'Clerk': 4.0, 'Robert': 14.0, 'Richard\\x92s Date': 5.0, 'Singer': 8.0, 'Monica, Ross, and Joey': 0.0, 'Ginger': -13.0, 'Phoebe and Monica': 0.0, 'Phoebe and Leslie': 1.0, 'Lecturer': 3.0, 'Commercial': -2.0, 'Issac': 2.0, 'Chloe': 26.0, 'Sergei': -3.0, 'Mischa': 16.0, 'Sophie': 16.0, 'To Be Continued.....': 0.0, 'The Next Mornin': 0.0, 'The Girls': 6.0, 'Chandler, Phoebe, and Joey': -2.0, 'Alice': 24.0, 'Hypnosis Tape': 21.0, 'Pete': 74.0, 'Ross and Joey': -7.0, 'Secretary': -2.0, 'Employee': 0.0, 'The Director': -2.0, 'Kate': 60.0, 'Spokeswoman': 1.0, 'Joanna': 15.0, 'Lauren': 16.0, 'Anchorwoman': -2.0, 'Chandler, Phoebe, and Rachel': 0.0, 'Hold Voice': 10.0, 'Tommy': -31.0, 'Cailin': 4.0, 'Estelle': 2.0, 'Monica; Ross': 0.0, 'Stage Manager': 0.0, 'Vince': 3.0, 'Jason': 1.0, 'Dr. Rhodes': 1.0, 'Dr. Johnson': 0.0, \"Pete's Mom\": 0.0, 'Fireman': 0.0, 'Guru Saj': 7.0, 'Billy Crystal': -3.0, 'Robin Williams': 1.0, 'Billy': 3.0, 'Robin': -9.0, 'Doug': 35.0, 'Hoshi': -1.0, 'Bonnie': 25.0, 'Phil': 2.0, 'Stevens': -4.0, 'Announcer': 3.0, 'Referee': 1.0, 'TV Announcer': 4.0, 'Chandler, Monica, and Joey': -1.0, 'Phoebe Sr': 2.0, 'Ross and Bonnie': 0.0, 'Phoebe Sr.': 11.0, 'Rachel and Bonnie': 0.0, 'Phoebe, Ross, and Rachel': 0.0, 'Chip': 22.0, 'Tony': 8.0, 'Peter': -1.0, 'Chandler, Monica, Joey, and Rachel': 3.0, 'The Salesman': 14.0, 'Monica, Chandler, Phoebe, and Rachel': 2.0, 'Oven': 0.0, 'Joey, Rachel, and Ross': 0.0, 'Mr. Treeger': 12.0, 'Gym Employee': -2.0, 'Rick': 15.0, 'Bank Officer': 2.0, 'Ms. Lambert': 0.0, 'Mrs. Potter': 3.0, 'Mr. Simon': -1.0, 'Interviewer': 0.0, 'Kathy': 87.0, 'Josh': 2.0, 'Amanda': 33.0, 'Cheryl': 5.0, 'Everyone': 0.0, 'Casey': 3.0, 'Voice': -3.0, 'Doctor': 13.0, 'Dr. Timothy Burke': 0.0, 'Tim': 61.0, 'Mr. Posner': 10.0, 'Mrs. Lynch': 3.0, 'Allesandro': 4.0, 'Chandler, Joey, and Phoebe': 0.0, 'Drew': 2.0, 'Monica, Rachel, and Joey': 1.0, 'A Waiter': 0.0, 'The Waiter': 8.0, 'The Conductor': -2.0, 'The Woman From Poughkeepsie': 0.0, 'Kitchen Worker': 0.0, 'Woman On Train': 8.0, 'Chandler, Monica, and Rachel': 6.0, 'Smart Kid': 0.0, 'Tour Guide': 9.0, 'Older Scientist': -2.0, 'Another Tour Guide': 0.0, 'Another Scientist': -4.0, 'Dr. Zane': 2.0, 'Frank and Alice': 0.0, \"Kathy's Co-Star\": 4.0, 'Mr. Waltham': 4.0, 'Joshua': 100.0, 'Emily': 83.0, 'The A.D': 5.0, 'The Cigarette Smoking Guy': -1.0, 'Charlton Heston': -13.0, 'The Cigarette Guy': 0.0, 'Teleplay by': 2.0, 'Devon': 5.0, 'Liam': 2.0, 'Ticket Counter Attendant': -1.0, 'Mrs. Chatracus': 0.0, 'Teleplay by Shana Goldberg-Meehan & Scott Silveri \\r\\nStory by Alicia Sky Varinaitis\\r\\nTranscribed by': 0.0, 'Story by Mark J. Kunerth \\r\\nTeleplay by Richard Goodman \\r\\nTranscribed by': 0.0, 'The Doctor': -4.0, 'Mrs. Burgin': -2.0, 'Mr. Burgin': -5.0, 'The Singing Man': 5.0, 'The Saleslady': 7.0, 'Sleep Clinic Worker': 1.0, 'Marjorie': 0.0, 'Rachel, Monica, Roy, and Chip': 0.0, 'The Stripper': 14.0, 'Part I Written by': 0.0, 'The Vendor': 2.0, 'Fergie': 3.0, 'Housekeeper': 4.0, 'Minister': 13.0, 'Mrs. Waltham': 3.0, 'Gate Agent': 0.0, 'pain as Monica grabs him underwater)-Diet Coke': -2.0, 'Dave': 5.0, 'Dr. Harad': 18.0, \"Joey's Doctor\": 0.0, 'Male Nurse': 0.0, 'Dan': 1.0, 'Delivery Room Nurse': -1.0, 'Stage Director': -2.0, 'Emeril': 4.0, 'PBS Volunteer': 0.0, 'Gary Collins': 12.0, 'Hotel Clerk': 0.0, 'Danny': 37.0, 'Larry': -5.0, 'Tom': 3.0, 'Thanksgiving 197': 0.0, 'The Housekeeper': 0.0, 'Present Da': 0.0, 'Thanksgiving 186': 0.0, 'Thanksgiving 199': 0.0, 'Thanksgiving 198': 0.0, 'Big Nosed Rachel': -12.0, 'Fat Monica': 6.0, 'The Paramedic': 0.0, 'Thanksgiving 191': 0.0, 'The Teacher': 6.0, 'Cynthia': 5.0, 'Dr. Leedbetter': -2.0, 'A Female Student': 1.0, 'The Man': -6.0, 'Krista': 4.0, 'Elizabeth Hornswoggle': -1.0, 'Elizabeth': 33.0, 'Kara': 5.0, 'Frank Sr.': 9.0, 'The Casting Director': 18.0, \"Sleepy girl, sleepy girl.\\r\\nWhy won't you go to sleep?\\r\\nSleepy girl, sleepy girl.\\r\\nYou're, you're, you're keeping me uppp!\": 3.0, 'Yeah.': 1.0, 'tip the scales in my direction. Check it out, you can probably see it from the window.\\r\\n(They all head to the window.': 0.0, 'Dr. Ledbetter': 3.0, 'Katie': 40.0, 'Guest #1': 2.0, 'Guest #2': 2.0, 'Guest #3': 0.0, 'The Smoking Woman': 2.0, 'Cop': -7.0, 'Gary': 40.0, 'The Saleswoman': 1.0, \"Gary's Radio\": -5.0, 'The Old Man': -2.0, 'The Little Girl': 0.0, 'Mr. Zelner': 16.0, 'The Hot Girl': -3.0, 'Jen': 1.0, 'Kim': 10.0, 'Nancy': -1.0, 'Kyle': -1.0, 'Raymond': 0.0, 'Caitlin': -5.0, 'Grandma Tribbiani': -5.0, \"{Y'know, sometimes I think the script writers throw in a line like that to try to\\r\\ntrip me up. But it won't work. I'll always have the last laugh! <manical_laugh.wav>\\r\\nOkay, so maybe I'm a little deluded, it's probably just my spellchecker. But, I must admit\\r\\nI did get Mesozoic and Paleozoic on the first attempt. Yay me! Anyhoo\\x85\": 5.0, \"{Oh, all right! Geez, I can't have any fun!\": 4.0, 'Dr. Miller': 6.0, \"{There's another continuity error here. Before Monica says I love you, Chandler's\\r\\nholding the vests so that you couldn't see the collar, you could see all three, and they\\r\\nwere folding nicely. After she says the line and the camera cuts back to Chandler, you can\\r\\nonly see two out of the three, you can see the collar of the top one, and it looks like it\\r\\nwas folded sloppily, unlike before. Hey, you notice things while spending this much time\\r\\non this!\": 4.0, 'Stanley': 5.0, 'The Grip': 0.0, 'A Casino Boss': 0.0, 'A Tourist': 0.0, 'The Croupier': 2.0, 'The Flight Attendant': 11.0, 'Blackjack Dealer': 6.0, 'The Woman Dealer': 0.0, \"Joey's Hand Twin\": 0.0, 'A Drunken Gambler': 3.0, 'Drunken Gambler': 0.0, 'The Lurker': 4.0, 'The Security Guard': 0.0, 'The Attendant': 2.0, 'Attendant': -1.0, '{Transciber\\x92s note': 5.0, 'Croupler': 0.0, 'Hitchhiker': -2.0, '{Note': -1.0, 'Stephanie': -2.0, 'Karin': 0.0, 'Meg': 5.0, 'Russell': 0.0, 'The Potential Roommate': -1.0, 'The Professor': 0.0, 'Casting Director #1': 1.0, 'Casting Director #2': -2.0, 'Casting Director #3': -3.0, 'A Crew Member': 0.0, 'Alex': 0.0, 'A Student': 0.0, 'Guy #1': 3.0, 'Guy #2': 4.0, 'The Porsche Owner': -2.0, 'Judge': 0.0, 'Passerby': 0.0, 'Janine': 42.0, 'Chandler and Monica': -1.0, 'Ralph Lauren': -6.0, 'Hillary': 17.0, 'Janine [to Chandler]': 0.0, 'Mr. and Mrs. Geller': 1.0, 'Tall Guy': 2.0, 'Joey\\x92s Head': 0.0, 'Patron': -1.0, 'Customers': 0.0, 'To Be Continue': 0.0, 'The Fan': 11.0, 'Buffay, the Vampire Layer': 2.0, 'The Vampire': 0.0, 'Man\\x92s Voice': 0.0, 'Another Man\\x92s Voice': 0.0, 'Same Man\\x92s Voice': 0.0, '{Transcriber\\x92s Note': 10.0, \"Monica's Boyfriend\": 0.0, 'Dr. Wesley': 3.0, 'Dr. Drake Remoray': 6.0, 'Hope': 0.0, 'Dr. Roger': 7.0, 'Jack': -8.0, 'It only takes two heart attacks to finally make you see\\x85\\r\\n One of them won\\x92t do it, but the second one will set you free\\x85\\r\\n Tell all your hate and anger, it\\x92s time to say good-bye\\x85\\r\\n And that is just what I will do, soon as those bastards I work for die!\\r\\n La, la-la-la, la-la-la-la, la-la-la, la-la-la\\x85': -8.0, 'End': 0.0, \"Joey's Look-A-Like\": 0.0, 'The Instructor': 3.0, 'Burt': 6.0, 'Fireman #1': -7.0, 'Dana': 12.0, 'Fireman #2': 1.0, 'Mel': -2.0, 'Professor Feesen': 0.0, 'Sebastian': -2.0, 'Eldad': -1.0, 'Patrick': 3.0, 'The Producer': -1.0, 'Wayne': 11.0, 'C.H.E.E.S.E.': 3.0, 'The Dry Cleaner': -3.0, 'The Museum Official': 11.0, 'Female Clerk': 2.0, 'Male Jeweler': 9.0, 'Female Jeweler': 0.0, 'Mr. Thompson': 35.0, 'Zoe': 0.0, 'First Dorm Guy': -1.0, 'Second Dorm Guy': 0.0, \"Matire'd\": -1.0, 'Lisa': 5.0, 'Emil Alexander': 0.0, 'Mr. Bowmont': 6.0, '\"First time I met Chandler, I thought he was gay.\\r\\n But here I am singing on his wedding day!': 0.0, '\"Whenever I get married, guess who won\\x92t get to sing?\\r\\n Somebody named Geller! And somebody else named Bing!': 3.0, '\"We thought Phoebe would leave, but she just stayed and stayed.\\r\\n That\\x92s right, I\\x92m here all night, and Chandler will never get l\\x85': -1.0, 'Mac': 3.0, 'C.H.E.E.S.E': 0.0, 'Hilda': 6.0, 'Tag': 120.0, 'Nurse #1': -4.0, 'Nurse #2': 2.0, 'Dr. Stryker Remoray': 3.0, 'Melissa': 27.0, 'The Photographer': 9.0, 'Hums While He Pees': -7.0, 'Whitney': -2.0, 'Erin': 21.0, 'Female Student': -1.0, 'Male Student': -1.0, 'The Waitress': 0.0, 'The Librarian': 1.0, 'The Head Librarian': 0.0, 'The Woman': 8.0, \"Maitre d'\": -2.0, 'Male Guest': 3.0, 'Salesman': 1.0, 'The Wedding Guest': 0.0, 'The Second Guest': 0.0, 'Aunt Millie': 5.0, 'The Fireman': -6.0, 'Supervisor': 3.0, 'Earl': -10.0, 'The \"Hey Guy\" Guy': 0.0, 'Marge': -1.0, 'The Man In The Sportscar': 0.0, 'Dina': 25.0, 'Jessica Lockhart': 0.0, 'Cecilia': 44.0, 'The Writer': 0.0, 'Fredrick': 2.0, 'Matthew Perry': 0.0, 'Lisa Kudrow': 0.0, 'Fat Joey': 2.0, 'Kristen': 13.0, 'Megan': 9.0, 'Lewis': 10.0, 'Morse': 14.0, 'Jake': 8.0, 'The Presenter': 8.0, 'Jessica Ashley': 5.0, 'Cassie': 14.0, 'A Waiter in Drag': 0.0, 'Waiter in Drag': 1.0, 'Helena': 29.0, 'Policeman': 17.0, 'The Assistant Director': 0.0, 'Mr. Bing': 1.0, 'The Rabbi': 6.0, 'Hosted by': 0.0, 'This is a special out takes episode. The cast and Conan are sitting around the set of\\r\\nCentral Perk, talking about the stuff we\\x92ve never seen.': 0.0, 'Transcriber\\x92s Note': 0.0, 'Conan': 12.0, 'Jennifer': 5.0, 'Matthew': 5.0, 'Courtney': 5.0, 'Matt': 32.0, 'Photographer': 5.0, 'Bandleader': 15.0, 'Mona': 78.0, 'Dennis Phillips': 1.0, 'Waiter': -6.0, 'Little Girl': 0.0, 'Second Girl': 0.0, 'Fat Girl': 0.0, 'Gert': 2.0, 'Dedicated to the People of New York Cit': 2.0, 'Front Desk Clerk': 4.0, 'Woman At The Wedding': 3.0, 'Man At The Wedding': -1.0, 'Anxious Wedding Guest': 3.0, 'Ticket Agent': 1.0, 'Airline Employee': -4.0, 'Dr. Long': 20.0, 'Six Weeks Earlie': 0.0, 'Mr. Franklin': 12.0, \"Joey's Co-Star\": 0.0, 'Dr. Drake Ramoray': 0.0, 'Kash': 4.0, 'Dedicated to the Memory of Richard L. Cox, Sr': 2.0, 'Kids': 0.0, 'Witch': 2.0, 'Clown': 2.0, 'Cowgirl': -2.0, 'Ballerina': 9.0, 'Boy in the Cape': 3.0, \"Mrs. Verhoeven's Daughter\": 17.0, 'Brenda': 7.0, 'Dedicated to the Memory of Pearl Harmo': 2.0, 'Stripper': 3.0, 'Hooker': -1.0, 'Stu': 0.0, 'Will': 11.0, 'Trudie Styler': -2.0, 'Dr. Schiff': 1.0, 'Locksmith': 6.0, \"Joey's Date\": 5.0, 'Man on TV': 2.0, 'Woman on TV': -2.0, 'Don': 12.0, 'Waiter No. 2': 2.0, 'Jim': 8.0, \"Mona's Date\": 1.0, 'Parker': 55.0, 'Aunt Lisa': 10.0, 'Uncle Dan': 0.0, 'The Interviewer': 44.0, 'Mrs. Green': 25.0, 'Ray': 1.0, 'Cashier': 10.0, 'The Food Critic': 1.0, 'The Cooking Teacher': 25.0, 'The Acting Teacher': 0.0, 'Marc': -1.0, 'Evil Bitch': -22.0, 'Sick Bastard': -3.0, 'Woman Giving Birth': 0.0, 'Cliff': -5.0, 'Sid': 0.0, 'Ms. McKenna': 2.0, 'Transcribed by': 0.0, '[INTRO': 0.0, 'Chandler. Well my boss and I worked out a deal where I only\\r\\n have to be in Tulsa four days a week, so the other three I can be here with\\r\\n you': 0.0, 'Joey and Phoebe': 3.0, 'Mary Ellen': 4.0, 'Dr. Gettleman': 2.0, '(Ross and Rachel enter with Emma.': 0.0, ' (Phoebe and Mike look at him, and he goes over to the counter.': 0.0, 'Sally': -3.0, 'Boy': 0.0, \"(Joey opens the door and takes Chandler's suitcase into his own apartment.\": 0.0, 'CUT TO': 0.0, 'Hayley': 11.0, \" (Hayley laughs and goes into the kitchen thinking it's a joke, Joey doesn't\\r\\n see what's so funny about it\": 7.0, \" >>> Joey's Subconscious\\r\\n So this is going pretty good. dinner was nice, got a lot in common. (Sees a\\r\\n magazine) Victoria's secret huh we even like the same books. (Walks over\\r\\n to a painting on the wall) Oh now there's a scary painting. wait a minute\\r\\n I think I've been scared by that painting before. (Looks around) You know\\r\\n what this whole place look familiar I have definitely been in this apartment\\r\\n I know I've seen this weird plant before (it's a cactus and he touch's it)\\r\\n AWCH! It did that the last time. Oh my god, I've gone out with this girl\\r\\n before yeah we had sex on this couch and then on that chair and no. no we\\r\\n didn't do it hear which is weird because it seems like a perfectly good place\": 9.0, '(Monica makes a strange face and sits down': -1.0, \"Hayley's roommate\": 0.0, 'Ken': 6.0, 'Claudia': 1.0, 'Phoebe & Joey': 0.0, 'Maitre D': -1.0, 'Ms. Geller': -3.0, 'Ross & Rachel': 0.0, 'Monica & Chandler': 0.0, 'Waiters': 14.0, 'Dedicated to the great work of Eric Aasen, Guineapig and many, many mor': 5.0, 'Prospective nanny': 11.0, 'Sandy/Grumpus': 1.0, 'Joey/Wigglemunch': 2.0, 'Dedicated to the great work of Eric Aasen, Guineapig and many, many more': 5.0, 'Catherine': 6.0, 'Bitsy': 13.0, 'Theodore': 4.0, 'TV announcer': 0.0, \"<Joey's eyes become large and he stands up\": 0.0, \"<Chandler grabs Joey's left arm and pushes the sleeve up\": 0.0, '<Joey looks>\\r\\n Oh! Stupid long sleeves.': -2.0, 'Joey nods': 1.0, \"<Chandler nods and his eyes get big like he's saying 'what the hell'\": -1.0, 'Ross and Rachels Apartmen': 0.0, \"<Ross and Rachel are putting baby stuff together like they're going to\\r\\n be going somewhere.\": 2.0, 'Rachel to Emma': 2.0, 'Woman at door': 2.0, 'Ross and Rachel while looking at each other surprised and shocked': 0.0, 'Woman at door in a sing song voice': 0.0, \"<Ross goes into Rachel's room\": 0.0, 'Amy': 45.0, '<Amy grabs her arms': 0.0, '<Amy bending over fiddling with her purse when Emma cries and she hears\\r\\n Emma': -2.0, '<Ross comes out of the bedrooms': 0.0, 'Ross with a look of wondering how long this is going to go on on his face': 0.0, \"Ross starts talking over her 'do you remember' line\": 2.0, \"Monica and Chandler's Apartment\": 0.0, '<Joey is walking around looking worried.': -3.0, '<Chandler is startled and nearly drops the plates.> Sorry': -3.0, \"Ross and Rachel's Apartment.\": 0.0, 'Amy with straight hair': -3.0, \"<Amy's cell phone rings>\": 0.0, 'Amy storms out': -2.0, '<Ross and Rachel go in the kitchen': 0.0, \"<Rachel grabs Ross' hand for support and starts to cry a little\": 1.0, \"Monica and Chandler's apartmen\": 0.0, 'Rachel opens their door': 0.0, 'Everyone there says': 0.0, 'Joey laughs': 1.0, 'Joey looks rejected': 3.0, '<Joey turns away and Chandler reassuringly pats him on the back': 0.0, 'Ross to Monica': 0.0, 'Monica to Ross': 0.0, '<they hug and kiss on check>': 4.0, 'Monica to Emma': 0.0, 'Monica to Amy': 2.0, 'Amy with confused look on face': 4.0, 'Phoebe shakes her hand and says': 0.0, '<Monica and Amy turn away and walk into the living room towards the secret\\r\\n closet': 0.0, 'Phoebe looks down': 4.0, \"<Joey realizes what she's doing\": 0.0, 'Amy coming out of the bathroom': 0.0, \"Ross first has a look of 'huh' then changes it to sarcastic happy\": 2.0, '<Joey nods in agreement': 1.0, 'Amy turns around to Phoebe': 0.0, 'Amy turns to Ross and Rachel': 0.0, 'Later in the day': 0.0, 'Ross starts playing with a plate': 0.0, 'Ross makes some sort of sound to let us know it hurt': -2.0, '<Amy gets pissed and starts cutting food on the fancy plate very harshly,\\r\\n you can hear the silveware scraping the fancy plate>': -7.0, 'Monica about to have a heart attack': -2.0, '<Monica holds a turkey leg up in the air over the plate trying to cut meat\\r\\n off with a knife': -1.0, '<Ross and Rachel pause and ponder this>': 0.0, '<Chandler gives a look that says \"Yeah!\"': 1.0, 'Joey raises his hand': -3.0, \"<Everyone is looking around and at Joey with looks of 'what?' on their\\r\\n faces\": 0.0, 'Ross looks down': -1.0, '<Joey looks to Phoebe and she nods in agreement': 1.0, 'Phoebe while cutting a sweet potatoe in the air': 3.0, 'Amy,Rachel': -1.0, 'JO LYNN': 0.0, 'MIKE': 19.0, 'BILL': 2.0, 'KEVIN': 4.0, 'Wendy': 7.0, 'Others': 7.0, '\"Went to the store, sat on Santa\\'s lap. Asked him to bring my friends all kinds of crap. Said all you need is to write them a song. Now, you haven\\'t heard it yet, so don\\'t try to sing along. No, don\\'t sing along': -4.0, 'Monica, Moncia, have a happy Hanukkah. Saw Santa Claus, he said hello to Ross. And please tell Joey, Christmas will be snowy! And Rachel and Chandler, have err-umm-glander!!': 4.0, 'Happy holidays, everybody': 3.0, \"912 - TOW Phoebe's Rat\": 0.0, 'Molly': 4.0, 'Gavin': 0.0, 'Heather': 3.0, 'Ross, Joey and Chandler': 0.0, 'Waiter #2': 0.0, 'Rachel and Joey': 2.0, 'Intern': 0.0, 'Lennart': 13.0, 'Mugger': 1.0, 'Boss': 14.0, 'Joey & Monica': 0.0, 'Monica, Chandler, Ross': 8.0, 'Chandler (Stands up and walks to Joey)': 3.0, 'Handyman': 1.0, 'Monica, Rachel, Chandler': 0.0, 'Chandler/Joey/Rachel/Monica': 0.0, 'Aired': 0.0, 'Strange man': 0.0, 'Manny': 2.0, 'Kori': -3.0, 'Teleplay': 0.0, 'Everyone almost simultaneously except Ross': 4.0, 'Racel': 1.0, 'Rachel, Chandler and Monica': 1.0, 'Everyone but Monica': 0.0, 'Message': -3.0, 'Second message': 0.0, 'Second Message': 4.0, 'TV': 0.0, 'Everybody': 1.0, 'Actress/Olivia': 4.0, 'Joey/Drake': 11.0, 'Chase Lassiter': 0.0, '1st Customer': 3.0, '2nd Customer': 5.0, '3rd Customer': -2.0, 'Rachel/actress': 1.0, 'Chandlers': 1.0, 'Charlie': 174.0, 'Professor Spafford': -10.0, 'Jane': 1.0, 'Kyle Lowder': 0.0, 'Bitter lady': 3.0, 'Matthew Ashford': 3.0, 'Dirk': 3.0, 'Bitter woman': 2.0, 'Doctor Connelly': 15.0, 'Professor Sherman': 0.0, 'Shop assistant': 0.0, 'Zack': 6.0, 'Stranger': 0.0, 'Prof. Sherman': 2.0, 'Jeanette': 0.0, 'Part 1 written by': 1.0, 'MOnica': -3.0, 'Ross and Charlie': 0.0, 'Man with a bow tie': 6.0, 'Phoebe & Mike': 0.0, 'Alexandra Steele': 3.0, 'Mr. Oberblau': 3.0, 'Paleontologist': 0.0, 'Professore Clerk': 0.0, 'Monica, Chandler and Phoebe': 0.0, \"Joey's voice, but she sees Ross\": 0.0, \"Joey's voice/Ross\": -2.0, 'Rachel/Ross': 2.0, 'Precious': -17.0, 'THE EN': 0.0, 'Joey (to Rachel)': 0.0, 'Joey and Rachel': 1.0, 'Frank Jr.': 10.0, 'Monica (reads a form in her lap)': 0.0, 'Colleen': 8.0, 'Bill': 3.0, 'Owen': 1.0, 'Frank Jr. (looks at the triplets)': 0.0, 'Chandler (to Monica)': 0.0, 'Ross (on the verge of tears)': 2.0, 'Assistant': 0.0, 'Glenda': 0.0, 'Ross, Rachel and Chandler': 0.0, 'Jack and Judy': 0.0, 'Judy': -3.0, 'Chandler (nearly weeping)': 0.0, 'Ross (stops recording)': 3.0, 'Phoebe (sees the cake)': 0.0, 'Joey (staring at the cake)': 3.0, 'Rachel (on the phone)': 1.0, 'Emma': 0.0, 'end': 0.0, 'THE END': 0.0, 'Benjamin': 26.0, 'Dr. Li': 0.0, 'Dr. Biely': 0.0, 'Charity guy': 30.0, 'Ross (to Emma)': 0.0, 'Phoebe (to Mike)': 0.0, 'Mike (to the charity guy)': 4.0, 'Laura': 17.0, 'Monica and Chandler': -17.0, 'Agency guy': 7.0, 'Erica': 60.0, 'Phoebe (walking to Ross carrying a black leather jacket)': 0.0, 'TIME LAPS': -5.0, 'Adoption Agency guy': 0.0, 'Monica (puzzled)': 0.0, 'Missy': 2.0, 'Donny Osmond': 7.0, 'Donny': 43.0, 'Gene': 1.0, 'Roy, the male stripper': 0.0, 'Roy': -6.0, 'Henrietta': 0.0, 'Adrienne': 4.0, \"Present Chandler's voice\": 1.0, 'Pizza guy': 0.0, \"Mike's mother\": 1.0, \"Mike's father\": 1.0, \"Mike's mom\": 2.0, \"Mike's dad\": -2.0, 'Phoebe; Oh, incredible! Oh! Champagne, candle-lit dinners, moonlight walks on the beach, it was sooo ro-man-tic': 0.0, 'Rachel (leaving)': 0.0, \"Ross (he buzzes for the nurse) Let's see if we can get that Rachel back here\": 0.0, 'Tape': 3.0, 'Casting assistant': -1.0, 'Mr Zellner': 4.0, 'Mr Campbell': 2.0, 'All (except Rachel)': 0.0, 'Realtor': 1.0, 'Mackenzie': 10.0, 'Rita': -4.0, 'Mr Zelner': 16.0, 'Phoebe (doing Estelle)': 0.0, 'Phoebe-Estelle': 0.0, 'Lady': 4.0, 'r Zelner': 0.0, 'Rachel (she flips the coin)': 2.0, 'Chandler (to Joey)': 3.0, 'OPENING SEQUENC': 0.0, 'Monica (to Ross)': -1.0, 'Erica (standing up)': 0.0, 'Monica (enters the room)': 0.0, 'Phoebe (watching the food on the table)': 4.0, 'Rachel (crying)': 0.0, 'Joey (to Ross)': 1.0, 'Phoebe (to Rachel)': 0.0, 'Phoebe and Joey': 1.0, 'Jennifer Aniston (V.O.)': 0.0, 'Phoebe, Ross, Rachel': 0.0, 'Gate attendant #1': 2.0, 'Ticket agent': 0.0, 'Passenger #1': 4.0, 'Air stewardess': -8.0, 'Passenger #2': -2.0, 'Passenger #3': 0.0, 'Gate attendant #2': 2.0}\n"
          ]
        }
      ]
    },
    {
      "cell_type": "code",
      "source": [
        "import operator\n",
        "sorted_dict = sorted(friendly_dict.items(), key=operator.itemgetter(1), reverse=True)\n",
        "\n",
        "print('the friendliest friend: ', sorted_dict[0])"
      ],
      "metadata": {
        "colab": {
          "base_uri": "https://localhost:8080/"
        },
        "id": "AF_cKsQkMXNo",
        "outputId": "e2270ce4-a3d7-4759-cfc7-947c929a4788"
      },
      "execution_count": 8,
      "outputs": [
        {
          "output_type": "stream",
          "name": "stdout",
          "text": [
            "the friendliest friend:  ('Rachel', 4640.0)\n"
          ]
        }
      ]
    },
    {
      "cell_type": "markdown",
      "source": [
        "## Construct a classifier that can be given several text lines (quotes) from a specific episode that will predict the episode's season number (20pt)."
      ],
      "metadata": {
        "id": "pkviEPzdcnnl"
      }
    },
    {
      "cell_type": "code",
      "source": [
        "sf[\"episode_number\"] = sf[\"episode_number\"].apply(lambda en: int(en))\n",
        "\n",
        "train,test = sf.random_split(0.8)\n",
        "cls = tc.classifier.create(train[:5000], features=[\"vector\"], target=\"episode_number\")"
      ],
      "metadata": {
        "colab": {
          "base_uri": "https://localhost:8080/",
          "height": 1000
        },
        "id": "B67kEqVxMjcA",
        "outputId": "fc670eb3-ba5f-4845-e38c-bd2d9234419a"
      },
      "execution_count": 9,
      "outputs": [
        {
          "output_type": "stream",
          "name": "stdout",
          "text": [
            "PROGRESS: Creating a validation set from 5 percent of training data. This may take a while.\n",
            "          You can set ``validation_set=None`` to disable validation tracking.\n",
            "\n",
            "PROGRESS: The following methods are available for this type of problem.\n",
            "PROGRESS: BoostedTreesClassifier, RandomForestClassifier, DecisionTreeClassifier, LogisticClassifier\n",
            "PROGRESS: The returned model will be chosen according to validation accuracy.\n"
          ]
        },
        {
          "output_type": "display_data",
          "data": {
            "text/plain": [
              "Boosted trees classifier:"
            ],
            "text/html": [
              "<pre>Boosted trees classifier:</pre>"
            ]
          },
          "metadata": {}
        },
        {
          "output_type": "display_data",
          "data": {
            "text/plain": [
              "--------------------------------------------------------"
            ],
            "text/html": [
              "<pre>--------------------------------------------------------</pre>"
            ]
          },
          "metadata": {}
        },
        {
          "output_type": "display_data",
          "data": {
            "text/plain": [
              "Number of examples          : 4750"
            ],
            "text/html": [
              "<pre>Number of examples          : 4750</pre>"
            ]
          },
          "metadata": {}
        },
        {
          "output_type": "display_data",
          "data": {
            "text/plain": [
              "Number of classes           : 24"
            ],
            "text/html": [
              "<pre>Number of classes           : 24</pre>"
            ]
          },
          "metadata": {}
        },
        {
          "output_type": "display_data",
          "data": {
            "text/plain": [
              "Number of feature columns   : 1"
            ],
            "text/html": [
              "<pre>Number of feature columns   : 1</pre>"
            ]
          },
          "metadata": {}
        },
        {
          "output_type": "display_data",
          "data": {
            "text/plain": [
              "Number of unpacked features : 300"
            ],
            "text/html": [
              "<pre>Number of unpacked features : 300</pre>"
            ]
          },
          "metadata": {}
        },
        {
          "output_type": "display_data",
          "data": {
            "text/plain": [
              "+-----------+--------------+-------------------+---------------------+-------------------+---------------------+"
            ],
            "text/html": [
              "<pre>+-----------+--------------+-------------------+---------------------+-------------------+---------------------+</pre>"
            ]
          },
          "metadata": {}
        },
        {
          "output_type": "display_data",
          "data": {
            "text/plain": [
              "| Iteration | Elapsed Time | Training Accuracy | Validation Accuracy | Training Log Loss | Validation Log Loss |"
            ],
            "text/html": [
              "<pre>| Iteration | Elapsed Time | Training Accuracy | Validation Accuracy | Training Log Loss | Validation Log Loss |</pre>"
            ]
          },
          "metadata": {}
        },
        {
          "output_type": "display_data",
          "data": {
            "text/plain": [
              "+-----------+--------------+-------------------+---------------------+-------------------+---------------------+"
            ],
            "text/html": [
              "<pre>+-----------+--------------+-------------------+---------------------+-------------------+---------------------+</pre>"
            ]
          },
          "metadata": {}
        },
        {
          "output_type": "display_data",
          "data": {
            "text/plain": [
              "| 1         | 3.130862     | 0.444421          | 0.108000            | 2.641358          | 3.029080            |"
            ],
            "text/html": [
              "<pre>| 1         | 3.130862     | 0.444421          | 0.108000            | 2.641358          | 3.029080            |</pre>"
            ]
          },
          "metadata": {}
        },
        {
          "output_type": "display_data",
          "data": {
            "text/plain": [
              "| 2         | 6.202745     | 0.581474          | 0.120000            | 2.304199          | 3.006948            |"
            ],
            "text/html": [
              "<pre>| 2         | 6.202745     | 0.581474          | 0.120000            | 2.304199          | 3.006948            |</pre>"
            ]
          },
          "metadata": {}
        },
        {
          "output_type": "display_data",
          "data": {
            "text/plain": [
              "| 3         | 9.280642     | 0.699368          | 0.148000            | 2.007881          | 2.998993            |"
            ],
            "text/html": [
              "<pre>| 3         | 9.280642     | 0.699368          | 0.148000            | 2.007881          | 2.998993            |</pre>"
            ]
          },
          "metadata": {}
        },
        {
          "output_type": "display_data",
          "data": {
            "text/plain": [
              "| 4         | 12.363974    | 0.772421          | 0.132000            | 1.771766          | 2.987911            |"
            ],
            "text/html": [
              "<pre>| 4         | 12.363974    | 0.772421          | 0.132000            | 1.771766          | 2.987911            |</pre>"
            ]
          },
          "metadata": {}
        },
        {
          "output_type": "display_data",
          "data": {
            "text/plain": [
              "| 5         | 15.418735    | 0.827789          | 0.152000            | 1.559347          | 2.970809            |"
            ],
            "text/html": [
              "<pre>| 5         | 15.418735    | 0.827789          | 0.152000            | 1.559347          | 2.970809            |</pre>"
            ]
          },
          "metadata": {}
        },
        {
          "output_type": "display_data",
          "data": {
            "text/plain": [
              "| 7         | 21.585492    | 0.897263          | 0.140000            | 1.228644          | 2.964793            |"
            ],
            "text/html": [
              "<pre>| 7         | 21.585492    | 0.897263          | 0.140000            | 1.228644          | 2.964793            |</pre>"
            ]
          },
          "metadata": {}
        },
        {
          "output_type": "display_data",
          "data": {
            "text/plain": [
              "| 8         | 24.656316    | 0.918316          | 0.144000            | 1.086499          | 2.959409            |"
            ],
            "text/html": [
              "<pre>| 8         | 24.656316    | 0.918316          | 0.144000            | 1.086499          | 2.959409            |</pre>"
            ]
          },
          "metadata": {}
        },
        {
          "output_type": "display_data",
          "data": {
            "text/plain": [
              "| 9         | 27.685765    | 0.929474          | 0.152000            | 0.985422          | 2.968651            |"
            ],
            "text/html": [
              "<pre>| 9         | 27.685765    | 0.929474          | 0.152000            | 0.985422          | 2.968651            |</pre>"
            ]
          },
          "metadata": {}
        },
        {
          "output_type": "display_data",
          "data": {
            "text/plain": [
              "| 10        | 30.735139    | 0.937474          | 0.164000            | 0.885822          | 2.975430            |"
            ],
            "text/html": [
              "<pre>| 10        | 30.735139    | 0.937474          | 0.164000            | 0.885822          | 2.975430            |</pre>"
            ]
          },
          "metadata": {}
        },
        {
          "output_type": "display_data",
          "data": {
            "text/plain": [
              "+-----------+--------------+-------------------+---------------------+-------------------+---------------------+"
            ],
            "text/html": [
              "<pre>+-----------+--------------+-------------------+---------------------+-------------------+---------------------+</pre>"
            ]
          },
          "metadata": {}
        },
        {
          "output_type": "display_data",
          "data": {
            "text/plain": [
              "Random forest classifier:"
            ],
            "text/html": [
              "<pre>Random forest classifier:</pre>"
            ]
          },
          "metadata": {}
        },
        {
          "output_type": "display_data",
          "data": {
            "text/plain": [
              "--------------------------------------------------------"
            ],
            "text/html": [
              "<pre>--------------------------------------------------------</pre>"
            ]
          },
          "metadata": {}
        },
        {
          "output_type": "display_data",
          "data": {
            "text/plain": [
              "Number of examples          : 4750"
            ],
            "text/html": [
              "<pre>Number of examples          : 4750</pre>"
            ]
          },
          "metadata": {}
        },
        {
          "output_type": "display_data",
          "data": {
            "text/plain": [
              "Number of classes           : 24"
            ],
            "text/html": [
              "<pre>Number of classes           : 24</pre>"
            ]
          },
          "metadata": {}
        },
        {
          "output_type": "display_data",
          "data": {
            "text/plain": [
              "Number of feature columns   : 1"
            ],
            "text/html": [
              "<pre>Number of feature columns   : 1</pre>"
            ]
          },
          "metadata": {}
        },
        {
          "output_type": "display_data",
          "data": {
            "text/plain": [
              "Number of unpacked features : 300"
            ],
            "text/html": [
              "<pre>Number of unpacked features : 300</pre>"
            ]
          },
          "metadata": {}
        },
        {
          "output_type": "display_data",
          "data": {
            "text/plain": [
              "+-----------+--------------+-------------------+---------------------+-------------------+---------------------+"
            ],
            "text/html": [
              "<pre>+-----------+--------------+-------------------+---------------------+-------------------+---------------------+</pre>"
            ]
          },
          "metadata": {}
        },
        {
          "output_type": "display_data",
          "data": {
            "text/plain": [
              "| Iteration | Elapsed Time | Training Accuracy | Validation Accuracy | Training Log Loss | Validation Log Loss |"
            ],
            "text/html": [
              "<pre>| Iteration | Elapsed Time | Training Accuracy | Validation Accuracy | Training Log Loss | Validation Log Loss |</pre>"
            ]
          },
          "metadata": {}
        },
        {
          "output_type": "display_data",
          "data": {
            "text/plain": [
              "+-----------+--------------+-------------------+---------------------+-------------------+---------------------+"
            ],
            "text/html": [
              "<pre>+-----------+--------------+-------------------+---------------------+-------------------+---------------------+</pre>"
            ]
          },
          "metadata": {}
        },
        {
          "output_type": "display_data",
          "data": {
            "text/plain": [
              "| 1         | 2.325223     | 0.385474          | 0.132000            | 2.275641          | 3.435434            |"
            ],
            "text/html": [
              "<pre>| 1         | 2.325223     | 0.385474          | 0.132000            | 2.275641          | 3.435434            |</pre>"
            ]
          },
          "metadata": {}
        },
        {
          "output_type": "display_data",
          "data": {
            "text/plain": [
              "| 2         | 4.637780     | 0.496000          | 0.124000            | 2.016618          | 3.156123            |"
            ],
            "text/html": [
              "<pre>| 2         | 4.637780     | 0.496000          | 0.124000            | 2.016618          | 3.156123            |</pre>"
            ]
          },
          "metadata": {}
        },
        {
          "output_type": "display_data",
          "data": {
            "text/plain": [
              "| 3         | 6.946537     | 0.563158          | 0.120000            | 1.953634          | 3.073766            |"
            ],
            "text/html": [
              "<pre>| 3         | 6.946537     | 0.563158          | 0.120000            | 1.953634          | 3.073766            |</pre>"
            ]
          },
          "metadata": {}
        },
        {
          "output_type": "display_data",
          "data": {
            "text/plain": [
              "| 4         | 9.269972     | 0.615368          | 0.128000            | 1.919811          | 3.008257            |"
            ],
            "text/html": [
              "<pre>| 4         | 9.269972     | 0.615368          | 0.128000            | 1.919811          | 3.008257            |</pre>"
            ]
          },
          "metadata": {}
        },
        {
          "output_type": "display_data",
          "data": {
            "text/plain": [
              "| 5         | 11.634673    | 0.657895          | 0.156000            | 1.894104          | 2.980879            |"
            ],
            "text/html": [
              "<pre>| 5         | 11.634673    | 0.657895          | 0.156000            | 1.894104          | 2.980879            |</pre>"
            ]
          },
          "metadata": {}
        },
        {
          "output_type": "display_data",
          "data": {
            "text/plain": [
              "| 10        | 23.190422    | 0.754316          | 0.156000            | 1.856830          | 2.951224            |"
            ],
            "text/html": [
              "<pre>| 10        | 23.190422    | 0.754316          | 0.156000            | 1.856830          | 2.951224            |</pre>"
            ]
          },
          "metadata": {}
        },
        {
          "output_type": "display_data",
          "data": {
            "text/plain": [
              "+-----------+--------------+-------------------+---------------------+-------------------+---------------------+"
            ],
            "text/html": [
              "<pre>+-----------+--------------+-------------------+---------------------+-------------------+---------------------+</pre>"
            ]
          },
          "metadata": {}
        },
        {
          "output_type": "display_data",
          "data": {
            "text/plain": [
              "Decision tree classifier:"
            ],
            "text/html": [
              "<pre>Decision tree classifier:</pre>"
            ]
          },
          "metadata": {}
        },
        {
          "output_type": "display_data",
          "data": {
            "text/plain": [
              "--------------------------------------------------------"
            ],
            "text/html": [
              "<pre>--------------------------------------------------------</pre>"
            ]
          },
          "metadata": {}
        },
        {
          "output_type": "display_data",
          "data": {
            "text/plain": [
              "Number of examples          : 4750"
            ],
            "text/html": [
              "<pre>Number of examples          : 4750</pre>"
            ]
          },
          "metadata": {}
        },
        {
          "output_type": "display_data",
          "data": {
            "text/plain": [
              "Number of classes           : 24"
            ],
            "text/html": [
              "<pre>Number of classes           : 24</pre>"
            ]
          },
          "metadata": {}
        },
        {
          "output_type": "display_data",
          "data": {
            "text/plain": [
              "Number of feature columns   : 1"
            ],
            "text/html": [
              "<pre>Number of feature columns   : 1</pre>"
            ]
          },
          "metadata": {}
        },
        {
          "output_type": "display_data",
          "data": {
            "text/plain": [
              "Number of unpacked features : 300"
            ],
            "text/html": [
              "<pre>Number of unpacked features : 300</pre>"
            ]
          },
          "metadata": {}
        },
        {
          "output_type": "display_data",
          "data": {
            "text/plain": [
              "+-----------+--------------+-------------------+---------------------+-------------------+---------------------+"
            ],
            "text/html": [
              "<pre>+-----------+--------------+-------------------+---------------------+-------------------+---------------------+</pre>"
            ]
          },
          "metadata": {}
        },
        {
          "output_type": "display_data",
          "data": {
            "text/plain": [
              "| Iteration | Elapsed Time | Training Accuracy | Validation Accuracy | Training Log Loss | Validation Log Loss |"
            ],
            "text/html": [
              "<pre>| Iteration | Elapsed Time | Training Accuracy | Validation Accuracy | Training Log Loss | Validation Log Loss |</pre>"
            ]
          },
          "metadata": {}
        },
        {
          "output_type": "display_data",
          "data": {
            "text/plain": [
              "+-----------+--------------+-------------------+---------------------+-------------------+---------------------+"
            ],
            "text/html": [
              "<pre>+-----------+--------------+-------------------+---------------------+-------------------+---------------------+</pre>"
            ]
          },
          "metadata": {}
        },
        {
          "output_type": "display_data",
          "data": {
            "text/plain": [
              "| 1         | 3.089463     | 0.444421          | 0.108000            | 2.077192          | 3.421232            |"
            ],
            "text/html": [
              "<pre>| 1         | 3.089463     | 0.444421          | 0.108000            | 2.077192          | 3.421232            |</pre>"
            ]
          },
          "metadata": {}
        },
        {
          "output_type": "display_data",
          "data": {
            "text/plain": [
              "+-----------+--------------+-------------------+---------------------+-------------------+---------------------+"
            ],
            "text/html": [
              "<pre>+-----------+--------------+-------------------+---------------------+-------------------+---------------------+</pre>"
            ]
          },
          "metadata": {}
        },
        {
          "output_type": "display_data",
          "data": {
            "text/plain": [
              "Logistic regression:"
            ],
            "text/html": [
              "<pre>Logistic regression:</pre>"
            ]
          },
          "metadata": {}
        },
        {
          "output_type": "display_data",
          "data": {
            "text/plain": [
              "--------------------------------------------------------"
            ],
            "text/html": [
              "<pre>--------------------------------------------------------</pre>"
            ]
          },
          "metadata": {}
        },
        {
          "output_type": "display_data",
          "data": {
            "text/plain": [
              "Number of examples          : 4750"
            ],
            "text/html": [
              "<pre>Number of examples          : 4750</pre>"
            ]
          },
          "metadata": {}
        },
        {
          "output_type": "display_data",
          "data": {
            "text/plain": [
              "Number of classes           : 24"
            ],
            "text/html": [
              "<pre>Number of classes           : 24</pre>"
            ]
          },
          "metadata": {}
        },
        {
          "output_type": "display_data",
          "data": {
            "text/plain": [
              "Number of feature columns   : 1"
            ],
            "text/html": [
              "<pre>Number of feature columns   : 1</pre>"
            ]
          },
          "metadata": {}
        },
        {
          "output_type": "display_data",
          "data": {
            "text/plain": [
              "Number of unpacked features : 300"
            ],
            "text/html": [
              "<pre>Number of unpacked features : 300</pre>"
            ]
          },
          "metadata": {}
        },
        {
          "output_type": "display_data",
          "data": {
            "text/plain": [
              "Number of coefficients      : 6923"
            ],
            "text/html": [
              "<pre>Number of coefficients      : 6923</pre>"
            ]
          },
          "metadata": {}
        },
        {
          "output_type": "display_data",
          "data": {
            "text/plain": [
              "Starting L-BFGS"
            ],
            "text/html": [
              "<pre>Starting L-BFGS</pre>"
            ]
          },
          "metadata": {}
        },
        {
          "output_type": "display_data",
          "data": {
            "text/plain": [
              "--------------------------------------------------------"
            ],
            "text/html": [
              "<pre>--------------------------------------------------------</pre>"
            ]
          },
          "metadata": {}
        },
        {
          "output_type": "display_data",
          "data": {
            "text/plain": [
              "+-----------+----------+-----------+--------------+-------------------+---------------------+"
            ],
            "text/html": [
              "<pre>+-----------+----------+-----------+--------------+-------------------+---------------------+</pre>"
            ]
          },
          "metadata": {}
        },
        {
          "output_type": "display_data",
          "data": {
            "text/plain": [
              "| Iteration | Passes   | Step size | Elapsed Time | Training Accuracy | Validation Accuracy |"
            ],
            "text/html": [
              "<pre>| Iteration | Passes   | Step size | Elapsed Time | Training Accuracy | Validation Accuracy |</pre>"
            ]
          },
          "metadata": {}
        },
        {
          "output_type": "display_data",
          "data": {
            "text/plain": [
              "+-----------+----------+-----------+--------------+-------------------+---------------------+"
            ],
            "text/html": [
              "<pre>+-----------+----------+-----------+--------------+-------------------+---------------------+</pre>"
            ]
          },
          "metadata": {}
        },
        {
          "output_type": "display_data",
          "data": {
            "text/plain": [
              "| 0         | 2        | 1.000000  | 0.220623     | 0.100842          | 0.100000            |"
            ],
            "text/html": [
              "<pre>| 0         | 2        | 1.000000  | 0.220623     | 0.100842          | 0.100000            |</pre>"
            ]
          },
          "metadata": {}
        },
        {
          "output_type": "display_data",
          "data": {
            "text/plain": [
              "| 1         | 5        | 5.000000  | 0.595442     | 0.158105          | 0.136000            |"
            ],
            "text/html": [
              "<pre>| 1         | 5        | 5.000000  | 0.595442     | 0.158105          | 0.136000            |</pre>"
            ]
          },
          "metadata": {}
        },
        {
          "output_type": "display_data",
          "data": {
            "text/plain": [
              "| 2         | 6        | 5.000000  | 0.784540     | 0.104000          | 0.108000            |"
            ],
            "text/html": [
              "<pre>| 2         | 6        | 5.000000  | 0.784540     | 0.104000          | 0.108000            |</pre>"
            ]
          },
          "metadata": {}
        },
        {
          "output_type": "display_data",
          "data": {
            "text/plain": [
              "| 3         | 10       | 1.646578  | 1.240009     | 0.184000          | 0.164000            |"
            ],
            "text/html": [
              "<pre>| 3         | 10       | 1.646578  | 1.240009     | 0.184000          | 0.164000            |</pre>"
            ]
          },
          "metadata": {}
        },
        {
          "output_type": "display_data",
          "data": {
            "text/plain": [
              "| 4         | 11       | 1.646578  | 1.434571     | 0.157684          | 0.128000            |"
            ],
            "text/html": [
              "<pre>| 4         | 11       | 1.646578  | 1.434571     | 0.157684          | 0.128000            |</pre>"
            ]
          },
          "metadata": {}
        },
        {
          "output_type": "display_data",
          "data": {
            "text/plain": [
              "| 9         | 18       | 1.000000  | 2.576327     | 0.248842          | 0.172000            |"
            ],
            "text/html": [
              "<pre>| 9         | 18       | 1.000000  | 2.576327     | 0.248842          | 0.172000            |</pre>"
            ]
          },
          "metadata": {}
        },
        {
          "output_type": "display_data",
          "data": {
            "text/plain": [
              "+-----------+----------+-----------+--------------+-------------------+---------------------+"
            ],
            "text/html": [
              "<pre>+-----------+----------+-----------+--------------+-------------------+---------------------+</pre>"
            ]
          },
          "metadata": {}
        },
        {
          "output_type": "stream",
          "name": "stdout",
          "text": [
            "PROGRESS: Model selection based on validation accuracy:\n",
            "PROGRESS: ---------------------------------------------\n",
            "PROGRESS: BoostedTreesClassifier          : 0.164\n",
            "PROGRESS: RandomForestClassifier          : 0.156\n",
            "PROGRESS: DecisionTreeClassifier          : 0.108\n",
            "PROGRESS: LogisticClassifier              : 0.172\n",
            "PROGRESS: ---------------------------------------------\n",
            "PROGRESS: Selecting LogisticClassifier based on validation set performance.\n"
          ]
        }
      ]
    },
    {
      "cell_type": "code",
      "source": [
        "cls.evaluate(test[:2000])"
      ],
      "metadata": {
        "colab": {
          "base_uri": "https://localhost:8080/"
        },
        "id": "OZjiDYYWMmY3",
        "outputId": "7f71ed9d-59fa-4f57-c3d1-66cba70158a8"
      },
      "execution_count": 10,
      "outputs": [
        {
          "output_type": "execute_result",
          "data": {
            "text/plain": [
              "{'accuracy': 0.1185, 'auc': 0.6106595999059291, 'confusion_matrix': Columns:\n",
              " \ttarget_label\tint\n",
              " \tpredicted_label\tint\n",
              " \tcount\tint\n",
              " \n",
              " Rows: 462\n",
              " \n",
              " Data:\n",
              " +--------------+-----------------+-------+\n",
              " | target_label | predicted_label | count |\n",
              " +--------------+-----------------+-------+\n",
              " |      23      |        13       |   1   |\n",
              " |      21      |        5        |   4   |\n",
              " |      21      |        19       |   3   |\n",
              " |      22      |        4        |   2   |\n",
              " |      17      |        23       |   2   |\n",
              " |      12      |        7        |   2   |\n",
              " |      20      |        15       |   1   |\n",
              " |      21      |        1        |   17  |\n",
              " |      16      |        15       |   1   |\n",
              " |      7       |        3        |   2   |\n",
              " +--------------+-----------------+-------+\n",
              " [462 rows x 3 columns]\n",
              " Note: Only the head of the SFrame is printed.\n",
              " You can use print_rows(num_rows=m, num_columns=n) to print more rows and columns., 'f1_score': 0.11096314602191247, 'log_loss': 3.836582192639134, 'precision': 0.13743948862291308, 'recall': 0.11030764956072965, 'roc_curve': Columns:\n",
              " \tthreshold\tfloat\n",
              " \tfpr\tfloat\n",
              " \ttpr\tfloat\n",
              " \tp\tint\n",
              " \tn\tint\n",
              " \tclass\tint\n",
              " \n",
              " Rows: 24024\n",
              " \n",
              " Data:\n",
              " +-----------+--------------------+-------------------+-----+------+-------+\n",
              " | threshold |        fpr         |        tpr        |  p  |  n   | class |\n",
              " +-----------+--------------------+-------------------+-----+------+-------+\n",
              " |    0.0    |        1.0         |        1.0        | 115 | 1885 |   0   |\n",
              " |   0.001   | 0.9671087533156498 | 0.991304347826087 | 115 | 1885 |   0   |\n",
              " |   0.002   | 0.9660477453580902 | 0.991304347826087 | 115 | 1885 |   0   |\n",
              " |   0.003   | 0.9644562334217507 | 0.991304347826087 | 115 | 1885 |   0   |\n",
              " |   0.004   | 0.963395225464191  | 0.991304347826087 | 115 | 1885 |   0   |\n",
              " |   0.005   | 0.9628647214854111 | 0.991304347826087 | 115 | 1885 |   0   |\n",
              " |   0.006   | 0.9618037135278514 | 0.991304347826087 | 115 | 1885 |   0   |\n",
              " |   0.007   | 0.9607427055702917 | 0.991304347826087 | 115 | 1885 |   0   |\n",
              " |   0.008   | 0.9602122015915119 | 0.991304347826087 | 115 | 1885 |   0   |\n",
              " |   0.009   | 0.9586206896551724 | 0.991304347826087 | 115 | 1885 |   0   |\n",
              " +-----------+--------------------+-------------------+-----+------+-------+\n",
              " [24024 rows x 6 columns]\n",
              " Note: Only the head of the SFrame is printed.\n",
              " You can use print_rows(num_rows=m, num_columns=n) to print more rows and columns.}"
            ]
          },
          "metadata": {},
          "execution_count": 10
        }
      ]
    },
    {
      "cell_type": "code",
      "source": [
        "def predict_episode(quote):\n",
        "  sf2 = tc.SFrame()\n",
        "  sf2['quote'] = [quote]\n",
        "  pred = cls.classify(sf2)\n",
        "  return pred['class'][0], pred['probability'][0]"
      ],
      "metadata": {
        "id": "SKAKisErMof3"
      },
      "execution_count": 11,
      "outputs": []
    },
    {
      "cell_type": "code",
      "source": [
        "episode, prob = predict_episode('Hello Joey!')\n",
        "print(f\"Quote belongs to episode: {episode} in probability of: {prob}\")\n",
        "\n",
        "episode, prob = predict_episode('Sounds like a date to me.')\n",
        "print(f\"Quote belongs to episode: {episode} in probability of: {prob}\")"
      ],
      "metadata": {
        "colab": {
          "base_uri": "https://localhost:8080/"
        },
        "id": "85YaM9C5Mqg_",
        "outputId": "375f01b6-df5a-4d01-a5f3-3939716920f8"
      },
      "execution_count": 12,
      "outputs": [
        {
          "output_type": "stream",
          "name": "stdout",
          "text": [
            "Quote belongs to episode: 1 in probability of: 0.1468751682065882\n",
            "Quote belongs to episode: 1 in probability of: 0.1468751682065882\n"
          ]
        }
      ]
    }
  ]
}